{
 "cells": [
  {
   "cell_type": "markdown",
   "id": "d672ef73",
   "metadata": {},
   "source": [
    "# Problem Statement\n",
    "\n",
    "Avocado is a fruit consumed by people heavily in the United States. \n",
    "\n",
    "Content\n",
    "This data was downloaded from the Hass Avocado Board website in May of 2018 & compiled into a single CSV. \n",
    "\n",
    "The table below represents weekly 2018 retail scan data for National retail volume (units) and price. Retail scan data comes directly from retailers’ cash registers based on actual retail sales of Hass avocados. \n",
    "\n",
    "Starting in 2013, the table below reflects an expanded, multi-outlet retail data set. Multi-outlet reporting includes an aggregation of the following channels: grocery, mass, club, drug, dollar and military. The Average Price (of avocados) in the table reflects a per unit (per avocado) cost, even when multiple units (avocados) are sold in bags. \n",
    "\n",
    "The Product Lookup codes (PLU’s) in the table are only for Hass avocados. Other varieties of avocados (e.g. greenskins) are not included in this table.\n",
    "\n",
    "The dataset can be seen in two angles to find the region and find the average price .\n",
    "\n",
    "Task: One of Classification and other of Regression"
   ]
  },
  {
   "cell_type": "code",
   "execution_count": 3,
   "id": "ddd23f54",
   "metadata": {},
   "outputs": [],
   "source": [
    "#Let's start with importing necessary libraries\n",
    "import pandas as pd\n",
    "import numpy as np\n",
    "from sklearn.preprocessing import StandardScaler\n",
    "from sklearn.model_selection import train_test_split\n",
    "import matplotlib.pyplot as plt\n",
    "import seaborn as sns\n",
    "import pickle\n",
    "import warnings\n",
    "warnings.filterwarnings(\"ignore\")"
   ]
  },
  {
   "cell_type": "code",
   "execution_count": 5,
   "id": "8eab251c",
   "metadata": {},
   "outputs": [
    {
     "data": {
      "text/html": [
       "<div>\n",
       "<style scoped>\n",
       "    .dataframe tbody tr th:only-of-type {\n",
       "        vertical-align: middle;\n",
       "    }\n",
       "\n",
       "    .dataframe tbody tr th {\n",
       "        vertical-align: top;\n",
       "    }\n",
       "\n",
       "    .dataframe thead th {\n",
       "        text-align: right;\n",
       "    }\n",
       "</style>\n",
       "<table border=\"1\" class=\"dataframe\">\n",
       "  <thead>\n",
       "    <tr style=\"text-align: right;\">\n",
       "      <th></th>\n",
       "      <th>Unnamed: 0</th>\n",
       "      <th>Date</th>\n",
       "      <th>AveragePrice</th>\n",
       "      <th>Total Volume</th>\n",
       "      <th>4046</th>\n",
       "      <th>4225</th>\n",
       "      <th>4770</th>\n",
       "      <th>Total Bags</th>\n",
       "      <th>Small Bags</th>\n",
       "      <th>Large Bags</th>\n",
       "      <th>XLarge Bags</th>\n",
       "      <th>type</th>\n",
       "      <th>year</th>\n",
       "      <th>region</th>\n",
       "    </tr>\n",
       "  </thead>\n",
       "  <tbody>\n",
       "    <tr>\n",
       "      <th>0</th>\n",
       "      <td>0</td>\n",
       "      <td>2015-12-27</td>\n",
       "      <td>1.33</td>\n",
       "      <td>64236.62</td>\n",
       "      <td>1036.74</td>\n",
       "      <td>54454.85</td>\n",
       "      <td>48.16</td>\n",
       "      <td>8696.87</td>\n",
       "      <td>8603.62</td>\n",
       "      <td>93.25</td>\n",
       "      <td>0.0</td>\n",
       "      <td>conventional</td>\n",
       "      <td>2015</td>\n",
       "      <td>Albany</td>\n",
       "    </tr>\n",
       "    <tr>\n",
       "      <th>1</th>\n",
       "      <td>1</td>\n",
       "      <td>2015-12-20</td>\n",
       "      <td>1.35</td>\n",
       "      <td>54876.98</td>\n",
       "      <td>674.28</td>\n",
       "      <td>44638.81</td>\n",
       "      <td>58.33</td>\n",
       "      <td>9505.56</td>\n",
       "      <td>9408.07</td>\n",
       "      <td>97.49</td>\n",
       "      <td>0.0</td>\n",
       "      <td>conventional</td>\n",
       "      <td>2015</td>\n",
       "      <td>Albany</td>\n",
       "    </tr>\n",
       "    <tr>\n",
       "      <th>2</th>\n",
       "      <td>2</td>\n",
       "      <td>2015-12-13</td>\n",
       "      <td>0.93</td>\n",
       "      <td>118220.22</td>\n",
       "      <td>794.70</td>\n",
       "      <td>109149.67</td>\n",
       "      <td>130.50</td>\n",
       "      <td>8145.35</td>\n",
       "      <td>8042.21</td>\n",
       "      <td>103.14</td>\n",
       "      <td>0.0</td>\n",
       "      <td>conventional</td>\n",
       "      <td>2015</td>\n",
       "      <td>Albany</td>\n",
       "    </tr>\n",
       "    <tr>\n",
       "      <th>3</th>\n",
       "      <td>3</td>\n",
       "      <td>2015-12-06</td>\n",
       "      <td>1.08</td>\n",
       "      <td>78992.15</td>\n",
       "      <td>1132.00</td>\n",
       "      <td>71976.41</td>\n",
       "      <td>72.58</td>\n",
       "      <td>5811.16</td>\n",
       "      <td>5677.40</td>\n",
       "      <td>133.76</td>\n",
       "      <td>0.0</td>\n",
       "      <td>conventional</td>\n",
       "      <td>2015</td>\n",
       "      <td>Albany</td>\n",
       "    </tr>\n",
       "    <tr>\n",
       "      <th>4</th>\n",
       "      <td>4</td>\n",
       "      <td>2015-11-29</td>\n",
       "      <td>1.28</td>\n",
       "      <td>51039.60</td>\n",
       "      <td>941.48</td>\n",
       "      <td>43838.39</td>\n",
       "      <td>75.78</td>\n",
       "      <td>6183.95</td>\n",
       "      <td>5986.26</td>\n",
       "      <td>197.69</td>\n",
       "      <td>0.0</td>\n",
       "      <td>conventional</td>\n",
       "      <td>2015</td>\n",
       "      <td>Albany</td>\n",
       "    </tr>\n",
       "    <tr>\n",
       "      <th>...</th>\n",
       "      <td>...</td>\n",
       "      <td>...</td>\n",
       "      <td>...</td>\n",
       "      <td>...</td>\n",
       "      <td>...</td>\n",
       "      <td>...</td>\n",
       "      <td>...</td>\n",
       "      <td>...</td>\n",
       "      <td>...</td>\n",
       "      <td>...</td>\n",
       "      <td>...</td>\n",
       "      <td>...</td>\n",
       "      <td>...</td>\n",
       "      <td>...</td>\n",
       "    </tr>\n",
       "    <tr>\n",
       "      <th>18244</th>\n",
       "      <td>7</td>\n",
       "      <td>2018-02-04</td>\n",
       "      <td>1.63</td>\n",
       "      <td>17074.83</td>\n",
       "      <td>2046.96</td>\n",
       "      <td>1529.20</td>\n",
       "      <td>0.00</td>\n",
       "      <td>13498.67</td>\n",
       "      <td>13066.82</td>\n",
       "      <td>431.85</td>\n",
       "      <td>0.0</td>\n",
       "      <td>organic</td>\n",
       "      <td>2018</td>\n",
       "      <td>WestTexNewMexico</td>\n",
       "    </tr>\n",
       "    <tr>\n",
       "      <th>18245</th>\n",
       "      <td>8</td>\n",
       "      <td>2018-01-28</td>\n",
       "      <td>1.71</td>\n",
       "      <td>13888.04</td>\n",
       "      <td>1191.70</td>\n",
       "      <td>3431.50</td>\n",
       "      <td>0.00</td>\n",
       "      <td>9264.84</td>\n",
       "      <td>8940.04</td>\n",
       "      <td>324.80</td>\n",
       "      <td>0.0</td>\n",
       "      <td>organic</td>\n",
       "      <td>2018</td>\n",
       "      <td>WestTexNewMexico</td>\n",
       "    </tr>\n",
       "    <tr>\n",
       "      <th>18246</th>\n",
       "      <td>9</td>\n",
       "      <td>2018-01-21</td>\n",
       "      <td>1.87</td>\n",
       "      <td>13766.76</td>\n",
       "      <td>1191.92</td>\n",
       "      <td>2452.79</td>\n",
       "      <td>727.94</td>\n",
       "      <td>9394.11</td>\n",
       "      <td>9351.80</td>\n",
       "      <td>42.31</td>\n",
       "      <td>0.0</td>\n",
       "      <td>organic</td>\n",
       "      <td>2018</td>\n",
       "      <td>WestTexNewMexico</td>\n",
       "    </tr>\n",
       "    <tr>\n",
       "      <th>18247</th>\n",
       "      <td>10</td>\n",
       "      <td>2018-01-14</td>\n",
       "      <td>1.93</td>\n",
       "      <td>16205.22</td>\n",
       "      <td>1527.63</td>\n",
       "      <td>2981.04</td>\n",
       "      <td>727.01</td>\n",
       "      <td>10969.54</td>\n",
       "      <td>10919.54</td>\n",
       "      <td>50.00</td>\n",
       "      <td>0.0</td>\n",
       "      <td>organic</td>\n",
       "      <td>2018</td>\n",
       "      <td>WestTexNewMexico</td>\n",
       "    </tr>\n",
       "    <tr>\n",
       "      <th>18248</th>\n",
       "      <td>11</td>\n",
       "      <td>2018-01-07</td>\n",
       "      <td>1.62</td>\n",
       "      <td>17489.58</td>\n",
       "      <td>2894.77</td>\n",
       "      <td>2356.13</td>\n",
       "      <td>224.53</td>\n",
       "      <td>12014.15</td>\n",
       "      <td>11988.14</td>\n",
       "      <td>26.01</td>\n",
       "      <td>0.0</td>\n",
       "      <td>organic</td>\n",
       "      <td>2018</td>\n",
       "      <td>WestTexNewMexico</td>\n",
       "    </tr>\n",
       "  </tbody>\n",
       "</table>\n",
       "<p>18249 rows × 14 columns</p>\n",
       "</div>"
      ],
      "text/plain": [
       "       Unnamed: 0        Date  AveragePrice  Total Volume     4046       4225  \\\n",
       "0               0  2015-12-27          1.33      64236.62  1036.74   54454.85   \n",
       "1               1  2015-12-20          1.35      54876.98   674.28   44638.81   \n",
       "2               2  2015-12-13          0.93     118220.22   794.70  109149.67   \n",
       "3               3  2015-12-06          1.08      78992.15  1132.00   71976.41   \n",
       "4               4  2015-11-29          1.28      51039.60   941.48   43838.39   \n",
       "...           ...         ...           ...           ...      ...        ...   \n",
       "18244           7  2018-02-04          1.63      17074.83  2046.96    1529.20   \n",
       "18245           8  2018-01-28          1.71      13888.04  1191.70    3431.50   \n",
       "18246           9  2018-01-21          1.87      13766.76  1191.92    2452.79   \n",
       "18247          10  2018-01-14          1.93      16205.22  1527.63    2981.04   \n",
       "18248          11  2018-01-07          1.62      17489.58  2894.77    2356.13   \n",
       "\n",
       "         4770  Total Bags  Small Bags  Large Bags  XLarge Bags          type  \\\n",
       "0       48.16     8696.87     8603.62       93.25          0.0  conventional   \n",
       "1       58.33     9505.56     9408.07       97.49          0.0  conventional   \n",
       "2      130.50     8145.35     8042.21      103.14          0.0  conventional   \n",
       "3       72.58     5811.16     5677.40      133.76          0.0  conventional   \n",
       "4       75.78     6183.95     5986.26      197.69          0.0  conventional   \n",
       "...       ...         ...         ...         ...          ...           ...   \n",
       "18244    0.00    13498.67    13066.82      431.85          0.0       organic   \n",
       "18245    0.00     9264.84     8940.04      324.80          0.0       organic   \n",
       "18246  727.94     9394.11     9351.80       42.31          0.0       organic   \n",
       "18247  727.01    10969.54    10919.54       50.00          0.0       organic   \n",
       "18248  224.53    12014.15    11988.14       26.01          0.0       organic   \n",
       "\n",
       "       year            region  \n",
       "0      2015            Albany  \n",
       "1      2015            Albany  \n",
       "2      2015            Albany  \n",
       "3      2015            Albany  \n",
       "4      2015            Albany  \n",
       "...     ...               ...  \n",
       "18244  2018  WestTexNewMexico  \n",
       "18245  2018  WestTexNewMexico  \n",
       "18246  2018  WestTexNewMexico  \n",
       "18247  2018  WestTexNewMexico  \n",
       "18248  2018  WestTexNewMexico  \n",
       "\n",
       "[18249 rows x 14 columns]"
      ]
     },
     "execution_count": 5,
     "metadata": {},
     "output_type": "execute_result"
    }
   ],
   "source": [
    "#Read csv file and convert into Dataframe\n",
    "data=pd.read_csv(r'D:\\DataTrained\\avocado.csv')\n",
    "data"
   ]
  },
  {
   "cell_type": "markdown",
   "id": "d6435404",
   "metadata": {},
   "source": [
    "# Observation-\n",
    "\n",
    "The features in the above data set are-\n",
    "\n",
    "- Date - The date of the observation\n",
    "\n",
    "- type - conventional or organic\n",
    "\n",
    "- year - the year\n",
    "\n",
    "- Total Volume - Total number of avocados sold\n",
    "\n",
    "- 4046 - Total number of avocados with PLU 4046 sold\n",
    "\n",
    "- 4225 - Total number of avocados with PLU 4225 sold\n",
    "\n",
    "- 4770 - Total number of avocados with PLU 4770 sold\n",
    " \n",
    "The label in the given dataset is-\n",
    "\n",
    "-Classification-\n",
    "- Region - the city or region of the observation\n",
    "\n",
    "-Regression-\n",
    "- AveragePrice - the average price of a single avocado\n",
    "\n",
    "The columns to be deleted-\n",
    "- Unnamed\n",
    "- Total Bags\n",
    "- Small Bags\n",
    "- Large Bags\n",
    "- XLarge Bags"
   ]
  },
  {
   "cell_type": "code",
   "execution_count": 11,
   "id": "a05801ba",
   "metadata": {},
   "outputs": [],
   "source": [
    "#Deleting unwanted columns\n",
    "\n",
    "data=data.drop(columns=['Unnamed: 0', 'Total Bags', 'Small Bags', 'Large Bags', 'XLarge Bags'])"
   ]
  },
  {
   "cell_type": "code",
   "execution_count": 12,
   "id": "226265d5",
   "metadata": {},
   "outputs": [
    {
     "data": {
      "text/plain": [
       "(18249, 9)"
      ]
     },
     "execution_count": 12,
     "metadata": {},
     "output_type": "execute_result"
    }
   ],
   "source": [
    "#shape of file\n",
    "data.shape"
   ]
  },
  {
   "cell_type": "code",
   "execution_count": 13,
   "id": "34142cd9",
   "metadata": {},
   "outputs": [
    {
     "data": {
      "text/plain": [
       "Date             object\n",
       "AveragePrice    float64\n",
       "Total Volume    float64\n",
       "4046            float64\n",
       "4225            float64\n",
       "4770            float64\n",
       "type             object\n",
       "year              int64\n",
       "region           object\n",
       "dtype: object"
      ]
     },
     "execution_count": 13,
     "metadata": {},
     "output_type": "execute_result"
    }
   ],
   "source": [
    "# Checking for data types of the columns\n",
    "data.dtypes"
   ]
  },
  {
   "cell_type": "markdown",
   "id": "6d52caa3",
   "metadata": {},
   "source": [
    "# \n",
    "As there are object datatypes, we will apply encoding techniques"
   ]
  },
  {
   "cell_type": "code",
   "execution_count": 14,
   "id": "1844fe78",
   "metadata": {},
   "outputs": [
    {
     "data": {
      "text/plain": [
       "Date            0\n",
       "AveragePrice    0\n",
       "Total Volume    0\n",
       "4046            0\n",
       "4225            0\n",
       "4770            0\n",
       "type            0\n",
       "year            0\n",
       "region          0\n",
       "dtype: int64"
      ]
     },
     "execution_count": 14,
     "metadata": {},
     "output_type": "execute_result"
    }
   ],
   "source": [
    "# Checking for null values\n",
    "data.isnull().sum()"
   ]
  },
  {
   "cell_type": "markdown",
   "id": "ba55335b",
   "metadata": {},
   "source": [
    "# \n",
    "There are no null values"
   ]
  },
  {
   "cell_type": "markdown",
   "id": "bd883f1a",
   "metadata": {},
   "source": [
    "# Visualization of the Data and Encoding object data"
   ]
  },
  {
   "cell_type": "code",
   "execution_count": 15,
   "id": "162a7a7a",
   "metadata": {},
   "outputs": [],
   "source": [
    "data['Date']=pd.to_datetime(data['Date'])"
   ]
  },
  {
   "cell_type": "code",
   "execution_count": 16,
   "id": "4e8c038d",
   "metadata": {},
   "outputs": [],
   "source": [
    "#Storing date and month in separate column\n",
    "data['Day']=data['Date'].dt.day\n",
    "data['Month']=data['Date'].dt.month"
   ]
  },
  {
   "cell_type": "code",
   "execution_count": 17,
   "id": "724e33b7",
   "metadata": {},
   "outputs": [
    {
     "data": {
      "text/html": [
       "<div>\n",
       "<style scoped>\n",
       "    .dataframe tbody tr th:only-of-type {\n",
       "        vertical-align: middle;\n",
       "    }\n",
       "\n",
       "    .dataframe tbody tr th {\n",
       "        vertical-align: top;\n",
       "    }\n",
       "\n",
       "    .dataframe thead th {\n",
       "        text-align: right;\n",
       "    }\n",
       "</style>\n",
       "<table border=\"1\" class=\"dataframe\">\n",
       "  <thead>\n",
       "    <tr style=\"text-align: right;\">\n",
       "      <th></th>\n",
       "      <th>Date</th>\n",
       "      <th>AveragePrice</th>\n",
       "      <th>Total Volume</th>\n",
       "      <th>4046</th>\n",
       "      <th>4225</th>\n",
       "      <th>4770</th>\n",
       "      <th>type</th>\n",
       "      <th>year</th>\n",
       "      <th>region</th>\n",
       "      <th>Day</th>\n",
       "      <th>Month</th>\n",
       "    </tr>\n",
       "  </thead>\n",
       "  <tbody>\n",
       "    <tr>\n",
       "      <th>0</th>\n",
       "      <td>2015-12-27</td>\n",
       "      <td>1.33</td>\n",
       "      <td>64236.62</td>\n",
       "      <td>1036.74</td>\n",
       "      <td>54454.85</td>\n",
       "      <td>48.16</td>\n",
       "      <td>conventional</td>\n",
       "      <td>2015</td>\n",
       "      <td>Albany</td>\n",
       "      <td>27</td>\n",
       "      <td>12</td>\n",
       "    </tr>\n",
       "    <tr>\n",
       "      <th>1</th>\n",
       "      <td>2015-12-20</td>\n",
       "      <td>1.35</td>\n",
       "      <td>54876.98</td>\n",
       "      <td>674.28</td>\n",
       "      <td>44638.81</td>\n",
       "      <td>58.33</td>\n",
       "      <td>conventional</td>\n",
       "      <td>2015</td>\n",
       "      <td>Albany</td>\n",
       "      <td>20</td>\n",
       "      <td>12</td>\n",
       "    </tr>\n",
       "    <tr>\n",
       "      <th>2</th>\n",
       "      <td>2015-12-13</td>\n",
       "      <td>0.93</td>\n",
       "      <td>118220.22</td>\n",
       "      <td>794.70</td>\n",
       "      <td>109149.67</td>\n",
       "      <td>130.50</td>\n",
       "      <td>conventional</td>\n",
       "      <td>2015</td>\n",
       "      <td>Albany</td>\n",
       "      <td>13</td>\n",
       "      <td>12</td>\n",
       "    </tr>\n",
       "    <tr>\n",
       "      <th>3</th>\n",
       "      <td>2015-12-06</td>\n",
       "      <td>1.08</td>\n",
       "      <td>78992.15</td>\n",
       "      <td>1132.00</td>\n",
       "      <td>71976.41</td>\n",
       "      <td>72.58</td>\n",
       "      <td>conventional</td>\n",
       "      <td>2015</td>\n",
       "      <td>Albany</td>\n",
       "      <td>6</td>\n",
       "      <td>12</td>\n",
       "    </tr>\n",
       "    <tr>\n",
       "      <th>4</th>\n",
       "      <td>2015-11-29</td>\n",
       "      <td>1.28</td>\n",
       "      <td>51039.60</td>\n",
       "      <td>941.48</td>\n",
       "      <td>43838.39</td>\n",
       "      <td>75.78</td>\n",
       "      <td>conventional</td>\n",
       "      <td>2015</td>\n",
       "      <td>Albany</td>\n",
       "      <td>29</td>\n",
       "      <td>11</td>\n",
       "    </tr>\n",
       "    <tr>\n",
       "      <th>...</th>\n",
       "      <td>...</td>\n",
       "      <td>...</td>\n",
       "      <td>...</td>\n",
       "      <td>...</td>\n",
       "      <td>...</td>\n",
       "      <td>...</td>\n",
       "      <td>...</td>\n",
       "      <td>...</td>\n",
       "      <td>...</td>\n",
       "      <td>...</td>\n",
       "      <td>...</td>\n",
       "    </tr>\n",
       "    <tr>\n",
       "      <th>18244</th>\n",
       "      <td>2018-02-04</td>\n",
       "      <td>1.63</td>\n",
       "      <td>17074.83</td>\n",
       "      <td>2046.96</td>\n",
       "      <td>1529.20</td>\n",
       "      <td>0.00</td>\n",
       "      <td>organic</td>\n",
       "      <td>2018</td>\n",
       "      <td>WestTexNewMexico</td>\n",
       "      <td>4</td>\n",
       "      <td>2</td>\n",
       "    </tr>\n",
       "    <tr>\n",
       "      <th>18245</th>\n",
       "      <td>2018-01-28</td>\n",
       "      <td>1.71</td>\n",
       "      <td>13888.04</td>\n",
       "      <td>1191.70</td>\n",
       "      <td>3431.50</td>\n",
       "      <td>0.00</td>\n",
       "      <td>organic</td>\n",
       "      <td>2018</td>\n",
       "      <td>WestTexNewMexico</td>\n",
       "      <td>28</td>\n",
       "      <td>1</td>\n",
       "    </tr>\n",
       "    <tr>\n",
       "      <th>18246</th>\n",
       "      <td>2018-01-21</td>\n",
       "      <td>1.87</td>\n",
       "      <td>13766.76</td>\n",
       "      <td>1191.92</td>\n",
       "      <td>2452.79</td>\n",
       "      <td>727.94</td>\n",
       "      <td>organic</td>\n",
       "      <td>2018</td>\n",
       "      <td>WestTexNewMexico</td>\n",
       "      <td>21</td>\n",
       "      <td>1</td>\n",
       "    </tr>\n",
       "    <tr>\n",
       "      <th>18247</th>\n",
       "      <td>2018-01-14</td>\n",
       "      <td>1.93</td>\n",
       "      <td>16205.22</td>\n",
       "      <td>1527.63</td>\n",
       "      <td>2981.04</td>\n",
       "      <td>727.01</td>\n",
       "      <td>organic</td>\n",
       "      <td>2018</td>\n",
       "      <td>WestTexNewMexico</td>\n",
       "      <td>14</td>\n",
       "      <td>1</td>\n",
       "    </tr>\n",
       "    <tr>\n",
       "      <th>18248</th>\n",
       "      <td>2018-01-07</td>\n",
       "      <td>1.62</td>\n",
       "      <td>17489.58</td>\n",
       "      <td>2894.77</td>\n",
       "      <td>2356.13</td>\n",
       "      <td>224.53</td>\n",
       "      <td>organic</td>\n",
       "      <td>2018</td>\n",
       "      <td>WestTexNewMexico</td>\n",
       "      <td>7</td>\n",
       "      <td>1</td>\n",
       "    </tr>\n",
       "  </tbody>\n",
       "</table>\n",
       "<p>18249 rows × 11 columns</p>\n",
       "</div>"
      ],
      "text/plain": [
       "            Date  AveragePrice  Total Volume     4046       4225    4770  \\\n",
       "0     2015-12-27          1.33      64236.62  1036.74   54454.85   48.16   \n",
       "1     2015-12-20          1.35      54876.98   674.28   44638.81   58.33   \n",
       "2     2015-12-13          0.93     118220.22   794.70  109149.67  130.50   \n",
       "3     2015-12-06          1.08      78992.15  1132.00   71976.41   72.58   \n",
       "4     2015-11-29          1.28      51039.60   941.48   43838.39   75.78   \n",
       "...          ...           ...           ...      ...        ...     ...   \n",
       "18244 2018-02-04          1.63      17074.83  2046.96    1529.20    0.00   \n",
       "18245 2018-01-28          1.71      13888.04  1191.70    3431.50    0.00   \n",
       "18246 2018-01-21          1.87      13766.76  1191.92    2452.79  727.94   \n",
       "18247 2018-01-14          1.93      16205.22  1527.63    2981.04  727.01   \n",
       "18248 2018-01-07          1.62      17489.58  2894.77    2356.13  224.53   \n",
       "\n",
       "               type  year            region  Day  Month  \n",
       "0      conventional  2015            Albany   27     12  \n",
       "1      conventional  2015            Albany   20     12  \n",
       "2      conventional  2015            Albany   13     12  \n",
       "3      conventional  2015            Albany    6     12  \n",
       "4      conventional  2015            Albany   29     11  \n",
       "...             ...   ...               ...  ...    ...  \n",
       "18244       organic  2018  WestTexNewMexico    4      2  \n",
       "18245       organic  2018  WestTexNewMexico   28      1  \n",
       "18246       organic  2018  WestTexNewMexico   21      1  \n",
       "18247       organic  2018  WestTexNewMexico   14      1  \n",
       "18248       organic  2018  WestTexNewMexico    7      1  \n",
       "\n",
       "[18249 rows x 11 columns]"
      ]
     },
     "execution_count": 17,
     "metadata": {},
     "output_type": "execute_result"
    }
   ],
   "source": [
    "data"
   ]
  },
  {
   "cell_type": "code",
   "execution_count": 18,
   "id": "b9f9aa77",
   "metadata": {},
   "outputs": [],
   "source": [
    "#As the date is stored in day and month columns, date is deleted\n",
    "data=data.drop(columns=[\"Date\"])"
   ]
  },
  {
   "cell_type": "code",
   "execution_count": 19,
   "id": "e2176ee9",
   "metadata": {},
   "outputs": [
    {
     "data": {
      "text/plain": [
       "<AxesSubplot:ylabel='Frequency'>"
      ]
     },
     "execution_count": 19,
     "metadata": {},
     "output_type": "execute_result"
    },
    {
     "data": {
      "image/png": "[encoded data removed]",
      "text/plain": [
       "<Figure size 432x288 with 1 Axes>"
      ]
     },
     "metadata": {
      "needs_background": "light"
     },
     "output_type": "display_data"
    }
   ],
   "source": [
    "data.Day.plot(kind='hist')"
   ]
  },
  {
   "cell_type": "code",
   "execution_count": 20,
   "id": "f5aeda01",
   "metadata": {},
   "outputs": [
    {
     "data": {
      "text/plain": [
       "<AxesSubplot:ylabel='Frequency'>"
      ]
     },
     "execution_count": 20,
     "metadata": {},
     "output_type": "execute_result"
    },
    {
     "data": {
      "image/png": "[encoded data removed]",
      "text/plain": [
       "<Figure size 432x288 with 1 Axes>"
      ]
     },
     "metadata": {
      "needs_background": "light"
     },
     "output_type": "display_data"
    }
   ],
   "source": [
    "data.Month.plot(kind='hist')"
   ]
  },
  {
   "cell_type": "markdown",
   "id": "a8e04b78",
   "metadata": {},
   "source": [
    "# \n",
    "Majority of the data is for January and December"
   ]
  },
  {
   "cell_type": "code",
   "execution_count": 21,
   "id": "2abe752c",
   "metadata": {},
   "outputs": [
    {
     "data": {
      "image/png": "[encoded data removed]",
      "text/plain": [
       "<Figure size 432x288 with 1 Axes>"
      ]
     },
     "metadata": {
      "needs_background": "light"
     },
     "output_type": "display_data"
    }
   ],
   "source": [
    "sns.distplot(data[\"AveragePrice\"])\n",
    "plt.xlabel(\"AveragePrice\",fontsize=10)\n",
    "plt.tight_layout()"
   ]
  },
  {
   "cell_type": "markdown",
   "id": "ec33cfb7",
   "metadata": {},
   "source": [
    "# \n",
    "The data seems slightly skewed"
   ]
  },
  {
   "cell_type": "code",
   "execution_count": 24,
   "id": "d704d500",
   "metadata": {},
   "outputs": [
    {
     "data": {
      "image/png": "[encoded data removed]",
      "text/plain": [
       "<Figure size 432x288 with 1 Axes>"
      ]
     },
     "metadata": {
      "needs_background": "light"
     },
     "output_type": "display_data"
    }
   ],
   "source": [
    "sns.distplot(data[\"Total Volume\"])\n",
    "plt.xlabel(\"Total Volume\",fontsize=10)\n",
    "plt.tight_layout()"
   ]
  },
  {
   "cell_type": "markdown",
   "id": "40da9ee4",
   "metadata": {},
   "source": [
    "# \n",
    "The data looks highly skewed"
   ]
  },
  {
   "cell_type": "code",
   "execution_count": 25,
   "id": "cc2db39c",
   "metadata": {},
   "outputs": [
    {
     "data": {
      "image/png": "[encoded data removed]",
      "text/plain": [
       "<Figure size 432x288 with 1 Axes>"
      ]
     },
     "metadata": {
      "needs_background": "light"
     },
     "output_type": "display_data"
    }
   ],
   "source": [
    "sns.distplot(data[\"4046\"])\n",
    "plt.xlabel(\"4046\",fontsize=10)\n",
    "plt.tight_layout()"
   ]
  },
  {
   "cell_type": "markdown",
   "id": "3de57666",
   "metadata": {},
   "source": [
    "# \n",
    "The data looks highly skewed"
   ]
  },
  {
   "cell_type": "code",
   "execution_count": 26,
   "id": "02c4d912",
   "metadata": {},
   "outputs": [
    {
     "data": {
      "image/png": "[encoded data removed]",
      "text/plain": [
       "<Figure size 432x288 with 1 Axes>"
      ]
     },
     "metadata": {
      "needs_background": "light"
     },
     "output_type": "display_data"
    }
   ],
   "source": [
    "sns.distplot(data[\"4225\"])\n",
    "plt.xlabel(\"4225\",fontsize=10)\n",
    "plt.tight_layout()"
   ]
  },
  {
   "cell_type": "markdown",
   "id": "80e25bbc",
   "metadata": {},
   "source": [
    "# \n",
    "The data looks highly skewed"
   ]
  },
  {
   "cell_type": "code",
   "execution_count": 27,
   "id": "73a609de",
   "metadata": {},
   "outputs": [
    {
     "data": {
      "image/png": "[encoded data removed]",
      "text/plain": [
       "<Figure size 432x288 with 1 Axes>"
      ]
     },
     "metadata": {
      "needs_background": "light"
     },
     "output_type": "display_data"
    }
   ],
   "source": [
    "sns.distplot(data[\"4770\"])\n",
    "plt.xlabel(\"4770\",fontsize=10)\n",
    "plt.tight_layout()"
   ]
  },
  {
   "cell_type": "markdown",
   "id": "e5f0dca2",
   "metadata": {},
   "source": [
    "# \n",
    "The data looks highly skewed"
   ]
  },
  {
   "cell_type": "code",
   "execution_count": 28,
   "id": "61cd0380",
   "metadata": {},
   "outputs": [
    {
     "name": "stdout",
     "output_type": "stream",
     "text": [
      "conventional    9126\n",
      "organic         9123\n",
      "Name: type, dtype: int64\n"
     ]
    },
    {
     "data": {
      "image/png": "[encoded data removed]",
      "text/plain": [
       "<Figure size 432x288 with 1 Axes>"
      ]
     },
     "metadata": {
      "needs_background": "light"
     },
     "output_type": "display_data"
    }
   ],
   "source": [
    "ax=sns.countplot(x=\"type\", data=data)\n",
    "print(data[\"type\"].value_counts())"
   ]
  },
  {
   "cell_type": "markdown",
   "id": "c406bc6a",
   "metadata": {},
   "source": [
    "# \n",
    "9126 avocados are conventional type and 9123 avocados are organic type"
   ]
  },
  {
   "cell_type": "code",
   "execution_count": 29,
   "id": "391e2b49",
   "metadata": {},
   "outputs": [],
   "source": [
    "#Encoding string into numeric data by alphabetical order\n",
    "\n",
    "from sklearn.preprocessing import LabelEncoder\n",
    "enc=LabelEncoder()\n",
    "df=enc.fit_transform(data[\"type\"])\n",
    "data[\"type\"]=df"
   ]
  },
  {
   "cell_type": "markdown",
   "id": "261a5187",
   "metadata": {},
   "source": [
    "# \n",
    "The data is encoded as follows-\n",
    "- 0 - Conventional\n",
    "- 1 - Organic"
   ]
  },
  {
   "cell_type": "code",
   "execution_count": 30,
   "id": "84181aa6",
   "metadata": {},
   "outputs": [
    {
     "name": "stdout",
     "output_type": "stream",
     "text": [
      "2017    5722\n",
      "2016    5616\n",
      "2015    5615\n",
      "2018    1296\n",
      "Name: year, dtype: int64\n"
     ]
    },
    {
     "data": {
      "image/png": "[encoded data removed]",
      "text/plain": [
       "<Figure size 432x288 with 1 Axes>"
      ]
     },
     "metadata": {
      "needs_background": "light"
     },
     "output_type": "display_data"
    }
   ],
   "source": [
    "ax=sns.countplot(x=\"year\", data=data)\n",
    "print(data[\"year\"].value_counts())"
   ]
  },
  {
   "cell_type": "markdown",
   "id": "c80ed9de",
   "metadata": {},
   "source": [
    "# \n",
    "5722 data are of 2017, 5616 data are of 2016, 5615 data are of 2015, 1296 data are of 2018"
   ]
  },
  {
   "cell_type": "code",
   "execution_count": 33,
   "id": "8c240c84",
   "metadata": {},
   "outputs": [
    {
     "name": "stdout",
     "output_type": "stream",
     "text": [
      "Albany                 338\n",
      "Sacramento             338\n",
      "Northeast              338\n",
      "NorthernNewEngland     338\n",
      "Orlando                338\n",
      "Philadelphia           338\n",
      "PhoenixTucson          338\n",
      "Pittsburgh             338\n",
      "Plains                 338\n",
      "Portland               338\n",
      "RaleighGreensboro      338\n",
      "RichmondNorfolk        338\n",
      "Roanoke                338\n",
      "SanDiego               338\n",
      "Atlanta                338\n",
      "SanFrancisco           338\n",
      "Seattle                338\n",
      "SouthCarolina          338\n",
      "SouthCentral           338\n",
      "Southeast              338\n",
      "Spokane                338\n",
      "StLouis                338\n",
      "Syracuse               338\n",
      "Tampa                  338\n",
      "TotalUS                338\n",
      "West                   338\n",
      "NewYork                338\n",
      "NewOrleansMobile       338\n",
      "Nashville              338\n",
      "Midsouth               338\n",
      "BaltimoreWashington    338\n",
      "Boise                  338\n",
      "Boston                 338\n",
      "BuffaloRochester       338\n",
      "California             338\n",
      "Charlotte              338\n",
      "Chicago                338\n",
      "CincinnatiDayton       338\n",
      "Columbus               338\n",
      "DallasFtWorth          338\n",
      "Denver                 338\n",
      "Detroit                338\n",
      "GrandRapids            338\n",
      "GreatLakes             338\n",
      "HarrisburgScranton     338\n",
      "HartfordSpringfield    338\n",
      "Houston                338\n",
      "Indianapolis           338\n",
      "Jacksonville           338\n",
      "LasVegas               338\n",
      "LosAngeles             338\n",
      "Louisville             338\n",
      "MiamiFtLauderdale      338\n",
      "WestTexNewMexico       335\n",
      "Name: region, dtype: int64\n"
     ]
    },
    {
     "data": {
      "image/png": "[encoded data removed]",
      "text/plain": [
       "<Figure size 2520x1080 with 1 Axes>"
      ]
     },
     "metadata": {
      "needs_background": "light"
     },
     "output_type": "display_data"
    }
   ],
   "source": [
    "plt.figure(figsize=(35,15))\n",
    "ax=sns.countplot(x=\"region\", data=data)\n",
    "print(data[\"region\"].value_counts())"
   ]
  },
  {
   "cell_type": "code",
   "execution_count": 34,
   "id": "07ea8ac9",
   "metadata": {},
   "outputs": [],
   "source": [
    "#Encoding string into numeric data by alphabetical order\n",
    "\n",
    "from sklearn.preprocessing import LabelEncoder\n",
    "enc=LabelEncoder()\n",
    "df=enc.fit_transform(data[\"region\"])\n",
    "data[\"region\"]=df"
   ]
  },
  {
   "cell_type": "code",
   "execution_count": 35,
   "id": "bc9d3a3a",
   "metadata": {},
   "outputs": [
    {
     "data": {
      "text/html": [
       "<div>\n",
       "<style scoped>\n",
       "    .dataframe tbody tr th:only-of-type {\n",
       "        vertical-align: middle;\n",
       "    }\n",
       "\n",
       "    .dataframe tbody tr th {\n",
       "        vertical-align: top;\n",
       "    }\n",
       "\n",
       "    .dataframe thead th {\n",
       "        text-align: right;\n",
       "    }\n",
       "</style>\n",
       "<table border=\"1\" class=\"dataframe\">\n",
       "  <thead>\n",
       "    <tr style=\"text-align: right;\">\n",
       "      <th></th>\n",
       "      <th>AveragePrice</th>\n",
       "      <th>Total Volume</th>\n",
       "      <th>4046</th>\n",
       "      <th>4225</th>\n",
       "      <th>4770</th>\n",
       "      <th>type</th>\n",
       "      <th>year</th>\n",
       "      <th>region</th>\n",
       "      <th>Day</th>\n",
       "      <th>Month</th>\n",
       "    </tr>\n",
       "  </thead>\n",
       "  <tbody>\n",
       "    <tr>\n",
       "      <th>count</th>\n",
       "      <td>18249.000000</td>\n",
       "      <td>1.824900e+04</td>\n",
       "      <td>1.824900e+04</td>\n",
       "      <td>1.824900e+04</td>\n",
       "      <td>1.824900e+04</td>\n",
       "      <td>18249.000000</td>\n",
       "      <td>18249.000000</td>\n",
       "      <td>18249.000000</td>\n",
       "      <td>18249.000000</td>\n",
       "      <td>18249.000000</td>\n",
       "    </tr>\n",
       "    <tr>\n",
       "      <th>mean</th>\n",
       "      <td>1.405978</td>\n",
       "      <td>8.506440e+05</td>\n",
       "      <td>2.930084e+05</td>\n",
       "      <td>2.951546e+05</td>\n",
       "      <td>2.283974e+04</td>\n",
       "      <td>0.499918</td>\n",
       "      <td>2016.147899</td>\n",
       "      <td>26.495644</td>\n",
       "      <td>15.662612</td>\n",
       "      <td>6.177215</td>\n",
       "    </tr>\n",
       "    <tr>\n",
       "      <th>std</th>\n",
       "      <td>0.402677</td>\n",
       "      <td>3.453545e+06</td>\n",
       "      <td>1.264989e+06</td>\n",
       "      <td>1.204120e+06</td>\n",
       "      <td>1.074641e+05</td>\n",
       "      <td>0.500014</td>\n",
       "      <td>0.939938</td>\n",
       "      <td>15.583788</td>\n",
       "      <td>8.776281</td>\n",
       "      <td>3.534130</td>\n",
       "    </tr>\n",
       "    <tr>\n",
       "      <th>min</th>\n",
       "      <td>0.440000</td>\n",
       "      <td>8.456000e+01</td>\n",
       "      <td>0.000000e+00</td>\n",
       "      <td>0.000000e+00</td>\n",
       "      <td>0.000000e+00</td>\n",
       "      <td>0.000000</td>\n",
       "      <td>2015.000000</td>\n",
       "      <td>0.000000</td>\n",
       "      <td>1.000000</td>\n",
       "      <td>1.000000</td>\n",
       "    </tr>\n",
       "    <tr>\n",
       "      <th>25%</th>\n",
       "      <td>1.100000</td>\n",
       "      <td>1.083858e+04</td>\n",
       "      <td>8.540700e+02</td>\n",
       "      <td>3.008780e+03</td>\n",
       "      <td>0.000000e+00</td>\n",
       "      <td>0.000000</td>\n",
       "      <td>2015.000000</td>\n",
       "      <td>13.000000</td>\n",
       "      <td>8.000000</td>\n",
       "      <td>3.000000</td>\n",
       "    </tr>\n",
       "    <tr>\n",
       "      <th>50%</th>\n",
       "      <td>1.370000</td>\n",
       "      <td>1.073768e+05</td>\n",
       "      <td>8.645300e+03</td>\n",
       "      <td>2.906102e+04</td>\n",
       "      <td>1.849900e+02</td>\n",
       "      <td>0.000000</td>\n",
       "      <td>2016.000000</td>\n",
       "      <td>26.000000</td>\n",
       "      <td>16.000000</td>\n",
       "      <td>6.000000</td>\n",
       "    </tr>\n",
       "    <tr>\n",
       "      <th>75%</th>\n",
       "      <td>1.660000</td>\n",
       "      <td>4.329623e+05</td>\n",
       "      <td>1.110202e+05</td>\n",
       "      <td>1.502069e+05</td>\n",
       "      <td>6.243420e+03</td>\n",
       "      <td>1.000000</td>\n",
       "      <td>2017.000000</td>\n",
       "      <td>40.000000</td>\n",
       "      <td>23.000000</td>\n",
       "      <td>9.000000</td>\n",
       "    </tr>\n",
       "    <tr>\n",
       "      <th>max</th>\n",
       "      <td>3.250000</td>\n",
       "      <td>6.250565e+07</td>\n",
       "      <td>2.274362e+07</td>\n",
       "      <td>2.047057e+07</td>\n",
       "      <td>2.546439e+06</td>\n",
       "      <td>1.000000</td>\n",
       "      <td>2018.000000</td>\n",
       "      <td>53.000000</td>\n",
       "      <td>31.000000</td>\n",
       "      <td>12.000000</td>\n",
       "    </tr>\n",
       "  </tbody>\n",
       "</table>\n",
       "</div>"
      ],
      "text/plain": [
       "       AveragePrice  Total Volume          4046          4225          4770  \\\n",
       "count  18249.000000  1.824900e+04  1.824900e+04  1.824900e+04  1.824900e+04   \n",
       "mean       1.405978  8.506440e+05  2.930084e+05  2.951546e+05  2.283974e+04   \n",
       "std        0.402677  3.453545e+06  1.264989e+06  1.204120e+06  1.074641e+05   \n",
       "min        0.440000  8.456000e+01  0.000000e+00  0.000000e+00  0.000000e+00   \n",
       "25%        1.100000  1.083858e+04  8.540700e+02  3.008780e+03  0.000000e+00   \n",
       "50%        1.370000  1.073768e+05  8.645300e+03  2.906102e+04  1.849900e+02   \n",
       "75%        1.660000  4.329623e+05  1.110202e+05  1.502069e+05  6.243420e+03   \n",
       "max        3.250000  6.250565e+07  2.274362e+07  2.047057e+07  2.546439e+06   \n",
       "\n",
       "               type          year        region           Day         Month  \n",
       "count  18249.000000  18249.000000  18249.000000  18249.000000  18249.000000  \n",
       "mean       0.499918   2016.147899     26.495644     15.662612      6.177215  \n",
       "std        0.500014      0.939938     15.583788      8.776281      3.534130  \n",
       "min        0.000000   2015.000000      0.000000      1.000000      1.000000  \n",
       "25%        0.000000   2015.000000     13.000000      8.000000      3.000000  \n",
       "50%        0.000000   2016.000000     26.000000     16.000000      6.000000  \n",
       "75%        1.000000   2017.000000     40.000000     23.000000      9.000000  \n",
       "max        1.000000   2018.000000     53.000000     31.000000     12.000000  "
      ]
     },
     "execution_count": 35,
     "metadata": {},
     "output_type": "execute_result"
    }
   ],
   "source": [
    "#Statistical Analysis\n",
    "data.describe()"
   ]
  },
  {
   "cell_type": "markdown",
   "id": "3805c643",
   "metadata": {},
   "source": [
    "# Checking Correlation"
   ]
  },
  {
   "cell_type": "code",
   "execution_count": 36,
   "id": "4009c8cf",
   "metadata": {},
   "outputs": [
    {
     "data": {
      "text/html": [
       "<div>\n",
       "<style scoped>\n",
       "    .dataframe tbody tr th:only-of-type {\n",
       "        vertical-align: middle;\n",
       "    }\n",
       "\n",
       "    .dataframe tbody tr th {\n",
       "        vertical-align: top;\n",
       "    }\n",
       "\n",
       "    .dataframe thead th {\n",
       "        text-align: right;\n",
       "    }\n",
       "</style>\n",
       "<table border=\"1\" class=\"dataframe\">\n",
       "  <thead>\n",
       "    <tr style=\"text-align: right;\">\n",
       "      <th></th>\n",
       "      <th>AveragePrice</th>\n",
       "      <th>Total Volume</th>\n",
       "      <th>4046</th>\n",
       "      <th>4225</th>\n",
       "      <th>4770</th>\n",
       "      <th>type</th>\n",
       "      <th>year</th>\n",
       "      <th>region</th>\n",
       "      <th>Day</th>\n",
       "      <th>Month</th>\n",
       "    </tr>\n",
       "  </thead>\n",
       "  <tbody>\n",
       "    <tr>\n",
       "      <th>AveragePrice</th>\n",
       "      <td>1.000000</td>\n",
       "      <td>-0.192752</td>\n",
       "      <td>-0.208317</td>\n",
       "      <td>-0.172928</td>\n",
       "      <td>-0.179446</td>\n",
       "      <td>0.615845</td>\n",
       "      <td>0.093197</td>\n",
       "      <td>-0.011716</td>\n",
       "      <td>0.027386</td>\n",
       "      <td>0.162409</td>\n",
       "    </tr>\n",
       "    <tr>\n",
       "      <th>Total Volume</th>\n",
       "      <td>-0.192752</td>\n",
       "      <td>1.000000</td>\n",
       "      <td>0.977863</td>\n",
       "      <td>0.974181</td>\n",
       "      <td>0.872202</td>\n",
       "      <td>-0.232434</td>\n",
       "      <td>0.017193</td>\n",
       "      <td>0.174176</td>\n",
       "      <td>-0.009747</td>\n",
       "      <td>-0.024689</td>\n",
       "    </tr>\n",
       "    <tr>\n",
       "      <th>4046</th>\n",
       "      <td>-0.208317</td>\n",
       "      <td>0.977863</td>\n",
       "      <td>1.000000</td>\n",
       "      <td>0.926110</td>\n",
       "      <td>0.833389</td>\n",
       "      <td>-0.225819</td>\n",
       "      <td>0.003353</td>\n",
       "      <td>0.192073</td>\n",
       "      <td>-0.010159</td>\n",
       "      <td>-0.025803</td>\n",
       "    </tr>\n",
       "    <tr>\n",
       "      <th>4225</th>\n",
       "      <td>-0.172928</td>\n",
       "      <td>0.974181</td>\n",
       "      <td>0.926110</td>\n",
       "      <td>1.000000</td>\n",
       "      <td>0.887855</td>\n",
       "      <td>-0.232289</td>\n",
       "      <td>-0.009559</td>\n",
       "      <td>0.145726</td>\n",
       "      <td>-0.012393</td>\n",
       "      <td>-0.022108</td>\n",
       "    </tr>\n",
       "    <tr>\n",
       "      <th>4770</th>\n",
       "      <td>-0.179446</td>\n",
       "      <td>0.872202</td>\n",
       "      <td>0.833389</td>\n",
       "      <td>0.887855</td>\n",
       "      <td>1.000000</td>\n",
       "      <td>-0.210027</td>\n",
       "      <td>-0.036531</td>\n",
       "      <td>0.095252</td>\n",
       "      <td>-0.009009</td>\n",
       "      <td>-0.033424</td>\n",
       "    </tr>\n",
       "    <tr>\n",
       "      <th>type</th>\n",
       "      <td>0.615845</td>\n",
       "      <td>-0.232434</td>\n",
       "      <td>-0.225819</td>\n",
       "      <td>-0.232289</td>\n",
       "      <td>-0.210027</td>\n",
       "      <td>1.000000</td>\n",
       "      <td>-0.000032</td>\n",
       "      <td>-0.000280</td>\n",
       "      <td>-0.000013</td>\n",
       "      <td>-0.000085</td>\n",
       "    </tr>\n",
       "    <tr>\n",
       "      <th>year</th>\n",
       "      <td>0.093197</td>\n",
       "      <td>0.017193</td>\n",
       "      <td>0.003353</td>\n",
       "      <td>-0.009559</td>\n",
       "      <td>-0.036531</td>\n",
       "      <td>-0.000032</td>\n",
       "      <td>1.000000</td>\n",
       "      <td>-0.000055</td>\n",
       "      <td>0.004475</td>\n",
       "      <td>-0.177050</td>\n",
       "    </tr>\n",
       "    <tr>\n",
       "      <th>region</th>\n",
       "      <td>-0.011716</td>\n",
       "      <td>0.174176</td>\n",
       "      <td>0.192073</td>\n",
       "      <td>0.145726</td>\n",
       "      <td>0.095252</td>\n",
       "      <td>-0.000280</td>\n",
       "      <td>-0.000055</td>\n",
       "      <td>1.000000</td>\n",
       "      <td>-0.000021</td>\n",
       "      <td>-0.000144</td>\n",
       "    </tr>\n",
       "    <tr>\n",
       "      <th>Day</th>\n",
       "      <td>0.027386</td>\n",
       "      <td>-0.009747</td>\n",
       "      <td>-0.010159</td>\n",
       "      <td>-0.012393</td>\n",
       "      <td>-0.009009</td>\n",
       "      <td>-0.000013</td>\n",
       "      <td>0.004475</td>\n",
       "      <td>-0.000021</td>\n",
       "      <td>1.000000</td>\n",
       "      <td>0.010621</td>\n",
       "    </tr>\n",
       "    <tr>\n",
       "      <th>Month</th>\n",
       "      <td>0.162409</td>\n",
       "      <td>-0.024689</td>\n",
       "      <td>-0.025803</td>\n",
       "      <td>-0.022108</td>\n",
       "      <td>-0.033424</td>\n",
       "      <td>-0.000085</td>\n",
       "      <td>-0.177050</td>\n",
       "      <td>-0.000144</td>\n",
       "      <td>0.010621</td>\n",
       "      <td>1.000000</td>\n",
       "    </tr>\n",
       "  </tbody>\n",
       "</table>\n",
       "</div>"
      ],
      "text/plain": [
       "              AveragePrice  Total Volume      4046      4225      4770  \\\n",
       "AveragePrice      1.000000     -0.192752 -0.208317 -0.172928 -0.179446   \n",
       "Total Volume     -0.192752      1.000000  0.977863  0.974181  0.872202   \n",
       "4046             -0.208317      0.977863  1.000000  0.926110  0.833389   \n",
       "4225             -0.172928      0.974181  0.926110  1.000000  0.887855   \n",
       "4770             -0.179446      0.872202  0.833389  0.887855  1.000000   \n",
       "type              0.615845     -0.232434 -0.225819 -0.232289 -0.210027   \n",
       "year              0.093197      0.017193  0.003353 -0.009559 -0.036531   \n",
       "region           -0.011716      0.174176  0.192073  0.145726  0.095252   \n",
       "Day               0.027386     -0.009747 -0.010159 -0.012393 -0.009009   \n",
       "Month             0.162409     -0.024689 -0.025803 -0.022108 -0.033424   \n",
       "\n",
       "                  type      year    region       Day     Month  \n",
       "AveragePrice  0.615845  0.093197 -0.011716  0.027386  0.162409  \n",
       "Total Volume -0.232434  0.017193  0.174176 -0.009747 -0.024689  \n",
       "4046         -0.225819  0.003353  0.192073 -0.010159 -0.025803  \n",
       "4225         -0.232289 -0.009559  0.145726 -0.012393 -0.022108  \n",
       "4770         -0.210027 -0.036531  0.095252 -0.009009 -0.033424  \n",
       "type          1.000000 -0.000032 -0.000280 -0.000013 -0.000085  \n",
       "year         -0.000032  1.000000 -0.000055  0.004475 -0.177050  \n",
       "region       -0.000280 -0.000055  1.000000 -0.000021 -0.000144  \n",
       "Day          -0.000013  0.004475 -0.000021  1.000000  0.010621  \n",
       "Month        -0.000085 -0.177050 -0.000144  0.010621  1.000000  "
      ]
     },
     "execution_count": 36,
     "metadata": {},
     "output_type": "execute_result"
    }
   ],
   "source": [
    "data.corr()"
   ]
  },
  {
   "cell_type": "markdown",
   "id": "4dc1f152",
   "metadata": {},
   "source": [
    "# \n",
    "For better understanding let's use a heat map"
   ]
  },
  {
   "cell_type": "code",
   "execution_count": 38,
   "id": "984cbd60",
   "metadata": {},
   "outputs": [
    {
     "data": {
      "image/png": "[encoded data removed]",
      "text/plain": [
       "<Figure size 1800x1800 with 2 Axes>"
      ]
     },
     "metadata": {
      "needs_background": "light"
     },
     "output_type": "display_data"
    }
   ],
   "source": [
    "corr_mat=data.corr()\n",
    "\n",
    "#size of the canvas\n",
    "plt.figure(figsize=[25,25])\n",
    "\n",
    "#plot the correlation matrix\n",
    "sns.heatmap(corr_mat,annot=True, annot_kws={'size':20})\n",
    "plt.title(\"Correlation Matrix\")\n",
    "plt.show()"
   ]
  },
  {
   "cell_type": "markdown",
   "id": "9463ac1f",
   "metadata": {},
   "source": [
    "# \n",
    "Let's print the correlation values of independent values with target variable for a better understanding"
   ]
  },
  {
   "cell_type": "code",
   "execution_count": 40,
   "id": "ce78dc27",
   "metadata": {},
   "outputs": [
    {
     "data": {
      "text/plain": [
       "AveragePrice   -0.011716\n",
       "type           -0.000280\n",
       "Month          -0.000144\n",
       "year           -0.000055\n",
       "Day            -0.000021\n",
       "4770            0.095252\n",
       "4225            0.145726\n",
       "Total Volume    0.174176\n",
       "4046            0.192073\n",
       "region          1.000000\n",
       "Name: region, dtype: float64"
      ]
     },
     "execution_count": 40,
     "metadata": {},
     "output_type": "execute_result"
    }
   ],
   "source": [
    "#Let's print the correlation coefficient for the Classification Prediction with Region\n",
    "\n",
    "corr_matrix=data.corr()\n",
    "corr_matrix[\"region\"].sort_values(ascending=True)"
   ]
  },
  {
   "cell_type": "markdown",
   "id": "a66293e6",
   "metadata": {},
   "source": [
    "# \n",
    "Observation-\n",
    "- AveragePrice, type, Month, year, and Day are negatively correlated to the label region\n",
    "- 4770, 4225, Total Volume, and 4046 are positively correlated to the label region\n",
    "- AveragePrice are 1.1% negatively correlated to the label region showing a extremely weak bond\n",
    "- Day is 0.002% negatively correlated with region showing a an extremely weak bond\n",
    "- 4770 is 9% positively correlated with region showing a weak bond\n",
    "- 4046 is 19% positively correlated with region showing an moderately weak bond"
   ]
  },
  {
   "cell_type": "code",
   "execution_count": 41,
   "id": "f980421c",
   "metadata": {},
   "outputs": [
    {
     "data": {
      "text/plain": [
       "4046           -0.208317\n",
       "Total Volume   -0.192752\n",
       "4770           -0.179446\n",
       "4225           -0.172928\n",
       "region         -0.011716\n",
       "Day             0.027386\n",
       "year            0.093197\n",
       "Month           0.162409\n",
       "type            0.615845\n",
       "AveragePrice    1.000000\n",
       "Name: AveragePrice, dtype: float64"
      ]
     },
     "execution_count": 41,
     "metadata": {},
     "output_type": "execute_result"
    }
   ],
   "source": [
    "#Let's print the correlation coefficient for the Regression Prediction with Rainfall\n",
    "\n",
    "corr_matrix=data.corr()\n",
    "corr_matrix[\"AveragePrice\"].sort_values(ascending=True)"
   ]
  },
  {
   "cell_type": "markdown",
   "id": "0dcc0fb4",
   "metadata": {},
   "source": [
    "# Observation-\n",
    "- 4046, Total Volume, 4770, 4225 , and region are negatively correlated to the label AveragePrice\n",
    "- Day , year , Month, and type are positively correlated to the label AveragePrice\n",
    "- 4046 are 20% negatively correlated to the label AveragePrice showing a weak bond\n",
    "- region is 1.1% negatively correlated with AveragePrice showing a an extremely weak bond\n",
    "- Day is 2.7% positively correlated with AveragePrice showing a weak bond\n",
    "- type is 61.5% positively correlated with AveragePrice showing a strong bond"
   ]
  },
  {
   "cell_type": "markdown",
   "id": "a21e7f15",
   "metadata": {},
   "source": [
    "# Checking for outliers"
   ]
  },
  {
   "cell_type": "code",
   "execution_count": 42,
   "id": "d24434e2",
   "metadata": {},
   "outputs": [
    {
     "data": {
      "image/png": "[encoded data removed]",
      "text/plain": [
       "<Figure size 1440x1800 with 10 Axes>"
      ]
     },
     "metadata": {
      "needs_background": "light"
     },
     "output_type": "display_data"
    }
   ],
   "source": [
    "#visulaize the outliers using boxplot\n",
    "plt.figure(figsize=(20,25))\n",
    "graph=1\n",
    "\n",
    "for column in data:\n",
    "    if graph<=10:\n",
    "        ax=plt.subplot(4,3,graph)\n",
    "        sns.boxplot(data=data[column], orient='v')\n",
    "        plt.xlabel(column,fontsize=20)\n",
    "    graph=graph+1\n",
    "plt.show()"
   ]
  },
  {
   "cell_type": "markdown",
   "id": "65d4f9f8",
   "metadata": {},
   "source": [
    "# \n",
    "The features containing outliers-\n",
    "\n",
    "- AveragePrice\n",
    "- Total Volume\n",
    "- 4046\n",
    "- 4225\n",
    "- 4770"
   ]
  },
  {
   "cell_type": "code",
   "execution_count": 44,
   "id": "834126a9",
   "metadata": {},
   "outputs": [
    {
     "data": {
      "text/plain": [
       "(18249, 10)"
      ]
     },
     "execution_count": 44,
     "metadata": {},
     "output_type": "execute_result"
    }
   ],
   "source": [
    "#remove outliers using zscore technique\n",
    "from scipy.stats import zscore\n",
    "import numpy as np\n",
    "z=np.abs(zscore(data))\n",
    "z.shape"
   ]
  },
  {
   "cell_type": "code",
   "execution_count": 45,
   "id": "c5770934",
   "metadata": {},
   "outputs": [
    {
     "name": "stdout",
     "output_type": "stream",
     "text": [
      "(array([  346,   359,   783,   787,   788,   790,   791,   792,   794,\n",
      "         795,   796,   797,   799,   803,   805,   807,   808,   809,\n",
      "         812,   816,   820,   823,   827,  1334,  1347,  1516,  1518,\n",
      "        1541,  2340,  2341,  2348,  2351,  2368,  2370,  2652,  2652,\n",
      "        2652,  2652,  2653,  2653,  2653,  2653,  2654,  2654,  2654,\n",
      "        2654,  2655,  2655,  2655,  2655,  2656,  2656,  2656,  2656,\n",
      "        2657,  2657,  2657,  2657,  2658,  2658,  2658,  2658,  2659,\n",
      "        2659,  2659,  2659,  2660,  2660,  2660,  2660,  2661,  2661,\n",
      "        2661,  2661,  2662,  2662,  2662,  2662,  2663,  2663,  2663,\n",
      "        2663,  2664,  2664,  2664,  2664,  2665,  2665,  2665,  2665,\n",
      "        2666,  2666,  2666,  2666,  2667,  2667,  2667,  2667,  2668,\n",
      "        2668,  2668,  2668,  2669,  2669,  2669,  2669,  2670,  2670,\n",
      "        2670,  2670,  2671,  2671,  2671,  2671,  2672,  2672,  2672,\n",
      "        2672,  2673,  2673,  2673,  2673,  2674,  2674,  2674,  2674,\n",
      "        2675,  2675,  2675,  2675,  2676,  2676,  2676,  2676,  2677,\n",
      "        2677,  2677,  2677,  2678,  2678,  2678,  2678,  2679,  2679,\n",
      "        2679,  2679,  2680,  2680,  2680,  2680,  2681,  2681,  2681,\n",
      "        2681,  2682,  2682,  2682,  2682,  2683,  2683,  2683,  2683,\n",
      "        2684,  2684,  2684,  2684,  2685,  2685,  2685,  2685,  2686,\n",
      "        2686,  2686,  2686,  2687,  2687,  2687,  2687,  2688,  2688,\n",
      "        2688,  2688,  2689,  2689,  2689,  2689,  2690,  2690,  2690,\n",
      "        2690,  2691,  2691,  2691,  2691,  2692,  2692,  2692,  2692,\n",
      "        2693,  2693,  2693,  2693,  2694,  2694,  2694,  2694,  2695,\n",
      "        2695,  2695,  2695,  2696,  2696,  2696,  2696,  2697,  2697,\n",
      "        2697,  2697,  2698,  2698,  2698,  2698,  2699,  2699,  2699,\n",
      "        2699,  2700,  2700,  2700,  2700,  2701,  2701,  2701,  2701,\n",
      "        2702,  2702,  2702,  2702,  2703,  2703,  2703,  2703,  3145,\n",
      "        3149,  3152,  3156,  3157,  3166,  3166,  3613,  3614,  3615,\n",
      "        3617,  3620,  3621,  3624,  3626,  3627,  3628,  3630,  3631,\n",
      "        3633,  3634,  3635,  3636,  3637,  3638,  3639,  4349,  4362,\n",
      "        5173,  5174,  5175,  5176,  5177,  5178,  5179,  5180,  5181,\n",
      "        5182,  5183,  5184,  5185,  5186,  5187,  5188,  5189,  5190,\n",
      "        5192,  5193,  5194,  5195,  5197,  5199,  5460,  5460,  5460,\n",
      "        5460,  5461,  5461,  5461,  5461,  5462,  5462,  5462,  5462,\n",
      "        5463,  5463,  5463,  5463,  5464,  5464,  5464,  5465,  5465,\n",
      "        5465,  5465,  5466,  5466,  5466,  5466,  5467,  5467,  5467,\n",
      "        5467,  5468,  5468,  5468,  5468,  5469,  5469,  5469,  5469,\n",
      "        5470,  5470,  5470,  5470,  5471,  5471,  5471,  5471,  5472,\n",
      "        5472,  5472,  5472,  5473,  5473,  5473,  5473,  5474,  5474,\n",
      "        5474,  5474,  5475,  5475,  5475,  5475,  5476,  5476,  5476,\n",
      "        5476,  5477,  5477,  5477,  5477,  5478,  5478,  5478,  5478,\n",
      "        5479,  5479,  5479,  5479,  5480,  5480,  5480,  5480,  5481,\n",
      "        5481,  5481,  5481,  5482,  5482,  5482,  5482,  5483,  5483,\n",
      "        5483,  5483,  5484,  5484,  5484,  5484,  5485,  5485,  5485,\n",
      "        5485,  5486,  5486,  5486,  5486,  5487,  5487,  5487,  5487,\n",
      "        5488,  5488,  5488,  5488,  5489,  5489,  5489,  5489,  5490,\n",
      "        5490,  5490,  5490,  5491,  5491,  5491,  5491,  5492,  5492,\n",
      "        5492,  5492,  5493,  5493,  5493,  5493,  5494,  5494,  5494,\n",
      "        5494,  5495,  5495,  5495,  5495,  5496,  5496,  5496,  5496,\n",
      "        5497,  5497,  5497,  5497,  5498,  5498,  5498,  5498,  5499,\n",
      "        5499,  5499,  5499,  5500,  5500,  5500,  5500,  5501,  5501,\n",
      "        5501,  5501,  5502,  5502,  5502,  5502,  5503,  5503,  5503,\n",
      "        5503,  5504,  5504,  5504,  5504,  5505,  5505,  5505,  5505,\n",
      "        5506,  5506,  5506,  5506,  5507,  5507,  5507,  5507,  5508,\n",
      "        5508,  5508,  5508,  5509,  5509,  5509,  5509,  5510,  5510,\n",
      "        5510,  5510,  5511,  5511,  5511,  5511,  5981,  6411,  6436,\n",
      "        6437,  6439,  6445,  6455,  7156,  7200,  7200,  8035,  8045,\n",
      "        8048,  8048,  8051,  8319,  8319,  8319,  8319,  8320,  8320,\n",
      "        8320,  8320,  8321,  8321,  8321,  8321,  8322,  8322,  8322,\n",
      "        8322,  8323,  8323,  8323,  8323,  8324,  8324,  8324,  8324,\n",
      "        8325,  8325,  8325,  8325,  8326,  8326,  8326,  8326,  8327,\n",
      "        8327,  8327,  8327,  8328,  8328,  8328,  8328,  8329,  8329,\n",
      "        8329,  8329,  8330,  8330,  8330,  8330,  8331,  8331,  8331,\n",
      "        8331,  8332,  8332,  8332,  8332,  8333,  8333,  8333,  8333,\n",
      "        8334,  8334,  8334,  8334,  8335,  8335,  8335,  8335,  8336,\n",
      "        8336,  8336,  8336,  8337,  8337,  8337,  8337,  8338,  8338,\n",
      "        8338,  8338,  8339,  8339,  8339,  8339,  8340,  8340,  8340,\n",
      "        8340,  8341,  8341,  8341,  8341,  8342,  8342,  8342,  8342,\n",
      "        8343,  8343,  8343,  8343,  8344,  8344,  8344,  8344,  8345,\n",
      "        8345,  8345,  8345,  8346,  8346,  8346,  8346,  8347,  8347,\n",
      "        8347,  8347,  8348,  8348,  8348,  8348,  8349,  8349,  8349,\n",
      "        8349,  8350,  8350,  8350,  8350,  8351,  8351,  8351,  8351,\n",
      "        8352,  8352,  8352,  8352,  8353,  8353,  8353,  8353,  8354,\n",
      "        8354,  8354,  8354,  8355,  8355,  8355,  8355,  8356,  8356,\n",
      "        8356,  8356,  8357,  8357,  8357,  8357,  8358,  8358,  8358,\n",
      "        8358,  8359,  8359,  8359,  8359,  8360,  8360,  8360,  8360,\n",
      "        8361,  8361,  8361,  8361,  8362,  8362,  8362,  8362,  8363,\n",
      "        8363,  8363,  8363,  8364,  8364,  8364,  8364,  8365,  8365,\n",
      "        8365,  8365,  8366,  8366,  8366,  8366,  8367,  8367,  8367,\n",
      "        8367,  8368,  8368,  8368,  8368,  8369,  8369,  8369,  8369,\n",
      "        8370,  8370,  8370,  8370,  8371,  8371,  8371,  8371,  8419,\n",
      "        8419,  8557,  8557,  8658,  8659,  8660,  8662,  8665,  8667,\n",
      "        8669,  8833,  8835,  9025,  9037,  9090,  9090,  9090,  9090,\n",
      "        9091,  9091,  9091,  9091,  9092,  9092,  9092,  9092,  9093,\n",
      "        9093,  9093,  9093,  9094,  9094,  9094,  9094,  9095,  9095,\n",
      "        9095,  9095,  9096,  9096,  9096,  9096,  9097,  9097,  9097,\n",
      "        9097,  9098,  9098,  9098,  9098,  9099,  9099,  9099,  9099,\n",
      "        9100,  9100,  9100,  9100,  9101,  9101,  9101,  9101, 11320,\n",
      "       11321, 11323, 11324, 11325, 11326, 11327, 11328, 11329, 11330,\n",
      "       11331, 11332, 12821, 12823, 13033, 13035, 13037, 13038, 13395,\n",
      "       13657, 13661, 14019, 14020, 14073, 14074, 14119, 14120, 14121,\n",
      "       14122, 14123, 14124, 14125, 14126, 14128, 14129, 14177, 14385,\n",
      "       14699, 14701, 14702, 14807, 14911, 14912, 14913, 14914, 14915,\n",
      "       14916, 14917, 14918, 14919, 15124, 15125, 15127, 15128, 15129,\n",
      "       15130, 15510, 15511, 15667, 15668, 15671, 15673, 15674, 15814,\n",
      "       15871, 16024, 16050, 16055, 16395, 16399, 16421, 16660, 16661,\n",
      "       16662, 16663, 16664, 16665, 16666, 16667, 16714, 16715, 16717,\n",
      "       16718, 16719, 16720, 16721, 16734, 16737, 16738, 16985, 16986,\n",
      "       16994, 16995, 16996, 16997, 16998, 16999, 17000, 17007, 17008,\n",
      "       17009, 17010, 17015, 17017, 17031, 17032, 17033, 17034, 17035,\n",
      "       17036, 17037, 17038, 17039, 17040, 17047, 17244, 17245, 17246,\n",
      "       17247, 17248, 17249, 17250, 17251, 17255, 17300, 17301, 17302,\n",
      "       17303, 17304, 17402, 17428], dtype=int64), array([2, 2, 4, 4, 4, 4, 4, 4, 4, 4, 4, 4, 4, 4, 4, 4, 4, 4, 4, 4, 4, 4,\n",
      "       4, 4, 4, 3, 3, 3, 4, 4, 4, 4, 2, 2, 1, 2, 3, 4, 1, 2, 3, 4, 1, 2,\n",
      "       3, 4, 1, 2, 3, 4, 1, 2, 3, 4, 1, 2, 3, 4, 1, 2, 3, 4, 1, 2, 3, 4,\n",
      "       1, 2, 3, 4, 1, 2, 3, 4, 1, 2, 3, 4, 1, 2, 3, 4, 1, 2, 3, 4, 1, 2,\n",
      "       3, 4, 1, 2, 3, 4, 1, 2, 3, 4, 1, 2, 3, 4, 1, 2, 3, 4, 1, 2, 3, 4,\n",
      "       1, 2, 3, 4, 1, 2, 3, 4, 1, 2, 3, 4, 1, 2, 3, 4, 1, 2, 3, 4, 1, 2,\n",
      "       3, 4, 1, 2, 3, 4, 1, 2, 3, 4, 1, 2, 3, 4, 1, 2, 3, 4, 1, 2, 3, 4,\n",
      "       1, 2, 3, 4, 1, 2, 3, 4, 1, 2, 3, 4, 1, 2, 3, 4, 1, 2, 3, 4, 1, 2,\n",
      "       3, 4, 1, 2, 3, 4, 1, 2, 3, 4, 1, 2, 3, 4, 1, 2, 3, 4, 1, 2, 3, 4,\n",
      "       1, 2, 3, 4, 1, 2, 3, 4, 1, 2, 3, 4, 1, 2, 3, 4, 1, 2, 3, 4, 1, 2,\n",
      "       3, 4, 1, 2, 3, 4, 1, 2, 3, 4, 1, 2, 3, 4, 1, 2, 3, 4, 1, 2, 3, 4,\n",
      "       4, 4, 4, 4, 4, 3, 4, 4, 4, 4, 4, 4, 4, 4, 4, 4, 4, 4, 4, 4, 4, 4,\n",
      "       4, 4, 4, 4, 3, 3, 4, 4, 4, 4, 4, 4, 4, 4, 4, 4, 4, 4, 4, 4, 4, 4,\n",
      "       4, 4, 4, 4, 4, 4, 4, 4, 1, 2, 3, 4, 1, 2, 3, 4, 1, 2, 3, 4, 1, 2,\n",
      "       3, 4, 1, 2, 3, 1, 2, 3, 4, 1, 2, 3, 4, 1, 2, 3, 4, 1, 2, 3, 4, 1,\n",
      "       2, 3, 4, 1, 2, 3, 4, 1, 2, 3, 4, 1, 2, 3, 4, 1, 2, 3, 4, 1, 2, 3,\n",
      "       4, 1, 2, 3, 4, 1, 2, 3, 4, 1, 2, 3, 4, 1, 2, 3, 4, 1, 2, 3, 4, 1,\n",
      "       2, 3, 4, 1, 2, 3, 4, 1, 2, 3, 4, 1, 2, 3, 4, 1, 2, 3, 4, 1, 2, 3,\n",
      "       4, 1, 2, 3, 4, 1, 2, 3, 4, 1, 2, 3, 4, 1, 2, 3, 4, 1, 2, 3, 4, 1,\n",
      "       2, 3, 4, 1, 2, 3, 4, 1, 2, 3, 4, 1, 2, 3, 4, 1, 2, 3, 4, 1, 2, 3,\n",
      "       4, 1, 2, 3, 4, 1, 2, 3, 4, 1, 2, 3, 4, 1, 2, 3, 4, 1, 2, 3, 4, 1,\n",
      "       2, 3, 4, 1, 2, 3, 4, 1, 2, 3, 4, 1, 2, 3, 4, 1, 2, 3, 4, 1, 2, 3,\n",
      "       4, 1, 2, 3, 4, 1, 2, 3, 4, 1, 2, 3, 4, 1, 2, 3, 4, 1, 4, 4, 4, 4,\n",
      "       4, 4, 3, 3, 4, 2, 2, 2, 4, 2, 1, 2, 3, 4, 1, 2, 3, 4, 1, 2, 3, 4,\n",
      "       1, 2, 3, 4, 1, 2, 3, 4, 1, 2, 3, 4, 1, 2, 3, 4, 1, 2, 3, 4, 1, 2,\n",
      "       3, 4, 1, 2, 3, 4, 1, 2, 3, 4, 1, 2, 3, 4, 1, 2, 3, 4, 1, 2, 3, 4,\n",
      "       1, 2, 3, 4, 1, 2, 3, 4, 1, 2, 3, 4, 1, 2, 3, 4, 1, 2, 3, 4, 1, 2,\n",
      "       3, 4, 1, 2, 3, 4, 1, 2, 3, 4, 1, 2, 3, 4, 1, 2, 3, 4, 1, 2, 3, 4,\n",
      "       1, 2, 3, 4, 1, 2, 3, 4, 1, 2, 3, 4, 1, 2, 3, 4, 1, 2, 3, 4, 1, 2,\n",
      "       3, 4, 1, 2, 3, 4, 1, 2, 3, 4, 1, 2, 3, 4, 1, 2, 3, 4, 1, 2, 3, 4,\n",
      "       1, 2, 3, 4, 1, 2, 3, 4, 1, 2, 3, 4, 1, 2, 3, 4, 1, 2, 3, 4, 1, 2,\n",
      "       3, 4, 1, 2, 3, 4, 1, 2, 3, 4, 1, 2, 3, 4, 1, 2, 3, 4, 1, 2, 3, 4,\n",
      "       1, 2, 3, 4, 1, 2, 3, 4, 1, 2, 3, 4, 1, 2, 3, 4, 1, 2, 3, 4, 1, 2,\n",
      "       3, 4, 1, 2, 2, 3, 4, 4, 4, 4, 4, 4, 4, 3, 3, 2, 2, 1, 2, 3, 4, 1,\n",
      "       2, 3, 4, 1, 2, 3, 4, 1, 2, 3, 4, 1, 2, 3, 4, 1, 2, 3, 4, 1, 2, 3,\n",
      "       4, 1, 2, 3, 4, 1, 2, 3, 4, 1, 2, 3, 4, 1, 2, 3, 4, 1, 2, 3, 4, 0,\n",
      "       0, 0, 0, 0, 0, 0, 0, 0, 0, 0, 0, 0, 0, 0, 0, 0, 0, 0, 0, 0, 0, 0,\n",
      "       0, 0, 0, 0, 0, 0, 0, 0, 0, 0, 0, 0, 0, 0, 0, 0, 0, 0, 0, 0, 0, 0,\n",
      "       0, 0, 0, 0, 0, 0, 0, 0, 0, 0, 0, 0, 0, 0, 0, 0, 0, 0, 0, 0, 0, 0,\n",
      "       0, 0, 0, 0, 0, 0, 0, 0, 0, 0, 0, 0, 0, 0, 0, 0, 0, 0, 0, 0, 0, 0,\n",
      "       0, 0, 0, 0, 0, 0, 0, 0, 0, 0, 0, 0, 0, 0, 0, 0, 0, 0, 0, 0, 0, 0,\n",
      "       0, 0, 0, 0, 0, 0, 0, 0, 0, 0, 0, 0, 0, 0, 0, 0, 0, 0, 0, 0],\n",
      "      dtype=int64))\n"
     ]
    }
   ],
   "source": [
    "threshold=3\n",
    "print(np.where(z>3))"
   ]
  },
  {
   "cell_type": "code",
   "execution_count": 46,
   "id": "c163943c",
   "metadata": {},
   "outputs": [
    {
     "name": "stdout",
     "output_type": "stream",
     "text": [
      "(18249, 10)\n",
      "(17838, 10)\n"
     ]
    }
   ],
   "source": [
    "data_new=data[(z<3).all(axis=1)]\n",
    "print(data.shape)\n",
    "print(data_new.shape)"
   ]
  },
  {
   "cell_type": "markdown",
   "id": "bd7473de",
   "metadata": {},
   "source": [
    "# \n",
    "Data loss is 2.25% and is tolerable"
   ]
  },
  {
   "cell_type": "markdown",
   "id": "38a604e5",
   "metadata": {},
   "source": [
    "# Prediction 1- region (As the data is categorical, classification models are used)"
   ]
  },
  {
   "cell_type": "markdown",
   "id": "da08a5b3",
   "metadata": {},
   "source": [
    "# Divide Data Set into features and labels"
   ]
  },
  {
   "cell_type": "code",
   "execution_count": 47,
   "id": "3a4dfe4e",
   "metadata": {},
   "outputs": [],
   "source": [
    "y_c=data_new['region']\n",
    "x_c=data_new.drop(columns=['region'])"
   ]
  },
  {
   "cell_type": "code",
   "execution_count": 48,
   "id": "a3c126a9",
   "metadata": {},
   "outputs": [
    {
     "data": {
      "text/plain": [
       "4770            4.759495\n",
       "4046            4.422120\n",
       "4225            4.104196\n",
       "Total Volume    3.661159\n",
       "AveragePrice    0.385429\n",
       "year            0.221195\n",
       "Month           0.111748\n",
       "Day             0.012527\n",
       "type           -0.016371\n",
       "dtype: float64"
      ]
     },
     "execution_count": 48,
     "metadata": {},
     "output_type": "execute_result"
    }
   ],
   "source": [
    "#Confirming the skewness\n",
    "x_c.skew().sort_values(ascending=False)"
   ]
  },
  {
   "cell_type": "markdown",
   "id": "259d419c",
   "metadata": {},
   "source": [
    "# \n",
    "Keeping +/-0.5 as the range of skewness, the columns not falling in this range are-\n",
    "\n",
    "- 4770 \n",
    "- 4046  \n",
    "- 4225\n",
    "- Total Volume    "
   ]
  },
  {
   "cell_type": "markdown",
   "id": "829f076a",
   "metadata": {},
   "source": [
    "# Transforming Data to remove skewness"
   ]
  },
  {
   "cell_type": "code",
   "execution_count": 49,
   "id": "f3274379",
   "metadata": {},
   "outputs": [],
   "source": [
    "from sklearn.preprocessing import power_transform\n",
    "x_nc=power_transform(x_c)"
   ]
  },
  {
   "cell_type": "code",
   "execution_count": 50,
   "id": "d957ed06",
   "metadata": {},
   "outputs": [
    {
     "data": {
      "text/plain": [
       "year            0.218938\n",
       "4770            0.021469\n",
       "AveragePrice    0.001032\n",
       "Total Volume   -0.004873\n",
       "type           -0.016371\n",
       "4046           -0.037293\n",
       "4225           -0.044029\n",
       "Month          -0.145247\n",
       "Day            -0.208499\n",
       "dtype: float64"
      ]
     },
     "execution_count": 50,
     "metadata": {},
     "output_type": "execute_result"
    }
   ],
   "source": [
    "#Checking if skewness was rectified\n",
    "x_skew=pd.DataFrame(x_nc, columns=x_c.columns)\n",
    "x_skew.skew().sort_values(ascending=False)"
   ]
  },
  {
   "cell_type": "markdown",
   "id": "65618685",
   "metadata": {},
   "source": [
    "# \n",
    "Skewness has been removed, let's move forward"
   ]
  },
  {
   "cell_type": "markdown",
   "id": "e46ae875",
   "metadata": {},
   "source": [
    "# Scaling the data"
   ]
  },
  {
   "cell_type": "code",
   "execution_count": 51,
   "id": "80476ecd",
   "metadata": {},
   "outputs": [],
   "source": [
    "scaler=StandardScaler()\n",
    "X_scaled=scaler.fit_transform(x_skew)"
   ]
  },
  {
   "cell_type": "markdown",
   "id": "a7a1bc9a",
   "metadata": {},
   "source": [
    "# Using Logistic Regression Model"
   ]
  },
  {
   "cell_type": "code",
   "execution_count": 52,
   "id": "392cee08",
   "metadata": {},
   "outputs": [],
   "source": [
    "from sklearn.linear_model import LogisticRegression\n",
    "from sklearn.metrics import accuracy_score\n",
    "from sklearn.metrics import confusion_matrix, classification_report\n",
    "from sklearn.model_selection import train_test_split"
   ]
  },
  {
   "cell_type": "code",
   "execution_count": 53,
   "id": "548d9471",
   "metadata": {},
   "outputs": [
    {
     "name": "stdout",
     "output_type": "stream",
     "text": [
      "accuracy 0.41199551569506726 random_state 0\n",
      "accuracy 0.41199551569506726 random_state 0\n",
      "accuracy 0.4187219730941704 random_state 1\n",
      "accuracy 0.4187219730941704 random_state 1\n",
      "accuracy 0.4131165919282511 random_state 2\n",
      "accuracy 0.4072309417040359 random_state 3\n",
      "accuracy 0.4125560538116592 random_state 4\n",
      "accuracy 0.40274663677130046 random_state 5\n",
      "accuracy 0.4100336322869955 random_state 6\n",
      "accuracy 0.40891255605381166 random_state 7\n",
      "accuracy 0.41451793721973096 random_state 8\n",
      "accuracy 0.41507847533632286 random_state 9\n",
      "accuracy 0.4103139013452915 random_state 10\n",
      "accuracy 0.41227578475336324 random_state 11\n",
      "accuracy 0.4192825112107623 random_state 12\n",
      "accuracy 0.4192825112107623 random_state 12\n",
      "accuracy 0.4111547085201794 random_state 13\n",
      "accuracy 0.4069506726457399 random_state 14\n",
      "accuracy 0.41591928251121074 random_state 15\n",
      "accuracy 0.41227578475336324 random_state 16\n",
      "accuracy 0.4069506726457399 random_state 17\n",
      "accuracy 0.40358744394618834 random_state 18\n",
      "accuracy 0.4044282511210762 random_state 19\n",
      "accuracy 0.4173206278026906 random_state 20\n",
      "accuracy 0.4111547085201794 random_state 21\n",
      "accuracy 0.40919282511210764 random_state 22\n",
      "accuracy 0.41591928251121074 random_state 23\n",
      "accuracy 0.4105941704035874 random_state 24\n",
      "accuracy 0.39798206278026904 random_state 25\n",
      "accuracy 0.4117152466367713 random_state 26\n",
      "accuracy 0.4072309417040359 random_state 27\n",
      "accuracy 0.4164798206278027 random_state 28\n",
      "accuracy 0.4288116591928251 random_state 29\n",
      "accuracy 0.4288116591928251 random_state 29\n",
      "accuracy 0.42068385650224216 random_state 30\n",
      "accuracy 0.4187219730941704 random_state 31\n",
      "accuracy 0.41283632286995514 random_state 32\n",
      "accuracy 0.4164798206278027 random_state 33\n",
      "accuracy 0.40639013452914796 random_state 34\n",
      "accuracy 0.41227578475336324 random_state 35\n",
      "accuracy 0.4147982062780269 random_state 36\n",
      "accuracy 0.41816143497757846 random_state 37\n",
      "accuracy 0.40050448430493274 random_state 38\n",
      "accuracy 0.40610986547085204 random_state 39\n",
      "accuracy 0.4016255605381166 random_state 40\n",
      "accuracy 0.40947309417040356 random_state 41\n",
      "accuracy 0.4173206278026906 random_state 42\n",
      "accuracy 0.40274663677130046 random_state 43\n",
      "accuracy 0.4167600896860987 random_state 44\n",
      "accuracy 0.41591928251121074 random_state 45\n",
      "accuracy 0.4080717488789238 random_state 46\n",
      "accuracy 0.4105941704035874 random_state 47\n",
      "accuracy 0.4013452914798206 random_state 48\n",
      "accuracy 0.4077914798206278 random_state 49\n",
      "accuracy 0.4156390134529148 random_state 50\n",
      "accuracy 0.41591928251121074 random_state 51\n",
      "accuracy 0.40582959641255606 random_state 52\n",
      "accuracy 0.4072309417040359 random_state 53\n",
      "accuracy 0.4304932735426009 random_state 54\n",
      "accuracy 0.4304932735426009 random_state 54\n",
      "accuracy 0.4147982062780269 random_state 55\n",
      "accuracy 0.4049887892376682 random_state 56\n",
      "accuracy 0.4251681614349776 random_state 57\n",
      "accuracy 0.4133968609865471 random_state 58\n",
      "accuracy 0.4103139013452915 random_state 59\n",
      "accuracy 0.39658071748878926 random_state 60\n",
      "accuracy 0.42124439461883406 random_state 61\n",
      "accuracy 0.41535874439461884 random_state 62\n",
      "accuracy 0.41591928251121074 random_state 63\n",
      "accuracy 0.4016255605381166 random_state 64\n",
      "accuracy 0.4198430493273543 random_state 65\n",
      "accuracy 0.413957399103139 random_state 66\n",
      "accuracy 0.3999439461883408 random_state 67\n",
      "accuracy 0.4204035874439462 random_state 68\n",
      "accuracy 0.40106502242152464 random_state 69\n",
      "accuracy 0.4167600896860987 random_state 70\n",
      "accuracy 0.4133968609865471 random_state 71\n",
      "accuracy 0.4100336322869955 random_state 72\n",
      "accuracy 0.41283632286995514 random_state 73\n",
      "accuracy 0.40975336322869954 random_state 74\n",
      "accuracy 0.4013452914798206 random_state 75\n",
      "accuracy 0.4187219730941704 random_state 76\n",
      "accuracy 0.40891255605381166 random_state 77\n",
      "accuracy 0.414237668161435 random_state 78\n",
      "accuracy 0.398542600896861 random_state 79\n",
      "accuracy 0.3963004484304933 random_state 80\n",
      "accuracy 0.4049887892376682 random_state 81\n",
      "accuracy 0.40639013452914796 random_state 82\n",
      "accuracy 0.40330717488789236 random_state 83\n",
      "accuracy 0.41900224215246634 random_state 84\n",
      "accuracy 0.4069506726457399 random_state 85\n",
      "accuracy 0.41816143497757846 random_state 86\n",
      "accuracy 0.4077914798206278 random_state 87\n",
      "accuracy 0.42404708520179374 random_state 88\n",
      "accuracy 0.41227578475336324 random_state 89\n",
      "accuracy 0.4111547085201794 random_state 90\n",
      "accuracy 0.4052690582959641 random_state 91\n",
      "accuracy 0.4170403587443946 random_state 92\n",
      "accuracy 0.4198430493273543 random_state 93\n",
      "accuracy 0.41591928251121074 random_state 94\n",
      "accuracy 0.40022421524663676 random_state 95\n",
      "accuracy 0.41844170403587444 random_state 96\n",
      "accuracy 0.4049887892376682 random_state 97\n",
      "accuracy 0.4103139013452915 random_state 98\n",
      "accuracy 0.41844170403587444 random_state 99\n",
      "accuracy 0.3999439461883408 random_state 100\n",
      "accuracy 0.4204035874439462 random_state 101\n",
      "accuracy 0.4075112107623318 random_state 102\n",
      "accuracy 0.4075112107623318 random_state 103\n",
      "accuracy 0.40975336322869954 random_state 104\n",
      "accuracy 0.40330717488789236 random_state 105\n",
      "accuracy 0.4167600896860987 random_state 106\n",
      "accuracy 0.4111547085201794 random_state 107\n",
      "accuracy 0.40947309417040356 random_state 108\n",
      "accuracy 0.41535874439461884 random_state 109\n",
      "accuracy 0.4117152466367713 random_state 110\n",
      "accuracy 0.4044282511210762 random_state 111\n",
      "accuracy 0.4147982062780269 random_state 112\n",
      "accuracy 0.41760089686098656 random_state 113\n",
      "accuracy 0.4100336322869955 random_state 114\n",
      "accuracy 0.40947309417040356 random_state 115\n",
      "accuracy 0.4105941704035874 random_state 116\n",
      "accuracy 0.4055493273542601 random_state 117\n",
      "accuracy 0.41760089686098656 random_state 118\n",
      "accuracy 0.40610986547085204 random_state 119\n",
      "accuracy 0.4117152466367713 random_state 120\n",
      "accuracy 0.41591928251121074 random_state 121\n",
      "accuracy 0.4201233183856502 random_state 122\n",
      "accuracy 0.4167600896860987 random_state 123\n",
      "accuracy 0.4265695067264574 random_state 124\n",
      "accuracy 0.4147982062780269 random_state 125\n",
      "accuracy 0.4108744394618834 random_state 126\n",
      "accuracy 0.41199551569506726 random_state 127\n",
      "accuracy 0.40891255605381166 random_state 128\n",
      "accuracy 0.42096412556053814 random_state 129\n",
      "accuracy 0.4086322869955157 random_state 130\n",
      "accuracy 0.4108744394618834 random_state 131\n",
      "accuracy 0.4229260089686099 random_state 132\n",
      "accuracy 0.41900224215246634 random_state 133\n",
      "accuracy 0.4021860986547085 random_state 134\n",
      "accuracy 0.3968609865470852 random_state 135\n",
      "accuracy 0.41844170403587444 random_state 136\n",
      "accuracy 0.42376681614349776 random_state 137\n",
      "accuracy 0.39742152466367714 random_state 138\n",
      "accuracy 0.40835201793721976 random_state 139\n",
      "accuracy 0.4103139013452915 random_state 140\n",
      "accuracy 0.40358744394618834 random_state 141\n",
      "accuracy 0.4052690582959641 random_state 142\n",
      "accuracy 0.40022421524663676 random_state 143\n",
      "accuracy 0.4024663677130045 random_state 144\n",
      "accuracy 0.41760089686098656 random_state 145\n",
      "accuracy 0.40274663677130046 random_state 146\n",
      "accuracy 0.42152466367713004 random_state 147\n",
      "accuracy 0.4254484304932735 random_state 148\n",
      "accuracy 0.41199551569506726 random_state 149\n",
      "accuracy 0.4254484304932735 random_state 150\n",
      "accuracy 0.4167600896860987 random_state 151\n",
      "accuracy 0.4108744394618834 random_state 152\n",
      "accuracy 0.4156390134529148 random_state 153\n",
      "accuracy 0.40975336322869954 random_state 154\n",
      "accuracy 0.39489910313901344 random_state 155\n",
      "accuracy 0.4103139013452915 random_state 156\n",
      "accuracy 0.4279708520179372 random_state 157\n",
      "accuracy 0.4111547085201794 random_state 158\n",
      "accuracy 0.42152466367713004 random_state 159\n",
      "accuracy 0.40667040358744394 random_state 160\n",
      "accuracy 0.4108744394618834 random_state 161\n",
      "accuracy 0.41535874439461884 random_state 162\n",
      "accuracy 0.43077354260089684 random_state 163\n",
      "accuracy 0.43077354260089684 random_state 163\n",
      "accuracy 0.4044282511210762 random_state 164\n",
      "accuracy 0.42684977578475336 random_state 165\n",
      "accuracy 0.4192825112107623 random_state 166\n",
      "accuracy 0.41900224215246634 random_state 167\n",
      "accuracy 0.4248878923766816 random_state 168\n",
      "accuracy 0.40947309417040356 random_state 169\n",
      "accuracy 0.422085201793722 random_state 170\n",
      "accuracy 0.40891255605381166 random_state 171\n",
      "accuracy 0.42684977578475336 random_state 172\n",
      "accuracy 0.4103139013452915 random_state 173\n",
      "accuracy 0.40835201793721976 random_state 174\n",
      "accuracy 0.4226457399103139 random_state 175\n",
      "accuracy 0.4072309417040359 random_state 176\n",
      "accuracy 0.40667040358744394 random_state 177\n",
      "accuracy 0.40582959641255606 random_state 178\n",
      "accuracy 0.4072309417040359 random_state 179\n",
      "accuracy 0.40106502242152464 random_state 180\n",
      "accuracy 0.4161995515695067 random_state 181\n",
      "accuracy 0.4164798206278027 random_state 182\n",
      "accuracy 0.413677130044843 random_state 183\n",
      "accuracy 0.4047085201793722 random_state 184\n",
      "accuracy 0.4204035874439462 random_state 185\n",
      "accuracy 0.4147982062780269 random_state 186\n",
      "accuracy 0.4049887892376682 random_state 187\n",
      "accuracy 0.39349775784753366 random_state 188\n",
      "accuracy 0.4021860986547085 random_state 189\n",
      "accuracy 0.4086322869955157 random_state 190\n",
      "accuracy 0.4077914798206278 random_state 191\n",
      "accuracy 0.42124439461883406 random_state 192\n",
      "accuracy 0.42124439461883406 random_state 193\n",
      "accuracy 0.4251681614349776 random_state 194\n",
      "accuracy 0.4192825112107623 random_state 195\n",
      "accuracy 0.40610986547085204 random_state 196\n",
      "accuracy 0.41143497757847536 random_state 197\n",
      "accuracy 0.398262331838565 random_state 198\n",
      "accuracy 0.41591928251121074 random_state 199\n"
     ]
    }
   ],
   "source": [
    "maxAccu=0     #maximum accuracy\n",
    "maxRS=0       #best random state\n",
    "\n",
    "#Finding Best random state\n",
    "for i in range(0,200):\n",
    "    x_train, x_test, y_train, y_test= train_test_split(X_scaled, y_c, test_size=0.2, random_state=i)\n",
    "    LR=LogisticRegression()\n",
    "    LR.fit(x_train, y_train)                #fitting the data will train the model\n",
    "    predrf=LR.predict(x_test)               #this is the predicted target variable\n",
    "    acc=accuracy_score(y_test, predrf)      #accuracy score\n",
    "    print('accuracy', acc, 'random_state', i)\n",
    "    \n",
    "    if acc>maxAccu:\n",
    "        maxAccu=acc\n",
    "        maxRS=i\n",
    "        print('accuracy', maxAccu, 'random_state', i)"
   ]
  },
  {
   "cell_type": "code",
   "execution_count": 54,
   "id": "dcb32ae3",
   "metadata": {},
   "outputs": [],
   "source": [
    "#creating train-test-sloit using best random state observed(i.e.163)\n",
    "x_train, x_test, y_train, y_test= train_test_split(X_scaled, y_c, test_size=0.2, random_state=163)"
   ]
  },
  {
   "cell_type": "code",
   "execution_count": 55,
   "id": "f6a2c8d8",
   "metadata": {},
   "outputs": [
    {
     "name": "stdout",
     "output_type": "stream",
     "text": [
      "Accuracy  43.077354260089685\n",
      "[[28  0  0 ...  0  0  0]\n",
      " [ 0 24  0 ...  0  0  0]\n",
      " [ 0  0 32 ...  0  0  2]\n",
      " ...\n",
      " [ 0  0  0 ... 28  0  0]\n",
      " [ 0  0  0 ...  1 53  0]\n",
      " [ 0  7  0 ...  0  0  9]]\n",
      "              precision    recall  f1-score   support\n",
      "\n",
      "           0       0.48      0.47      0.48        59\n",
      "           1       0.29      0.34      0.31        71\n",
      "           2       0.36      0.45      0.40        71\n",
      "           3       0.39      0.41      0.40        74\n",
      "           4       0.35      0.41      0.38        54\n",
      "           5       0.57      0.62      0.60        58\n",
      "           6       0.71      0.71      0.71        79\n",
      "           7       0.46      0.62      0.53        72\n",
      "           8       0.46      0.39      0.42        69\n",
      "           9       0.41      0.61      0.49        64\n",
      "          10       0.40      0.34      0.37        68\n",
      "          11       0.52      0.46      0.48        68\n",
      "          12       0.23      0.27      0.25        55\n",
      "          13       0.11      0.06      0.08        67\n",
      "          14       0.29      0.29      0.29        66\n",
      "          15       0.70      0.54      0.61        48\n",
      "          16       0.58      0.43      0.50        67\n",
      "          17       0.47      0.70      0.56        66\n",
      "          18       0.28      0.35      0.31        62\n",
      "          19       0.50      0.36      0.42        64\n",
      "          20       0.26      0.53      0.35        51\n",
      "          21       0.14      0.11      0.12        71\n",
      "          22       0.55      0.45      0.50        73\n",
      "          23       0.47      0.64      0.54        77\n",
      "          24       0.00      0.00      0.00        70\n",
      "          25       0.59      0.75      0.66        68\n",
      "          26       0.20      0.08      0.12        61\n",
      "          27       0.28      0.43      0.34        70\n",
      "          28       0.44      0.38      0.41        74\n",
      "          29       0.66      0.86      0.75        43\n",
      "          30       0.52      0.29      0.38        78\n",
      "          31       0.30      0.42      0.35        55\n",
      "          32       0.47      0.44      0.46        61\n",
      "          33       0.44      0.52      0.48        79\n",
      "          34       0.06      0.01      0.02        81\n",
      "          35       0.57      0.37      0.45        68\n",
      "          36       0.13      0.05      0.08        74\n",
      "          37       0.46      0.48      0.47        66\n",
      "          38       0.47      0.63      0.54        75\n",
      "          39       0.36      0.46      0.40        70\n",
      "          40       0.38      0.74      0.50        69\n",
      "          41       0.36      0.33      0.34        52\n",
      "          42       0.49      0.58      0.53        60\n",
      "          43       0.42      0.36      0.38        70\n",
      "          44       0.31      0.33      0.32        70\n",
      "          45       0.65      0.79      0.71        61\n",
      "          46       0.63      0.56      0.60        80\n",
      "          47       0.38      0.43      0.40        82\n",
      "          48       0.21      0.12      0.15        60\n",
      "          49       0.63      0.80      0.70        70\n",
      "          50       0.28      0.07      0.11        75\n",
      "          51       0.97      1.00      0.98        28\n",
      "          52       0.62      0.83      0.71        64\n",
      "          53       0.29      0.15      0.20        60\n",
      "\n",
      "    accuracy                           0.43      3568\n",
      "   macro avg       0.42      0.44      0.42      3568\n",
      "weighted avg       0.41      0.43      0.41      3568\n",
      "\n"
     ]
    }
   ],
   "source": [
    "LR=LogisticRegression()\n",
    "LR.fit(x_train, y_train)                \n",
    "predlr=LR.predict(x_test)               \n",
    "print(\"Accuracy \",accuracy_score(y_test, predlr)*100)      #accuracy score\n",
    "print(confusion_matrix(y_test,predlr))\n",
    "print(classification_report(y_test,predlr))"
   ]
  },
  {
   "cell_type": "markdown",
   "id": "2a4316da",
   "metadata": {},
   "source": [
    "# Using KNeighbors Classifier Model"
   ]
  },
  {
   "cell_type": "code",
   "execution_count": 56,
   "id": "3d1ecff9",
   "metadata": {},
   "outputs": [
    {
     "name": "stdout",
     "output_type": "stream",
     "text": [
      "Accuracy  44.14237668161435\n",
      "[[32  0  0 ...  0  0  0]\n",
      " [ 0 25  0 ...  0  0  0]\n",
      " [ 0  0 60 ...  0  0  0]\n",
      " ...\n",
      " [ 0  0  0 ... 28  0  0]\n",
      " [ 0  0  0 ...  2 30  0]\n",
      " [ 0  7  1 ...  0  0 13]]\n",
      "              precision    recall  f1-score   support\n",
      "\n",
      "           0       0.29      0.54      0.38        59\n",
      "           1       0.17      0.35      0.23        71\n",
      "           2       0.42      0.85      0.56        71\n",
      "           3       0.48      0.57      0.52        74\n",
      "           4       0.31      0.52      0.39        54\n",
      "           5       0.39      0.57      0.46        58\n",
      "           6       0.67      0.63      0.65        79\n",
      "           7       0.27      0.50      0.35        72\n",
      "           8       0.81      0.64      0.72        69\n",
      "           9       0.38      0.53      0.44        64\n",
      "          10       0.19      0.32      0.24        68\n",
      "          11       0.38      0.62      0.47        68\n",
      "          12       0.43      0.75      0.55        55\n",
      "          13       0.19      0.16      0.18        67\n",
      "          14       0.52      0.44      0.48        66\n",
      "          15       0.59      0.73      0.65        48\n",
      "          16       0.67      0.76      0.71        67\n",
      "          17       0.77      0.55      0.64        66\n",
      "          18       0.30      0.24      0.27        62\n",
      "          19       0.23      0.22      0.23        64\n",
      "          20       0.37      0.49      0.42        51\n",
      "          21       0.27      0.24      0.25        71\n",
      "          22       0.64      0.63      0.63        73\n",
      "          23       0.55      0.42      0.47        77\n",
      "          24       0.37      0.34      0.36        70\n",
      "          25       0.66      0.75      0.70        68\n",
      "          26       0.33      0.23      0.27        61\n",
      "          27       0.33      0.24      0.28        70\n",
      "          28       0.80      0.64      0.71        74\n",
      "          29       0.59      0.70      0.64        43\n",
      "          30       0.50      0.27      0.35        78\n",
      "          31       0.21      0.35      0.26        55\n",
      "          32       0.60      0.54      0.57        61\n",
      "          33       0.49      0.32      0.38        79\n",
      "          34       0.56      0.54      0.55        81\n",
      "          35       0.51      0.60      0.55        68\n",
      "          36       0.34      0.20      0.25        74\n",
      "          37       0.16      0.18      0.17        66\n",
      "          38       0.52      0.36      0.43        75\n",
      "          39       0.57      0.47      0.52        70\n",
      "          40       0.39      0.33      0.36        69\n",
      "          41       0.20      0.21      0.21        52\n",
      "          42       0.66      0.42      0.51        60\n",
      "          43       0.43      0.19      0.26        70\n",
      "          44       0.38      0.26      0.31        70\n",
      "          45       0.78      0.84      0.81        61\n",
      "          46       0.80      0.51      0.63        80\n",
      "          47       0.68      0.30      0.42        82\n",
      "          48       0.53      0.30      0.38        60\n",
      "          49       0.68      0.37      0.48        70\n",
      "          50       0.00      0.00      0.00        75\n",
      "          51       0.90      1.00      0.95        28\n",
      "          52       0.55      0.47      0.50        64\n",
      "          53       0.38      0.22      0.28        60\n",
      "\n",
      "    accuracy                           0.44      3568\n",
      "   macro avg       0.47      0.45      0.44      3568\n",
      "weighted avg       0.47      0.44      0.44      3568\n",
      "\n"
     ]
    }
   ],
   "source": [
    "from sklearn.neighbors import KNeighborsClassifier\n",
    "\n",
    "kn=KNeighborsClassifier()\n",
    "kn.fit(x_train, y_train)\n",
    "predkn=kn.predict(x_test)\n",
    "print(\"Accuracy \",accuracy_score(y_test, predkn)*100)      #accuracy score\n",
    "print(confusion_matrix(y_test,predkn))\n",
    "print(classification_report(y_test,predkn))"
   ]
  },
  {
   "cell_type": "markdown",
   "id": "c6933d50",
   "metadata": {},
   "source": [
    "# Using Decision Tree Classifier"
   ]
  },
  {
   "cell_type": "code",
   "execution_count": 57,
   "id": "f856c721",
   "metadata": {},
   "outputs": [
    {
     "name": "stdout",
     "output_type": "stream",
     "text": [
      "Accuracy  74.60762331838565\n",
      "[[48  0  0 ...  0  0  0]\n",
      " [ 0 33  0 ...  0  0  4]\n",
      " [ 0  0 59 ...  0  0  1]\n",
      " ...\n",
      " [ 0  0  0 ... 27  0  0]\n",
      " [ 0  0  0 ...  0 47  0]\n",
      " [ 0  4  1 ...  0  0 34]]\n",
      "              precision    recall  f1-score   support\n",
      "\n",
      "           0       0.69      0.81      0.74        59\n",
      "           1       0.52      0.46      0.49        71\n",
      "           2       0.86      0.83      0.84        71\n",
      "           3       0.83      0.77      0.80        74\n",
      "           4       0.75      0.89      0.81        54\n",
      "           5       0.78      0.79      0.79        58\n",
      "           6       0.87      0.86      0.87        79\n",
      "           7       0.76      0.90      0.83        72\n",
      "           8       0.93      0.93      0.93        69\n",
      "           9       0.71      0.81      0.76        64\n",
      "          10       0.68      0.68      0.68        68\n",
      "          11       0.66      0.68      0.67        68\n",
      "          12       0.67      0.69      0.68        55\n",
      "          13       0.67      0.66      0.66        67\n",
      "          14       0.73      0.65      0.69        66\n",
      "          15       0.89      0.83      0.86        48\n",
      "          16       0.89      0.85      0.87        67\n",
      "          17       0.83      0.82      0.82        66\n",
      "          18       0.65      0.69      0.67        62\n",
      "          19       0.65      0.67      0.66        64\n",
      "          20       0.62      0.73      0.67        51\n",
      "          21       0.56      0.58      0.57        71\n",
      "          22       0.90      0.82      0.86        73\n",
      "          23       0.82      0.78      0.80        77\n",
      "          24       0.64      0.63      0.63        70\n",
      "          25       0.93      0.96      0.94        68\n",
      "          26       0.51      0.61      0.56        61\n",
      "          27       0.68      0.66      0.67        70\n",
      "          28       0.86      0.80      0.83        74\n",
      "          29       0.81      0.91      0.86        43\n",
      "          30       0.90      0.72      0.80        78\n",
      "          31       0.56      0.64      0.60        55\n",
      "          32       0.73      0.75      0.74        61\n",
      "          33       0.78      0.68      0.73        79\n",
      "          34       0.85      0.77      0.81        81\n",
      "          35       0.81      0.84      0.83        68\n",
      "          36       0.61      0.58      0.59        74\n",
      "          37       0.80      0.71      0.75        66\n",
      "          38       0.78      0.80      0.79        75\n",
      "          39       0.84      0.73      0.78        70\n",
      "          40       0.66      0.77      0.71        69\n",
      "          41       0.71      0.71      0.71        52\n",
      "          42       0.83      0.87      0.85        60\n",
      "          43       0.68      0.70      0.69        70\n",
      "          44       0.72      0.76      0.74        70\n",
      "          45       0.86      0.97      0.91        61\n",
      "          46       0.90      0.88      0.89        80\n",
      "          47       0.78      0.66      0.72        82\n",
      "          48       0.69      0.68      0.69        60\n",
      "          49       0.77      0.80      0.78        70\n",
      "          50       0.51      0.49      0.50        75\n",
      "          51       1.00      0.96      0.98        28\n",
      "          52       0.81      0.73      0.77        64\n",
      "          53       0.56      0.57      0.56        60\n",
      "\n",
      "    accuracy                           0.75      3568\n",
      "   macro avg       0.75      0.75      0.75      3568\n",
      "weighted avg       0.75      0.75      0.75      3568\n",
      "\n"
     ]
    }
   ],
   "source": [
    "from sklearn.tree import DecisionTreeClassifier\n",
    "\n",
    "dt=DecisionTreeClassifier()\n",
    "dt.fit(x_train, y_train)\n",
    "preddt=dt.predict(x_test)\n",
    "print(\"Accuracy \",accuracy_score(y_test, preddt)*100)      #accuracy score\n",
    "print(confusion_matrix(y_test,preddt))\n",
    "print(classification_report(y_test,preddt))"
   ]
  },
  {
   "cell_type": "markdown",
   "id": "6914cbc9",
   "metadata": {},
   "source": [
    "# Using Random Forest Classifier"
   ]
  },
  {
   "cell_type": "code",
   "execution_count": 58,
   "id": "4e76d6d9",
   "metadata": {},
   "outputs": [
    {
     "name": "stdout",
     "output_type": "stream",
     "text": [
      "Accuracy  85.51008968609865\n",
      "[[50  0  0 ...  0  0  0]\n",
      " [ 0 53  0 ...  0  0  0]\n",
      " [ 0  0 66 ...  0  0  0]\n",
      " ...\n",
      " [ 0  0  0 ... 28  0  0]\n",
      " [ 0  0  0 ...  1 57  0]\n",
      " [ 0  1  0 ...  0  0 45]]\n",
      "              precision    recall  f1-score   support\n",
      "\n",
      "           0       0.81      0.85      0.83        59\n",
      "           1       0.69      0.75      0.72        71\n",
      "           2       0.93      0.93      0.93        71\n",
      "           3       0.90      0.84      0.87        74\n",
      "           4       0.90      0.98      0.94        54\n",
      "           5       0.87      0.81      0.84        58\n",
      "           6       0.91      0.94      0.92        79\n",
      "           7       0.85      0.93      0.89        72\n",
      "           8       0.97      0.97      0.97        69\n",
      "           9       0.88      0.91      0.89        64\n",
      "          10       0.80      0.84      0.82        68\n",
      "          11       0.79      0.82      0.81        68\n",
      "          12       0.82      0.93      0.87        55\n",
      "          13       0.87      0.81      0.84        67\n",
      "          14       0.91      0.74      0.82        66\n",
      "          15       0.94      0.94      0.94        48\n",
      "          16       0.97      0.94      0.95        67\n",
      "          17       0.92      0.86      0.89        66\n",
      "          18       0.80      0.82      0.81        62\n",
      "          19       0.77      0.84      0.81        64\n",
      "          20       0.85      0.86      0.85        51\n",
      "          21       0.69      0.80      0.74        71\n",
      "          22       0.92      0.96      0.94        73\n",
      "          23       0.81      0.90      0.85        77\n",
      "          24       0.79      0.66      0.72        70\n",
      "          25       0.97      1.00      0.99        68\n",
      "          26       0.60      0.64      0.62        61\n",
      "          27       0.85      0.89      0.87        70\n",
      "          28       0.97      0.91      0.94        74\n",
      "          29       0.95      0.98      0.97        43\n",
      "          30       0.97      0.85      0.90        78\n",
      "          31       0.66      0.67      0.67        55\n",
      "          32       0.90      0.89      0.89        61\n",
      "          33       0.91      0.85      0.88        79\n",
      "          34       0.95      0.93      0.94        81\n",
      "          35       0.87      0.96      0.91        68\n",
      "          36       0.77      0.69      0.73        74\n",
      "          37       0.89      0.82      0.85        66\n",
      "          38       0.89      0.96      0.92        75\n",
      "          39       0.89      0.90      0.89        70\n",
      "          40       0.85      0.93      0.89        69\n",
      "          41       0.73      0.85      0.79        52\n",
      "          42       0.97      0.95      0.96        60\n",
      "          43       0.85      0.74      0.79        70\n",
      "          44       0.91      0.87      0.89        70\n",
      "          45       0.88      0.93      0.90        61\n",
      "          46       0.94      0.90      0.92        80\n",
      "          47       0.88      0.74      0.81        82\n",
      "          48       0.81      0.72      0.76        60\n",
      "          49       0.79      0.89      0.84        70\n",
      "          50       0.61      0.61      0.61        75\n",
      "          51       0.93      1.00      0.97        28\n",
      "          52       0.92      0.89      0.90        64\n",
      "          53       0.82      0.75      0.78        60\n",
      "\n",
      "    accuracy                           0.86      3568\n",
      "   macro avg       0.86      0.86      0.86      3568\n",
      "weighted avg       0.86      0.86      0.85      3568\n",
      "\n"
     ]
    }
   ],
   "source": [
    "from sklearn.ensemble import RandomForestClassifier\n",
    "\n",
    "rf=RandomForestClassifier()\n",
    "rf.fit(x_train, y_train)\n",
    "predrf=rf.predict(x_test)\n",
    "print(\"Accuracy \",accuracy_score(y_test, predrf)*100)      #accuracy score\n",
    "print(confusion_matrix(y_test,predrf))\n",
    "print(classification_report(y_test,predrf))"
   ]
  },
  {
   "cell_type": "markdown",
   "id": "6a839726",
   "metadata": {},
   "source": [
    "# Using AdaBoost Classifier"
   ]
  },
  {
   "cell_type": "code",
   "execution_count": 59,
   "id": "428bb869",
   "metadata": {},
   "outputs": [
    {
     "name": "stdout",
     "output_type": "stream",
     "text": [
      "Accuracy  5.885650224215247\n",
      "[[1 0 0 ... 0 0 0]\n",
      " [0 0 0 ... 0 0 0]\n",
      " [0 0 0 ... 0 0 0]\n",
      " ...\n",
      " [0 0 0 ... 0 0 0]\n",
      " [0 0 0 ... 0 0 0]\n",
      " [0 0 1 ... 0 0 0]]\n",
      "              precision    recall  f1-score   support\n",
      "\n",
      "           0       0.33      0.02      0.03        59\n",
      "           1       0.00      0.00      0.00        71\n",
      "           2       0.00      0.00      0.00        71\n",
      "           3       0.00      0.00      0.00        74\n",
      "           4       0.00      0.00      0.00        54\n",
      "           5       0.00      0.00      0.00        58\n",
      "           6       0.00      0.00      0.00        79\n",
      "           7       0.00      0.00      0.00        72\n",
      "           8       0.00      0.00      0.00        69\n",
      "           9       0.00      0.00      0.00        64\n",
      "          10       0.00      0.00      0.00        68\n",
      "          11       0.00      0.00      0.00        68\n",
      "          12       0.00      0.00      0.00        55\n",
      "          13       0.00      0.00      0.00        67\n",
      "          14       0.00      0.00      0.00        66\n",
      "          15       0.00      0.00      0.00        48\n",
      "          16       0.00      0.00      0.00        67\n",
      "          17       0.15      0.12      0.13        66\n",
      "          18       0.00      0.00      0.00        62\n",
      "          19       0.00      0.00      0.00        64\n",
      "          20       0.00      0.00      0.00        51\n",
      "          21       0.00      0.00      0.00        71\n",
      "          22       0.00      0.00      0.00        73\n",
      "          23       0.32      0.35      0.34        77\n",
      "          24       0.00      0.00      0.00        70\n",
      "          25       0.00      0.00      0.00        68\n",
      "          26       0.03      0.98      0.05        61\n",
      "          27       0.11      0.53      0.18        70\n",
      "          28       0.00      0.00      0.00        74\n",
      "          29       0.00      0.00      0.00        43\n",
      "          30       0.12      0.91      0.21        78\n",
      "          31       0.00      0.00      0.00        55\n",
      "          32       0.00      0.00      0.00        61\n",
      "          33       0.00      0.00      0.00        79\n",
      "          34       0.00      0.00      0.00        81\n",
      "          35       0.02      0.09      0.04        68\n",
      "          36       0.00      0.00      0.00        74\n",
      "          37       0.00      0.00      0.00        66\n",
      "          38       0.00      0.00      0.00        75\n",
      "          39       0.00      0.00      0.00        70\n",
      "          40       0.00      0.00      0.00        69\n",
      "          41       0.00      0.00      0.00        52\n",
      "          42       0.00      0.00      0.00        60\n",
      "          43       0.00      0.00      0.00        70\n",
      "          44       0.00      0.00      0.00        70\n",
      "          45       0.00      0.00      0.00        61\n",
      "          46       0.00      0.00      0.00        80\n",
      "          47       0.00      0.00      0.00        82\n",
      "          48       0.00      0.00      0.00        60\n",
      "          49       0.00      0.00      0.00        70\n",
      "          50       0.00      0.00      0.00        75\n",
      "          51       0.00      0.00      0.00        28\n",
      "          52       0.00      0.00      0.00        64\n",
      "          53       0.00      0.00      0.00        60\n",
      "\n",
      "    accuracy                           0.06      3568\n",
      "   macro avg       0.02      0.06      0.02      3568\n",
      "weighted avg       0.02      0.06      0.02      3568\n",
      "\n"
     ]
    }
   ],
   "source": [
    "from sklearn.ensemble import AdaBoostClassifier\n",
    "\n",
    "ada=AdaBoostClassifier()\n",
    "ada.fit(x_train, y_train)\n",
    "predada=ada.predict(x_test)\n",
    "print(\"Accuracy \",accuracy_score(y_test, predada)*100)      #accuracy score\n",
    "print(confusion_matrix(y_test,predada))\n",
    "print(classification_report(y_test,predada))"
   ]
  },
  {
   "cell_type": "markdown",
   "id": "736aaa2a",
   "metadata": {},
   "source": [
    "# Using Gradient Boosting Classifier"
   ]
  },
  {
   "cell_type": "code",
   "execution_count": 60,
   "id": "6214ecd2",
   "metadata": {},
   "outputs": [
    {
     "name": "stdout",
     "output_type": "stream",
     "text": [
      "Accuracy  76.82174887892377\n",
      "[[46  0  0 ...  0  0  0]\n",
      " [ 0 40  0 ...  0  0  0]\n",
      " [ 0  0 61 ...  0  0  1]\n",
      " ...\n",
      " [ 0  0  0 ... 27  0  0]\n",
      " [ 0  0  0 ...  0 56  0]\n",
      " [ 0  3  0 ...  0  0 36]]\n",
      "              precision    recall  f1-score   support\n",
      "\n",
      "           0       0.75      0.78      0.77        59\n",
      "           1       0.53      0.56      0.54        71\n",
      "           2       0.87      0.86      0.87        71\n",
      "           3       0.80      0.74      0.77        74\n",
      "           4       0.81      0.87      0.84        54\n",
      "           5       0.69      0.76      0.72        58\n",
      "           6       0.91      0.89      0.90        79\n",
      "           7       0.78      0.88      0.82        72\n",
      "           8       0.97      0.94      0.96        69\n",
      "           9       0.84      0.80      0.82        64\n",
      "          10       0.65      0.78      0.71        68\n",
      "          11       0.69      0.75      0.72        68\n",
      "          12       0.70      0.80      0.75        55\n",
      "          13       0.69      0.76      0.72        67\n",
      "          14       0.70      0.64      0.67        66\n",
      "          15       0.90      0.94      0.92        48\n",
      "          16       0.94      0.91      0.92        67\n",
      "          17       0.93      0.86      0.90        66\n",
      "          18       0.70      0.74      0.72        62\n",
      "          19       0.70      0.75      0.72        64\n",
      "          20       0.80      0.76      0.78        51\n",
      "          21       0.51      0.55      0.53        71\n",
      "          22       0.97      0.82      0.89        73\n",
      "          23       0.77      0.79      0.78        77\n",
      "          24       0.68      0.61      0.65        70\n",
      "          25       0.96      1.00      0.98        68\n",
      "          26       0.51      0.46      0.48        61\n",
      "          27       0.75      0.76      0.75        70\n",
      "          28       0.89      0.84      0.86        74\n",
      "          29       0.88      0.86      0.87        43\n",
      "          30       0.94      0.74      0.83        78\n",
      "          31       0.55      0.58      0.57        55\n",
      "          32       0.85      0.84      0.84        61\n",
      "          33       0.81      0.73      0.77        79\n",
      "          34       0.87      0.83      0.85        81\n",
      "          35       0.83      0.84      0.83        68\n",
      "          36       0.67      0.55      0.61        74\n",
      "          37       0.72      0.62      0.67        66\n",
      "          38       0.75      0.79      0.77        75\n",
      "          39       0.79      0.84      0.81        70\n",
      "          40       0.66      0.86      0.75        69\n",
      "          41       0.62      0.77      0.68        52\n",
      "          42       0.93      0.87      0.90        60\n",
      "          43       0.66      0.61      0.64        70\n",
      "          44       0.80      0.80      0.80        70\n",
      "          45       0.85      0.95      0.90        61\n",
      "          46       0.85      0.89      0.87        80\n",
      "          47       0.72      0.70      0.71        82\n",
      "          48       0.64      0.65      0.64        60\n",
      "          49       0.80      0.86      0.83        70\n",
      "          50       0.57      0.45      0.50        75\n",
      "          51       1.00      0.96      0.98        28\n",
      "          52       0.84      0.88      0.85        64\n",
      "          53       0.77      0.60      0.67        60\n",
      "\n",
      "    accuracy                           0.77      3568\n",
      "   macro avg       0.77      0.77      0.77      3568\n",
      "weighted avg       0.77      0.77      0.77      3568\n",
      "\n"
     ]
    }
   ],
   "source": [
    "from sklearn.ensemble import GradientBoostingClassifier\n",
    "\n",
    "gbdt= GradientBoostingClassifier()\n",
    "gbdt.fit(x_train, y_train)\n",
    "gbdt_pred=gbdt.predict(x_test)\n",
    "print(\"Accuracy \",accuracy_score(y_test, gbdt_pred)*100)      #accuracy score\n",
    "print(confusion_matrix(y_test,gbdt_pred))\n",
    "print(classification_report(y_test,gbdt_pred))"
   ]
  },
  {
   "cell_type": "markdown",
   "id": "41b96f63",
   "metadata": {},
   "source": [
    "# Using SVC"
   ]
  },
  {
   "cell_type": "code",
   "execution_count": 61,
   "id": "c92fa0ab",
   "metadata": {},
   "outputs": [
    {
     "name": "stdout",
     "output_type": "stream",
     "text": [
      "Accuracy  66.67600896860986\n",
      "[[37  0  0 ...  0  0  0]\n",
      " [ 0 30  0 ...  0  0  1]\n",
      " [ 0  0 67 ...  0  0  0]\n",
      " ...\n",
      " [ 0  0  0 ... 28  0  0]\n",
      " [ 0  0  0 ...  1 55  0]\n",
      " [ 0  0  1 ...  0  0 29]]\n",
      "              precision    recall  f1-score   support\n",
      "\n",
      "           0       0.61      0.63      0.62        59\n",
      "           1       0.45      0.42      0.44        71\n",
      "           2       0.81      0.94      0.87        71\n",
      "           3       0.73      0.64      0.68        74\n",
      "           4       0.75      0.85      0.80        54\n",
      "           5       0.64      0.74      0.69        58\n",
      "           6       0.93      0.72      0.81        79\n",
      "           7       0.58      0.78      0.67        72\n",
      "           8       0.89      0.90      0.89        69\n",
      "           9       0.62      0.70      0.66        64\n",
      "          10       0.47      0.51      0.49        68\n",
      "          11       0.53      0.82      0.65        68\n",
      "          12       0.59      0.85      0.70        55\n",
      "          13       0.72      0.51      0.60        67\n",
      "          14       0.54      0.53      0.53        66\n",
      "          15       0.89      0.69      0.78        48\n",
      "          16       0.92      0.91      0.92        67\n",
      "          17       0.78      0.82      0.80        66\n",
      "          18       0.76      0.42      0.54        62\n",
      "          19       0.49      0.61      0.55        64\n",
      "          20       0.70      0.75      0.72        51\n",
      "          21       0.38      0.51      0.44        71\n",
      "          22       0.90      0.89      0.90        73\n",
      "          23       0.64      0.68      0.66        77\n",
      "          24       0.73      0.61      0.67        70\n",
      "          25       0.80      0.97      0.87        68\n",
      "          26       0.51      0.44      0.47        61\n",
      "          27       0.69      0.54      0.61        70\n",
      "          28       0.90      0.84      0.87        74\n",
      "          29       0.83      0.91      0.87        43\n",
      "          30       0.81      0.59      0.68        78\n",
      "          31       0.38      0.60      0.47        55\n",
      "          32       0.83      0.74      0.78        61\n",
      "          33       0.65      0.56      0.60        79\n",
      "          34       0.56      0.74      0.64        81\n",
      "          35       0.66      0.79      0.72        68\n",
      "          36       0.44      0.19      0.26        74\n",
      "          37       0.56      0.45      0.50        66\n",
      "          38       0.68      0.71      0.69        75\n",
      "          39       0.69      0.77      0.73        70\n",
      "          40       0.45      0.70      0.55        69\n",
      "          41       0.42      0.73      0.54        52\n",
      "          42       0.91      0.82      0.86        60\n",
      "          43       0.55      0.37      0.44        70\n",
      "          44       0.72      0.76      0.74        70\n",
      "          45       0.79      0.87      0.83        61\n",
      "          46       0.88      0.65      0.75        80\n",
      "          47       0.76      0.50      0.60        82\n",
      "          48       0.67      0.48      0.56        60\n",
      "          49       0.81      0.84      0.83        70\n",
      "          50       0.43      0.13      0.20        75\n",
      "          51       0.93      1.00      0.97        28\n",
      "          52       0.67      0.86      0.75        64\n",
      "          53       0.67      0.48      0.56        60\n",
      "\n",
      "    accuracy                           0.67      3568\n",
      "   macro avg       0.68      0.68      0.67      3568\n",
      "weighted avg       0.68      0.67      0.66      3568\n",
      "\n"
     ]
    }
   ],
   "source": [
    "from sklearn.svm import SVC\n",
    "\n",
    "svc=SVC()\n",
    "svc.fit(x_train, y_train)\n",
    "ad_pred=svc.predict(x_test)\n",
    "print(\"Accuracy \",accuracy_score(y_test, ad_pred)*100)      #accuracy score\n",
    "print(confusion_matrix(y_test,ad_pred))\n",
    "print(classification_report(y_test,ad_pred))"
   ]
  },
  {
   "cell_type": "markdown",
   "id": "41acb530",
   "metadata": {},
   "source": [
    "# Cross Validation"
   ]
  },
  {
   "cell_type": "code",
   "execution_count": 62,
   "id": "563a9a30",
   "metadata": {},
   "outputs": [
    {
     "name": "stdout",
     "output_type": "stream",
     "text": [
      "Cross validation score of Logistic Regression:  0.08699746429967779\n"
     ]
    }
   ],
   "source": [
    "from sklearn.model_selection import cross_val_score\n",
    "\n",
    "#validation accuracy\n",
    "scr=cross_val_score(LR,x_c,y_c,cv=5)\n",
    "print(\"Cross validation score of Logistic Regression: \", scr.mean())"
   ]
  },
  {
   "cell_type": "code",
   "execution_count": 63,
   "id": "03e67a4c",
   "metadata": {},
   "outputs": [
    {
     "name": "stdout",
     "output_type": "stream",
     "text": [
      "Cross validation score of KNeighbor Classifier:  0.3768217410216471\n"
     ]
    }
   ],
   "source": [
    "scr2=cross_val_score(kn,x_c,y_c,cv=5)\n",
    "print(\"Cross validation score of KNeighbor Classifier: \", scr2.mean())"
   ]
  },
  {
   "cell_type": "code",
   "execution_count": 64,
   "id": "078b3be3",
   "metadata": {},
   "outputs": [
    {
     "name": "stdout",
     "output_type": "stream",
     "text": [
      "Cross validation score of Decision Tree Classifier:  0.503915548104762\n"
     ]
    }
   ],
   "source": [
    "scr3=cross_val_score(dt,x_c,y_c,cv=5)\n",
    "print(\"Cross validation score of Decision Tree Classifier: \", scr3.mean())"
   ]
  },
  {
   "cell_type": "code",
   "execution_count": 65,
   "id": "f221360f",
   "metadata": {},
   "outputs": [
    {
     "name": "stdout",
     "output_type": "stream",
     "text": [
      "Cross validation score of Random Forest Classifier:  0.6279202040126168\n"
     ]
    }
   ],
   "source": [
    "scr4=cross_val_score(rf,x_c,y_c,cv=5)\n",
    "print(\"Cross validation score of Random Forest Classifier: \", scr4.mean())"
   ]
  },
  {
   "cell_type": "code",
   "execution_count": 66,
   "id": "79dbabb4",
   "metadata": {},
   "outputs": [
    {
     "name": "stdout",
     "output_type": "stream",
     "text": [
      "Cross validation score of Ada Boost Classifier:  0.05056614821212384\n"
     ]
    }
   ],
   "source": [
    "scr5=cross_val_score(ada,x_c,y_c,cv=5)\n",
    "print(\"Cross validation score of Ada Boost Classifier: \", scr5.mean())"
   ]
  },
  {
   "cell_type": "code",
   "execution_count": 67,
   "id": "cb037438",
   "metadata": {},
   "outputs": [
    {
     "name": "stdout",
     "output_type": "stream",
     "text": [
      "Cross validation score of Gradient Boost Classifier:  0.5659179467741794\n"
     ]
    }
   ],
   "source": [
    "scr6=cross_val_score(gbdt,x_c,y_c,cv=5)\n",
    "print(\"Cross validation score of Gradient Boost Classifier: \", scr6.mean())"
   ]
  },
  {
   "cell_type": "code",
   "execution_count": 68,
   "id": "64760050",
   "metadata": {},
   "outputs": [
    {
     "name": "stdout",
     "output_type": "stream",
     "text": [
      "Cross validation score of SVC model:  0.21435238440060295\n"
     ]
    }
   ],
   "source": [
    "scr7=cross_val_score(svc,x_c,y_c,cv=5)\n",
    "print(\"Cross validation score of SVC model: \", scr7.mean())"
   ]
  },
  {
   "cell_type": "markdown",
   "id": "3f370f40",
   "metadata": {},
   "source": [
    "# \n",
    "Random Forest Classifier is performing better, hence it is carried forward"
   ]
  },
  {
   "cell_type": "markdown",
   "id": "12058be8",
   "metadata": {},
   "source": [
    "# Hyper Parameter Tuning"
   ]
  },
  {
   "cell_type": "code",
   "execution_count": 69,
   "id": "03e1f999",
   "metadata": {},
   "outputs": [
    {
     "data": {
      "text/plain": [
       "RandomForestClassifier()"
      ]
     },
     "execution_count": 69,
     "metadata": {},
     "output_type": "execute_result"
    }
   ],
   "source": [
    "RandomForestClassifier()"
   ]
  },
  {
   "cell_type": "code",
   "execution_count": 71,
   "id": "be791b06",
   "metadata": {},
   "outputs": [],
   "source": [
    "from sklearn.model_selection import GridSearchCV\n",
    "\n",
    "#Creating parameter list to pass in GridSearchCV\n",
    "parameters={'max_features':['auto','sqrt','log2'], 'max_depth':[4,5,6,7,8], 'criterion':['gini', 'entropy']}"
   ]
  },
  {
   "cell_type": "code",
   "execution_count": 72,
   "id": "35f18237",
   "metadata": {},
   "outputs": [
    {
     "data": {
      "text/plain": [
       "{'criterion': 'entropy', 'max_depth': 8, 'max_features': 'auto'}"
      ]
     },
     "execution_count": 72,
     "metadata": {},
     "output_type": "execute_result"
    }
   ],
   "source": [
    "GCV=GridSearchCV(RandomForestClassifier(), parameters, cv=5, scoring=\"accuracy\")\n",
    "GCV.fit(x_train,y_train)       #fitting data in the model\n",
    "GCV.best_params_               #printing the best parameters found in GridSearchCV"
   ]
  },
  {
   "cell_type": "code",
   "execution_count": 73,
   "id": "c8c97f74",
   "metadata": {},
   "outputs": [
    {
     "data": {
      "text/plain": [
       "RandomForestClassifier(criterion='entropy', max_depth=8)"
      ]
     },
     "execution_count": 73,
     "metadata": {},
     "output_type": "execute_result"
    }
   ],
   "source": [
    "GCV.best_estimator_"
   ]
  },
  {
   "cell_type": "code",
   "execution_count": 74,
   "id": "ff83c68e",
   "metadata": {},
   "outputs": [
    {
     "data": {
      "text/plain": [
       "0.7242152466367713"
      ]
     },
     "execution_count": 74,
     "metadata": {},
     "output_type": "execute_result"
    }
   ],
   "source": [
    "GCV_pred=GCV.best_estimator_.predict(x_test)        #Predicting with best parameters\n",
    "accuracy_score(y_test,GCV_pred) "
   ]
  },
  {
   "cell_type": "markdown",
   "id": "c897aa4b",
   "metadata": {},
   "source": [
    "# \n",
    "Final Accuracy is 72.4% , which depicts that our model is working well"
   ]
  },
  {
   "cell_type": "markdown",
   "id": "4dae7ae0",
   "metadata": {},
   "source": [
    "# Saving the Random Forest Classifier Model for Prediction 1- region"
   ]
  },
  {
   "cell_type": "code",
   "execution_count": 75,
   "id": "e40727c1",
   "metadata": {},
   "outputs": [],
   "source": [
    "filename='Avocado- region.pkl'\n",
    "pickle.dump(GCV, open(filename,'wb'))"
   ]
  },
  {
   "cell_type": "markdown",
   "id": "41dbdb06",
   "metadata": {},
   "source": [
    "# Prediction 2- AveragePrice (As the data is continuous, regression models are used)"
   ]
  },
  {
   "cell_type": "markdown",
   "id": "cb0ddd29",
   "metadata": {},
   "source": [
    "# Divide Data Set into features and labels"
   ]
  },
  {
   "cell_type": "code",
   "execution_count": 76,
   "id": "06a56b0f",
   "metadata": {},
   "outputs": [],
   "source": [
    "y_r=data_new['AveragePrice']\n",
    "x_r=data_new.drop(columns=['AveragePrice'])"
   ]
  },
  {
   "cell_type": "code",
   "execution_count": 77,
   "id": "1be51f60",
   "metadata": {},
   "outputs": [
    {
     "data": {
      "text/plain": [
       "4770            4.759495\n",
       "4046            4.422120\n",
       "4225            4.104196\n",
       "Total Volume    3.661159\n",
       "year            0.221195\n",
       "Month           0.111748\n",
       "Day             0.012527\n",
       "region          0.012062\n",
       "type           -0.016371\n",
       "dtype: float64"
      ]
     },
     "execution_count": 77,
     "metadata": {},
     "output_type": "execute_result"
    }
   ],
   "source": [
    "#Confirming the skewness\n",
    "x_r.skew().sort_values(ascending=False)"
   ]
  },
  {
   "cell_type": "markdown",
   "id": "f55af589",
   "metadata": {},
   "source": [
    "# Transforming Data to remove skewness"
   ]
  },
  {
   "cell_type": "code",
   "execution_count": 78,
   "id": "db0f862c",
   "metadata": {},
   "outputs": [],
   "source": [
    "from sklearn.preprocessing import power_transform\n",
    "x_nr=power_transform(x_r)"
   ]
  },
  {
   "cell_type": "code",
   "execution_count": 79,
   "id": "e46051b7",
   "metadata": {},
   "outputs": [
    {
     "data": {
      "text/plain": [
       "year            0.218938\n",
       "4770            0.021469\n",
       "Total Volume   -0.004873\n",
       "type           -0.016371\n",
       "4046           -0.037293\n",
       "4225           -0.044029\n",
       "Month          -0.145247\n",
       "Day            -0.208499\n",
       "region         -0.258077\n",
       "dtype: float64"
      ]
     },
     "execution_count": 79,
     "metadata": {},
     "output_type": "execute_result"
    }
   ],
   "source": [
    "#Checking if skewness was rectified\n",
    "x_skew_r=pd.DataFrame(x_nr, columns=x_r.columns)\n",
    "x_skew_r.skew().sort_values(ascending=False)"
   ]
  },
  {
   "cell_type": "markdown",
   "id": "c61cef8f",
   "metadata": {},
   "source": [
    "# Scaling the data"
   ]
  },
  {
   "cell_type": "code",
   "execution_count": 80,
   "id": "df73b9c2",
   "metadata": {},
   "outputs": [],
   "source": [
    "scaler=StandardScaler()\n",
    "X_scaled_r=scaler.fit_transform(x_skew_r)"
   ]
  },
  {
   "cell_type": "markdown",
   "id": "f9fbc7a3",
   "metadata": {},
   "source": [
    "# Using Linear Regression Model"
   ]
  },
  {
   "cell_type": "code",
   "execution_count": 81,
   "id": "52f348b4",
   "metadata": {},
   "outputs": [
    {
     "name": "stdout",
     "output_type": "stream",
     "text": [
      "At random state  0 the training accuracy is:-  0.520671141894802\n",
      "At random state  0 the testing accuracy is:-  0.5126714457863919\n",
      "\n",
      "\n",
      "At random state  1 the training accuracy is:-  0.5200663109801625\n",
      "At random state  1 the testing accuracy is:-  0.5151502459017135\n",
      "\n",
      "\n",
      "At random state  2 the training accuracy is:-  0.5189835191730021\n",
      "At random state  2 the testing accuracy is:-  0.5191890066541867\n",
      "\n",
      "\n",
      "At random state  3 the training accuracy is:-  0.5176137233670431\n",
      "At random state  3 the testing accuracy is:-  0.5245396055853542\n",
      "\n",
      "\n",
      "At random state  4 the training accuracy is:-  0.5203392267247858\n",
      "At random state  4 the testing accuracy is:-  0.5139948962629262\n",
      "\n",
      "\n",
      "At random state  5 the training accuracy is:-  0.5229190989246372\n",
      "At random state  5 the testing accuracy is:-  0.5035194629897901\n",
      "\n",
      "\n",
      "At random state  6 the training accuracy is:-  0.5183639462318622\n",
      "At random state  6 the testing accuracy is:-  0.5215948855175468\n",
      "\n",
      "\n",
      "At random state  7 the training accuracy is:-  0.516723921892495\n",
      "At random state  7 the testing accuracy is:-  0.5281523663581402\n",
      "\n",
      "\n",
      "At random state  8 the training accuracy is:-  0.5215039178049692\n",
      "At random state  8 the testing accuracy is:-  0.5091653999968407\n",
      "\n",
      "\n",
      "At random state  9 the training accuracy is:-  0.5209853166719163\n",
      "At random state  9 the testing accuracy is:-  0.5110107226331027\n",
      "\n",
      "\n",
      "At random state  10 the training accuracy is:-  0.5147734934542223\n",
      "At random state  10 the testing accuracy is:-  0.5363194081855625\n",
      "\n",
      "\n",
      "At random state  11 the training accuracy is:-  0.5172295254640885\n",
      "At random state  11 the testing accuracy is:-  0.5268427068945657\n",
      "\n",
      "\n",
      "At random state  12 the training accuracy is:-  0.518542322821073\n",
      "At random state  12 the testing accuracy is:-  0.5212708845777401\n",
      "\n",
      "\n",
      "At random state  13 the training accuracy is:-  0.5157631998302579\n",
      "At random state  13 the testing accuracy is:-  0.5319676781503047\n",
      "\n",
      "\n",
      "At random state  14 the training accuracy is:-  0.513637694799298\n",
      "At random state  14 the testing accuracy is:-  0.5396988390818561\n",
      "\n",
      "\n",
      "At random state  15 the training accuracy is:-  0.5160986690388774\n",
      "At random state  15 the testing accuracy is:-  0.5302333886946282\n",
      "\n",
      "\n",
      "At random state  16 the training accuracy is:-  0.5164024639383278\n",
      "At random state  16 the testing accuracy is:-  0.5291502603995897\n",
      "\n",
      "\n",
      "At random state  17 the training accuracy is:-  0.5196174286801504\n",
      "At random state  17 the testing accuracy is:-  0.5166820099668619\n",
      "\n",
      "\n",
      "At random state  18 the training accuracy is:-  0.5184143472298647\n",
      "At random state  18 the testing accuracy is:-  0.5213142391147019\n",
      "\n",
      "\n",
      "At random state  19 the training accuracy is:-  0.5169240163102307\n",
      "At random state  19 the testing accuracy is:-  0.5276731125601515\n",
      "\n",
      "\n",
      "At random state  20 the training accuracy is:-  0.5178444789238861\n",
      "At random state  20 the testing accuracy is:-  0.5234130455657541\n",
      "\n",
      "\n",
      "At random state  21 the training accuracy is:-  0.5212824523981456\n",
      "At random state  21 the testing accuracy is:-  0.5101696089887833\n",
      "\n",
      "\n",
      "At random state  22 the training accuracy is:-  0.5202426868586397\n",
      "At random state  22 the testing accuracy is:-  0.5141734246351917\n",
      "\n",
      "\n",
      "At random state  23 the training accuracy is:-  0.5206017923050239\n",
      "At random state  23 the testing accuracy is:-  0.512872378451774\n",
      "\n",
      "\n",
      "At random state  24 the training accuracy is:-  0.52190309846418\n",
      "At random state  24 the testing accuracy is:-  0.5067056995051279\n",
      "\n",
      "\n",
      "At random state  25 the training accuracy is:-  0.5191977284556915\n",
      "At random state  25 the testing accuracy is:-  0.5185242374517499\n",
      "\n",
      "\n",
      "At random state  26 the training accuracy is:-  0.5195011051608982\n",
      "At random state  26 the testing accuracy is:-  0.5173844732518734\n",
      "\n",
      "\n",
      "At random state  27 the training accuracy is:-  0.5217836074091574\n",
      "At random state  27 the testing accuracy is:-  0.508315173675877\n",
      "\n",
      "\n",
      "At random state  28 the training accuracy is:-  0.5182136540259075\n",
      "At random state  28 the testing accuracy is:-  0.5225026538676483\n",
      "\n",
      "\n",
      "At random state  29 the training accuracy is:-  0.5206104992910991\n",
      "At random state  29 the testing accuracy is:-  0.5132107154889554\n",
      "\n",
      "\n",
      "At random state  30 the training accuracy is:-  0.520655559221159\n",
      "At random state  30 the testing accuracy is:-  0.5127123371219937\n",
      "\n",
      "\n",
      "At random state  31 the training accuracy is:-  0.5211346712107161\n",
      "At random state  31 the testing accuracy is:-  0.5104433195934462\n",
      "\n",
      "\n",
      "At random state  32 the training accuracy is:-  0.5181409264902638\n",
      "At random state  32 the testing accuracy is:-  0.522916603737028\n",
      "\n",
      "\n",
      "At random state  33 the training accuracy is:-  0.5222234695865061\n",
      "At random state  33 the testing accuracy is:-  0.5060752563111014\n",
      "\n",
      "\n",
      "At random state  34 the training accuracy is:-  0.5203240644522021\n",
      "At random state  34 the testing accuracy is:-  0.514018886601795\n",
      "\n",
      "\n",
      "At random state  35 the training accuracy is:-  0.5234334773740145\n",
      "At random state  35 the testing accuracy is:-  0.5012614810693126\n",
      "\n",
      "\n",
      "At random state  36 the training accuracy is:-  0.5230639363898536\n",
      "At random state  36 the testing accuracy is:-  0.502817783515692\n",
      "\n",
      "\n",
      "At random state  37 the training accuracy is:-  0.5165766326670893\n",
      "At random state  37 the testing accuracy is:-  0.5292616947469204\n",
      "\n",
      "\n",
      "At random state  38 the training accuracy is:-  0.5193393627774343\n",
      "At random state  38 the testing accuracy is:-  0.517724474611244\n",
      "\n",
      "\n",
      "At random state  39 the training accuracy is:-  0.521940779436759\n",
      "At random state  39 the testing accuracy is:-  0.5071016141399941\n",
      "\n",
      "\n",
      "At random state  40 the training accuracy is:-  0.5194131293162633\n",
      "At random state  40 the testing accuracy is:-  0.5176008774593912\n",
      "\n",
      "\n",
      "At random state  41 the training accuracy is:-  0.5178025523658607\n",
      "At random state  41 the testing accuracy is:-  0.5241712600248681\n",
      "\n",
      "\n",
      "At random state  42 the training accuracy is:-  0.5191315085689057\n",
      "At random state  42 the testing accuracy is:-  0.5189192452230174\n",
      "\n",
      "\n",
      "At random state  43 the training accuracy is:-  0.5164719557790269\n",
      "At random state  43 the testing accuracy is:-  0.529749118314397\n",
      "\n",
      "\n",
      "At random state  44 the training accuracy is:-  0.5214781120228833\n",
      "At random state  44 the testing accuracy is:-  0.5085618311814613\n",
      "\n",
      "\n",
      "At random state  45 the training accuracy is:-  0.5189515490864322\n",
      "At random state  45 the testing accuracy is:-  0.5195931156472805\n",
      "\n",
      "\n",
      "At random state  46 the training accuracy is:-  0.5164641940922355\n",
      "At random state  46 the testing accuracy is:-  0.5295944503495671\n",
      "\n",
      "\n",
      "At random state  47 the training accuracy is:-  0.5173793367907726\n",
      "At random state  47 the testing accuracy is:-  0.5258116786274174\n",
      "\n",
      "\n",
      "At random state  48 the training accuracy is:-  0.520739245099823\n",
      "At random state  48 the testing accuracy is:-  0.512135883441738\n",
      "\n",
      "\n",
      "At random state  49 the training accuracy is:-  0.5161139454812661\n",
      "At random state  49 the testing accuracy is:-  0.5306788509713033\n",
      "\n",
      "\n",
      "At random state  50 the training accuracy is:-  0.518776310571082\n",
      "At random state  50 the testing accuracy is:-  0.5202173643887968\n",
      "\n",
      "\n",
      "At random state  51 the training accuracy is:-  0.5184151646615482\n",
      "At random state  51 the testing accuracy is:-  0.5217487636136671\n",
      "\n",
      "\n",
      "At random state  52 the training accuracy is:-  0.5156416021676257\n",
      "At random state  52 the testing accuracy is:-  0.531320076680833\n",
      "\n",
      "\n",
      "At random state  53 the training accuracy is:-  0.5222983859218919\n",
      "At random state  53 the testing accuracy is:-  0.5059505358707908\n",
      "\n",
      "\n",
      "At random state  54 the training accuracy is:-  0.5250860805899549\n",
      "At random state  54 the testing accuracy is:-  0.4950390283536359\n",
      "\n",
      "\n",
      "At random state  55 the training accuracy is:-  0.5231995287783575\n",
      "At random state  55 the testing accuracy is:-  0.5018702977250682\n",
      "\n",
      "\n",
      "At random state  56 the training accuracy is:-  0.5190031577364982\n",
      "At random state  56 the testing accuracy is:-  0.5190726403445252\n",
      "\n",
      "\n",
      "At random state  57 the training accuracy is:-  0.5182153011625885\n",
      "At random state  57 the testing accuracy is:-  0.522410454505464\n",
      "\n",
      "\n",
      "At random state  58 the training accuracy is:-  0.5204779780059484\n",
      "At random state  58 the testing accuracy is:-  0.51351295396542\n",
      "\n",
      "\n",
      "At random state  59 the training accuracy is:-  0.5214866992744076\n",
      "At random state  59 the testing accuracy is:-  0.5085790047053085\n",
      "\n",
      "\n",
      "At random state  60 the training accuracy is:-  0.5233026250451958\n",
      "At random state  60 the testing accuracy is:-  0.5020781729987622\n",
      "\n",
      "\n",
      "At random state  61 the training accuracy is:-  0.520720536957701\n",
      "At random state  61 the testing accuracy is:-  0.5121449825371327\n",
      "\n",
      "\n",
      "At random state  62 the training accuracy is:-  0.5198184016062039\n",
      "At random state  62 the testing accuracy is:-  0.5160949933930927\n",
      "\n",
      "\n",
      "At random state  63 the training accuracy is:-  0.520642686550665\n",
      "At random state  63 the testing accuracy is:-  0.5129369688135447\n",
      "\n",
      "\n",
      "At random state  64 the training accuracy is:-  0.5179089867495628\n",
      "At random state  64 the testing accuracy is:-  0.523457430484982\n",
      "\n",
      "\n",
      "At random state  65 the training accuracy is:-  0.5213048084739045\n",
      "At random state  65 the testing accuracy is:-  0.50993597930495\n",
      "\n",
      "\n",
      "At random state  66 the training accuracy is:-  0.5201079575156299\n",
      "At random state  66 the testing accuracy is:-  0.514979966635934\n",
      "\n",
      "\n",
      "At random state  67 the training accuracy is:-  0.5179492754929962\n",
      "At random state  67 the testing accuracy is:-  0.5231551088404415\n",
      "\n",
      "\n",
      "At random state  68 the training accuracy is:-  0.5137976665895897\n",
      "At random state  68 the testing accuracy is:-  0.5385583868266455\n",
      "\n",
      "\n",
      "At random state  69 the training accuracy is:-  0.5126317636464885\n",
      "At random state  69 the testing accuracy is:-  0.545644257060067\n",
      "\n",
      "\n",
      "At random state  70 the training accuracy is:-  0.5193848593105652\n",
      "At random state  70 the testing accuracy is:-  0.5175691275642152\n",
      "\n",
      "\n",
      "At random state  71 the training accuracy is:-  0.5232518379962486\n",
      "At random state  71 the testing accuracy is:-  0.5021314958376046\n",
      "\n",
      "\n",
      "At random state  72 the training accuracy is:-  0.5152609361101228\n",
      "At random state  72 the testing accuracy is:-  0.5342544684220397\n",
      "\n",
      "\n",
      "At random state  73 the training accuracy is:-  0.5208738719781643\n",
      "At random state  73 the testing accuracy is:-  0.5113795705541859\n",
      "\n",
      "\n",
      "At random state  74 the training accuracy is:-  0.5186212987742959\n",
      "At random state  74 the testing accuracy is:-  0.5207337233913213\n",
      "\n",
      "\n",
      "At random state  75 the training accuracy is:-  0.520082401955309\n",
      "At random state  75 the testing accuracy is:-  0.5152125344705456\n",
      "\n",
      "\n",
      "At random state  76 the training accuracy is:-  0.519634157021567\n",
      "At random state  76 the testing accuracy is:-  0.5167900289113538\n",
      "\n",
      "\n",
      "At random state  77 the training accuracy is:-  0.5173142416008887\n",
      "At random state  77 the testing accuracy is:-  0.5257501565351682\n",
      "\n",
      "\n",
      "At random state  78 the training accuracy is:-  0.5209147190965018\n",
      "At random state  78 the testing accuracy is:-  0.5115186288823643\n",
      "\n",
      "\n",
      "At random state  79 the training accuracy is:-  0.5204157993871819\n",
      "At random state  79 the testing accuracy is:-  0.5133665133765701\n",
      "\n",
      "\n",
      "At random state  80 the training accuracy is:-  0.5228699894137621\n",
      "At random state  80 the testing accuracy is:-  0.5040165713259885\n",
      "\n",
      "\n",
      "At random state  81 the training accuracy is:-  0.520010960656913\n",
      "At random state  81 the testing accuracy is:-  0.515121810135315\n",
      "\n",
      "\n",
      "At random state  82 the training accuracy is:-  0.5198615373150886\n",
      "At random state  82 the testing accuracy is:-  0.5158035532380041\n",
      "\n",
      "\n",
      "At random state  83 the training accuracy is:-  0.5191341600465955\n",
      "At random state  83 the testing accuracy is:-  0.5184912504563486\n",
      "\n",
      "\n",
      "At random state  84 the training accuracy is:-  0.5177666126848168\n",
      "At random state  84 the testing accuracy is:-  0.5239850670955204\n",
      "\n",
      "\n",
      "At random state  85 the training accuracy is:-  0.5209969670806354\n",
      "At random state  85 the testing accuracy is:-  0.5110999244622689\n",
      "\n",
      "\n",
      "At random state  86 the training accuracy is:-  0.521656839288839\n",
      "At random state  86 the testing accuracy is:-  0.5087195921529569\n",
      "\n",
      "\n",
      "At random state  87 the training accuracy is:-  0.5181739808258059\n",
      "At random state  87 the testing accuracy is:-  0.522956775302414\n",
      "\n",
      "\n",
      "At random state  88 the training accuracy is:-  0.5186834059001904\n",
      "At random state  88 the testing accuracy is:-  0.5206104401528736\n",
      "\n",
      "\n",
      "At random state  89 the training accuracy is:-  0.5167809087910029\n",
      "At random state  89 the testing accuracy is:-  0.5278163678379453\n",
      "\n",
      "\n",
      "At random state  90 the training accuracy is:-  0.5163906758389454\n",
      "At random state  90 the testing accuracy is:-  0.5296553138606273\n",
      "\n",
      "\n",
      "At random state  91 the training accuracy is:-  0.5134184785016429\n",
      "At random state  91 the testing accuracy is:-  0.5407359197827892\n",
      "\n",
      "\n",
      "At random state  92 the training accuracy is:-  0.5212051691511161\n",
      "At random state  92 the testing accuracy is:-  0.5107114209607078\n",
      "\n",
      "\n",
      "At random state  93 the training accuracy is:-  0.5252687471138568\n",
      "At random state  93 the testing accuracy is:-  0.4936543066895811\n",
      "\n",
      "\n",
      "At random state  94 the training accuracy is:-  0.5194375537720588\n",
      "At random state  94 the testing accuracy is:-  0.5177613173531879\n",
      "\n",
      "\n",
      "At random state  95 the training accuracy is:-  0.5191107039038707\n",
      "At random state  95 the testing accuracy is:-  0.518930698385702\n",
      "\n",
      "\n",
      "At random state  96 the training accuracy is:-  0.5185608320519277\n",
      "At random state  96 the testing accuracy is:-  0.5211451851161997\n",
      "\n",
      "\n",
      "At random state  97 the training accuracy is:-  0.5163846200027468\n",
      "At random state  97 the testing accuracy is:-  0.5287117147606402\n",
      "\n",
      "\n",
      "At random state  98 the training accuracy is:-  0.5202652653462936\n",
      "At random state  98 the testing accuracy is:-  0.5143768741002835\n",
      "\n",
      "\n",
      "At random state  99 the training accuracy is:-  0.5152026929841489\n",
      "At random state  99 the testing accuracy is:-  0.5340126890643946\n",
      "\n",
      "\n"
     ]
    }
   ],
   "source": [
    "from sklearn.linear_model import LinearRegression\n",
    "from sklearn.metrics import r2_score\n",
    "\n",
    "lr=LinearRegression()\n",
    "\n",
    "#Finding Best random state\n",
    "for i in range(0,100):\n",
    "    features_train, features_test, target_train, target_test= train_test_split(X_scaled_r, y_r, test_size=0.2, random_state=i)\n",
    "    lr.fit(features_train, target_train)\n",
    "    pred_train=lr.predict(features_train)\n",
    "    pred_test=lr.predict(features_test)\n",
    "    print(\"At random state \",i, \"the training accuracy is:- \",r2_score(target_train,pred_train))\n",
    "    print(\"At random state \",i, \"the testing accuracy is:- \",r2_score(target_test,pred_test))\n",
    "    print(\"\\n\")"
   ]
  },
  {
   "cell_type": "code",
   "execution_count": 82,
   "id": "08d9e583",
   "metadata": {},
   "outputs": [
    {
     "name": "stdout",
     "output_type": "stream",
     "text": [
      "0.5190726403445252\n"
     ]
    }
   ],
   "source": [
    "#Applying the best random state found(i.e. 56)\n",
    "\n",
    "features_train, features_test, target_train, target_test= train_test_split(X_scaled_r, y_r, test_size=0.2, random_state=56)\n",
    "lr.fit(features_train, target_train)\n",
    "pred_test=lr.predict(features_test)\n",
    "print(r2_score(target_test,pred_test))"
   ]
  },
  {
   "cell_type": "markdown",
   "id": "1b9beda2",
   "metadata": {},
   "source": [
    "# Cross Validation of the model"
   ]
  },
  {
   "cell_type": "code",
   "execution_count": 83,
   "id": "4069bd2a",
   "metadata": {},
   "outputs": [
    {
     "name": "stdout",
     "output_type": "stream",
     "text": [
      "At cross fold  2  the cv score is  -5.355763668074534  and accuracy score for the training is  -0.5245516273268993  and the accuracy score for the testing is  0.5190726403445252\n",
      "\n",
      "\n",
      "At cross fold  3  the cv score is  0.21662481156996316  and accuracy score for the training is  -0.5245516273268993  and the accuracy score for the testing is  0.5190726403445252\n",
      "\n",
      "\n",
      "At cross fold  4  the cv score is  0.12555767872911183  and accuracy score for the training is  -0.5245516273268993  and the accuracy score for the testing is  0.5190726403445252\n",
      "\n",
      "\n",
      "At cross fold  5  the cv score is  0.19910146199342804  and accuracy score for the training is  -0.5245516273268993  and the accuracy score for the testing is  0.5190726403445252\n",
      "\n",
      "\n",
      "At cross fold  6  the cv score is  0.12123875719506005  and accuracy score for the training is  -0.5245516273268993  and the accuracy score for the testing is  0.5190726403445252\n",
      "\n",
      "\n",
      "At cross fold  7  the cv score is  0.1427061216409963  and accuracy score for the training is  -0.5245516273268993  and the accuracy score for the testing is  0.5190726403445252\n",
      "\n",
      "\n",
      "At cross fold  8  the cv score is  0.12182464904190037  and accuracy score for the training is  -0.5245516273268993  and the accuracy score for the testing is  0.5190726403445252\n",
      "\n",
      "\n",
      "At cross fold  9  the cv score is  0.14222413603802414  and accuracy score for the training is  -0.5245516273268993  and the accuracy score for the testing is  0.5190726403445252\n",
      "\n",
      "\n"
     ]
    }
   ],
   "source": [
    "Train_accuracy=r2_score(target_train,pred_train)\n",
    "Test_accuracy=r2_score(target_test,pred_test)\n",
    "\n",
    "from sklearn.model_selection import cross_val_score\n",
    "for j in range(2,10):\n",
    "    cv_score=cross_val_score(lr,X_scaled_r,y_r,cv=j)\n",
    "    cv_mean=cv_score.mean()\n",
    "    print(\"At cross fold \",j,\" the cv score is \", cv_mean,\" and accuracy score for the training is \",Train_accuracy,\" and the accuracy score for the testing is \",Test_accuracy)\n",
    "    print(\"\\n\")"
   ]
  },
  {
   "cell_type": "markdown",
   "id": "20fda161",
   "metadata": {},
   "source": [
    "# \n",
    "Since the number of folds don't have such impact on the accuracy and cv score. So cv=4 is selected\n",
    "\n",
    "Here we have handled the problem of the overfitting and the underfitting by checking the training and testing score"
   ]
  },
  {
   "cell_type": "code",
   "execution_count": 84,
   "id": "ab92377c",
   "metadata": {},
   "outputs": [
    {
     "data": {
      "image/png": "[encoded data removed]",
      "text/plain": [
       "<Figure size 360x360 with 1 Axes>"
      ]
     },
     "metadata": {
      "needs_background": "light"
     },
     "output_type": "display_data"
    }
   ],
   "source": [
    "plt.figure(figsize=(5,5))\n",
    "plt.scatter(x=target_test, y=pred_test)\n",
    "plt.plot(target_test, target_test)\n",
    "plt.xlabel('Actual Number of Wins', fontsize=14)\n",
    "plt.ylabel('Predicted Number of Wins', fontsize=14)\n",
    "plt.title('Linear Regression', fontsize=18)\n",
    "plt.show()"
   ]
  },
  {
   "cell_type": "markdown",
   "id": "252efd0d",
   "metadata": {},
   "source": [
    "# \n",
    "The best fit line passes through most of the points"
   ]
  },
  {
   "cell_type": "markdown",
   "id": "f9912a68",
   "metadata": {},
   "source": [
    "# Regularization"
   ]
  },
  {
   "cell_type": "code",
   "execution_count": 85,
   "id": "5dc1b539",
   "metadata": {},
   "outputs": [
    {
     "name": "stdout",
     "output_type": "stream",
     "text": [
      "{'alpha': 0.0001, 'random_state': 0}\n"
     ]
    }
   ],
   "source": [
    "from sklearn.model_selection import GridSearchCV\n",
    "from sklearn.model_selection import cross_val_score\n",
    "from sklearn.linear_model import Lasso\n",
    "parameters={'alpha':[.0001, .001, .01,.1, 1, 10], 'random_state':list(range(0,10))}\n",
    "ls=Lasso()\n",
    "clf=GridSearchCV(ls,parameters)\n",
    "clf.fit(features_train,target_train)\n",
    "print(clf.best_params_)"
   ]
  },
  {
   "cell_type": "code",
   "execution_count": 86,
   "id": "7bc7e601",
   "metadata": {},
   "outputs": [
    {
     "data": {
      "text/plain": [
       "0.5189763960964533"
      ]
     },
     "execution_count": 86,
     "metadata": {},
     "output_type": "execute_result"
    }
   ],
   "source": [
    "ls=Lasso(alpha=0.0001, random_state=0)\n",
    "ls.fit(features_train,target_train)\n",
    "ls.score(features_train, target_train)\n",
    "pred_ls=ls.predict(features_test)\n",
    "\n",
    "lss=r2_score(target_test,pred_ls)\n",
    "lss"
   ]
  },
  {
   "cell_type": "code",
   "execution_count": 87,
   "id": "020650e6",
   "metadata": {},
   "outputs": [
    {
     "data": {
      "text/plain": [
       "0.1253956953066012"
      ]
     },
     "execution_count": 87,
     "metadata": {},
     "output_type": "execute_result"
    }
   ],
   "source": [
    "cv_score=cross_val_score(ls,X_scaled_r,y_r,cv=4)\n",
    "cv_mean=cv_score.mean()\n",
    "cv_mean"
   ]
  },
  {
   "cell_type": "markdown",
   "id": "037907f0",
   "metadata": {},
   "source": [
    "# Using Random Forest Regressor Model"
   ]
  },
  {
   "cell_type": "code",
   "execution_count": 88,
   "id": "df3fdd52",
   "metadata": {},
   "outputs": [
    {
     "name": "stdout",
     "output_type": "stream",
     "text": [
      "{'criterion': 'mse', 'max_features': 'auto'}\n"
     ]
    }
   ],
   "source": [
    "from sklearn.ensemble import RandomForestRegressor\n",
    "parameters={'criterion':['mse','mae'], 'max_features':[\"auto\", \"sqrt\", \"log2\"]}\n",
    "rf=RandomForestRegressor()\n",
    "clf=GridSearchCV(rf,parameters)\n",
    "clf.fit(features_train,target_train)\n",
    "\n",
    "print(clf.best_params_)"
   ]
  },
  {
   "cell_type": "code",
   "execution_count": 89,
   "id": "3667047f",
   "metadata": {},
   "outputs": [
    {
     "name": "stdout",
     "output_type": "stream",
     "text": [
      "R2 Score:  89.05883385924446\n",
      "Cross Val Score: 13.638341074099353\n"
     ]
    }
   ],
   "source": [
    "rf=RandomForestRegressor(criterion=\"mse\", max_features=\"auto\")\n",
    "rf.fit(features_train, target_train)\n",
    "rf.score(features_train, target_train)\n",
    "pred_decision=rf.predict(features_test)\n",
    "\n",
    "rfs=r2_score(target_test,pred_decision)\n",
    "print('R2 Score: ', rfs*100)\n",
    "\n",
    "rfscore=cross_val_score(rf,X_scaled_r,y_r,cv=4)\n",
    "rfc=rfscore.mean()\n",
    "print(\"Cross Val Score:\", rfc*100)"
   ]
  },
  {
   "cell_type": "markdown",
   "id": "533525e9",
   "metadata": {},
   "source": [
    "# Using Ada Boost Regressor Model"
   ]
  },
  {
   "cell_type": "code",
   "execution_count": 90,
   "id": "9a88d52f",
   "metadata": {},
   "outputs": [
    {
     "name": "stdout",
     "output_type": "stream",
     "text": [
      "{'learning_rate': 0.01, 'n_estimators': 12}\n"
     ]
    }
   ],
   "source": [
    "from sklearn.ensemble import AdaBoostRegressor\n",
    "parameters={'n_estimators':np.arange(10,100), 'learning_rate':np.arange(0.01,0.1)}\n",
    "ad=AdaBoostRegressor()\n",
    "clf=GridSearchCV(ad,parameters)\n",
    "clf.fit(features_train,target_train)\n",
    "\n",
    "print(clf.best_params_)"
   ]
  },
  {
   "cell_type": "code",
   "execution_count": 91,
   "id": "c0664987",
   "metadata": {},
   "outputs": [
    {
     "name": "stdout",
     "output_type": "stream",
     "text": [
      "R2 Score:  46.53639217209625\n",
      "Cross Val Score: -7.497037071574916\n"
     ]
    }
   ],
   "source": [
    "ad=AdaBoostRegressor(n_estimators=12, learning_rate=0.01)\n",
    "ad.fit(features_train, target_train)\n",
    "ad.score(features_train, target_train)\n",
    "pred_decision=ad.predict(features_test)\n",
    "\n",
    "ads=r2_score(target_test,pred_decision)\n",
    "print('R2 Score: ', ads*100)\n",
    "\n",
    "adscore=cross_val_score(ad,X_scaled_r,y_r,cv=4)\n",
    "adc=adscore.mean()\n",
    "print(\"Cross Val Score:\", adc*100)"
   ]
  },
  {
   "cell_type": "markdown",
   "id": "62b48901",
   "metadata": {},
   "source": [
    "# \n",
    "The model accuracy of Random Forest CLassifier is 89% hence it is preferred"
   ]
  },
  {
   "cell_type": "markdown",
   "id": "dd7c038d",
   "metadata": {},
   "source": [
    "# Saving the Random Forest Regressor Model for Prediction 2- AveragePrice"
   ]
  },
  {
   "cell_type": "code",
   "execution_count": 92,
   "id": "e18d89bd",
   "metadata": {},
   "outputs": [],
   "source": [
    "filename='Avocado- AveragePrice.pkl'\n",
    "pickle.dump(rf, open(filename,'wb'))"
   ]
  },
  {
   "cell_type": "code",
   "execution_count": null,
   "id": "9cc9d010",
   "metadata": {},
   "outputs": [],
   "source": []
  }
 ],
 "metadata": {
  "kernelspec": {
   "display_name": "Python 3 (ipykernel)",
   "language": "python",
   "name": "python3"
  },
  "language_info": {
   "codemirror_mode": {
    "name": "ipython",
    "version": 3
   },
   "file_extension": ".py",
   "mimetype": "text/x-python",
   "name": "python",
   "nbconvert_exporter": "python",
   "pygments_lexer": "ipython3",
   "version": "3.9.12"
  }
 },
 "nbformat": 4,
 "nbformat_minor": 5
}
