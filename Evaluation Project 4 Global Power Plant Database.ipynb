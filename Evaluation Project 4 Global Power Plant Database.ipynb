{
 "cells": [
  {
   "cell_type": "markdown",
   "id": "9a1e80d6",
   "metadata": {},
   "source": [
    "# Problem Statement-\n",
    "\n",
    "The Global Power Plant Database is a comprehensive, open source database of power plants around the world. It centralizes power plant data to make it easier to navigate, compare and draw insights for one’s own analysis. The database covers approximately 35,000 power plants from 167 countries and includes thermal plants (e.g. coal, gas, oil, nuclear, biomass, waste, geothermal) and renewables (e.g. hydro, wind, solar). Each power plant is geolocated and entries contain information on plant capacity, generation, ownership, and fuel type. It will be continuously updated as data becomes available.\n",
    "\n",
    "Prediction :   Make two prediction  1) Primary Fuel    2) capacity_mw"
   ]
  },
  {
   "cell_type": "code",
   "execution_count": 64,
   "id": "f7555b61",
   "metadata": {},
   "outputs": [],
   "source": [
    "#Let's start with importing necessary libraries\n",
    "import pandas as pd\n",
    "import numpy as np\n",
    "from sklearn.preprocessing import StandardScaler\n",
    "from sklearn.model_selection import train_test_split\n",
    "import matplotlib.pyplot as plt\n",
    "import seaborn as sns\n",
    "import pickle\n",
    "import warnings\n",
    "warnings.filterwarnings(\"ignore\")"
   ]
  },
  {
   "cell_type": "code",
   "execution_count": 65,
   "id": "29a0412f",
   "metadata": {},
   "outputs": [
    {
     "data": {
      "text/html": [
       "<div>\n",
       "<style scoped>\n",
       "    .dataframe tbody tr th:only-of-type {\n",
       "        vertical-align: middle;\n",
       "    }\n",
       "\n",
       "    .dataframe tbody tr th {\n",
       "        vertical-align: top;\n",
       "    }\n",
       "\n",
       "    .dataframe thead th {\n",
       "        text-align: right;\n",
       "    }\n",
       "</style>\n",
       "<table border=\"1\" class=\"dataframe\">\n",
       "  <thead>\n",
       "    <tr style=\"text-align: right;\">\n",
       "      <th></th>\n",
       "      <th>country</th>\n",
       "      <th>country_long</th>\n",
       "      <th>name</th>\n",
       "      <th>gppd_idnr</th>\n",
       "      <th>capacity_mw</th>\n",
       "      <th>latitude</th>\n",
       "      <th>longitude</th>\n",
       "      <th>primary_fuel</th>\n",
       "      <th>other_fuel1</th>\n",
       "      <th>other_fuel2</th>\n",
       "      <th>...</th>\n",
       "      <th>year_of_capacity_data</th>\n",
       "      <th>generation_gwh_2013</th>\n",
       "      <th>generation_gwh_2014</th>\n",
       "      <th>generation_gwh_2015</th>\n",
       "      <th>generation_gwh_2016</th>\n",
       "      <th>generation_gwh_2017</th>\n",
       "      <th>generation_gwh_2018</th>\n",
       "      <th>generation_gwh_2019</th>\n",
       "      <th>generation_data_source</th>\n",
       "      <th>estimated_generation_gwh</th>\n",
       "    </tr>\n",
       "  </thead>\n",
       "  <tbody>\n",
       "    <tr>\n",
       "      <th>0</th>\n",
       "      <td>IND</td>\n",
       "      <td>India</td>\n",
       "      <td>ACME Solar Tower</td>\n",
       "      <td>WRI1020239</td>\n",
       "      <td>2.5</td>\n",
       "      <td>28.1839</td>\n",
       "      <td>73.2407</td>\n",
       "      <td>Solar</td>\n",
       "      <td>NaN</td>\n",
       "      <td>NaN</td>\n",
       "      <td>...</td>\n",
       "      <td>NaN</td>\n",
       "      <td>NaN</td>\n",
       "      <td>NaN</td>\n",
       "      <td>NaN</td>\n",
       "      <td>NaN</td>\n",
       "      <td>NaN</td>\n",
       "      <td>NaN</td>\n",
       "      <td>NaN</td>\n",
       "      <td>NaN</td>\n",
       "      <td>NaN</td>\n",
       "    </tr>\n",
       "    <tr>\n",
       "      <th>1</th>\n",
       "      <td>IND</td>\n",
       "      <td>India</td>\n",
       "      <td>ADITYA CEMENT WORKS</td>\n",
       "      <td>WRI1019881</td>\n",
       "      <td>98.0</td>\n",
       "      <td>24.7663</td>\n",
       "      <td>74.6090</td>\n",
       "      <td>Coal</td>\n",
       "      <td>NaN</td>\n",
       "      <td>NaN</td>\n",
       "      <td>...</td>\n",
       "      <td>NaN</td>\n",
       "      <td>NaN</td>\n",
       "      <td>NaN</td>\n",
       "      <td>NaN</td>\n",
       "      <td>NaN</td>\n",
       "      <td>NaN</td>\n",
       "      <td>NaN</td>\n",
       "      <td>NaN</td>\n",
       "      <td>NaN</td>\n",
       "      <td>NaN</td>\n",
       "    </tr>\n",
       "    <tr>\n",
       "      <th>2</th>\n",
       "      <td>IND</td>\n",
       "      <td>India</td>\n",
       "      <td>AES Saurashtra Windfarms</td>\n",
       "      <td>WRI1026669</td>\n",
       "      <td>39.2</td>\n",
       "      <td>21.9038</td>\n",
       "      <td>69.3732</td>\n",
       "      <td>Wind</td>\n",
       "      <td>NaN</td>\n",
       "      <td>NaN</td>\n",
       "      <td>...</td>\n",
       "      <td>NaN</td>\n",
       "      <td>NaN</td>\n",
       "      <td>NaN</td>\n",
       "      <td>NaN</td>\n",
       "      <td>NaN</td>\n",
       "      <td>NaN</td>\n",
       "      <td>NaN</td>\n",
       "      <td>NaN</td>\n",
       "      <td>NaN</td>\n",
       "      <td>NaN</td>\n",
       "    </tr>\n",
       "    <tr>\n",
       "      <th>3</th>\n",
       "      <td>IND</td>\n",
       "      <td>India</td>\n",
       "      <td>AGARTALA GT</td>\n",
       "      <td>IND0000001</td>\n",
       "      <td>135.0</td>\n",
       "      <td>23.8712</td>\n",
       "      <td>91.3602</td>\n",
       "      <td>Gas</td>\n",
       "      <td>NaN</td>\n",
       "      <td>NaN</td>\n",
       "      <td>...</td>\n",
       "      <td>2019.0</td>\n",
       "      <td>NaN</td>\n",
       "      <td>617.789264</td>\n",
       "      <td>843.747000</td>\n",
       "      <td>886.004428</td>\n",
       "      <td>663.774500</td>\n",
       "      <td>626.239128</td>\n",
       "      <td>NaN</td>\n",
       "      <td>Central Electricity Authority</td>\n",
       "      <td>NaN</td>\n",
       "    </tr>\n",
       "    <tr>\n",
       "      <th>4</th>\n",
       "      <td>IND</td>\n",
       "      <td>India</td>\n",
       "      <td>AKALTARA TPP</td>\n",
       "      <td>IND0000002</td>\n",
       "      <td>1800.0</td>\n",
       "      <td>21.9603</td>\n",
       "      <td>82.4091</td>\n",
       "      <td>Coal</td>\n",
       "      <td>Oil</td>\n",
       "      <td>NaN</td>\n",
       "      <td>...</td>\n",
       "      <td>2019.0</td>\n",
       "      <td>NaN</td>\n",
       "      <td>3035.550000</td>\n",
       "      <td>5916.370000</td>\n",
       "      <td>6243.000000</td>\n",
       "      <td>5385.579736</td>\n",
       "      <td>7279.000000</td>\n",
       "      <td>NaN</td>\n",
       "      <td>Central Electricity Authority</td>\n",
       "      <td>NaN</td>\n",
       "    </tr>\n",
       "    <tr>\n",
       "      <th>...</th>\n",
       "      <td>...</td>\n",
       "      <td>...</td>\n",
       "      <td>...</td>\n",
       "      <td>...</td>\n",
       "      <td>...</td>\n",
       "      <td>...</td>\n",
       "      <td>...</td>\n",
       "      <td>...</td>\n",
       "      <td>...</td>\n",
       "      <td>...</td>\n",
       "      <td>...</td>\n",
       "      <td>...</td>\n",
       "      <td>...</td>\n",
       "      <td>...</td>\n",
       "      <td>...</td>\n",
       "      <td>...</td>\n",
       "      <td>...</td>\n",
       "      <td>...</td>\n",
       "      <td>...</td>\n",
       "      <td>...</td>\n",
       "      <td>...</td>\n",
       "    </tr>\n",
       "    <tr>\n",
       "      <th>902</th>\n",
       "      <td>IND</td>\n",
       "      <td>India</td>\n",
       "      <td>YERMARUS TPP</td>\n",
       "      <td>IND0000513</td>\n",
       "      <td>1600.0</td>\n",
       "      <td>16.2949</td>\n",
       "      <td>77.3568</td>\n",
       "      <td>Coal</td>\n",
       "      <td>Oil</td>\n",
       "      <td>NaN</td>\n",
       "      <td>...</td>\n",
       "      <td>2019.0</td>\n",
       "      <td>NaN</td>\n",
       "      <td>NaN</td>\n",
       "      <td>0.994875</td>\n",
       "      <td>233.596650</td>\n",
       "      <td>865.400000</td>\n",
       "      <td>686.500000</td>\n",
       "      <td>NaN</td>\n",
       "      <td>Central Electricity Authority</td>\n",
       "      <td>NaN</td>\n",
       "    </tr>\n",
       "    <tr>\n",
       "      <th>903</th>\n",
       "      <td>IND</td>\n",
       "      <td>India</td>\n",
       "      <td>Yelesandra Solar Power Plant</td>\n",
       "      <td>WRI1026222</td>\n",
       "      <td>3.0</td>\n",
       "      <td>12.8932</td>\n",
       "      <td>78.1654</td>\n",
       "      <td>Solar</td>\n",
       "      <td>NaN</td>\n",
       "      <td>NaN</td>\n",
       "      <td>...</td>\n",
       "      <td>NaN</td>\n",
       "      <td>NaN</td>\n",
       "      <td>NaN</td>\n",
       "      <td>NaN</td>\n",
       "      <td>NaN</td>\n",
       "      <td>NaN</td>\n",
       "      <td>NaN</td>\n",
       "      <td>NaN</td>\n",
       "      <td>NaN</td>\n",
       "      <td>NaN</td>\n",
       "    </tr>\n",
       "    <tr>\n",
       "      <th>904</th>\n",
       "      <td>IND</td>\n",
       "      <td>India</td>\n",
       "      <td>Yelisirur wind power project</td>\n",
       "      <td>WRI1026776</td>\n",
       "      <td>25.5</td>\n",
       "      <td>15.2758</td>\n",
       "      <td>75.5811</td>\n",
       "      <td>Wind</td>\n",
       "      <td>NaN</td>\n",
       "      <td>NaN</td>\n",
       "      <td>...</td>\n",
       "      <td>NaN</td>\n",
       "      <td>NaN</td>\n",
       "      <td>NaN</td>\n",
       "      <td>NaN</td>\n",
       "      <td>NaN</td>\n",
       "      <td>NaN</td>\n",
       "      <td>NaN</td>\n",
       "      <td>NaN</td>\n",
       "      <td>NaN</td>\n",
       "      <td>NaN</td>\n",
       "    </tr>\n",
       "    <tr>\n",
       "      <th>905</th>\n",
       "      <td>IND</td>\n",
       "      <td>India</td>\n",
       "      <td>ZAWAR MINES</td>\n",
       "      <td>WRI1019901</td>\n",
       "      <td>80.0</td>\n",
       "      <td>24.3500</td>\n",
       "      <td>73.7477</td>\n",
       "      <td>Coal</td>\n",
       "      <td>NaN</td>\n",
       "      <td>NaN</td>\n",
       "      <td>...</td>\n",
       "      <td>NaN</td>\n",
       "      <td>NaN</td>\n",
       "      <td>NaN</td>\n",
       "      <td>NaN</td>\n",
       "      <td>NaN</td>\n",
       "      <td>NaN</td>\n",
       "      <td>NaN</td>\n",
       "      <td>NaN</td>\n",
       "      <td>NaN</td>\n",
       "      <td>NaN</td>\n",
       "    </tr>\n",
       "    <tr>\n",
       "      <th>906</th>\n",
       "      <td>IND</td>\n",
       "      <td>India</td>\n",
       "      <td>iEnergy Theni Wind Farm</td>\n",
       "      <td>WRI1026761</td>\n",
       "      <td>16.5</td>\n",
       "      <td>9.9344</td>\n",
       "      <td>77.4768</td>\n",
       "      <td>Wind</td>\n",
       "      <td>NaN</td>\n",
       "      <td>NaN</td>\n",
       "      <td>...</td>\n",
       "      <td>NaN</td>\n",
       "      <td>NaN</td>\n",
       "      <td>NaN</td>\n",
       "      <td>NaN</td>\n",
       "      <td>NaN</td>\n",
       "      <td>NaN</td>\n",
       "      <td>NaN</td>\n",
       "      <td>NaN</td>\n",
       "      <td>NaN</td>\n",
       "      <td>NaN</td>\n",
       "    </tr>\n",
       "  </tbody>\n",
       "</table>\n",
       "<p>907 rows × 27 columns</p>\n",
       "</div>"
      ],
      "text/plain": [
       "    country country_long                          name   gppd_idnr  \\\n",
       "0       IND        India              ACME Solar Tower  WRI1020239   \n",
       "1       IND        India           ADITYA CEMENT WORKS  WRI1019881   \n",
       "2       IND        India      AES Saurashtra Windfarms  WRI1026669   \n",
       "3       IND        India                   AGARTALA GT  IND0000001   \n",
       "4       IND        India                  AKALTARA TPP  IND0000002   \n",
       "..      ...          ...                           ...         ...   \n",
       "902     IND        India                  YERMARUS TPP  IND0000513   \n",
       "903     IND        India  Yelesandra Solar Power Plant  WRI1026222   \n",
       "904     IND        India  Yelisirur wind power project  WRI1026776   \n",
       "905     IND        India                   ZAWAR MINES  WRI1019901   \n",
       "906     IND        India       iEnergy Theni Wind Farm  WRI1026761   \n",
       "\n",
       "     capacity_mw  latitude  longitude primary_fuel other_fuel1 other_fuel2  \\\n",
       "0            2.5   28.1839    73.2407        Solar         NaN         NaN   \n",
       "1           98.0   24.7663    74.6090         Coal         NaN         NaN   \n",
       "2           39.2   21.9038    69.3732         Wind         NaN         NaN   \n",
       "3          135.0   23.8712    91.3602          Gas         NaN         NaN   \n",
       "4         1800.0   21.9603    82.4091         Coal         Oil         NaN   \n",
       "..           ...       ...        ...          ...         ...         ...   \n",
       "902       1600.0   16.2949    77.3568         Coal         Oil         NaN   \n",
       "903          3.0   12.8932    78.1654        Solar         NaN         NaN   \n",
       "904         25.5   15.2758    75.5811         Wind         NaN         NaN   \n",
       "905         80.0   24.3500    73.7477         Coal         NaN         NaN   \n",
       "906         16.5    9.9344    77.4768         Wind         NaN         NaN   \n",
       "\n",
       "     ...  year_of_capacity_data  generation_gwh_2013 generation_gwh_2014  \\\n",
       "0    ...                    NaN                  NaN                 NaN   \n",
       "1    ...                    NaN                  NaN                 NaN   \n",
       "2    ...                    NaN                  NaN                 NaN   \n",
       "3    ...                 2019.0                  NaN          617.789264   \n",
       "4    ...                 2019.0                  NaN         3035.550000   \n",
       "..   ...                    ...                  ...                 ...   \n",
       "902  ...                 2019.0                  NaN                 NaN   \n",
       "903  ...                    NaN                  NaN                 NaN   \n",
       "904  ...                    NaN                  NaN                 NaN   \n",
       "905  ...                    NaN                  NaN                 NaN   \n",
       "906  ...                    NaN                  NaN                 NaN   \n",
       "\n",
       "    generation_gwh_2015 generation_gwh_2016 generation_gwh_2017  \\\n",
       "0                   NaN                 NaN                 NaN   \n",
       "1                   NaN                 NaN                 NaN   \n",
       "2                   NaN                 NaN                 NaN   \n",
       "3            843.747000          886.004428          663.774500   \n",
       "4           5916.370000         6243.000000         5385.579736   \n",
       "..                  ...                 ...                 ...   \n",
       "902            0.994875          233.596650          865.400000   \n",
       "903                 NaN                 NaN                 NaN   \n",
       "904                 NaN                 NaN                 NaN   \n",
       "905                 NaN                 NaN                 NaN   \n",
       "906                 NaN                 NaN                 NaN   \n",
       "\n",
       "     generation_gwh_2018  generation_gwh_2019         generation_data_source  \\\n",
       "0                    NaN                  NaN                            NaN   \n",
       "1                    NaN                  NaN                            NaN   \n",
       "2                    NaN                  NaN                            NaN   \n",
       "3             626.239128                  NaN  Central Electricity Authority   \n",
       "4            7279.000000                  NaN  Central Electricity Authority   \n",
       "..                   ...                  ...                            ...   \n",
       "902           686.500000                  NaN  Central Electricity Authority   \n",
       "903                  NaN                  NaN                            NaN   \n",
       "904                  NaN                  NaN                            NaN   \n",
       "905                  NaN                  NaN                            NaN   \n",
       "906                  NaN                  NaN                            NaN   \n",
       "\n",
       "     estimated_generation_gwh  \n",
       "0                         NaN  \n",
       "1                         NaN  \n",
       "2                         NaN  \n",
       "3                         NaN  \n",
       "4                         NaN  \n",
       "..                        ...  \n",
       "902                       NaN  \n",
       "903                       NaN  \n",
       "904                       NaN  \n",
       "905                       NaN  \n",
       "906                       NaN  \n",
       "\n",
       "[907 rows x 27 columns]"
      ]
     },
     "execution_count": 65,
     "metadata": {},
     "output_type": "execute_result"
    }
   ],
   "source": [
    "#Read csv file and convert into Dataframe\n",
    "data=pd.read_csv(\"https://raw.githubusercontent.com/wri/global-power-plant-database/master/source_databases_csv/database_IND.csv\")\n",
    "data"
   ]
  },
  {
   "cell_type": "markdown",
   "id": "a6da2676",
   "metadata": {},
   "source": [
    "# Observation-\n",
    "\n",
    "The features in the above data set are-\n",
    "\n",
    "- latitude     (geolocation in decimal degrees)\n",
    "\n",
    "- longitude    (geolocation in decimal degrees)\n",
    "\n",
    "- commissioning_year (year of plant operation, weighted by unit-capacity when data is available)\n",
    "\n",
    "- geolocation_source  (attribution for geolocation information)\n",
    "\n",
    "- other_fuel1  (energy source used in electricity generation or export)\n",
    "\n",
    "- generation_gwh_2014 (electricity generation in gigawatt-hours reported for the year 2014)\n",
    "\n",
    "- generation_gwh_2015 (electricity generation in gigawatt-hours reported for the year 2015)\n",
    "\n",
    "- generation_gwh_2016 (electricity generation in gigawatt-hours reported for the year 2016)\n",
    "\n",
    "- generation_gwh_2017 (electricity generation in gigawatt-hours reported for the year 2017)\n",
    "\n",
    "- generation_gwh_2018 (electricity generation in gigawatt-hours reported for the year 2018)\n",
    " \n",
    "The label in the given dataset is-\n",
    "\n",
    "- primary_fuel  [Classification] (energy source used in primary electricity generation or export)\n",
    "\n",
    "- capacity_mw   [Regression] (electrical generating capacity in megawatts)\n",
    "\n",
    "The columns not required-\n",
    "\n",
    "- country       (3 character country code corresponding to the ISO 3166-1 alpha-3 specification)\n",
    "         - As the entire column has only India as the country, it has no influence on the model\n",
    "\n",
    "- country_long  (longer form of the country designation)\n",
    "         - As the entire column has only India as the country, it has no influence on the model\n",
    "\n",
    "- name          (name or title of the power plant, generally in Romanized form)\n",
    "         - As each name is unique, it does not influence the model\n",
    "\n",
    "- gppd_idnr     (10 or 12 character identifier for the power plant)\n",
    "         - Each plant has its own unique id, not influencing the model\n",
    "\n",
    "- owner         (majority shareholder of the power plant, generally in Romanized form)\n",
    "         - As the owner of each plant is almost unique, hence not influencing the model\n",
    " \n",
    "- source        (entity reporting the data; could be an organization, report, or document, generally in Romanized form)\n",
    "         - As the source of each plant is almost unique, hence not influencing the model\n",
    "\n",
    "- url           (web document corresponding to the source field)\n",
    "         - Each plant has its own url, not influencing the model\n",
    " \n",
    "- wepp_id       (a reference to a unique plant identifier in the widely-used PLATTS-WEPP database.)\n",
    "         - Each plant has its own unique id, not influencing the model\n",
    "\n",
    "- other_fuel2  (energy source used in electricity generation or export)\n",
    "         - As the column is empty it is safe to drop it\n",
    "\n",
    "- other_fuel3  (energy source used in electricity generation or export)\n",
    "         - As the column is empty it is safe to drop it\n",
    "         \n",
    "- year_of_capacity_data (year the capacity information was reported)\n",
    "         - As the year is 2019 as same for all, will not influence the model\n",
    "\n",
    "- generation_gwh_2013 (electricity generation in gigawatt-hours reported for the year 2013)\n",
    "        - As the column is empty it is safe to drop it\n",
    "\n",
    "- generation_gwh_2019 (electricity generation in gigawatt-hours reported for the year 2019)\n",
    "        - As the column is empty it is safe to drop it\n",
    "\n",
    "- generation_data_source (attribution for the reported generation information)\n",
    "        - As the entire column is filled with one value \"Central Electricity Authority\", it has no significant influence on the model\n",
    "\n",
    "- estimated_generation_gwh (estimated electricity generation in gigawatt-hours)\n",
    "        - As the column is empty it is safe to drop it"
   ]
  },
  {
   "cell_type": "code",
   "execution_count": 66,
   "id": "ab5bdea2",
   "metadata": {},
   "outputs": [
    {
     "data": {
      "text/plain": [
       "(907, 27)"
      ]
     },
     "execution_count": 66,
     "metadata": {},
     "output_type": "execute_result"
    }
   ],
   "source": [
    "#shape of file\n",
    "data.shape"
   ]
  },
  {
   "cell_type": "code",
   "execution_count": 67,
   "id": "9006dd82",
   "metadata": {},
   "outputs": [
    {
     "data": {
      "text/plain": [
       "country                      object\n",
       "country_long                 object\n",
       "name                         object\n",
       "gppd_idnr                    object\n",
       "capacity_mw                 float64\n",
       "latitude                    float64\n",
       "longitude                   float64\n",
       "primary_fuel                 object\n",
       "other_fuel1                  object\n",
       "other_fuel2                  object\n",
       "other_fuel3                 float64\n",
       "commissioning_year          float64\n",
       "owner                        object\n",
       "source                       object\n",
       "url                          object\n",
       "geolocation_source           object\n",
       "wepp_id                     float64\n",
       "year_of_capacity_data       float64\n",
       "generation_gwh_2013         float64\n",
       "generation_gwh_2014         float64\n",
       "generation_gwh_2015         float64\n",
       "generation_gwh_2016         float64\n",
       "generation_gwh_2017         float64\n",
       "generation_gwh_2018         float64\n",
       "generation_gwh_2019         float64\n",
       "generation_data_source       object\n",
       "estimated_generation_gwh    float64\n",
       "dtype: object"
      ]
     },
     "execution_count": 67,
     "metadata": {},
     "output_type": "execute_result"
    }
   ],
   "source": [
    "# Checking for data types of the columns\n",
    "data.dtypes"
   ]
  },
  {
   "cell_type": "markdown",
   "id": "3bd953df",
   "metadata": {},
   "source": [
    "# \n",
    "As there are object datatypes, we will apply encoding techniques"
   ]
  },
  {
   "cell_type": "code",
   "execution_count": 68,
   "id": "9e9ce3b5",
   "metadata": {},
   "outputs": [],
   "source": [
    "#Dropping unnecessary columns as it as no significant influence\n",
    "data=data.drop(columns=[\"country\", \"country_long\", \"name\", \"gppd_idnr\", \"owner\", \"source\", \"url\", \"other_fuel2\", \"other_fuel3\", \"wepp_id\", \"year_of_capacity_data\", \"generation_gwh_2013\", \"generation_gwh_2019\", \"generation_data_source\", \"estimated_generation_gwh\"])"
   ]
  },
  {
   "cell_type": "code",
   "execution_count": 69,
   "id": "df4d5567",
   "metadata": {},
   "outputs": [
    {
     "data": {
      "text/plain": [
       "capacity_mw              0\n",
       "latitude                46\n",
       "longitude               46\n",
       "primary_fuel             0\n",
       "other_fuel1            709\n",
       "commissioning_year     380\n",
       "geolocation_source      19\n",
       "generation_gwh_2014    509\n",
       "generation_gwh_2015    485\n",
       "generation_gwh_2016    473\n",
       "generation_gwh_2017    467\n",
       "generation_gwh_2018    459\n",
       "dtype: int64"
      ]
     },
     "execution_count": 69,
     "metadata": {},
     "output_type": "execute_result"
    }
   ],
   "source": [
    "# Checking for null values\n",
    "data.isnull().sum()"
   ]
  },
  {
   "cell_type": "markdown",
   "id": "791f4ebf",
   "metadata": {},
   "source": [
    "# \n",
    "The null values will be dealt post encoding"
   ]
  },
  {
   "cell_type": "markdown",
   "id": "c10b17c3",
   "metadata": {},
   "source": [
    "# Encoding object data into numeric data"
   ]
  },
  {
   "cell_type": "code",
   "execution_count": 70,
   "id": "579e81fc",
   "metadata": {},
   "outputs": [
    {
     "name": "stdout",
     "output_type": "stream",
     "text": [
      "Coal       258\n",
      "Hydro      251\n",
      "Solar      127\n",
      "Wind       123\n",
      "Gas         69\n",
      "Biomass     50\n",
      "Oil         20\n",
      "Nuclear      9\n",
      "Name: primary_fuel, dtype: int64\n",
      "Oil             195\n",
      "Gas               2\n",
      "Cogeneration      1\n",
      "Name: other_fuel1, dtype: int64\n",
      "WRI                                     765\n",
      "Industry About                          119\n",
      "National Renewable Energy Laboratory      4\n",
      "Name: geolocation_source, dtype: int64\n"
     ]
    }
   ],
   "source": [
    "#Keeping the value counts of the features being encoded prior to encoding them, in order to be able to label them post encoding\n",
    "\n",
    "print(data[\"primary_fuel\"].value_counts())\n",
    "print(data[\"other_fuel1\"].value_counts())\n",
    "print(data[\"geolocation_source\"].value_counts())"
   ]
  },
  {
   "cell_type": "code",
   "execution_count": 71,
   "id": "96416b50",
   "metadata": {},
   "outputs": [],
   "source": [
    "#Encoding the features using LabelEncoder\n",
    "\n",
    "from sklearn.preprocessing import LabelEncoder\n",
    "enc=LabelEncoder()\n",
    "\n",
    "for column in data:\n",
    "    if data[column].dtype=='object':\n",
    "        df=enc.fit_transform(data[column])\n",
    "        data[column]=df"
   ]
  },
  {
   "cell_type": "code",
   "execution_count": 72,
   "id": "b786722c",
   "metadata": {},
   "outputs": [
    {
     "data": {
      "text/html": [
       "<div>\n",
       "<style scoped>\n",
       "    .dataframe tbody tr th:only-of-type {\n",
       "        vertical-align: middle;\n",
       "    }\n",
       "\n",
       "    .dataframe tbody tr th {\n",
       "        vertical-align: top;\n",
       "    }\n",
       "\n",
       "    .dataframe thead th {\n",
       "        text-align: right;\n",
       "    }\n",
       "</style>\n",
       "<table border=\"1\" class=\"dataframe\">\n",
       "  <thead>\n",
       "    <tr style=\"text-align: right;\">\n",
       "      <th></th>\n",
       "      <th>capacity_mw</th>\n",
       "      <th>latitude</th>\n",
       "      <th>longitude</th>\n",
       "      <th>primary_fuel</th>\n",
       "      <th>other_fuel1</th>\n",
       "      <th>commissioning_year</th>\n",
       "      <th>geolocation_source</th>\n",
       "      <th>generation_gwh_2014</th>\n",
       "      <th>generation_gwh_2015</th>\n",
       "      <th>generation_gwh_2016</th>\n",
       "      <th>generation_gwh_2017</th>\n",
       "      <th>generation_gwh_2018</th>\n",
       "    </tr>\n",
       "  </thead>\n",
       "  <tbody>\n",
       "    <tr>\n",
       "      <th>0</th>\n",
       "      <td>2.5</td>\n",
       "      <td>28.1839</td>\n",
       "      <td>73.2407</td>\n",
       "      <td>6</td>\n",
       "      <td>3</td>\n",
       "      <td>2011.0</td>\n",
       "      <td>1</td>\n",
       "      <td>NaN</td>\n",
       "      <td>NaN</td>\n",
       "      <td>NaN</td>\n",
       "      <td>NaN</td>\n",
       "      <td>NaN</td>\n",
       "    </tr>\n",
       "    <tr>\n",
       "      <th>1</th>\n",
       "      <td>98.0</td>\n",
       "      <td>24.7663</td>\n",
       "      <td>74.6090</td>\n",
       "      <td>1</td>\n",
       "      <td>3</td>\n",
       "      <td>NaN</td>\n",
       "      <td>2</td>\n",
       "      <td>NaN</td>\n",
       "      <td>NaN</td>\n",
       "      <td>NaN</td>\n",
       "      <td>NaN</td>\n",
       "      <td>NaN</td>\n",
       "    </tr>\n",
       "    <tr>\n",
       "      <th>2</th>\n",
       "      <td>39.2</td>\n",
       "      <td>21.9038</td>\n",
       "      <td>69.3732</td>\n",
       "      <td>7</td>\n",
       "      <td>3</td>\n",
       "      <td>NaN</td>\n",
       "      <td>2</td>\n",
       "      <td>NaN</td>\n",
       "      <td>NaN</td>\n",
       "      <td>NaN</td>\n",
       "      <td>NaN</td>\n",
       "      <td>NaN</td>\n",
       "    </tr>\n",
       "    <tr>\n",
       "      <th>3</th>\n",
       "      <td>135.0</td>\n",
       "      <td>23.8712</td>\n",
       "      <td>91.3602</td>\n",
       "      <td>2</td>\n",
       "      <td>3</td>\n",
       "      <td>2004.0</td>\n",
       "      <td>2</td>\n",
       "      <td>617.789264</td>\n",
       "      <td>843.747000</td>\n",
       "      <td>886.004428</td>\n",
       "      <td>663.774500</td>\n",
       "      <td>626.239128</td>\n",
       "    </tr>\n",
       "    <tr>\n",
       "      <th>4</th>\n",
       "      <td>1800.0</td>\n",
       "      <td>21.9603</td>\n",
       "      <td>82.4091</td>\n",
       "      <td>1</td>\n",
       "      <td>2</td>\n",
       "      <td>2015.0</td>\n",
       "      <td>2</td>\n",
       "      <td>3035.550000</td>\n",
       "      <td>5916.370000</td>\n",
       "      <td>6243.000000</td>\n",
       "      <td>5385.579736</td>\n",
       "      <td>7279.000000</td>\n",
       "    </tr>\n",
       "    <tr>\n",
       "      <th>...</th>\n",
       "      <td>...</td>\n",
       "      <td>...</td>\n",
       "      <td>...</td>\n",
       "      <td>...</td>\n",
       "      <td>...</td>\n",
       "      <td>...</td>\n",
       "      <td>...</td>\n",
       "      <td>...</td>\n",
       "      <td>...</td>\n",
       "      <td>...</td>\n",
       "      <td>...</td>\n",
       "      <td>...</td>\n",
       "    </tr>\n",
       "    <tr>\n",
       "      <th>902</th>\n",
       "      <td>1600.0</td>\n",
       "      <td>16.2949</td>\n",
       "      <td>77.3568</td>\n",
       "      <td>1</td>\n",
       "      <td>2</td>\n",
       "      <td>2016.0</td>\n",
       "      <td>2</td>\n",
       "      <td>NaN</td>\n",
       "      <td>0.994875</td>\n",
       "      <td>233.596650</td>\n",
       "      <td>865.400000</td>\n",
       "      <td>686.500000</td>\n",
       "    </tr>\n",
       "    <tr>\n",
       "      <th>903</th>\n",
       "      <td>3.0</td>\n",
       "      <td>12.8932</td>\n",
       "      <td>78.1654</td>\n",
       "      <td>6</td>\n",
       "      <td>3</td>\n",
       "      <td>NaN</td>\n",
       "      <td>0</td>\n",
       "      <td>NaN</td>\n",
       "      <td>NaN</td>\n",
       "      <td>NaN</td>\n",
       "      <td>NaN</td>\n",
       "      <td>NaN</td>\n",
       "    </tr>\n",
       "    <tr>\n",
       "      <th>904</th>\n",
       "      <td>25.5</td>\n",
       "      <td>15.2758</td>\n",
       "      <td>75.5811</td>\n",
       "      <td>7</td>\n",
       "      <td>3</td>\n",
       "      <td>NaN</td>\n",
       "      <td>2</td>\n",
       "      <td>NaN</td>\n",
       "      <td>NaN</td>\n",
       "      <td>NaN</td>\n",
       "      <td>NaN</td>\n",
       "      <td>NaN</td>\n",
       "    </tr>\n",
       "    <tr>\n",
       "      <th>905</th>\n",
       "      <td>80.0</td>\n",
       "      <td>24.3500</td>\n",
       "      <td>73.7477</td>\n",
       "      <td>1</td>\n",
       "      <td>3</td>\n",
       "      <td>NaN</td>\n",
       "      <td>2</td>\n",
       "      <td>NaN</td>\n",
       "      <td>NaN</td>\n",
       "      <td>NaN</td>\n",
       "      <td>NaN</td>\n",
       "      <td>NaN</td>\n",
       "    </tr>\n",
       "    <tr>\n",
       "      <th>906</th>\n",
       "      <td>16.5</td>\n",
       "      <td>9.9344</td>\n",
       "      <td>77.4768</td>\n",
       "      <td>7</td>\n",
       "      <td>3</td>\n",
       "      <td>NaN</td>\n",
       "      <td>2</td>\n",
       "      <td>NaN</td>\n",
       "      <td>NaN</td>\n",
       "      <td>NaN</td>\n",
       "      <td>NaN</td>\n",
       "      <td>NaN</td>\n",
       "    </tr>\n",
       "  </tbody>\n",
       "</table>\n",
       "<p>907 rows × 12 columns</p>\n",
       "</div>"
      ],
      "text/plain": [
       "     capacity_mw  latitude  longitude  primary_fuel  other_fuel1  \\\n",
       "0            2.5   28.1839    73.2407             6            3   \n",
       "1           98.0   24.7663    74.6090             1            3   \n",
       "2           39.2   21.9038    69.3732             7            3   \n",
       "3          135.0   23.8712    91.3602             2            3   \n",
       "4         1800.0   21.9603    82.4091             1            2   \n",
       "..           ...       ...        ...           ...          ...   \n",
       "902       1600.0   16.2949    77.3568             1            2   \n",
       "903          3.0   12.8932    78.1654             6            3   \n",
       "904         25.5   15.2758    75.5811             7            3   \n",
       "905         80.0   24.3500    73.7477             1            3   \n",
       "906         16.5    9.9344    77.4768             7            3   \n",
       "\n",
       "     commissioning_year  geolocation_source  generation_gwh_2014  \\\n",
       "0                2011.0                   1                  NaN   \n",
       "1                   NaN                   2                  NaN   \n",
       "2                   NaN                   2                  NaN   \n",
       "3                2004.0                   2           617.789264   \n",
       "4                2015.0                   2          3035.550000   \n",
       "..                  ...                 ...                  ...   \n",
       "902              2016.0                   2                  NaN   \n",
       "903                 NaN                   0                  NaN   \n",
       "904                 NaN                   2                  NaN   \n",
       "905                 NaN                   2                  NaN   \n",
       "906                 NaN                   2                  NaN   \n",
       "\n",
       "     generation_gwh_2015  generation_gwh_2016  generation_gwh_2017  \\\n",
       "0                    NaN                  NaN                  NaN   \n",
       "1                    NaN                  NaN                  NaN   \n",
       "2                    NaN                  NaN                  NaN   \n",
       "3             843.747000           886.004428           663.774500   \n",
       "4            5916.370000          6243.000000          5385.579736   \n",
       "..                   ...                  ...                  ...   \n",
       "902             0.994875           233.596650           865.400000   \n",
       "903                  NaN                  NaN                  NaN   \n",
       "904                  NaN                  NaN                  NaN   \n",
       "905                  NaN                  NaN                  NaN   \n",
       "906                  NaN                  NaN                  NaN   \n",
       "\n",
       "     generation_gwh_2018  \n",
       "0                    NaN  \n",
       "1                    NaN  \n",
       "2                    NaN  \n",
       "3             626.239128  \n",
       "4            7279.000000  \n",
       "..                   ...  \n",
       "902           686.500000  \n",
       "903                  NaN  \n",
       "904                  NaN  \n",
       "905                  NaN  \n",
       "906                  NaN  \n",
       "\n",
       "[907 rows x 12 columns]"
      ]
     },
     "execution_count": 72,
     "metadata": {},
     "output_type": "execute_result"
    }
   ],
   "source": [
    "data"
   ]
  },
  {
   "cell_type": "markdown",
   "id": "f70ffa51",
   "metadata": {},
   "source": [
    "# Observation-\n",
    "\n",
    "The categorical data for the below features have been encoded into numeric based on alphabetic order as follows-\n",
    "\n",
    "- primary_fuel-\n",
    "       - 0- Biomass\n",
    "       - 1- Coal\n",
    "       - 2- Gas\n",
    "       - 3- Hydro\n",
    "       - 4- Nuclear\n",
    "       - 5- Oil\n",
    "       - 6- Solar\n",
    "       - 7- Wind\n",
    "        \n",
    "- other_fuel1-\n",
    "       - 0- Cogeneration\n",
    "       - 1- Gas\n",
    "       - 2- Oil\n",
    "       - 3- Null\n",
    "        \n",
    "- geolocation_source-\n",
    "       - 0- Industry About\n",
    "       - 1- National Renewable Energy Laboratory\n",
    "       - 2- WRI\n",
    "       - 3- Null"
   ]
  },
  {
   "cell_type": "code",
   "execution_count": 73,
   "id": "d2c332b2",
   "metadata": {},
   "outputs": [
    {
     "data": {
      "text/html": [
       "<div>\n",
       "<style scoped>\n",
       "    .dataframe tbody tr th:only-of-type {\n",
       "        vertical-align: middle;\n",
       "    }\n",
       "\n",
       "    .dataframe tbody tr th {\n",
       "        vertical-align: top;\n",
       "    }\n",
       "\n",
       "    .dataframe thead th {\n",
       "        text-align: right;\n",
       "    }\n",
       "</style>\n",
       "<table border=\"1\" class=\"dataframe\">\n",
       "  <thead>\n",
       "    <tr style=\"text-align: right;\">\n",
       "      <th></th>\n",
       "      <th>capacity_mw</th>\n",
       "      <th>latitude</th>\n",
       "      <th>longitude</th>\n",
       "      <th>primary_fuel</th>\n",
       "      <th>other_fuel1</th>\n",
       "      <th>commissioning_year</th>\n",
       "      <th>geolocation_source</th>\n",
       "      <th>generation_gwh_2014</th>\n",
       "      <th>generation_gwh_2015</th>\n",
       "      <th>generation_gwh_2016</th>\n",
       "      <th>generation_gwh_2017</th>\n",
       "      <th>generation_gwh_2018</th>\n",
       "    </tr>\n",
       "  </thead>\n",
       "  <tbody>\n",
       "    <tr>\n",
       "      <th>count</th>\n",
       "      <td>907.000000</td>\n",
       "      <td>861.000000</td>\n",
       "      <td>861.000000</td>\n",
       "      <td>907.000000</td>\n",
       "      <td>907.000000</td>\n",
       "      <td>527.000000</td>\n",
       "      <td>907.000000</td>\n",
       "      <td>398.000000</td>\n",
       "      <td>422.000000</td>\n",
       "      <td>434.000000</td>\n",
       "      <td>440.000000</td>\n",
       "      <td>448.000000</td>\n",
       "    </tr>\n",
       "    <tr>\n",
       "      <th>mean</th>\n",
       "      <td>326.223755</td>\n",
       "      <td>21.197918</td>\n",
       "      <td>77.464907</td>\n",
       "      <td>3.206174</td>\n",
       "      <td>2.777288</td>\n",
       "      <td>1997.091082</td>\n",
       "      <td>1.754135</td>\n",
       "      <td>2431.823590</td>\n",
       "      <td>2428.226946</td>\n",
       "      <td>2467.936859</td>\n",
       "      <td>2547.759305</td>\n",
       "      <td>2600.804099</td>\n",
       "    </tr>\n",
       "    <tr>\n",
       "      <th>std</th>\n",
       "      <td>590.085456</td>\n",
       "      <td>6.239612</td>\n",
       "      <td>4.939316</td>\n",
       "      <td>2.280652</td>\n",
       "      <td>0.429348</td>\n",
       "      <td>17.082868</td>\n",
       "      <td>0.700183</td>\n",
       "      <td>4026.440035</td>\n",
       "      <td>4194.596959</td>\n",
       "      <td>4162.884308</td>\n",
       "      <td>4196.991169</td>\n",
       "      <td>4314.880456</td>\n",
       "    </tr>\n",
       "    <tr>\n",
       "      <th>min</th>\n",
       "      <td>0.000000</td>\n",
       "      <td>8.168900</td>\n",
       "      <td>68.644700</td>\n",
       "      <td>0.000000</td>\n",
       "      <td>0.000000</td>\n",
       "      <td>1927.000000</td>\n",
       "      <td>0.000000</td>\n",
       "      <td>0.000000</td>\n",
       "      <td>0.000000</td>\n",
       "      <td>0.000000</td>\n",
       "      <td>0.000000</td>\n",
       "      <td>0.000000</td>\n",
       "    </tr>\n",
       "    <tr>\n",
       "      <th>25%</th>\n",
       "      <td>16.725000</td>\n",
       "      <td>16.773900</td>\n",
       "      <td>74.256200</td>\n",
       "      <td>1.000000</td>\n",
       "      <td>3.000000</td>\n",
       "      <td>1988.000000</td>\n",
       "      <td>2.000000</td>\n",
       "      <td>223.557672</td>\n",
       "      <td>176.381063</td>\n",
       "      <td>188.285252</td>\n",
       "      <td>177.874930</td>\n",
       "      <td>193.378250</td>\n",
       "    </tr>\n",
       "    <tr>\n",
       "      <th>50%</th>\n",
       "      <td>59.200000</td>\n",
       "      <td>21.780000</td>\n",
       "      <td>76.719500</td>\n",
       "      <td>3.000000</td>\n",
       "      <td>3.000000</td>\n",
       "      <td>2001.000000</td>\n",
       "      <td>2.000000</td>\n",
       "      <td>801.123775</td>\n",
       "      <td>711.181225</td>\n",
       "      <td>737.205450</td>\n",
       "      <td>817.977250</td>\n",
       "      <td>751.644375</td>\n",
       "    </tr>\n",
       "    <tr>\n",
       "      <th>75%</th>\n",
       "      <td>385.250000</td>\n",
       "      <td>25.512400</td>\n",
       "      <td>79.440800</td>\n",
       "      <td>6.000000</td>\n",
       "      <td>3.000000</td>\n",
       "      <td>2012.000000</td>\n",
       "      <td>2.000000</td>\n",
       "      <td>3035.306250</td>\n",
       "      <td>3084.121250</td>\n",
       "      <td>3282.861313</td>\n",
       "      <td>3275.690475</td>\n",
       "      <td>3143.535900</td>\n",
       "    </tr>\n",
       "    <tr>\n",
       "      <th>max</th>\n",
       "      <td>4760.000000</td>\n",
       "      <td>34.649000</td>\n",
       "      <td>95.408000</td>\n",
       "      <td>7.000000</td>\n",
       "      <td>3.000000</td>\n",
       "      <td>2018.000000</td>\n",
       "      <td>3.000000</td>\n",
       "      <td>28127.000000</td>\n",
       "      <td>30539.000000</td>\n",
       "      <td>30015.000000</td>\n",
       "      <td>35116.000000</td>\n",
       "      <td>35136.000000</td>\n",
       "    </tr>\n",
       "  </tbody>\n",
       "</table>\n",
       "</div>"
      ],
      "text/plain": [
       "       capacity_mw    latitude   longitude  primary_fuel  other_fuel1  \\\n",
       "count   907.000000  861.000000  861.000000    907.000000   907.000000   \n",
       "mean    326.223755   21.197918   77.464907      3.206174     2.777288   \n",
       "std     590.085456    6.239612    4.939316      2.280652     0.429348   \n",
       "min       0.000000    8.168900   68.644700      0.000000     0.000000   \n",
       "25%      16.725000   16.773900   74.256200      1.000000     3.000000   \n",
       "50%      59.200000   21.780000   76.719500      3.000000     3.000000   \n",
       "75%     385.250000   25.512400   79.440800      6.000000     3.000000   \n",
       "max    4760.000000   34.649000   95.408000      7.000000     3.000000   \n",
       "\n",
       "       commissioning_year  geolocation_source  generation_gwh_2014  \\\n",
       "count          527.000000          907.000000           398.000000   \n",
       "mean          1997.091082            1.754135          2431.823590   \n",
       "std             17.082868            0.700183          4026.440035   \n",
       "min           1927.000000            0.000000             0.000000   \n",
       "25%           1988.000000            2.000000           223.557672   \n",
       "50%           2001.000000            2.000000           801.123775   \n",
       "75%           2012.000000            2.000000          3035.306250   \n",
       "max           2018.000000            3.000000         28127.000000   \n",
       "\n",
       "       generation_gwh_2015  generation_gwh_2016  generation_gwh_2017  \\\n",
       "count           422.000000           434.000000           440.000000   \n",
       "mean           2428.226946          2467.936859          2547.759305   \n",
       "std            4194.596959          4162.884308          4196.991169   \n",
       "min               0.000000             0.000000             0.000000   \n",
       "25%             176.381063           188.285252           177.874930   \n",
       "50%             711.181225           737.205450           817.977250   \n",
       "75%            3084.121250          3282.861313          3275.690475   \n",
       "max           30539.000000         30015.000000         35116.000000   \n",
       "\n",
       "       generation_gwh_2018  \n",
       "count           448.000000  \n",
       "mean           2600.804099  \n",
       "std            4314.880456  \n",
       "min               0.000000  \n",
       "25%             193.378250  \n",
       "50%             751.644375  \n",
       "75%            3143.535900  \n",
       "max           35136.000000  "
      ]
     },
     "execution_count": 73,
     "metadata": {},
     "output_type": "execute_result"
    }
   ],
   "source": [
    "#Statistical Analysis\n",
    "data.describe()"
   ]
  },
  {
   "cell_type": "markdown",
   "id": "92ed1ca8",
   "metadata": {},
   "source": [
    "# Observation:\n",
    "    \n",
    "- capacity_mw, generation_gwh_2014, generation_gwh_2015, generation_gwh_2016, generation_gwh_2017, generation_gwh_2018 have their minimum values as 0, but that is not possible, hence they are being replaced ny Nan"
   ]
  },
  {
   "cell_type": "markdown",
   "id": "a5c53dc3",
   "metadata": {},
   "source": [
    "# Imputing the null values"
   ]
  },
  {
   "cell_type": "code",
   "execution_count": 74,
   "id": "b50bc7ee",
   "metadata": {},
   "outputs": [],
   "source": [
    "#Replacing the 0 values as NAN to be subjected to imputing\n",
    "\n",
    "data['capacity_mw']=data['capacity_mw'].replace(0,np.nan)\n",
    "data['generation_gwh_2014']=data['generation_gwh_2014'].replace(0,np.nan)\n",
    "data['generation_gwh_2015']=data['generation_gwh_2015'].replace(0,np.nan)\n",
    "data['generation_gwh_2016']=data['generation_gwh_2016'].replace(0,np.nan)\n",
    "data['generation_gwh_2017']=data['generation_gwh_2017'].replace(0,np.nan)\n",
    "data['generation_gwh_2018']=data['generation_gwh_2018'].replace(0,np.nan)"
   ]
  },
  {
   "cell_type": "code",
   "execution_count": 75,
   "id": "ec3106b1",
   "metadata": {},
   "outputs": [],
   "source": [
    "#Replacing the notknown values as NAN to be subjected to imputing\n",
    "\n",
    "data['other_fuel1']=data['other_fuel1'].replace(3,np.nan)\n",
    "data['geolocation_source']=data['geolocation_source'].replace(3,np.nan)"
   ]
  },
  {
   "cell_type": "code",
   "execution_count": 76,
   "id": "4d72d652",
   "metadata": {},
   "outputs": [
    {
     "data": {
      "text/plain": [
       "capacity_mw              1\n",
       "latitude                46\n",
       "longitude               46\n",
       "primary_fuel             0\n",
       "other_fuel1            709\n",
       "commissioning_year     380\n",
       "geolocation_source      19\n",
       "generation_gwh_2014    537\n",
       "generation_gwh_2015    512\n",
       "generation_gwh_2016    503\n",
       "generation_gwh_2017    499\n",
       "generation_gwh_2018    498\n",
       "dtype: int64"
      ]
     },
     "execution_count": 76,
     "metadata": {},
     "output_type": "execute_result"
    }
   ],
   "source": [
    "#Checking for null values\n",
    "data.isnull().sum()"
   ]
  },
  {
   "cell_type": "code",
   "execution_count": 77,
   "id": "bffd1981",
   "metadata": {},
   "outputs": [],
   "source": [
    "#Imputing using KNN Imputer to replace Null with meaningful data\n",
    "\n",
    "from sklearn.impute import KNNImputer\n",
    "knnimp=KNNImputer(n_neighbors=3)\n",
    "df=pd.DataFrame(knnimp.fit_transform(data[['capacity_mw','latitude','longitude','primary_fuel','other_fuel1','commissioning_year','geolocation_source','generation_gwh_2014','generation_gwh_2015','generation_gwh_2016','generation_gwh_2017','generation_gwh_2018']]), columns=['capacity_mw','latitude','longitude','primary_fuel','other_fuel1','commissioning_year','geolocation_source','generation_gwh_2014','generation_gwh_2015','generation_gwh_2016','generation_gwh_2017','generation_gwh_2018'])\n",
    "data['latitude']=df['latitude']\n",
    "data['longitude']=df['longitude']\n",
    "data['capacity_mw']=df['capacity_mw']\n",
    "data['other_fuel1']=df['other_fuel1'].astype(int)\n",
    "data['commissioning_year']=df['commissioning_year'].astype(int)\n",
    "data['geolocation_source']=df['geolocation_source'].astype(int)\n",
    "data['generation_gwh_2014']=df['generation_gwh_2014']\n",
    "data['generation_gwh_2015']=df['generation_gwh_2015']\n",
    "data['generation_gwh_2016']=df['generation_gwh_2016']\n",
    "data['generation_gwh_2017']=df['generation_gwh_2017']\n",
    "data['generation_gwh_2018']=df['generation_gwh_2018']"
   ]
  },
  {
   "cell_type": "code",
   "execution_count": 78,
   "id": "8a52f74f",
   "metadata": {},
   "outputs": [
    {
     "data": {
      "text/plain": [
       "capacity_mw            0\n",
       "latitude               0\n",
       "longitude              0\n",
       "primary_fuel           0\n",
       "other_fuel1            0\n",
       "commissioning_year     0\n",
       "geolocation_source     0\n",
       "generation_gwh_2014    0\n",
       "generation_gwh_2015    0\n",
       "generation_gwh_2016    0\n",
       "generation_gwh_2017    0\n",
       "generation_gwh_2018    0\n",
       "dtype: int64"
      ]
     },
     "execution_count": 78,
     "metadata": {},
     "output_type": "execute_result"
    }
   ],
   "source": [
    "#Checking for null values\n",
    "data.isnull().sum()"
   ]
  },
  {
   "cell_type": "markdown",
   "id": "2fde3670",
   "metadata": {},
   "source": [
    "# \n",
    "All the null values have been replaced with meaningful data"
   ]
  },
  {
   "cell_type": "code",
   "execution_count": 79,
   "id": "c21d6039",
   "metadata": {},
   "outputs": [
    {
     "data": {
      "text/html": [
       "<div>\n",
       "<style scoped>\n",
       "    .dataframe tbody tr th:only-of-type {\n",
       "        vertical-align: middle;\n",
       "    }\n",
       "\n",
       "    .dataframe tbody tr th {\n",
       "        vertical-align: top;\n",
       "    }\n",
       "\n",
       "    .dataframe thead th {\n",
       "        text-align: right;\n",
       "    }\n",
       "</style>\n",
       "<table border=\"1\" class=\"dataframe\">\n",
       "  <thead>\n",
       "    <tr style=\"text-align: right;\">\n",
       "      <th></th>\n",
       "      <th>capacity_mw</th>\n",
       "      <th>latitude</th>\n",
       "      <th>longitude</th>\n",
       "      <th>primary_fuel</th>\n",
       "      <th>other_fuel1</th>\n",
       "      <th>commissioning_year</th>\n",
       "      <th>geolocation_source</th>\n",
       "      <th>generation_gwh_2014</th>\n",
       "      <th>generation_gwh_2015</th>\n",
       "      <th>generation_gwh_2016</th>\n",
       "      <th>generation_gwh_2017</th>\n",
       "      <th>generation_gwh_2018</th>\n",
       "    </tr>\n",
       "  </thead>\n",
       "  <tbody>\n",
       "    <tr>\n",
       "      <th>count</th>\n",
       "      <td>907.000000</td>\n",
       "      <td>907.000000</td>\n",
       "      <td>907.000000</td>\n",
       "      <td>907.000000</td>\n",
       "      <td>907.000000</td>\n",
       "      <td>907.000000</td>\n",
       "      <td>907.000000</td>\n",
       "      <td>907.000000</td>\n",
       "      <td>907.000000</td>\n",
       "      <td>907.000000</td>\n",
       "      <td>907.000000</td>\n",
       "      <td>907.000000</td>\n",
       "    </tr>\n",
       "    <tr>\n",
       "      <th>mean</th>\n",
       "      <td>326.289172</td>\n",
       "      <td>21.184565</td>\n",
       "      <td>77.370815</td>\n",
       "      <td>3.206174</td>\n",
       "      <td>1.859978</td>\n",
       "      <td>1994.445424</td>\n",
       "      <td>1.716648</td>\n",
       "      <td>1212.254288</td>\n",
       "      <td>1234.583066</td>\n",
       "      <td>1273.259200</td>\n",
       "      <td>1328.181281</td>\n",
       "      <td>1393.372142</td>\n",
       "    </tr>\n",
       "    <tr>\n",
       "      <th>std</th>\n",
       "      <td>590.052539</td>\n",
       "      <td>6.124547</td>\n",
       "      <td>4.858955</td>\n",
       "      <td>2.280652</td>\n",
       "      <td>0.350366</td>\n",
       "      <td>15.507815</td>\n",
       "      <td>0.690665</td>\n",
       "      <td>2916.924542</td>\n",
       "      <td>3103.799525</td>\n",
       "      <td>3128.178916</td>\n",
       "      <td>3184.179510</td>\n",
       "      <td>3287.287331</td>\n",
       "    </tr>\n",
       "    <tr>\n",
       "      <th>min</th>\n",
       "      <td>1.000000</td>\n",
       "      <td>8.168900</td>\n",
       "      <td>68.644700</td>\n",
       "      <td>0.000000</td>\n",
       "      <td>0.000000</td>\n",
       "      <td>1927.000000</td>\n",
       "      <td>0.000000</td>\n",
       "      <td>0.045355</td>\n",
       "      <td>0.118300</td>\n",
       "      <td>0.099500</td>\n",
       "      <td>0.425769</td>\n",
       "      <td>0.056000</td>\n",
       "    </tr>\n",
       "    <tr>\n",
       "      <th>25%</th>\n",
       "      <td>16.975000</td>\n",
       "      <td>16.928000</td>\n",
       "      <td>74.255750</td>\n",
       "      <td>1.000000</td>\n",
       "      <td>2.000000</td>\n",
       "      <td>1985.000000</td>\n",
       "      <td>2.000000</td>\n",
       "      <td>80.886867</td>\n",
       "      <td>69.447683</td>\n",
       "      <td>59.948750</td>\n",
       "      <td>53.358533</td>\n",
       "      <td>79.367833</td>\n",
       "    </tr>\n",
       "    <tr>\n",
       "      <th>50%</th>\n",
       "      <td>59.333333</td>\n",
       "      <td>21.658000</td>\n",
       "      <td>76.601100</td>\n",
       "      <td>3.000000</td>\n",
       "      <td>2.000000</td>\n",
       "      <td>1996.000000</td>\n",
       "      <td>2.000000</td>\n",
       "      <td>152.506967</td>\n",
       "      <td>117.654000</td>\n",
       "      <td>122.517667</td>\n",
       "      <td>115.596783</td>\n",
       "      <td>135.491000</td>\n",
       "    </tr>\n",
       "    <tr>\n",
       "      <th>75%</th>\n",
       "      <td>385.250000</td>\n",
       "      <td>25.242800</td>\n",
       "      <td>79.338900</td>\n",
       "      <td>6.000000</td>\n",
       "      <td>2.000000</td>\n",
       "      <td>2006.000000</td>\n",
       "      <td>2.000000</td>\n",
       "      <td>892.189878</td>\n",
       "      <td>749.264850</td>\n",
       "      <td>786.761025</td>\n",
       "      <td>902.260908</td>\n",
       "      <td>947.977525</td>\n",
       "    </tr>\n",
       "    <tr>\n",
       "      <th>max</th>\n",
       "      <td>4760.000000</td>\n",
       "      <td>34.649000</td>\n",
       "      <td>95.408000</td>\n",
       "      <td>7.000000</td>\n",
       "      <td>2.000000</td>\n",
       "      <td>2018.000000</td>\n",
       "      <td>2.000000</td>\n",
       "      <td>28127.000000</td>\n",
       "      <td>30539.000000</td>\n",
       "      <td>30015.000000</td>\n",
       "      <td>35116.000000</td>\n",
       "      <td>35136.000000</td>\n",
       "    </tr>\n",
       "  </tbody>\n",
       "</table>\n",
       "</div>"
      ],
      "text/plain": [
       "       capacity_mw    latitude   longitude  primary_fuel  other_fuel1  \\\n",
       "count   907.000000  907.000000  907.000000    907.000000   907.000000   \n",
       "mean    326.289172   21.184565   77.370815      3.206174     1.859978   \n",
       "std     590.052539    6.124547    4.858955      2.280652     0.350366   \n",
       "min       1.000000    8.168900   68.644700      0.000000     0.000000   \n",
       "25%      16.975000   16.928000   74.255750      1.000000     2.000000   \n",
       "50%      59.333333   21.658000   76.601100      3.000000     2.000000   \n",
       "75%     385.250000   25.242800   79.338900      6.000000     2.000000   \n",
       "max    4760.000000   34.649000   95.408000      7.000000     2.000000   \n",
       "\n",
       "       commissioning_year  geolocation_source  generation_gwh_2014  \\\n",
       "count          907.000000          907.000000           907.000000   \n",
       "mean          1994.445424            1.716648          1212.254288   \n",
       "std             15.507815            0.690665          2916.924542   \n",
       "min           1927.000000            0.000000             0.045355   \n",
       "25%           1985.000000            2.000000            80.886867   \n",
       "50%           1996.000000            2.000000           152.506967   \n",
       "75%           2006.000000            2.000000           892.189878   \n",
       "max           2018.000000            2.000000         28127.000000   \n",
       "\n",
       "       generation_gwh_2015  generation_gwh_2016  generation_gwh_2017  \\\n",
       "count           907.000000           907.000000           907.000000   \n",
       "mean           1234.583066          1273.259200          1328.181281   \n",
       "std            3103.799525          3128.178916          3184.179510   \n",
       "min               0.118300             0.099500             0.425769   \n",
       "25%              69.447683            59.948750            53.358533   \n",
       "50%             117.654000           122.517667           115.596783   \n",
       "75%             749.264850           786.761025           902.260908   \n",
       "max           30539.000000         30015.000000         35116.000000   \n",
       "\n",
       "       generation_gwh_2018  \n",
       "count           907.000000  \n",
       "mean           1393.372142  \n",
       "std            3287.287331  \n",
       "min               0.056000  \n",
       "25%              79.367833  \n",
       "50%             135.491000  \n",
       "75%             947.977525  \n",
       "max           35136.000000  "
      ]
     },
     "execution_count": 79,
     "metadata": {},
     "output_type": "execute_result"
    }
   ],
   "source": [
    "#Statistical Analysis\n",
    "data.describe()"
   ]
  },
  {
   "cell_type": "markdown",
   "id": "0f573a21",
   "metadata": {},
   "source": [
    "# \n",
    "The statistical analysis looks better now"
   ]
  },
  {
   "cell_type": "markdown",
   "id": "3962116e",
   "metadata": {},
   "source": [
    "# Checking Correlation"
   ]
  },
  {
   "cell_type": "code",
   "execution_count": 80,
   "id": "ef5161c0",
   "metadata": {},
   "outputs": [
    {
     "data": {
      "text/html": [
       "<div>\n",
       "<style scoped>\n",
       "    .dataframe tbody tr th:only-of-type {\n",
       "        vertical-align: middle;\n",
       "    }\n",
       "\n",
       "    .dataframe tbody tr th {\n",
       "        vertical-align: top;\n",
       "    }\n",
       "\n",
       "    .dataframe thead th {\n",
       "        text-align: right;\n",
       "    }\n",
       "</style>\n",
       "<table border=\"1\" class=\"dataframe\">\n",
       "  <thead>\n",
       "    <tr style=\"text-align: right;\">\n",
       "      <th></th>\n",
       "      <th>capacity_mw</th>\n",
       "      <th>latitude</th>\n",
       "      <th>longitude</th>\n",
       "      <th>primary_fuel</th>\n",
       "      <th>other_fuel1</th>\n",
       "      <th>commissioning_year</th>\n",
       "      <th>geolocation_source</th>\n",
       "      <th>generation_gwh_2014</th>\n",
       "      <th>generation_gwh_2015</th>\n",
       "      <th>generation_gwh_2016</th>\n",
       "      <th>generation_gwh_2017</th>\n",
       "      <th>generation_gwh_2018</th>\n",
       "    </tr>\n",
       "  </thead>\n",
       "  <tbody>\n",
       "    <tr>\n",
       "      <th>capacity_mw</th>\n",
       "      <td>1.000000</td>\n",
       "      <td>0.049789</td>\n",
       "      <td>0.204324</td>\n",
       "      <td>-0.380281</td>\n",
       "      <td>0.051538</td>\n",
       "      <td>0.324521</td>\n",
       "      <td>0.211651</td>\n",
       "      <td>0.839031</td>\n",
       "      <td>0.857873</td>\n",
       "      <td>0.887205</td>\n",
       "      <td>0.906152</td>\n",
       "      <td>0.918602</td>\n",
       "    </tr>\n",
       "    <tr>\n",
       "      <th>latitude</th>\n",
       "      <td>0.049789</td>\n",
       "      <td>1.000000</td>\n",
       "      <td>0.032749</td>\n",
       "      <td>-0.019233</td>\n",
       "      <td>-0.088278</td>\n",
       "      <td>0.111800</td>\n",
       "      <td>-0.179082</td>\n",
       "      <td>0.054191</td>\n",
       "      <td>0.050970</td>\n",
       "      <td>0.046322</td>\n",
       "      <td>0.057655</td>\n",
       "      <td>0.051550</td>\n",
       "    </tr>\n",
       "    <tr>\n",
       "      <th>longitude</th>\n",
       "      <td>0.204324</td>\n",
       "      <td>0.032749</td>\n",
       "      <td>1.000000</td>\n",
       "      <td>-0.366274</td>\n",
       "      <td>-0.115892</td>\n",
       "      <td>0.152255</td>\n",
       "      <td>0.251256</td>\n",
       "      <td>0.149778</td>\n",
       "      <td>0.158731</td>\n",
       "      <td>0.181717</td>\n",
       "      <td>0.196290</td>\n",
       "      <td>0.193681</td>\n",
       "    </tr>\n",
       "    <tr>\n",
       "      <th>primary_fuel</th>\n",
       "      <td>-0.380281</td>\n",
       "      <td>-0.019233</td>\n",
       "      <td>-0.366274</td>\n",
       "      <td>1.000000</td>\n",
       "      <td>0.049981</td>\n",
       "      <td>-0.142410</td>\n",
       "      <td>-0.508032</td>\n",
       "      <td>-0.292698</td>\n",
       "      <td>-0.291749</td>\n",
       "      <td>-0.302689</td>\n",
       "      <td>-0.311821</td>\n",
       "      <td>-0.312769</td>\n",
       "    </tr>\n",
       "    <tr>\n",
       "      <th>other_fuel1</th>\n",
       "      <td>0.051538</td>\n",
       "      <td>-0.088278</td>\n",
       "      <td>-0.115892</td>\n",
       "      <td>0.049981</td>\n",
       "      <td>1.000000</td>\n",
       "      <td>0.070199</td>\n",
       "      <td>-0.164139</td>\n",
       "      <td>0.054244</td>\n",
       "      <td>0.061884</td>\n",
       "      <td>0.065075</td>\n",
       "      <td>0.061374</td>\n",
       "      <td>0.066363</td>\n",
       "    </tr>\n",
       "    <tr>\n",
       "      <th>commissioning_year</th>\n",
       "      <td>0.324521</td>\n",
       "      <td>0.111800</td>\n",
       "      <td>0.152255</td>\n",
       "      <td>-0.142410</td>\n",
       "      <td>0.070199</td>\n",
       "      <td>1.000000</td>\n",
       "      <td>0.113611</td>\n",
       "      <td>0.172637</td>\n",
       "      <td>0.193327</td>\n",
       "      <td>0.221895</td>\n",
       "      <td>0.238238</td>\n",
       "      <td>0.243191</td>\n",
       "    </tr>\n",
       "    <tr>\n",
       "      <th>geolocation_source</th>\n",
       "      <td>0.211651</td>\n",
       "      <td>-0.179082</td>\n",
       "      <td>0.251256</td>\n",
       "      <td>-0.508032</td>\n",
       "      <td>-0.164139</td>\n",
       "      <td>0.113611</td>\n",
       "      <td>1.000000</td>\n",
       "      <td>0.153457</td>\n",
       "      <td>0.149915</td>\n",
       "      <td>0.154174</td>\n",
       "      <td>0.158782</td>\n",
       "      <td>0.159551</td>\n",
       "    </tr>\n",
       "    <tr>\n",
       "      <th>generation_gwh_2014</th>\n",
       "      <td>0.839031</td>\n",
       "      <td>0.054191</td>\n",
       "      <td>0.149778</td>\n",
       "      <td>-0.292698</td>\n",
       "      <td>0.054244</td>\n",
       "      <td>0.172637</td>\n",
       "      <td>0.153457</td>\n",
       "      <td>1.000000</td>\n",
       "      <td>0.967162</td>\n",
       "      <td>0.943487</td>\n",
       "      <td>0.915755</td>\n",
       "      <td>0.907737</td>\n",
       "    </tr>\n",
       "    <tr>\n",
       "      <th>generation_gwh_2015</th>\n",
       "      <td>0.857873</td>\n",
       "      <td>0.050970</td>\n",
       "      <td>0.158731</td>\n",
       "      <td>-0.291749</td>\n",
       "      <td>0.061884</td>\n",
       "      <td>0.193327</td>\n",
       "      <td>0.149915</td>\n",
       "      <td>0.967162</td>\n",
       "      <td>1.000000</td>\n",
       "      <td>0.977703</td>\n",
       "      <td>0.948036</td>\n",
       "      <td>0.941651</td>\n",
       "    </tr>\n",
       "    <tr>\n",
       "      <th>generation_gwh_2016</th>\n",
       "      <td>0.887205</td>\n",
       "      <td>0.046322</td>\n",
       "      <td>0.181717</td>\n",
       "      <td>-0.302689</td>\n",
       "      <td>0.065075</td>\n",
       "      <td>0.221895</td>\n",
       "      <td>0.154174</td>\n",
       "      <td>0.943487</td>\n",
       "      <td>0.977703</td>\n",
       "      <td>1.000000</td>\n",
       "      <td>0.976117</td>\n",
       "      <td>0.967627</td>\n",
       "    </tr>\n",
       "    <tr>\n",
       "      <th>generation_gwh_2017</th>\n",
       "      <td>0.906152</td>\n",
       "      <td>0.057655</td>\n",
       "      <td>0.196290</td>\n",
       "      <td>-0.311821</td>\n",
       "      <td>0.061374</td>\n",
       "      <td>0.238238</td>\n",
       "      <td>0.158782</td>\n",
       "      <td>0.915755</td>\n",
       "      <td>0.948036</td>\n",
       "      <td>0.976117</td>\n",
       "      <td>1.000000</td>\n",
       "      <td>0.988008</td>\n",
       "    </tr>\n",
       "    <tr>\n",
       "      <th>generation_gwh_2018</th>\n",
       "      <td>0.918602</td>\n",
       "      <td>0.051550</td>\n",
       "      <td>0.193681</td>\n",
       "      <td>-0.312769</td>\n",
       "      <td>0.066363</td>\n",
       "      <td>0.243191</td>\n",
       "      <td>0.159551</td>\n",
       "      <td>0.907737</td>\n",
       "      <td>0.941651</td>\n",
       "      <td>0.967627</td>\n",
       "      <td>0.988008</td>\n",
       "      <td>1.000000</td>\n",
       "    </tr>\n",
       "  </tbody>\n",
       "</table>\n",
       "</div>"
      ],
      "text/plain": [
       "                     capacity_mw  latitude  longitude  primary_fuel  \\\n",
       "capacity_mw             1.000000  0.049789   0.204324     -0.380281   \n",
       "latitude                0.049789  1.000000   0.032749     -0.019233   \n",
       "longitude               0.204324  0.032749   1.000000     -0.366274   \n",
       "primary_fuel           -0.380281 -0.019233  -0.366274      1.000000   \n",
       "other_fuel1             0.051538 -0.088278  -0.115892      0.049981   \n",
       "commissioning_year      0.324521  0.111800   0.152255     -0.142410   \n",
       "geolocation_source      0.211651 -0.179082   0.251256     -0.508032   \n",
       "generation_gwh_2014     0.839031  0.054191   0.149778     -0.292698   \n",
       "generation_gwh_2015     0.857873  0.050970   0.158731     -0.291749   \n",
       "generation_gwh_2016     0.887205  0.046322   0.181717     -0.302689   \n",
       "generation_gwh_2017     0.906152  0.057655   0.196290     -0.311821   \n",
       "generation_gwh_2018     0.918602  0.051550   0.193681     -0.312769   \n",
       "\n",
       "                     other_fuel1  commissioning_year  geolocation_source  \\\n",
       "capacity_mw             0.051538            0.324521            0.211651   \n",
       "latitude               -0.088278            0.111800           -0.179082   \n",
       "longitude              -0.115892            0.152255            0.251256   \n",
       "primary_fuel            0.049981           -0.142410           -0.508032   \n",
       "other_fuel1             1.000000            0.070199           -0.164139   \n",
       "commissioning_year      0.070199            1.000000            0.113611   \n",
       "geolocation_source     -0.164139            0.113611            1.000000   \n",
       "generation_gwh_2014     0.054244            0.172637            0.153457   \n",
       "generation_gwh_2015     0.061884            0.193327            0.149915   \n",
       "generation_gwh_2016     0.065075            0.221895            0.154174   \n",
       "generation_gwh_2017     0.061374            0.238238            0.158782   \n",
       "generation_gwh_2018     0.066363            0.243191            0.159551   \n",
       "\n",
       "                     generation_gwh_2014  generation_gwh_2015  \\\n",
       "capacity_mw                     0.839031             0.857873   \n",
       "latitude                        0.054191             0.050970   \n",
       "longitude                       0.149778             0.158731   \n",
       "primary_fuel                   -0.292698            -0.291749   \n",
       "other_fuel1                     0.054244             0.061884   \n",
       "commissioning_year              0.172637             0.193327   \n",
       "geolocation_source              0.153457             0.149915   \n",
       "generation_gwh_2014             1.000000             0.967162   \n",
       "generation_gwh_2015             0.967162             1.000000   \n",
       "generation_gwh_2016             0.943487             0.977703   \n",
       "generation_gwh_2017             0.915755             0.948036   \n",
       "generation_gwh_2018             0.907737             0.941651   \n",
       "\n",
       "                     generation_gwh_2016  generation_gwh_2017  \\\n",
       "capacity_mw                     0.887205             0.906152   \n",
       "latitude                        0.046322             0.057655   \n",
       "longitude                       0.181717             0.196290   \n",
       "primary_fuel                   -0.302689            -0.311821   \n",
       "other_fuel1                     0.065075             0.061374   \n",
       "commissioning_year              0.221895             0.238238   \n",
       "geolocation_source              0.154174             0.158782   \n",
       "generation_gwh_2014             0.943487             0.915755   \n",
       "generation_gwh_2015             0.977703             0.948036   \n",
       "generation_gwh_2016             1.000000             0.976117   \n",
       "generation_gwh_2017             0.976117             1.000000   \n",
       "generation_gwh_2018             0.967627             0.988008   \n",
       "\n",
       "                     generation_gwh_2018  \n",
       "capacity_mw                     0.918602  \n",
       "latitude                        0.051550  \n",
       "longitude                       0.193681  \n",
       "primary_fuel                   -0.312769  \n",
       "other_fuel1                     0.066363  \n",
       "commissioning_year              0.243191  \n",
       "geolocation_source              0.159551  \n",
       "generation_gwh_2014             0.907737  \n",
       "generation_gwh_2015             0.941651  \n",
       "generation_gwh_2016             0.967627  \n",
       "generation_gwh_2017             0.988008  \n",
       "generation_gwh_2018             1.000000  "
      ]
     },
     "execution_count": 80,
     "metadata": {},
     "output_type": "execute_result"
    }
   ],
   "source": [
    "data.corr()"
   ]
  },
  {
   "cell_type": "markdown",
   "id": "35e6ca8b",
   "metadata": {},
   "source": [
    "# \n",
    "For better understanding let's use a heat map"
   ]
  },
  {
   "cell_type": "code",
   "execution_count": 81,
   "id": "b8181275",
   "metadata": {},
   "outputs": [
    {
     "data": {
      "image/png": "[encoded data removed]",
      "text/plain": [
       "<Figure size 1440x1440 with 2 Axes>"
      ]
     },
     "metadata": {
      "needs_background": "light"
     },
     "output_type": "display_data"
    }
   ],
   "source": [
    "corr_mat=data.corr()\n",
    "\n",
    "#size of the canvas\n",
    "plt.figure(figsize=[20,20])\n",
    "\n",
    "#plot the correlation matrix\n",
    "sns.heatmap(corr_mat,annot=True, annot_kws={'size':12})\n",
    "plt.title(\"Correlation Matrix\")\n",
    "plt.show()"
   ]
  },
  {
   "cell_type": "markdown",
   "id": "0d35b387",
   "metadata": {},
   "source": [
    "# Observation-\n",
    "Let's print the correlation values of independent values with target variable for a better understanding"
   ]
  },
  {
   "cell_type": "code",
   "execution_count": 82,
   "id": "84c1d693",
   "metadata": {},
   "outputs": [
    {
     "data": {
      "text/plain": [
       "geolocation_source    -0.508032\n",
       "capacity_mw           -0.380281\n",
       "longitude             -0.366274\n",
       "generation_gwh_2018   -0.312769\n",
       "generation_gwh_2017   -0.311821\n",
       "generation_gwh_2016   -0.302689\n",
       "generation_gwh_2014   -0.292698\n",
       "generation_gwh_2015   -0.291749\n",
       "commissioning_year    -0.142410\n",
       "latitude              -0.019233\n",
       "other_fuel1            0.049981\n",
       "primary_fuel           1.000000\n",
       "Name: primary_fuel, dtype: float64"
      ]
     },
     "execution_count": 82,
     "metadata": {},
     "output_type": "execute_result"
    }
   ],
   "source": [
    "#Let's print the correlation coefficient for the Classification Prediction with primary_fuel\n",
    "\n",
    "corr_matrix=data.corr()\n",
    "corr_matrix[\"primary_fuel\"].sort_values(ascending=True)"
   ]
  },
  {
   "cell_type": "markdown",
   "id": "a6b03e4d",
   "metadata": {},
   "source": [
    "# Observation-\n",
    "- geolocation_source, capacity_mw, longitude, generation_gwh_2018, generation_gwh_2017, generation_gwh_2016, generation_gwh_2014, generation_gwh_2015, commissioning_year and latitude are negatively correlated to the label primary_fuel\n",
    "- other_fuel1 are 4% positively correlated to the label primary_fuel showing a moderately weak bond\n",
    "- geolocation_source is 50.8% negatively correlated with primary_fuel showing a strong bond\n",
    "- latitude is 0.1% negatively correlated with primary_fuel showing an extremely weak bond"
   ]
  },
  {
   "cell_type": "code",
   "execution_count": 83,
   "id": "e6f85540",
   "metadata": {},
   "outputs": [
    {
     "data": {
      "text/plain": [
       "primary_fuel          -0.380281\n",
       "latitude               0.049789\n",
       "other_fuel1            0.051538\n",
       "longitude              0.204324\n",
       "geolocation_source     0.211651\n",
       "commissioning_year     0.324521\n",
       "generation_gwh_2014    0.839031\n",
       "generation_gwh_2015    0.857873\n",
       "generation_gwh_2016    0.887205\n",
       "generation_gwh_2017    0.906152\n",
       "generation_gwh_2018    0.918602\n",
       "capacity_mw            1.000000\n",
       "Name: capacity_mw, dtype: float64"
      ]
     },
     "execution_count": 83,
     "metadata": {},
     "output_type": "execute_result"
    }
   ],
   "source": [
    "#Let's print the correlation coefficient for the Regression Prediction with capacity_mw\n",
    "\n",
    "corr_matrix=data.corr()\n",
    "corr_matrix[\"capacity_mw\"].sort_values(ascending=True)"
   ]
  },
  {
   "cell_type": "markdown",
   "id": "1e771b0b",
   "metadata": {},
   "source": [
    "# Observation-\n",
    "- geolocation_source, other_fuel1, primary_fuel, longitude, generation_gwh_2018, generation_gwh_2017, generation_gwh_2016, generation_gwh_2014, generation_gwh_2015, commissioning_year and latitude are positively correlated to the label capacity_mw\n",
    "- primary_fuel are 38% negatively correlated to the label capacity_mw showing a moderately strong bond\n",
    "- generation_gwh_2018 is 91.86% positively correlated with capacity_mw showing an extremely strong bond\n",
    "- latitude is 4.98% positively correlated with capacity_mw showing an moderately weak bond"
   ]
  },
  {
   "cell_type": "markdown",
   "id": "c5423ad4",
   "metadata": {},
   "source": [
    "# Visualization of the Data"
   ]
  },
  {
   "cell_type": "code",
   "execution_count": 85,
   "id": "c98530f3",
   "metadata": {},
   "outputs": [
    {
     "name": "stdout",
     "output_type": "stream",
     "text": [
      "1    258\n",
      "3    251\n",
      "6    127\n",
      "7    123\n",
      "2     69\n",
      "0     50\n",
      "5     20\n",
      "4      9\n",
      "Name: primary_fuel, dtype: int64\n"
     ]
    },
    {
     "data": {
      "image/png": "[encoded data removed]",
      "text/plain": [
       "<Figure size 432x288 with 1 Axes>"
      ]
     },
     "metadata": {
      "needs_background": "light"
     },
     "output_type": "display_data"
    }
   ],
   "source": [
    "ax=sns.countplot(x=\"primary_fuel\", data=data)\n",
    "print(data[\"primary_fuel\"].value_counts())"
   ]
  },
  {
   "cell_type": "markdown",
   "id": "740e4266",
   "metadata": {},
   "source": [
    "# \n",
    "50 power plant use Biomass as its primary fuel\n",
    "\n",
    "258 power plant use Coal as its primary fuel\n",
    "\n",
    "69 power plant use Gas as its primary fuel\n",
    "\n",
    "251 power plant use Hydro as its primary fuel\n",
    "\n",
    "9 power plant use Nuclear as its primary fuel\n",
    "\n",
    "20 power plant use Oil as its primary fuel\n",
    "\n",
    "127 power plant use Solar as its primary fuel\n",
    "\n",
    "123 power plant use Wind as its primary fuel"
   ]
  },
  {
   "cell_type": "code",
   "execution_count": 86,
   "id": "ff8401cc",
   "metadata": {},
   "outputs": [
    {
     "name": "stdout",
     "output_type": "stream",
     "text": [
      "2    781\n",
      "1    125\n",
      "0      1\n",
      "Name: other_fuel1, dtype: int64\n"
     ]
    },
    {
     "data": {
      "image/png": "[encoded data removed]",
      "text/plain": [
       "<Figure size 432x288 with 1 Axes>"
      ]
     },
     "metadata": {
      "needs_background": "light"
     },
     "output_type": "display_data"
    }
   ],
   "source": [
    "ax=sns.countplot(x=\"other_fuel1\", data=data)\n",
    "print(data[\"other_fuel1\"].value_counts())"
   ]
  },
  {
   "cell_type": "markdown",
   "id": "0c173756",
   "metadata": {},
   "source": [
    "# \n",
    "1 power plant use Cogeneration as its other fuel\n",
    "\n",
    "125 power plant use Gas as its other fuel\n",
    "\n",
    "781 power plant use Oil as its other fuel"
   ]
  },
  {
   "cell_type": "code",
   "execution_count": 87,
   "id": "0f516419",
   "metadata": {},
   "outputs": [
    {
     "name": "stdout",
     "output_type": "stream",
     "text": [
      "2    774\n",
      "0    124\n",
      "1      9\n",
      "Name: geolocation_source, dtype: int64\n"
     ]
    },
    {
     "data": {
      "image/png": "[encoded data removed]",
      "text/plain": [
       "<Figure size 432x288 with 1 Axes>"
      ]
     },
     "metadata": {
      "needs_background": "light"
     },
     "output_type": "display_data"
    }
   ],
   "source": [
    "ax=sns.countplot(x=\"geolocation_source\", data=data)\n",
    "print(data[\"geolocation_source\"].value_counts())"
   ]
  },
  {
   "cell_type": "markdown",
   "id": "0fc9eba9",
   "metadata": {},
   "source": [
    "# \n",
    "For 124 power plants their geolocation source is Industry About\n",
    "\n",
    "For 9 power plants their geolocation source is National Renewable Energy Laboratory\n",
    "\n",
    "For 774 power plants their geolocation source is WRI"
   ]
  },
  {
   "cell_type": "code",
   "execution_count": 89,
   "id": "7e6c5afa",
   "metadata": {},
   "outputs": [
    {
     "data": {
      "image/png": "[encoded data removed]",
      "text/plain": [
       "<Figure size 432x288 with 1 Axes>"
      ]
     },
     "metadata": {
      "needs_background": "light"
     },
     "output_type": "display_data"
    }
   ],
   "source": [
    "sns.distplot(data[\"capacity_mw\"])\n",
    "plt.xlabel(\"capacity_mw\",fontsize=10)\n",
    "plt.tight_layout()"
   ]
  },
  {
   "cell_type": "markdown",
   "id": "2e373f0f",
   "metadata": {},
   "source": [
    "# \n",
    "The data is skewed and will be dealt later"
   ]
  },
  {
   "cell_type": "code",
   "execution_count": 90,
   "id": "cddc727b",
   "metadata": {},
   "outputs": [
    {
     "data": {
      "image/png": "[encoded data removed]",
      "text/plain": [
       "<Figure size 432x288 with 1 Axes>"
      ]
     },
     "metadata": {
      "needs_background": "light"
     },
     "output_type": "display_data"
    }
   ],
   "source": [
    "sns.distplot(data[\"latitude\"])\n",
    "plt.xlabel(\"latitude\",fontsize=10)\n",
    "plt.tight_layout()"
   ]
  },
  {
   "cell_type": "markdown",
   "id": "606d0d46",
   "metadata": {},
   "source": [
    "# \n",
    "The data is skewed and will be dealt later"
   ]
  },
  {
   "cell_type": "code",
   "execution_count": 91,
   "id": "8837e68c",
   "metadata": {},
   "outputs": [
    {
     "data": {
      "image/png": "[encoded data removed]",
      "text/plain": [
       "<Figure size 432x288 with 1 Axes>"
      ]
     },
     "metadata": {
      "needs_background": "light"
     },
     "output_type": "display_data"
    }
   ],
   "source": [
    "sns.distplot(data[\"longitude\"])\n",
    "plt.xlabel(\"longitude\",fontsize=10)\n",
    "plt.tight_layout()"
   ]
  },
  {
   "cell_type": "markdown",
   "id": "c7f5c89d",
   "metadata": {},
   "source": [
    "# \n",
    "The data is skewed and will be dealt later"
   ]
  },
  {
   "cell_type": "code",
   "execution_count": 93,
   "id": "d2a727db",
   "metadata": {},
   "outputs": [
    {
     "data": {
      "text/plain": [
       "<AxesSubplot:ylabel='Frequency'>"
      ]
     },
     "execution_count": 93,
     "metadata": {},
     "output_type": "execute_result"
    },
    {
     "data": {
      "image/png": "[encoded data removed]",
      "text/plain": [
       "<Figure size 432x288 with 1 Axes>"
      ]
     },
     "metadata": {
      "needs_background": "light"
     },
     "output_type": "display_data"
    }
   ],
   "source": [
    "data.commissioning_year.plot(kind='hist')"
   ]
  },
  {
   "cell_type": "code",
   "execution_count": 94,
   "id": "44f94601",
   "metadata": {},
   "outputs": [
    {
     "data": {
      "image/png": "[encoded data removed]",
      "text/plain": [
       "<Figure size 432x288 with 1 Axes>"
      ]
     },
     "metadata": {
      "needs_background": "light"
     },
     "output_type": "display_data"
    }
   ],
   "source": [
    "sns.distplot(data[\"generation_gwh_2014\"])\n",
    "plt.xlabel(\"generation_gwh_2014\",fontsize=10)\n",
    "plt.tight_layout()"
   ]
  },
  {
   "cell_type": "markdown",
   "id": "5e94f6de",
   "metadata": {},
   "source": [
    "# \n",
    "The data is skewed and will be dealt later"
   ]
  },
  {
   "cell_type": "code",
   "execution_count": 97,
   "id": "8db3c604",
   "metadata": {},
   "outputs": [
    {
     "data": {
      "image/png": "[encoded data removed]",
      "text/plain": [
       "<Figure size 432x288 with 1 Axes>"
      ]
     },
     "metadata": {
      "needs_background": "light"
     },
     "output_type": "display_data"
    }
   ],
   "source": [
    "sns.distplot(data[\"generation_gwh_2015\"])\n",
    "plt.xlabel(\"generation_gwh_2015\",fontsize=10)\n",
    "plt.tight_layout()"
   ]
  },
  {
   "cell_type": "markdown",
   "id": "ced76753",
   "metadata": {},
   "source": [
    "# \n",
    "The data is skewed and will be dealt later"
   ]
  },
  {
   "cell_type": "code",
   "execution_count": 100,
   "id": "3c757ebb",
   "metadata": {},
   "outputs": [
    {
     "data": {
      "image/png": "[encoded data removed]",
      "text/plain": [
       "<Figure size 432x288 with 1 Axes>"
      ]
     },
     "metadata": {
      "needs_background": "light"
     },
     "output_type": "display_data"
    }
   ],
   "source": [
    "sns.distplot(data[\"generation_gwh_2016\"])\n",
    "plt.xlabel(\"generation_gwh_2016\",fontsize=10)\n",
    "plt.tight_layout()"
   ]
  },
  {
   "cell_type": "markdown",
   "id": "b95d80cb",
   "metadata": {},
   "source": [
    "# \n",
    "The data is kewed and will be dealt later"
   ]
  },
  {
   "cell_type": "code",
   "execution_count": 101,
   "id": "36231cb1",
   "metadata": {},
   "outputs": [
    {
     "data": {
      "image/png": "[encoded data removed]",
      "text/plain": [
       "<Figure size 432x288 with 1 Axes>"
      ]
     },
     "metadata": {
      "needs_background": "light"
     },
     "output_type": "display_data"
    }
   ],
   "source": [
    "sns.distplot(data[\"generation_gwh_2017\"])\n",
    "plt.xlabel(\"generation_gwh_2017\",fontsize=10)\n",
    "plt.tight_layout()"
   ]
  },
  {
   "cell_type": "markdown",
   "id": "2a44f261",
   "metadata": {},
   "source": [
    "# \n",
    "The data is skewed and will be dealt later"
   ]
  },
  {
   "cell_type": "code",
   "execution_count": 102,
   "id": "50d00933",
   "metadata": {},
   "outputs": [
    {
     "data": {
      "image/png": "[encoded data removed]",
      "text/plain": [
       "<Figure size 432x288 with 1 Axes>"
      ]
     },
     "metadata": {
      "needs_background": "light"
     },
     "output_type": "display_data"
    }
   ],
   "source": [
    "sns.distplot(data[\"generation_gwh_2018\"])\n",
    "plt.xlabel(\"generation_gwh_2018\",fontsize=10)\n",
    "plt.tight_layout()"
   ]
  },
  {
   "cell_type": "markdown",
   "id": "200c491e",
   "metadata": {},
   "source": [
    "# \n",
    "The data is skewed and will be dealt later"
   ]
  },
  {
   "cell_type": "code",
   "execution_count": 103,
   "id": "69d349d6",
   "metadata": {},
   "outputs": [
    {
     "data": {
      "text/plain": [
       "(907, 12)"
      ]
     },
     "execution_count": 103,
     "metadata": {},
     "output_type": "execute_result"
    }
   ],
   "source": [
    "data.shape"
   ]
  },
  {
   "cell_type": "markdown",
   "id": "f185ee8a",
   "metadata": {},
   "source": [
    "# Checking for outliers"
   ]
  },
  {
   "cell_type": "code",
   "execution_count": 104,
   "id": "589bceb8",
   "metadata": {},
   "outputs": [
    {
     "data": {
      "image/png": "[encoded data removed]",
      "text/plain": [
       "<Figure size 1440x1800 with 12 Axes>"
      ]
     },
     "metadata": {
      "needs_background": "light"
     },
     "output_type": "display_data"
    }
   ],
   "source": [
    "#visulaize the outliers using boxplot\n",
    "plt.figure(figsize=(20,25))\n",
    "graph=1\n",
    "\n",
    "for column in data:\n",
    "    if graph<=13:\n",
    "        ax=plt.subplot(4,4,graph)\n",
    "        sns.boxplot(data=data[column], orient='v')\n",
    "        plt.xlabel(column,fontsize=20)\n",
    "    graph=graph+1\n",
    "plt.show()"
   ]
  },
  {
   "cell_type": "markdown",
   "id": "e927e744",
   "metadata": {},
   "source": [
    "# \n",
    "The features with continuous data containing outliers-\n",
    "\n",
    "- capacity_mw\n",
    "- longitude\n",
    "- commissioning_year\n",
    "- generation_gwh_2014\n",
    "- generation_gwh_2015\n",
    "- generation_gwh_2016\n",
    "- generation_gwh_2017\n",
    "- generation_gwh_2018"
   ]
  },
  {
   "cell_type": "code",
   "execution_count": 105,
   "id": "81115dd0",
   "metadata": {},
   "outputs": [
    {
     "data": {
      "text/plain": [
       "(907, 12)"
      ]
     },
     "execution_count": 105,
     "metadata": {},
     "output_type": "execute_result"
    }
   ],
   "source": [
    "#remove outliers using zscore technique\n",
    "from scipy.stats import zscore\n",
    "import numpy as np\n",
    "z=np.abs(zscore(data))\n",
    "z.shape"
   ]
  },
  {
   "cell_type": "code",
   "execution_count": 106,
   "id": "fa6589bb",
   "metadata": {},
   "outputs": [
    {
     "name": "stdout",
     "output_type": "stream",
     "text": [
      "(array([ 15,  15,  15,  15,  15, 143, 143, 143, 143, 143, 143, 147, 158,\n",
      "       179, 183, 209, 209, 209, 209, 209, 209, 244, 308, 308, 308, 308,\n",
      "       308, 308, 323, 333, 340, 360, 363, 364, 364, 364, 364, 364, 364,\n",
      "       375, 414, 414, 416, 427, 482, 493, 493, 493, 493, 493, 493, 494,\n",
      "       494, 494, 494, 494, 494, 499, 519, 532, 538, 546, 573, 577, 601,\n",
      "       623, 638, 648, 648, 648, 648, 648, 648, 657, 657, 657, 657, 657,\n",
      "       657, 695, 695, 695, 695, 695, 695, 709, 721, 721, 721, 721, 721,\n",
      "       724, 724, 724, 724, 724, 726, 726, 726, 726, 726, 726, 728, 767,\n",
      "       786, 786, 786, 786, 786, 786, 788, 808, 808, 808, 808, 808, 808,\n",
      "       811, 818, 880, 880, 880, 880, 880, 880], dtype=int64), array([ 0,  8,  9, 10, 11,  0,  7,  8,  9, 10, 11,  0,  7,  2,  2,  0,  7,\n",
      "        8,  9, 10, 11,  2,  0,  7,  8,  9, 10, 11,  2,  2,  2,  2,  0,  0,\n",
      "        7,  8,  9, 10, 11,  0,  7,  9,  2,  2,  0,  0,  7,  8,  9, 10, 11,\n",
      "        0,  7,  8,  9, 10, 11,  2,  2,  7,  5,  2,  5,  2,  5,  7,  2,  0,\n",
      "        7,  8,  9, 10, 11,  0,  7,  8,  9, 10, 11,  0,  7,  8,  9, 10, 11,\n",
      "        5,  7,  8,  9, 10, 11,  7,  8,  9, 10, 11,  0,  7,  8,  9, 10, 11,\n",
      "        5,  0,  0,  7,  8,  9, 10, 11,  0,  0,  7,  8,  9, 10, 11,  4,  2,\n",
      "        0,  7,  8,  9, 10, 11], dtype=int64))\n"
     ]
    }
   ],
   "source": [
    "threshold=3\n",
    "print(np.where(z>3))"
   ]
  },
  {
   "cell_type": "code",
   "execution_count": 107,
   "id": "7ee93047",
   "metadata": {},
   "outputs": [
    {
     "name": "stdout",
     "output_type": "stream",
     "text": [
      "(907, 12)\n",
      "(860, 12)\n"
     ]
    }
   ],
   "source": [
    "data_new=data[(z<3).all(axis=1)]\n",
    "print(data.shape)\n",
    "print(data_new.shape)"
   ]
  },
  {
   "cell_type": "markdown",
   "id": "e76405bd",
   "metadata": {},
   "source": [
    "# \n",
    "The removal of these outliers is essential, the percentage loss is 5.18% which is tolerable"
   ]
  },
  {
   "cell_type": "markdown",
   "id": "9793b0cf",
   "metadata": {},
   "source": [
    "# Prediction 1- Primary-fuel (As the data is categorical, classification models are used)\n",
    "\n"
   ]
  },
  {
   "cell_type": "markdown",
   "id": "17e23f4b",
   "metadata": {},
   "source": [
    "# Divide Data Set into features and labels"
   ]
  },
  {
   "cell_type": "code",
   "execution_count": 143,
   "id": "5685eaa6",
   "metadata": {},
   "outputs": [],
   "source": [
    "y_c=data_new['primary_fuel']\n",
    "x_c=data_new.drop(columns=['primary_fuel'])"
   ]
  },
  {
   "cell_type": "code",
   "execution_count": 144,
   "id": "45478e4c",
   "metadata": {},
   "outputs": [
    {
     "data": {
      "text/plain": [
       "generation_gwh_2014    2.749187\n",
       "generation_gwh_2015    2.616752\n",
       "generation_gwh_2016    2.571109\n",
       "generation_gwh_2018    2.536255\n",
       "generation_gwh_2017    2.477173\n",
       "capacity_mw            2.010388\n",
       "longitude              0.974769\n",
       "latitude              -0.103976\n",
       "commissioning_year    -0.498210\n",
       "geolocation_source    -1.982817\n",
       "other_fuel1           -2.112517\n",
       "dtype: float64"
      ]
     },
     "execution_count": 144,
     "metadata": {},
     "output_type": "execute_result"
    }
   ],
   "source": [
    "#Confirming the skewness\n",
    "x_c.skew().sort_values(ascending=False)"
   ]
  },
  {
   "cell_type": "markdown",
   "id": "7dbf72c1",
   "metadata": {},
   "source": [
    "# \n",
    "Keeping +/-0.5 as the range of skewness, the columns not falling in this range are-\n",
    "\n",
    "generation_gwh_2014   \n",
    "generation_gwh_2015      \n",
    "generation_gwh_2016           \n",
    "generation_gwh_2018       \n",
    "capacity_mw            \n",
    "longitude                 \n",
    "geolocation_source          \n",
    "other_fuel1              "
   ]
  },
  {
   "cell_type": "markdown",
   "id": "5f151a04",
   "metadata": {},
   "source": [
    "# Transforming Data to remove skewness"
   ]
  },
  {
   "cell_type": "code",
   "execution_count": 145,
   "id": "0ce29fb8",
   "metadata": {},
   "outputs": [],
   "source": [
    "from sklearn.preprocessing import power_transform\n",
    "x_nc=power_transform(x_c)"
   ]
  },
  {
   "cell_type": "code",
   "execution_count": 146,
   "id": "c4d6777c",
   "metadata": {},
   "outputs": [
    {
     "data": {
      "text/plain": [
       "generation_gwh_2016    0.048220\n",
       "generation_gwh_2017    0.039480\n",
       "capacity_mw            0.019206\n",
       "longitude              0.010769\n",
       "generation_gwh_2015   -0.023938\n",
       "generation_gwh_2018   -0.039106\n",
       "generation_gwh_2014   -0.046785\n",
       "commissioning_year    -0.066706\n",
       "latitude              -0.074810\n",
       "geolocation_source    -1.928119\n",
       "other_fuel1           -2.112517\n",
       "dtype: float64"
      ]
     },
     "execution_count": 146,
     "metadata": {},
     "output_type": "execute_result"
    }
   ],
   "source": [
    "#Checking if skewness was rectified\n",
    "x_skew=pd.DataFrame(x_nc, columns=x_c.columns)\n",
    "x_skew.skew().sort_values(ascending=False)"
   ]
  },
  {
   "cell_type": "markdown",
   "id": "a7d8e157",
   "metadata": {},
   "source": [
    "# \n",
    "Skewness has been removed, let's move forward"
   ]
  },
  {
   "cell_type": "markdown",
   "id": "765af8c4",
   "metadata": {},
   "source": [
    "# Scaling the data"
   ]
  },
  {
   "cell_type": "code",
   "execution_count": 147,
   "id": "648b5311",
   "metadata": {},
   "outputs": [],
   "source": [
    "scaler=StandardScaler()\n",
    "X_scaled=scaler.fit_transform(x_skew)"
   ]
  },
  {
   "cell_type": "markdown",
   "id": "05ccc288",
   "metadata": {},
   "source": [
    "# Using Logistic Regression Model"
   ]
  },
  {
   "cell_type": "code",
   "execution_count": 148,
   "id": "a170229e",
   "metadata": {},
   "outputs": [],
   "source": [
    "from sklearn.linear_model import LogisticRegression\n",
    "from sklearn.metrics import accuracy_score\n",
    "from sklearn.metrics import confusion_matrix, classification_report\n",
    "from sklearn.model_selection import train_test_split"
   ]
  },
  {
   "cell_type": "code",
   "execution_count": 150,
   "id": "c70c57e5",
   "metadata": {},
   "outputs": [
    {
     "name": "stdout",
     "output_type": "stream",
     "text": [
      "accuracy 0.6046511627906976 random_state 0\n",
      "accuracy 0.6046511627906976 random_state 0\n",
      "accuracy 0.6337209302325582 random_state 1\n",
      "accuracy 0.6337209302325582 random_state 1\n",
      "accuracy 0.6569767441860465 random_state 2\n",
      "accuracy 0.6569767441860465 random_state 2\n",
      "accuracy 0.6744186046511628 random_state 3\n",
      "accuracy 0.6744186046511628 random_state 3\n",
      "accuracy 0.6453488372093024 random_state 4\n",
      "accuracy 0.6453488372093024 random_state 5\n",
      "accuracy 0.6627906976744186 random_state 6\n",
      "accuracy 0.6744186046511628 random_state 7\n",
      "accuracy 0.6453488372093024 random_state 8\n",
      "accuracy 0.6511627906976745 random_state 9\n",
      "accuracy 0.6395348837209303 random_state 10\n",
      "accuracy 0.6162790697674418 random_state 11\n",
      "accuracy 0.6162790697674418 random_state 12\n",
      "accuracy 0.6976744186046512 random_state 13\n",
      "accuracy 0.6976744186046512 random_state 13\n",
      "accuracy 0.6686046511627907 random_state 14\n",
      "accuracy 0.686046511627907 random_state 15\n",
      "accuracy 0.5988372093023255 random_state 16\n",
      "accuracy 0.563953488372093 random_state 17\n",
      "accuracy 0.6453488372093024 random_state 18\n",
      "accuracy 0.7034883720930233 random_state 19\n",
      "accuracy 0.7034883720930233 random_state 19\n",
      "accuracy 0.6627906976744186 random_state 20\n",
      "accuracy 0.6976744186046512 random_state 21\n",
      "accuracy 0.6744186046511628 random_state 22\n",
      "accuracy 0.6569767441860465 random_state 23\n",
      "accuracy 0.627906976744186 random_state 24\n",
      "accuracy 0.6918604651162791 random_state 25\n",
      "accuracy 0.6686046511627907 random_state 26\n",
      "accuracy 0.6337209302325582 random_state 27\n",
      "accuracy 0.6162790697674418 random_state 28\n",
      "accuracy 0.5872093023255814 random_state 29\n",
      "accuracy 0.6686046511627907 random_state 30\n",
      "accuracy 0.6453488372093024 random_state 31\n",
      "accuracy 0.6686046511627907 random_state 32\n",
      "accuracy 0.6744186046511628 random_state 33\n",
      "accuracy 0.6511627906976745 random_state 34\n",
      "accuracy 0.6453488372093024 random_state 35\n",
      "accuracy 0.627906976744186 random_state 36\n",
      "accuracy 0.6744186046511628 random_state 37\n",
      "accuracy 0.563953488372093 random_state 38\n",
      "accuracy 0.686046511627907 random_state 39\n",
      "accuracy 0.6511627906976745 random_state 40\n",
      "accuracy 0.6569767441860465 random_state 41\n",
      "accuracy 0.6686046511627907 random_state 42\n",
      "accuracy 0.6802325581395349 random_state 43\n",
      "accuracy 0.6162790697674418 random_state 44\n",
      "accuracy 0.6395348837209303 random_state 45\n",
      "accuracy 0.6511627906976745 random_state 46\n",
      "accuracy 0.6918604651162791 random_state 47\n",
      "accuracy 0.6569767441860465 random_state 48\n",
      "accuracy 0.5988372093023255 random_state 49\n",
      "accuracy 0.6453488372093024 random_state 50\n",
      "accuracy 0.622093023255814 random_state 51\n",
      "accuracy 0.6511627906976745 random_state 52\n",
      "accuracy 0.6453488372093024 random_state 53\n",
      "accuracy 0.6511627906976745 random_state 54\n",
      "accuracy 0.6511627906976745 random_state 55\n",
      "accuracy 0.6046511627906976 random_state 56\n",
      "accuracy 0.6744186046511628 random_state 57\n",
      "accuracy 0.6162790697674418 random_state 58\n",
      "accuracy 0.6627906976744186 random_state 59\n",
      "accuracy 0.686046511627907 random_state 60\n",
      "accuracy 0.6162790697674418 random_state 61\n",
      "accuracy 0.6627906976744186 random_state 62\n",
      "accuracy 0.6744186046511628 random_state 63\n",
      "accuracy 0.6395348837209303 random_state 64\n",
      "accuracy 0.6511627906976745 random_state 65\n",
      "accuracy 0.6744186046511628 random_state 66\n",
      "accuracy 0.6395348837209303 random_state 67\n",
      "accuracy 0.5697674418604651 random_state 68\n",
      "accuracy 0.6569767441860465 random_state 69\n",
      "accuracy 0.7267441860465116 random_state 70\n",
      "accuracy 0.7267441860465116 random_state 70\n",
      "accuracy 0.686046511627907 random_state 71\n",
      "accuracy 0.686046511627907 random_state 72\n",
      "accuracy 0.6569767441860465 random_state 73\n",
      "accuracy 0.6395348837209303 random_state 74\n",
      "accuracy 0.5813953488372093 random_state 75\n",
      "accuracy 0.6627906976744186 random_state 76\n",
      "accuracy 0.5930232558139535 random_state 77\n",
      "accuracy 0.622093023255814 random_state 78\n",
      "accuracy 0.5755813953488372 random_state 79\n",
      "accuracy 0.6976744186046512 random_state 80\n",
      "accuracy 0.622093023255814 random_state 81\n",
      "accuracy 0.6162790697674418 random_state 82\n",
      "accuracy 0.6453488372093024 random_state 83\n",
      "accuracy 0.5872093023255814 random_state 84\n",
      "accuracy 0.6569767441860465 random_state 85\n",
      "accuracy 0.627906976744186 random_state 86\n",
      "accuracy 0.75 random_state 87\n",
      "accuracy 0.75 random_state 87\n",
      "accuracy 0.6453488372093024 random_state 88\n",
      "accuracy 0.6627906976744186 random_state 89\n",
      "accuracy 0.622093023255814 random_state 90\n",
      "accuracy 0.6395348837209303 random_state 91\n",
      "accuracy 0.6511627906976745 random_state 92\n",
      "accuracy 0.7093023255813954 random_state 93\n",
      "accuracy 0.6511627906976745 random_state 94\n",
      "accuracy 0.6162790697674418 random_state 95\n",
      "accuracy 0.6395348837209303 random_state 96\n",
      "accuracy 0.686046511627907 random_state 97\n",
      "accuracy 0.6511627906976745 random_state 98\n",
      "accuracy 0.6627906976744186 random_state 99\n",
      "accuracy 0.6162790697674418 random_state 100\n",
      "accuracy 0.686046511627907 random_state 101\n",
      "accuracy 0.686046511627907 random_state 102\n",
      "accuracy 0.6569767441860465 random_state 103\n",
      "accuracy 0.6744186046511628 random_state 104\n",
      "accuracy 0.6395348837209303 random_state 105\n",
      "accuracy 0.627906976744186 random_state 106\n",
      "accuracy 0.6918604651162791 random_state 107\n",
      "accuracy 0.6162790697674418 random_state 108\n",
      "accuracy 0.686046511627907 random_state 109\n",
      "accuracy 0.6627906976744186 random_state 110\n",
      "accuracy 0.6627906976744186 random_state 111\n",
      "accuracy 0.6395348837209303 random_state 112\n",
      "accuracy 0.6569767441860465 random_state 113\n",
      "accuracy 0.6627906976744186 random_state 114\n",
      "accuracy 0.6627906976744186 random_state 115\n",
      "accuracy 0.6453488372093024 random_state 116\n",
      "accuracy 0.6627906976744186 random_state 117\n",
      "accuracy 0.6569767441860465 random_state 118\n",
      "accuracy 0.6511627906976745 random_state 119\n",
      "accuracy 0.6046511627906976 random_state 120\n",
      "accuracy 0.6453488372093024 random_state 121\n",
      "accuracy 0.6337209302325582 random_state 122\n",
      "accuracy 0.6686046511627907 random_state 123\n",
      "accuracy 0.5697674418604651 random_state 124\n",
      "accuracy 0.7209302325581395 random_state 125\n",
      "accuracy 0.6337209302325582 random_state 126\n",
      "accuracy 0.6744186046511628 random_state 127\n",
      "accuracy 0.6744186046511628 random_state 128\n",
      "accuracy 0.7034883720930233 random_state 129\n",
      "accuracy 0.6337209302325582 random_state 130\n",
      "accuracy 0.627906976744186 random_state 131\n",
      "accuracy 0.6337209302325582 random_state 132\n",
      "accuracy 0.6511627906976745 random_state 133\n",
      "accuracy 0.6511627906976745 random_state 134\n",
      "accuracy 0.6569767441860465 random_state 135\n",
      "accuracy 0.6453488372093024 random_state 136\n",
      "accuracy 0.686046511627907 random_state 137\n",
      "accuracy 0.5872093023255814 random_state 138\n",
      "accuracy 0.6569767441860465 random_state 139\n",
      "accuracy 0.6744186046511628 random_state 140\n",
      "accuracy 0.6627906976744186 random_state 141\n",
      "accuracy 0.622093023255814 random_state 142\n",
      "accuracy 0.6395348837209303 random_state 143\n",
      "accuracy 0.6569767441860465 random_state 144\n",
      "accuracy 0.6744186046511628 random_state 145\n",
      "accuracy 0.6337209302325582 random_state 146\n",
      "accuracy 0.6395348837209303 random_state 147\n",
      "accuracy 0.6918604651162791 random_state 148\n",
      "accuracy 0.6569767441860465 random_state 149\n",
      "accuracy 0.6686046511627907 random_state 150\n",
      "accuracy 0.7093023255813954 random_state 151\n",
      "accuracy 0.6569767441860465 random_state 152\n",
      "accuracy 0.6511627906976745 random_state 153\n",
      "accuracy 0.6337209302325582 random_state 154\n",
      "accuracy 0.6395348837209303 random_state 155\n",
      "accuracy 0.6686046511627907 random_state 156\n",
      "accuracy 0.6453488372093024 random_state 157\n",
      "accuracy 0.6337209302325582 random_state 158\n",
      "accuracy 0.6511627906976745 random_state 159\n",
      "accuracy 0.627906976744186 random_state 160\n",
      "accuracy 0.6104651162790697 random_state 161\n",
      "accuracy 0.6744186046511628 random_state 162\n",
      "accuracy 0.6802325581395349 random_state 163\n",
      "accuracy 0.5872093023255814 random_state 164\n",
      "accuracy 0.6918604651162791 random_state 165\n",
      "accuracy 0.6569767441860465 random_state 166\n",
      "accuracy 0.5988372093023255 random_state 167\n",
      "accuracy 0.6802325581395349 random_state 168\n",
      "accuracy 0.6337209302325582 random_state 169\n",
      "accuracy 0.6395348837209303 random_state 170\n",
      "accuracy 0.6511627906976745 random_state 171\n",
      "accuracy 0.6976744186046512 random_state 172\n",
      "accuracy 0.6686046511627907 random_state 173\n",
      "accuracy 0.6627906976744186 random_state 174\n",
      "accuracy 0.6453488372093024 random_state 175\n",
      "accuracy 0.6627906976744186 random_state 176\n",
      "accuracy 0.627906976744186 random_state 177\n",
      "accuracy 0.6453488372093024 random_state 178\n",
      "accuracy 0.6046511627906976 random_state 179\n",
      "accuracy 0.5872093023255814 random_state 180\n",
      "accuracy 0.6104651162790697 random_state 181\n",
      "accuracy 0.6104651162790697 random_state 182\n",
      "accuracy 0.6918604651162791 random_state 183\n",
      "accuracy 0.6569767441860465 random_state 184\n",
      "accuracy 0.6453488372093024 random_state 185\n",
      "accuracy 0.622093023255814 random_state 186\n",
      "accuracy 0.6686046511627907 random_state 187\n",
      "accuracy 0.6627906976744186 random_state 188\n",
      "accuracy 0.6453488372093024 random_state 189\n",
      "accuracy 0.6337209302325582 random_state 190\n",
      "accuracy 0.6162790697674418 random_state 191\n",
      "accuracy 0.622093023255814 random_state 192\n",
      "accuracy 0.6569767441860465 random_state 193\n",
      "accuracy 0.7034883720930233 random_state 194\n",
      "accuracy 0.6104651162790697 random_state 195\n",
      "accuracy 0.6744186046511628 random_state 196\n",
      "accuracy 0.627906976744186 random_state 197\n",
      "accuracy 0.6162790697674418 random_state 198\n",
      "accuracy 0.6511627906976745 random_state 199\n"
     ]
    }
   ],
   "source": [
    "maxAccu=0     #maximum accuracy\n",
    "maxRS=0       #best random state\n",
    "\n",
    "#Finding Best random state\n",
    "for i in range(0,200):\n",
    "    x_train, x_test, y_train, y_test= train_test_split(X_scaled, y_c, test_size=0.2, random_state=i)\n",
    "    LR=LogisticRegression()\n",
    "    LR.fit(x_train, y_train)                #fitting the data will train the model\n",
    "    predrf=LR.predict(x_test)               #this is the predicted target variable\n",
    "    acc=accuracy_score(y_test, predrf)      #accuracy score\n",
    "    print('accuracy', acc, 'random_state', i)\n",
    "    \n",
    "    if acc>maxAccu:\n",
    "        maxAccu=acc\n",
    "        maxRS=i\n",
    "        print('accuracy', maxAccu, 'random_state', i)"
   ]
  },
  {
   "cell_type": "code",
   "execution_count": 152,
   "id": "6f86cb94",
   "metadata": {},
   "outputs": [],
   "source": [
    "#creating train-test-sloit using best random state observed(i.e.87)\n",
    "x_train, x_test, y_train, y_test= train_test_split(X_scaled, y_c, test_size=0.2, random_state=15)"
   ]
  },
  {
   "cell_type": "code",
   "execution_count": 153,
   "id": "1e81b0c6",
   "metadata": {},
   "outputs": [
    {
     "name": "stdout",
     "output_type": "stream",
     "text": [
      "Accuracy  68.6046511627907\n",
      "[[ 3  0  0  4  0  0  0  6]\n",
      " [ 1 31  1  2  0  0  0  1]\n",
      " [ 0  4  1  5  0  1  0  3]\n",
      " [ 0  5  0 35  0  0  0  8]\n",
      " [ 0  1  0  2  0  0  0  0]\n",
      " [ 0  1  0  2  0  1  0  1]\n",
      " [ 0  0  0  0  0  0 28  0]\n",
      " [ 0  2  0  3  0  1  0 19]]\n",
      "              precision    recall  f1-score   support\n",
      "\n",
      "           0       0.75      0.23      0.35        13\n",
      "           1       0.70      0.86      0.78        36\n",
      "           2       0.50      0.07      0.12        14\n",
      "           3       0.66      0.73      0.69        48\n",
      "           4       0.00      0.00      0.00         3\n",
      "           5       0.33      0.20      0.25         5\n",
      "           6       1.00      1.00      1.00        28\n",
      "           7       0.50      0.76      0.60        25\n",
      "\n",
      "    accuracy                           0.69       172\n",
      "   macro avg       0.56      0.48      0.47       172\n",
      "weighted avg       0.67      0.69      0.65       172\n",
      "\n"
     ]
    }
   ],
   "source": [
    "LR=LogisticRegression()\n",
    "LR.fit(x_train, y_train)                \n",
    "predlr=LR.predict(x_test)               \n",
    "print(\"Accuracy \",accuracy_score(y_test, predlr)*100)      #accuracy score\n",
    "print(confusion_matrix(y_test,predlr))\n",
    "print(classification_report(y_test,predlr))"
   ]
  },
  {
   "cell_type": "markdown",
   "id": "5ea2c0c3",
   "metadata": {},
   "source": [
    "# Using Decision Tree Classifier"
   ]
  },
  {
   "cell_type": "code",
   "execution_count": 154,
   "id": "a11e8ddf",
   "metadata": {},
   "outputs": [
    {
     "name": "stdout",
     "output_type": "stream",
     "text": [
      "Accuracy  72.67441860465115\n",
      "[[12  0  0  0  0  0  0  1]\n",
      " [ 0 26  1  5  0  1  1  2]\n",
      " [ 0  2  5  5  1  0  0  1]\n",
      " [ 0  6  3 36  0  0  0  3]\n",
      " [ 0  1  1  0  1  0  0  0]\n",
      " [ 0  1  1  3  0  0  0  0]\n",
      " [ 0  0  0  0  0  0 27  1]\n",
      " [ 4  1  0  2  0  0  0 18]]\n",
      "              precision    recall  f1-score   support\n",
      "\n",
      "           0       0.75      0.92      0.83        13\n",
      "           1       0.70      0.72      0.71        36\n",
      "           2       0.45      0.36      0.40        14\n",
      "           3       0.71      0.75      0.73        48\n",
      "           4       0.50      0.33      0.40         3\n",
      "           5       0.00      0.00      0.00         5\n",
      "           6       0.96      0.96      0.96        28\n",
      "           7       0.69      0.72      0.71        25\n",
      "\n",
      "    accuracy                           0.73       172\n",
      "   macro avg       0.60      0.60      0.59       172\n",
      "weighted avg       0.70      0.73      0.71       172\n",
      "\n"
     ]
    }
   ],
   "source": [
    "from sklearn.tree import DecisionTreeClassifier\n",
    "\n",
    "dt=DecisionTreeClassifier()\n",
    "dt.fit(x_train, y_train)\n",
    "preddt=dt.predict(x_test)\n",
    "print(\"Accuracy \",accuracy_score(y_test, preddt)*100)      #accuracy score\n",
    "print(confusion_matrix(y_test,preddt))\n",
    "print(classification_report(y_test,preddt))"
   ]
  },
  {
   "cell_type": "markdown",
   "id": "987bacb3",
   "metadata": {},
   "source": [
    "# Using Random Forest CLassifier"
   ]
  },
  {
   "cell_type": "code",
   "execution_count": 158,
   "id": "98a59a72",
   "metadata": {},
   "outputs": [
    {
     "name": "stdout",
     "output_type": "stream",
     "text": [
      "Accuracy  79.06976744186046\n",
      "[[11  0  0  0  0  0  0  2]\n",
      " [ 1 30  0  3  0  0  0  2]\n",
      " [ 1  4  4  5  0  0  0  0]\n",
      " [ 0  1  1 45  0  0  0  1]\n",
      " [ 0  1  1  1  0  0  0  0]\n",
      " [ 0  0  2  2  0  0  0  1]\n",
      " [ 0  0  0  0  0  0 28  0]\n",
      " [ 3  1  1  2  0  0  0 18]]\n",
      "              precision    recall  f1-score   support\n",
      "\n",
      "           0       0.69      0.85      0.76        13\n",
      "           1       0.81      0.83      0.82        36\n",
      "           2       0.44      0.29      0.35        14\n",
      "           3       0.78      0.94      0.85        48\n",
      "           4       0.00      0.00      0.00         3\n",
      "           5       0.00      0.00      0.00         5\n",
      "           6       1.00      1.00      1.00        28\n",
      "           7       0.75      0.72      0.73        25\n",
      "\n",
      "    accuracy                           0.79       172\n",
      "   macro avg       0.56      0.58      0.56       172\n",
      "weighted avg       0.75      0.79      0.76       172\n",
      "\n"
     ]
    }
   ],
   "source": [
    "from sklearn.ensemble import RandomForestClassifier\n",
    "\n",
    "rf=RandomForestClassifier()\n",
    "rf.fit(x_train, y_train)\n",
    "predrf=rf.predict(x_test)\n",
    "print(\"Accuracy \",accuracy_score(y_test, predrf)*100)      #accuracy score\n",
    "print(confusion_matrix(y_test,predrf))\n",
    "print(classification_report(y_test,predrf))"
   ]
  },
  {
   "cell_type": "markdown",
   "id": "55291f1a",
   "metadata": {},
   "source": [
    "# Using SVC"
   ]
  },
  {
   "cell_type": "code",
   "execution_count": 120,
   "id": "bf22482b",
   "metadata": {},
   "outputs": [
    {
     "name": "stdout",
     "output_type": "stream",
     "text": [
      "Accuracy  76.74418604651163\n",
      "[[ 6  0  0  1  0  0  2]\n",
      " [ 1 48  0  5  0  0  0]\n",
      " [ 0  1  0  6  0  0  1]\n",
      " [ 1  6  0 30  0  0  5]\n",
      " [ 0  0  1  0  0  0  4]\n",
      " [ 0  0  0  0  0 27  0]\n",
      " [ 5  1  0  0  0  0 21]]\n",
      "              precision    recall  f1-score   support\n",
      "\n",
      "           0       0.46      0.67      0.55         9\n",
      "           1       0.86      0.89      0.87        54\n",
      "           2       0.00      0.00      0.00         8\n",
      "           3       0.71      0.71      0.71        42\n",
      "           5       0.00      0.00      0.00         5\n",
      "           6       1.00      1.00      1.00        27\n",
      "           7       0.64      0.78      0.70        27\n",
      "\n",
      "    accuracy                           0.77       172\n",
      "   macro avg       0.52      0.58      0.55       172\n",
      "weighted avg       0.72      0.77      0.74       172\n",
      "\n"
     ]
    }
   ],
   "source": [
    "from sklearn.svm import SVC\n",
    "\n",
    "svc=SVC()\n",
    "svc.fit(x_train, y_train)\n",
    "ad_pred=svc.predict(x_test)\n",
    "print(\"Accuracy \",accuracy_score(y_test, ad_pred)*100)      #accuracy score\n",
    "print(confusion_matrix(y_test,ad_pred))\n",
    "print(classification_report(y_test,ad_pred))"
   ]
  },
  {
   "cell_type": "markdown",
   "id": "33591cc0",
   "metadata": {},
   "source": [
    "# Cross Validation"
   ]
  },
  {
   "cell_type": "code",
   "execution_count": 121,
   "id": "d53257fc",
   "metadata": {},
   "outputs": [
    {
     "name": "stdout",
     "output_type": "stream",
     "text": [
      "Cross validation score of Logistic Regression:  0.44302325581395346\n"
     ]
    }
   ],
   "source": [
    "from sklearn.model_selection import cross_val_score\n",
    "\n",
    "#validation accuracy\n",
    "scr=cross_val_score(LR,x_c,y_c,cv=5)\n",
    "print(\"Cross validation score of Logistic Regression: \", scr.mean())"
   ]
  },
  {
   "cell_type": "code",
   "execution_count": 122,
   "id": "142f07a2",
   "metadata": {},
   "outputs": [
    {
     "name": "stdout",
     "output_type": "stream",
     "text": [
      "Cross validation score of Decision Tree Classifier:  0.6906976744186046\n"
     ]
    }
   ],
   "source": [
    "scr2=cross_val_score(dt,x_c,y_c,cv=5)\n",
    "print(\"Cross validation score of Decision Tree Classifier: \", scr2.mean())"
   ]
  },
  {
   "cell_type": "code",
   "execution_count": 123,
   "id": "1d2604b6",
   "metadata": {},
   "outputs": [
    {
     "name": "stdout",
     "output_type": "stream",
     "text": [
      "Cross validation score of Random Forest Classifier:  0.7813953488372094\n"
     ]
    }
   ],
   "source": [
    "scr3=cross_val_score(rf,x_c,y_c,cv=5)\n",
    "print(\"Cross validation score of Random Forest Classifier: \", scr3.mean())"
   ]
  },
  {
   "cell_type": "code",
   "execution_count": 124,
   "id": "530d8c99",
   "metadata": {},
   "outputs": [
    {
     "name": "stdout",
     "output_type": "stream",
     "text": [
      "Cross validation score of SVC model:  0.3848837209302326\n"
     ]
    }
   ],
   "source": [
    "scr4=cross_val_score(svc,x_c,y_c,cv=5)\n",
    "print(\"Cross validation score of SVC model: \", scr4.mean())"
   ]
  },
  {
   "cell_type": "markdown",
   "id": "2af0772b",
   "metadata": {},
   "source": [
    "# \n",
    "Random Forest Classifier is performing better, hence it is carried forward"
   ]
  },
  {
   "cell_type": "markdown",
   "id": "627c9f0d",
   "metadata": {},
   "source": [
    "# Hyper Parameter Tuning"
   ]
  },
  {
   "cell_type": "code",
   "execution_count": 125,
   "id": "3fac4454",
   "metadata": {},
   "outputs": [
    {
     "data": {
      "text/plain": [
       "RandomForestClassifier()"
      ]
     },
     "execution_count": 125,
     "metadata": {},
     "output_type": "execute_result"
    }
   ],
   "source": [
    "RandomForestClassifier()"
   ]
  },
  {
   "cell_type": "code",
   "execution_count": 126,
   "id": "681acaab",
   "metadata": {},
   "outputs": [],
   "source": [
    "from sklearn.model_selection import GridSearchCV\n",
    "\n",
    "#Creating parameter list to pass in GridSearchCV\n",
    "parameters={'max_features':['auto','sqrt','log2'], 'max_depth':[4,5,6,7,8], 'criterion':['gini', 'entropy']}"
   ]
  },
  {
   "cell_type": "code",
   "execution_count": 127,
   "id": "a66050ea",
   "metadata": {},
   "outputs": [
    {
     "data": {
      "text/plain": [
       "{'criterion': 'entropy', 'max_depth': 8, 'max_features': 'auto'}"
      ]
     },
     "execution_count": 127,
     "metadata": {},
     "output_type": "execute_result"
    }
   ],
   "source": [
    "GCV=GridSearchCV(RandomForestClassifier(), parameters, cv=5, scoring=\"accuracy\")\n",
    "GCV.fit(x_train,y_train)       #fitting data in the model\n",
    "GCV.best_params_               #printing the best parameters found in GridSearchCV"
   ]
  },
  {
   "cell_type": "code",
   "execution_count": 166,
   "id": "e19f651e",
   "metadata": {},
   "outputs": [
    {
     "data": {
      "text/plain": [
       "RandomForestClassifier(criterion='entropy', max_depth=8)"
      ]
     },
     "execution_count": 166,
     "metadata": {},
     "output_type": "execute_result"
    }
   ],
   "source": [
    "GCV.best_estimator_"
   ]
  },
  {
   "cell_type": "code",
   "execution_count": 167,
   "id": "2d11c6fd",
   "metadata": {},
   "outputs": [
    {
     "data": {
      "text/plain": [
       "0.9127906976744186"
      ]
     },
     "execution_count": 167,
     "metadata": {},
     "output_type": "execute_result"
    }
   ],
   "source": [
    "GCV_pred=GCV.best_estimator_.predict(x_test)        #Predicting with best parameters\n",
    "accuracy_score(y_test,GCV_pred) "
   ]
  },
  {
   "cell_type": "markdown",
   "id": "a3277dc5",
   "metadata": {},
   "source": [
    "# \n",
    "Final Accuracy is 91.2% which depicts that our model is working well"
   ]
  },
  {
   "cell_type": "markdown",
   "id": "392fe1b3",
   "metadata": {},
   "source": [
    "# Saving the Random Forest Classifier Model for Prediction 1- Primary Fuel "
   ]
  },
  {
   "cell_type": "code",
   "execution_count": 168,
   "id": "da099ef3",
   "metadata": {},
   "outputs": [],
   "source": [
    "filename='Global Power Plant Prediction 1- Primary Fuel.pkl'\n",
    "pickle.dump(LR, open(filename,'wb'))"
   ]
  },
  {
   "cell_type": "markdown",
   "id": "32a5595b",
   "metadata": {},
   "source": [
    "# Prediction 2- capacity_mw (As the data is continuous, regression models are used)"
   ]
  },
  {
   "cell_type": "markdown",
   "id": "e2e2e924",
   "metadata": {},
   "source": [
    "# Divide Data Set into features and labels"
   ]
  },
  {
   "cell_type": "code",
   "execution_count": 161,
   "id": "99ed5b4d",
   "metadata": {},
   "outputs": [],
   "source": [
    "y_r=data_new['capacity_mw']\n",
    "x_r=data_new.drop(columns=['capacity_mw'])"
   ]
  },
  {
   "cell_type": "code",
   "execution_count": 162,
   "id": "9b661304",
   "metadata": {},
   "outputs": [
    {
     "data": {
      "text/plain": [
       "generation_gwh_2014    2.749187\n",
       "generation_gwh_2015    2.616752\n",
       "generation_gwh_2016    2.571109\n",
       "generation_gwh_2018    2.536255\n",
       "generation_gwh_2017    2.477173\n",
       "longitude              0.974769\n",
       "primary_fuel           0.413656\n",
       "latitude              -0.103976\n",
       "commissioning_year    -0.498210\n",
       "geolocation_source    -1.982817\n",
       "other_fuel1           -2.112517\n",
       "dtype: float64"
      ]
     },
     "execution_count": 162,
     "metadata": {},
     "output_type": "execute_result"
    }
   ],
   "source": [
    "#Confirming the skewness\n",
    "x_r.skew().sort_values(ascending=False)"
   ]
  },
  {
   "cell_type": "markdown",
   "id": "6782a796",
   "metadata": {},
   "source": [
    "# \n",
    "Keeping +/-0.5 as the range of skewness, the columns not falling in this range are-\n",
    "\n",
    "generation_gwh_2014   \n",
    "generation_gwh_2015      \n",
    "generation_gwh_2016           \n",
    "generation_gwh_2018 \n",
    "generation_gwh_2017\n",
    "primary_fuel            \n",
    "longitude                 \n",
    "geolocation_source          \n",
    "other_fuel1  "
   ]
  },
  {
   "cell_type": "markdown",
   "id": "567ea243",
   "metadata": {},
   "source": [
    "# Transforming Data to remove skewness"
   ]
  },
  {
   "cell_type": "code",
   "execution_count": 164,
   "id": "2755ec94",
   "metadata": {},
   "outputs": [],
   "source": [
    "from sklearn.preprocessing import power_transform\n",
    "x_nr=power_transform(x_r)"
   ]
  },
  {
   "cell_type": "code",
   "execution_count": 165,
   "id": "e5fe1089",
   "metadata": {},
   "outputs": [
    {
     "data": {
      "text/plain": [
       "generation_gwh_2016    0.048220\n",
       "generation_gwh_2017    0.039480\n",
       "longitude              0.010769\n",
       "generation_gwh_2015   -0.023938\n",
       "generation_gwh_2018   -0.039106\n",
       "generation_gwh_2014   -0.046785\n",
       "primary_fuel          -0.060307\n",
       "commissioning_year    -0.066706\n",
       "latitude              -0.074810\n",
       "geolocation_source    -1.928119\n",
       "other_fuel1           -2.112517\n",
       "dtype: float64"
      ]
     },
     "execution_count": 165,
     "metadata": {},
     "output_type": "execute_result"
    }
   ],
   "source": [
    "#Checking if skewness was rectified\n",
    "x_skew_r=pd.DataFrame(x_nr, columns=x_r.columns)\n",
    "x_skew_r.skew().sort_values(ascending=False)"
   ]
  },
  {
   "cell_type": "markdown",
   "id": "891b6ed3",
   "metadata": {},
   "source": [
    "# \n",
    "Skewness has been removed, let's move forward"
   ]
  },
  {
   "cell_type": "markdown",
   "id": "8d527702",
   "metadata": {},
   "source": [
    "# Scaling the data"
   ]
  },
  {
   "cell_type": "code",
   "execution_count": 169,
   "id": "3b38f770",
   "metadata": {},
   "outputs": [],
   "source": [
    "scaler=StandardScaler()\n",
    "X_scaled_r=scaler.fit_transform(x_skew_r)"
   ]
  },
  {
   "cell_type": "markdown",
   "id": "41d8fa3f",
   "metadata": {},
   "source": [
    "# Using Linear Regression Model"
   ]
  },
  {
   "cell_type": "code",
   "execution_count": 170,
   "id": "e3210954",
   "metadata": {},
   "outputs": [
    {
     "name": "stdout",
     "output_type": "stream",
     "text": [
      "At random state  0 the training accuracy is:-  0.6545897498288216\n",
      "At random state  0 the testing accuracy is:-  0.6837505379867606\n",
      "\n",
      "\n",
      "At random state  1 the training accuracy is:-  0.6608934053464302\n",
      "At random state  1 the testing accuracy is:-  0.6860752443531977\n",
      "\n",
      "\n",
      "At random state  2 the training accuracy is:-  0.6624563434446524\n",
      "At random state  2 the testing accuracy is:-  0.6801897920594748\n",
      "\n",
      "\n",
      "At random state  3 the training accuracy is:-  0.6707603364311054\n",
      "At random state  3 the testing accuracy is:-  0.5998584008272592\n",
      "\n",
      "\n",
      "At random state  4 the training accuracy is:-  0.6957394677715039\n",
      "At random state  4 the testing accuracy is:-  0.5321938539583717\n",
      "\n",
      "\n",
      "At random state  5 the training accuracy is:-  0.6850364366132315\n",
      "At random state  5 the testing accuracy is:-  0.5907462285209247\n",
      "\n",
      "\n",
      "At random state  6 the training accuracy is:-  0.6460668332663173\n",
      "At random state  6 the testing accuracy is:-  0.7340711547951362\n",
      "\n",
      "\n",
      "At random state  7 the training accuracy is:-  0.6681755304251606\n",
      "At random state  7 the testing accuracy is:-  0.6548383389615045\n",
      "\n",
      "\n",
      "At random state  8 the training accuracy is:-  0.6598953695282933\n",
      "At random state  8 the testing accuracy is:-  0.6901514484680968\n",
      "\n",
      "\n",
      "At random state  9 the training accuracy is:-  0.6719655790046755\n",
      "At random state  9 the testing accuracy is:-  0.6270575305259658\n",
      "\n",
      "\n",
      "At random state  10 the training accuracy is:-  0.6817226454611838\n",
      "At random state  10 the testing accuracy is:-  0.6129235266204418\n",
      "\n",
      "\n",
      "At random state  11 the training accuracy is:-  0.6925242324533065\n",
      "At random state  11 the testing accuracy is:-  0.5442435719723246\n",
      "\n",
      "\n",
      "At random state  12 the training accuracy is:-  0.6932964936794146\n",
      "At random state  12 the testing accuracy is:-  0.5542901261341528\n",
      "\n",
      "\n",
      "At random state  13 the training accuracy is:-  0.6405643671822814\n",
      "At random state  13 the testing accuracy is:-  0.7270528053512698\n",
      "\n",
      "\n",
      "At random state  14 the training accuracy is:-  0.6715719367765753\n",
      "At random state  14 the testing accuracy is:-  0.6252365792686944\n",
      "\n",
      "\n",
      "At random state  15 the training accuracy is:-  0.6996328034474504\n",
      "At random state  15 the testing accuracy is:-  0.5056300245586528\n",
      "\n",
      "\n",
      "At random state  16 the training accuracy is:-  0.6581294518242623\n",
      "At random state  16 the testing accuracy is:-  0.7037079052263124\n",
      "\n",
      "\n",
      "At random state  17 the training accuracy is:-  0.6884664553924826\n",
      "At random state  17 the testing accuracy is:-  0.5348739653361141\n",
      "\n",
      "\n",
      "At random state  18 the training accuracy is:-  0.684086290406706\n",
      "At random state  18 the testing accuracy is:-  0.5408668091508259\n",
      "\n",
      "\n",
      "At random state  19 the training accuracy is:-  0.6670039218561971\n",
      "At random state  19 the testing accuracy is:-  0.66375427762955\n",
      "\n",
      "\n",
      "At random state  20 the training accuracy is:-  0.6732924312638102\n",
      "At random state  20 the testing accuracy is:-  0.6317285253489606\n",
      "\n",
      "\n",
      "At random state  21 the training accuracy is:-  0.6639225408557801\n",
      "At random state  21 the testing accuracy is:-  0.6788254958827932\n",
      "\n",
      "\n",
      "At random state  22 the training accuracy is:-  0.6751792390053346\n",
      "At random state  22 the testing accuracy is:-  0.6295754087784204\n",
      "\n",
      "\n",
      "At random state  23 the training accuracy is:-  0.6773076944259948\n",
      "At random state  23 the testing accuracy is:-  0.5966231533779685\n",
      "\n",
      "\n",
      "At random state  24 the training accuracy is:-  0.6848824525459521\n",
      "At random state  24 the testing accuracy is:-  0.5828222028356\n",
      "\n",
      "\n",
      "At random state  25 the training accuracy is:-  0.6617527125065916\n",
      "At random state  25 the testing accuracy is:-  0.6867982143307482\n",
      "\n",
      "\n",
      "At random state  26 the training accuracy is:-  0.6823375727536249\n",
      "At random state  26 the testing accuracy is:-  0.5910366161523979\n",
      "\n",
      "\n",
      "At random state  27 the training accuracy is:-  0.685599727638909\n",
      "At random state  27 the testing accuracy is:-  0.5635067563713732\n",
      "\n",
      "\n",
      "At random state  28 the training accuracy is:-  0.6602216634787791\n",
      "At random state  28 the testing accuracy is:-  0.6758602791232072\n",
      "\n",
      "\n",
      "At random state  29 the training accuracy is:-  0.6802640161884941\n",
      "At random state  29 the testing accuracy is:-  0.5853142318010265\n",
      "\n",
      "\n",
      "At random state  30 the training accuracy is:-  0.6643699459196475\n",
      "At random state  30 the testing accuracy is:-  0.659487085087354\n",
      "\n",
      "\n",
      "At random state  31 the training accuracy is:-  0.6624473914684164\n",
      "At random state  31 the testing accuracy is:-  0.6675769215742697\n",
      "\n",
      "\n",
      "At random state  32 the training accuracy is:-  0.6650670469864568\n",
      "At random state  32 the testing accuracy is:-  0.6661738466579818\n",
      "\n",
      "\n",
      "At random state  33 the training accuracy is:-  0.6704379271640506\n",
      "At random state  33 the testing accuracy is:-  0.6488071942575822\n",
      "\n",
      "\n",
      "At random state  34 the training accuracy is:-  0.6660018538784676\n",
      "At random state  34 the testing accuracy is:-  0.6713927837965799\n",
      "\n",
      "\n",
      "At random state  35 the training accuracy is:-  0.6806812714829749\n",
      "At random state  35 the testing accuracy is:-  0.5901614069989247\n",
      "\n",
      "\n",
      "At random state  36 the training accuracy is:-  0.6700175247287617\n",
      "At random state  36 the testing accuracy is:-  0.6519047704302351\n",
      "\n",
      "\n",
      "At random state  37 the training accuracy is:-  0.684677999838726\n",
      "At random state  37 the testing accuracy is:-  0.5848598034671499\n",
      "\n",
      "\n",
      "At random state  38 the training accuracy is:-  0.6685712539982418\n",
      "At random state  38 the testing accuracy is:-  0.6598029380417798\n",
      "\n",
      "\n",
      "At random state  39 the training accuracy is:-  0.6850448810390479\n",
      "At random state  39 the testing accuracy is:-  0.5691016421302071\n",
      "\n",
      "\n",
      "At random state  40 the training accuracy is:-  0.6650867768607694\n",
      "At random state  40 the testing accuracy is:-  0.6692598376837791\n",
      "\n",
      "\n",
      "At random state  41 the training accuracy is:-  0.6601660535431031\n",
      "At random state  41 the testing accuracy is:-  0.6614146021647809\n",
      "\n",
      "\n",
      "At random state  42 the training accuracy is:-  0.683758033149225\n",
      "At random state  42 the testing accuracy is:-  0.5878363768836079\n",
      "\n",
      "\n",
      "At random state  43 the training accuracy is:-  0.6688910956734556\n",
      "At random state  43 the testing accuracy is:-  0.6416266549284759\n",
      "\n",
      "\n",
      "At random state  44 the training accuracy is:-  0.6717813340278614\n",
      "At random state  44 the testing accuracy is:-  0.6356556148297801\n",
      "\n",
      "\n",
      "At random state  45 the training accuracy is:-  0.6915337021930221\n",
      "At random state  45 the testing accuracy is:-  0.5859918335424628\n",
      "\n",
      "\n",
      "At random state  46 the training accuracy is:-  0.6828381349451798\n",
      "At random state  46 the testing accuracy is:-  0.5783053613552698\n",
      "\n",
      "\n",
      "At random state  47 the training accuracy is:-  0.6638615815435511\n",
      "At random state  47 the testing accuracy is:-  0.6747198134456355\n",
      "\n",
      "\n",
      "At random state  48 the training accuracy is:-  0.6769706537810147\n",
      "At random state  48 the testing accuracy is:-  0.5894573823324436\n",
      "\n",
      "\n",
      "At random state  49 the training accuracy is:-  0.7080295372055305\n",
      "At random state  49 the testing accuracy is:-  0.4295583814268962\n",
      "\n",
      "\n",
      "At random state  50 the training accuracy is:-  0.6814666798829465\n",
      "At random state  50 the testing accuracy is:-  0.5989944231140926\n",
      "\n",
      "\n",
      "At random state  51 the training accuracy is:-  0.6948803336429357\n",
      "At random state  51 the testing accuracy is:-  0.49168188124451606\n",
      "\n",
      "\n",
      "At random state  52 the training accuracy is:-  0.6533021126174937\n",
      "At random state  52 the testing accuracy is:-  0.7120602435529455\n",
      "\n",
      "\n",
      "At random state  53 the training accuracy is:-  0.6677523363464393\n",
      "At random state  53 the testing accuracy is:-  0.6604365401040988\n",
      "\n",
      "\n",
      "At random state  54 the training accuracy is:-  0.6568195654454084\n",
      "At random state  54 the testing accuracy is:-  0.7178282860784729\n",
      "\n",
      "\n",
      "At random state  55 the training accuracy is:-  0.6804038322079913\n",
      "At random state  55 the testing accuracy is:-  0.6160508104492601\n",
      "\n",
      "\n",
      "At random state  56 the training accuracy is:-  0.6716356080527632\n",
      "At random state  56 the testing accuracy is:-  0.650432181719865\n",
      "\n",
      "\n",
      "At random state  57 the training accuracy is:-  0.6827352078851403\n",
      "At random state  57 the testing accuracy is:-  0.5958830062273548\n",
      "\n",
      "\n",
      "At random state  58 the training accuracy is:-  0.6704519619369713\n",
      "At random state  58 the testing accuracy is:-  0.6481953653947439\n",
      "\n",
      "\n",
      "At random state  59 the training accuracy is:-  0.6789777702292139\n",
      "At random state  59 the testing accuracy is:-  0.5977251480515202\n",
      "\n",
      "\n",
      "At random state  60 the training accuracy is:-  0.6725877773436479\n",
      "At random state  60 the testing accuracy is:-  0.6405340045446996\n",
      "\n",
      "\n",
      "At random state  61 the training accuracy is:-  0.6584423496517915\n",
      "At random state  61 the testing accuracy is:-  0.6999576501367146\n",
      "\n",
      "\n",
      "At random state  62 the training accuracy is:-  0.6579851784618629\n",
      "At random state  62 the testing accuracy is:-  0.6833089473449522\n",
      "\n",
      "\n",
      "At random state  63 the training accuracy is:-  0.6682574397174176\n",
      "At random state  63 the testing accuracy is:-  0.6157861566053462\n",
      "\n",
      "\n",
      "At random state  64 the training accuracy is:-  0.6757353030180195\n",
      "At random state  64 the testing accuracy is:-  0.6139005877719854\n",
      "\n",
      "\n",
      "At random state  65 the training accuracy is:-  0.6636250951316378\n",
      "At random state  65 the testing accuracy is:-  0.6756698681713658\n",
      "\n",
      "\n",
      "At random state  66 the training accuracy is:-  0.6529107807977417\n",
      "At random state  66 the testing accuracy is:-  0.7042402358342954\n",
      "\n",
      "\n",
      "At random state  67 the training accuracy is:-  0.6616262782484115\n",
      "At random state  67 the testing accuracy is:-  0.6853300518945902\n",
      "\n",
      "\n",
      "At random state  68 the training accuracy is:-  0.6964697504004673\n",
      "At random state  68 the testing accuracy is:-  0.5461236404134207\n",
      "\n",
      "\n",
      "At random state  69 the training accuracy is:-  0.6619291736395714\n",
      "At random state  69 the testing accuracy is:-  0.6925741824144056\n",
      "\n",
      "\n",
      "At random state  70 the training accuracy is:-  0.663412296546658\n",
      "At random state  70 the testing accuracy is:-  0.6656297362261527\n",
      "\n",
      "\n",
      "At random state  71 the training accuracy is:-  0.6686683052176596\n",
      "At random state  71 the testing accuracy is:-  0.6408560974637869\n",
      "\n",
      "\n",
      "At random state  72 the training accuracy is:-  0.6634030774064223\n",
      "At random state  72 the testing accuracy is:-  0.6803765362292666\n",
      "\n",
      "\n",
      "At random state  73 the training accuracy is:-  0.6639993837235776\n",
      "At random state  73 the testing accuracy is:-  0.6699058197463701\n",
      "\n",
      "\n",
      "At random state  74 the training accuracy is:-  0.6750782415934864\n",
      "At random state  74 the testing accuracy is:-  0.62937022272974\n",
      "\n",
      "\n",
      "At random state  75 the training accuracy is:-  0.6867566400095053\n",
      "At random state  75 the testing accuracy is:-  0.48386460337668524\n",
      "\n",
      "\n",
      "At random state  76 the training accuracy is:-  0.6695069631942449\n",
      "At random state  76 the testing accuracy is:-  0.6473165355129953\n",
      "\n",
      "\n",
      "At random state  77 the training accuracy is:-  0.6836567262959776\n",
      "At random state  77 the testing accuracy is:-  0.5765001365096201\n",
      "\n",
      "\n",
      "At random state  78 the training accuracy is:-  0.6987261947558798\n",
      "At random state  78 the testing accuracy is:-  0.4589696645909822\n",
      "\n",
      "\n",
      "At random state  79 the training accuracy is:-  0.6655983911003078\n",
      "At random state  79 the testing accuracy is:-  0.6604977587808658\n",
      "\n",
      "\n",
      "At random state  80 the training accuracy is:-  0.6618900175769314\n",
      "At random state  80 the testing accuracy is:-  0.6732944986977224\n",
      "\n",
      "\n",
      "At random state  81 the training accuracy is:-  0.6738109882513372\n",
      "At random state  81 the testing accuracy is:-  0.6319045963756443\n",
      "\n",
      "\n",
      "At random state  82 the training accuracy is:-  0.6633674735584482\n",
      "At random state  82 the testing accuracy is:-  0.6739294082611635\n",
      "\n",
      "\n",
      "At random state  83 the training accuracy is:-  0.6846375018802459\n",
      "At random state  83 the testing accuracy is:-  0.613824050605523\n",
      "\n",
      "\n",
      "At random state  84 the training accuracy is:-  0.6685805311677637\n",
      "At random state  84 the testing accuracy is:-  0.6589776318187416\n",
      "\n",
      "\n",
      "At random state  85 the training accuracy is:-  0.7136720295545778\n",
      "At random state  85 the testing accuracy is:-  0.33406930253260536\n",
      "\n",
      "\n",
      "At random state  86 the training accuracy is:-  0.6681338955885572\n",
      "At random state  86 the testing accuracy is:-  0.6610470350930953\n",
      "\n",
      "\n",
      "At random state  87 the training accuracy is:-  0.6750542982440739\n",
      "At random state  87 the testing accuracy is:-  0.6357407292862607\n",
      "\n",
      "\n",
      "At random state  88 the training accuracy is:-  0.6672863111592395\n",
      "At random state  88 the testing accuracy is:-  0.6490606496124538\n",
      "\n",
      "\n",
      "At random state  89 the training accuracy is:-  0.6718897196355021\n",
      "At random state  89 the testing accuracy is:-  0.6401505388430067\n",
      "\n",
      "\n",
      "At random state  90 the training accuracy is:-  0.6649447562504076\n",
      "At random state  90 the testing accuracy is:-  0.6623201648253356\n",
      "\n",
      "\n",
      "At random state  91 the training accuracy is:-  0.6542801489139638\n",
      "At random state  91 the testing accuracy is:-  0.7174223381568829\n",
      "\n",
      "\n",
      "At random state  92 the training accuracy is:-  0.6690148225781843\n",
      "At random state  92 the testing accuracy is:-  0.6347940795804434\n",
      "\n",
      "\n",
      "At random state  93 the training accuracy is:-  0.6743905297321788\n",
      "At random state  93 the testing accuracy is:-  0.6192582486185838\n",
      "\n",
      "\n",
      "At random state  94 the training accuracy is:-  0.6681412340565648\n",
      "At random state  94 the testing accuracy is:-  0.6478421681747562\n",
      "\n",
      "\n",
      "At random state  95 the training accuracy is:-  0.6732684697233381\n",
      "At random state  95 the testing accuracy is:-  0.6351720394965126\n",
      "\n",
      "\n",
      "At random state  96 the training accuracy is:-  0.7072578449014522\n",
      "At random state  96 the testing accuracy is:-  0.469043265139814\n",
      "\n",
      "\n",
      "At random state  97 the training accuracy is:-  0.6632440895259802\n",
      "At random state  97 the testing accuracy is:-  0.6721398930672298\n",
      "\n",
      "\n",
      "At random state  98 the training accuracy is:-  0.6611128345267518\n",
      "At random state  98 the testing accuracy is:-  0.680285872663245\n",
      "\n",
      "\n",
      "At random state  99 the training accuracy is:-  0.6709147408482652\n",
      "At random state  99 the testing accuracy is:-  0.636926073193534\n",
      "\n",
      "\n"
     ]
    }
   ],
   "source": [
    "from sklearn.linear_model import LinearRegression\n",
    "from sklearn.metrics import r2_score\n",
    "\n",
    "lr=LinearRegression()\n",
    "\n",
    "#Finding Best random state\n",
    "for i in range(0,100):\n",
    "    features_train, features_test, target_train, target_test= train_test_split(X_scaled_r, y_r, test_size=0.2, random_state=i)\n",
    "    lr.fit(features_train, target_train)\n",
    "    pred_train=lr.predict(features_train)\n",
    "    pred_test=lr.predict(features_test)\n",
    "    print(\"At random state \",i, \"the training accuracy is:- \",r2_score(target_train,pred_train))\n",
    "    print(\"At random state \",i, \"the testing accuracy is:- \",r2_score(target_test,pred_test))\n",
    "    print(\"\\n\")"
   ]
  },
  {
   "cell_type": "code",
   "execution_count": 172,
   "id": "4267a309",
   "metadata": {},
   "outputs": [
    {
     "name": "stdout",
     "output_type": "stream",
     "text": [
      "0.6661738466579818\n"
     ]
    }
   ],
   "source": [
    "#Applying the best random state found(i.e. 32)\n",
    "\n",
    "features_train, features_test, target_train, target_test= train_test_split(X_scaled_r, y_r, test_size=0.2, random_state=32)\n",
    "lr.fit(features_train, target_train)\n",
    "pred_test=lr.predict(features_test)\n",
    "print(r2_score(target_test,pred_test))"
   ]
  },
  {
   "cell_type": "markdown",
   "id": "e63466ad",
   "metadata": {},
   "source": [
    "# Cross Validation of the model"
   ]
  },
  {
   "cell_type": "code",
   "execution_count": 173,
   "id": "6bf7d0d2",
   "metadata": {},
   "outputs": [
    {
     "name": "stdout",
     "output_type": "stream",
     "text": [
      "At cross fold  2  the cv score is  0.5980282050147474  and accuracy score for the training is  -0.6195344391943802  and the accuracy score for the testing is  0.6661738466579818\n",
      "\n",
      "\n",
      "At cross fold  3  the cv score is  0.6040447516051705  and accuracy score for the training is  -0.6195344391943802  and the accuracy score for the testing is  0.6661738466579818\n",
      "\n",
      "\n",
      "At cross fold  4  the cv score is  0.6089145954482467  and accuracy score for the training is  -0.6195344391943802  and the accuracy score for the testing is  0.6661738466579818\n",
      "\n",
      "\n",
      "At cross fold  5  the cv score is  0.6091049866749135  and accuracy score for the training is  -0.6195344391943802  and the accuracy score for the testing is  0.6661738466579818\n",
      "\n",
      "\n",
      "At cross fold  6  the cv score is  0.6132997764876804  and accuracy score for the training is  -0.6195344391943802  and the accuracy score for the testing is  0.6661738466579818\n",
      "\n",
      "\n",
      "At cross fold  7  the cv score is  0.6173667720428643  and accuracy score for the training is  -0.6195344391943802  and the accuracy score for the testing is  0.6661738466579818\n",
      "\n",
      "\n",
      "At cross fold  8  the cv score is  0.6223448091483657  and accuracy score for the training is  -0.6195344391943802  and the accuracy score for the testing is  0.6661738466579818\n",
      "\n",
      "\n",
      "At cross fold  9  the cv score is  0.6213013627029773  and accuracy score for the training is  -0.6195344391943802  and the accuracy score for the testing is  0.6661738466579818\n",
      "\n",
      "\n"
     ]
    }
   ],
   "source": [
    "Train_accuracy=r2_score(target_train,pred_train)\n",
    "Test_accuracy=r2_score(target_test,pred_test)\n",
    "\n",
    "from sklearn.model_selection import cross_val_score\n",
    "for j in range(2,10):\n",
    "    cv_score=cross_val_score(lr,X_scaled_r,y_r,cv=j)\n",
    "    cv_mean=cv_score.mean()\n",
    "    print(\"At cross fold \",j,\" the cv score is \", cv_mean,\" and accuracy score for the training is \",Train_accuracy,\" and the accuracy score for the testing is \",Test_accuracy)\n",
    "    print(\"\\n\")"
   ]
  },
  {
   "cell_type": "markdown",
   "id": "32bebdc3",
   "metadata": {},
   "source": [
    "# \n",
    "Since the number of folds don't have such impact on the accuracy and cv score. So cv=4 is selected\n",
    "\n",
    "Here we have handled the problem of the overfitting and the underfitting by checking the training and testing score"
   ]
  },
  {
   "cell_type": "code",
   "execution_count": 174,
   "id": "5033cb2e",
   "metadata": {},
   "outputs": [
    {
     "data": {
      "image/png": "[encoded data removed]",
      "text/plain": [
       "<Figure size 360x360 with 1 Axes>"
      ]
     },
     "metadata": {
      "needs_background": "light"
     },
     "output_type": "display_data"
    }
   ],
   "source": [
    "plt.figure(figsize=(5,5))\n",
    "plt.scatter(x=target_test, y=pred_test)\n",
    "plt.plot(target_test, target_test)\n",
    "plt.xlabel('Actual Number of Wins', fontsize=14)\n",
    "plt.ylabel('Predicted Number of Wins', fontsize=14)\n",
    "plt.title('Linear Regression', fontsize=18)\n",
    "plt.show()"
   ]
  },
  {
   "cell_type": "markdown",
   "id": "1f52135f",
   "metadata": {},
   "source": [
    "# \n",
    "The Best Fit Line shows the least values of residuals and covering most of the data point, showing a good fit for our model"
   ]
  },
  {
   "cell_type": "markdown",
   "id": "93b6f21f",
   "metadata": {},
   "source": [
    "# Regularization"
   ]
  },
  {
   "cell_type": "code",
   "execution_count": 175,
   "id": "265c72b7",
   "metadata": {},
   "outputs": [
    {
     "name": "stdout",
     "output_type": "stream",
     "text": [
      "{'alpha': 1, 'random_state': 0}\n"
     ]
    }
   ],
   "source": [
    "from sklearn.model_selection import GridSearchCV\n",
    "from sklearn.model_selection import cross_val_score\n",
    "from sklearn.linear_model import Lasso\n",
    "parameters={'alpha':[.0001, .001, .01,.1, 1, 10], 'random_state':list(range(0,10))}\n",
    "ls=Lasso()\n",
    "clf=GridSearchCV(ls,parameters)\n",
    "clf.fit(features_train,target_train)\n",
    "print(clf.best_params_)"
   ]
  },
  {
   "cell_type": "code",
   "execution_count": 176,
   "id": "7ed931d7",
   "metadata": {},
   "outputs": [
    {
     "data": {
      "text/plain": [
       "0.668169632114832"
      ]
     },
     "execution_count": 176,
     "metadata": {},
     "output_type": "execute_result"
    }
   ],
   "source": [
    "ls=Lasso(alpha=1, random_state=0)\n",
    "ls.fit(features_train,target_train)\n",
    "ls.score(features_train, target_train)\n",
    "pred_ls=ls.predict(features_test)\n",
    "\n",
    "lss=r2_score(target_test,pred_ls)\n",
    "lss"
   ]
  },
  {
   "cell_type": "code",
   "execution_count": 178,
   "id": "507f3598",
   "metadata": {},
   "outputs": [
    {
     "data": {
      "text/plain": [
       "0.6099812360533633"
      ]
     },
     "execution_count": 178,
     "metadata": {},
     "output_type": "execute_result"
    }
   ],
   "source": [
    "cv_score=cross_val_score(ls,X_scaled_r,y_r,cv=4)\n",
    "cv_mean=cv_score.mean()\n",
    "cv_mean"
   ]
  },
  {
   "cell_type": "markdown",
   "id": "ef0a9ab1",
   "metadata": {},
   "source": [
    "# Using Random Forest Regressor Model"
   ]
  },
  {
   "cell_type": "code",
   "execution_count": 179,
   "id": "5d7c681d",
   "metadata": {},
   "outputs": [
    {
     "name": "stdout",
     "output_type": "stream",
     "text": [
      "{'criterion': 'mae', 'max_features': 'sqrt'}\n"
     ]
    }
   ],
   "source": [
    "from sklearn.ensemble import RandomForestRegressor\n",
    "parameters={'criterion':['mse','mae'], 'max_features':[\"auto\", \"sqrt\", \"log2\"]}\n",
    "rf=RandomForestRegressor()\n",
    "clf=GridSearchCV(rf,parameters)\n",
    "clf.fit(features_train,target_train)\n",
    "\n",
    "print(clf.best_params_)"
   ]
  },
  {
   "cell_type": "code",
   "execution_count": 182,
   "id": "fc4c257f",
   "metadata": {},
   "outputs": [
    {
     "name": "stdout",
     "output_type": "stream",
     "text": [
      "R2 Score:  85.43891312893186\n",
      "Cross Val Score: 85.49732542367087\n"
     ]
    }
   ],
   "source": [
    "rf=RandomForestRegressor(criterion=\"mae\", max_features=\"sqrt\")\n",
    "rf.fit(features_train, target_train)\n",
    "rf.score(features_train, target_train)\n",
    "pred_decision=rf.predict(features_test)\n",
    "\n",
    "rfs=r2_score(target_test,pred_decision)\n",
    "print('R2 Score: ', rfs*100)\n",
    "\n",
    "rfscore=cross_val_score(rf,X_scaled_r,y_r,cv=4)\n",
    "rfc=rfscore.mean()\n",
    "print(\"Cross Val Score:\", rfc*100)"
   ]
  },
  {
   "cell_type": "markdown",
   "id": "545b619e",
   "metadata": {},
   "source": [
    "# As the model accuracy and cross validation both are 85%, the model seems to be performing well"
   ]
  },
  {
   "cell_type": "markdown",
   "id": "9e5b64ed",
   "metadata": {},
   "source": [
    "# Saving the Random Forest Regressor Model for Prediction 2- capacity_mw"
   ]
  },
  {
   "cell_type": "code",
   "execution_count": 183,
   "id": "8082030f",
   "metadata": {},
   "outputs": [],
   "source": [
    "filename='Global Power Plant Prediction 2- capacity_mw.pkl'\n",
    "pickle.dump(LR, open(filename,'wb'))"
   ]
  },
  {
   "cell_type": "code",
   "execution_count": null,
   "id": "0c50a47d",
   "metadata": {},
   "outputs": [],
   "source": []
  }
 ],
 "metadata": {
  "kernelspec": {
   "display_name": "Python 3 (ipykernel)",
   "language": "python",
   "name": "python3"
  },
  "language_info": {
   "codemirror_mode": {
    "name": "ipython",
    "version": 3
   },
   "file_extension": ".py",
   "mimetype": "text/x-python",
   "name": "python",
   "nbconvert_exporter": "python",
   "pygments_lexer": "ipython3",
   "version": "3.9.7"
  }
 },
 "nbformat": 4,
 "nbformat_minor": 5
}
