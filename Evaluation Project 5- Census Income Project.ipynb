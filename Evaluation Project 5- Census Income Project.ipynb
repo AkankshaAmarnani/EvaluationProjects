{
 "cells": [
  {
   "cell_type": "markdown",
   "id": "981c30db",
   "metadata": {},
   "source": [
    "# Problem Statement-\n",
    "\n",
    "This data was extracted from the 1994 Census bureau database by Ronny Kohavi and Barry Becker (Data Mining and Visualization, Silicon Graphics). A set of reasonably clean records was extracted using the following conditions: ((AAGE>16) && (AGI>100) && (AFNLWGT>1) && (HRSWK>0)). The prediction task is to determine whether a person makes over $50K a year"
   ]
  },
  {
   "cell_type": "code",
   "execution_count": 66,
   "id": "59ea07d1",
   "metadata": {},
   "outputs": [],
   "source": [
    "#Let's start with importing necessary libraries\n",
    "import pandas as pd\n",
    "import numpy as np\n",
    "from sklearn.preprocessing import StandardScaler\n",
    "from sklearn.model_selection import train_test_split\n",
    "import matplotlib.pyplot as plt\n",
    "import seaborn as sns\n",
    "import pickle\n",
    "import warnings\n",
    "warnings.filterwarnings(\"ignore\")"
   ]
  },
  {
   "cell_type": "code",
   "execution_count": 67,
   "id": "a9f61fd5",
   "metadata": {},
   "outputs": [
    {
     "data": {
      "text/html": [
       "<div>\n",
       "<style scoped>\n",
       "    .dataframe tbody tr th:only-of-type {\n",
       "        vertical-align: middle;\n",
       "    }\n",
       "\n",
       "    .dataframe tbody tr th {\n",
       "        vertical-align: top;\n",
       "    }\n",
       "\n",
       "    .dataframe thead th {\n",
       "        text-align: right;\n",
       "    }\n",
       "</style>\n",
       "<table border=\"1\" class=\"dataframe\">\n",
       "  <thead>\n",
       "    <tr style=\"text-align: right;\">\n",
       "      <th></th>\n",
       "      <th>Age</th>\n",
       "      <th>Workclass</th>\n",
       "      <th>Fnlwgt</th>\n",
       "      <th>Education</th>\n",
       "      <th>Education_num</th>\n",
       "      <th>Marital_status</th>\n",
       "      <th>Occupation</th>\n",
       "      <th>Relationship</th>\n",
       "      <th>Race</th>\n",
       "      <th>Sex</th>\n",
       "      <th>Capital_gain</th>\n",
       "      <th>Capital_loss</th>\n",
       "      <th>Hours_per_week</th>\n",
       "      <th>Native_country</th>\n",
       "      <th>Income</th>\n",
       "    </tr>\n",
       "  </thead>\n",
       "  <tbody>\n",
       "    <tr>\n",
       "      <th>0</th>\n",
       "      <td>50</td>\n",
       "      <td>Self-emp-not-inc</td>\n",
       "      <td>83311</td>\n",
       "      <td>Bachelors</td>\n",
       "      <td>13</td>\n",
       "      <td>Married-civ-spouse</td>\n",
       "      <td>Exec-managerial</td>\n",
       "      <td>Husband</td>\n",
       "      <td>White</td>\n",
       "      <td>Male</td>\n",
       "      <td>0</td>\n",
       "      <td>0</td>\n",
       "      <td>13</td>\n",
       "      <td>United-States</td>\n",
       "      <td>&lt;=50K</td>\n",
       "    </tr>\n",
       "    <tr>\n",
       "      <th>1</th>\n",
       "      <td>38</td>\n",
       "      <td>Private</td>\n",
       "      <td>215646</td>\n",
       "      <td>HS-grad</td>\n",
       "      <td>9</td>\n",
       "      <td>Divorced</td>\n",
       "      <td>Handlers-cleaners</td>\n",
       "      <td>Not-in-family</td>\n",
       "      <td>White</td>\n",
       "      <td>Male</td>\n",
       "      <td>0</td>\n",
       "      <td>0</td>\n",
       "      <td>40</td>\n",
       "      <td>United-States</td>\n",
       "      <td>&lt;=50K</td>\n",
       "    </tr>\n",
       "    <tr>\n",
       "      <th>2</th>\n",
       "      <td>53</td>\n",
       "      <td>Private</td>\n",
       "      <td>234721</td>\n",
       "      <td>11th</td>\n",
       "      <td>7</td>\n",
       "      <td>Married-civ-spouse</td>\n",
       "      <td>Handlers-cleaners</td>\n",
       "      <td>Husband</td>\n",
       "      <td>Black</td>\n",
       "      <td>Male</td>\n",
       "      <td>0</td>\n",
       "      <td>0</td>\n",
       "      <td>40</td>\n",
       "      <td>United-States</td>\n",
       "      <td>&lt;=50K</td>\n",
       "    </tr>\n",
       "    <tr>\n",
       "      <th>3</th>\n",
       "      <td>28</td>\n",
       "      <td>Private</td>\n",
       "      <td>338409</td>\n",
       "      <td>Bachelors</td>\n",
       "      <td>13</td>\n",
       "      <td>Married-civ-spouse</td>\n",
       "      <td>Prof-specialty</td>\n",
       "      <td>Wife</td>\n",
       "      <td>Black</td>\n",
       "      <td>Female</td>\n",
       "      <td>0</td>\n",
       "      <td>0</td>\n",
       "      <td>40</td>\n",
       "      <td>Cuba</td>\n",
       "      <td>&lt;=50K</td>\n",
       "    </tr>\n",
       "    <tr>\n",
       "      <th>4</th>\n",
       "      <td>37</td>\n",
       "      <td>Private</td>\n",
       "      <td>284582</td>\n",
       "      <td>Masters</td>\n",
       "      <td>14</td>\n",
       "      <td>Married-civ-spouse</td>\n",
       "      <td>Exec-managerial</td>\n",
       "      <td>Wife</td>\n",
       "      <td>White</td>\n",
       "      <td>Female</td>\n",
       "      <td>0</td>\n",
       "      <td>0</td>\n",
       "      <td>40</td>\n",
       "      <td>United-States</td>\n",
       "      <td>&lt;=50K</td>\n",
       "    </tr>\n",
       "    <tr>\n",
       "      <th>...</th>\n",
       "      <td>...</td>\n",
       "      <td>...</td>\n",
       "      <td>...</td>\n",
       "      <td>...</td>\n",
       "      <td>...</td>\n",
       "      <td>...</td>\n",
       "      <td>...</td>\n",
       "      <td>...</td>\n",
       "      <td>...</td>\n",
       "      <td>...</td>\n",
       "      <td>...</td>\n",
       "      <td>...</td>\n",
       "      <td>...</td>\n",
       "      <td>...</td>\n",
       "      <td>...</td>\n",
       "    </tr>\n",
       "    <tr>\n",
       "      <th>32555</th>\n",
       "      <td>27</td>\n",
       "      <td>Private</td>\n",
       "      <td>257302</td>\n",
       "      <td>Assoc-acdm</td>\n",
       "      <td>12</td>\n",
       "      <td>Married-civ-spouse</td>\n",
       "      <td>Tech-support</td>\n",
       "      <td>Wife</td>\n",
       "      <td>White</td>\n",
       "      <td>Female</td>\n",
       "      <td>0</td>\n",
       "      <td>0</td>\n",
       "      <td>38</td>\n",
       "      <td>United-States</td>\n",
       "      <td>&lt;=50K</td>\n",
       "    </tr>\n",
       "    <tr>\n",
       "      <th>32556</th>\n",
       "      <td>40</td>\n",
       "      <td>Private</td>\n",
       "      <td>154374</td>\n",
       "      <td>HS-grad</td>\n",
       "      <td>9</td>\n",
       "      <td>Married-civ-spouse</td>\n",
       "      <td>Machine-op-inspct</td>\n",
       "      <td>Husband</td>\n",
       "      <td>White</td>\n",
       "      <td>Male</td>\n",
       "      <td>0</td>\n",
       "      <td>0</td>\n",
       "      <td>40</td>\n",
       "      <td>United-States</td>\n",
       "      <td>&gt;50K</td>\n",
       "    </tr>\n",
       "    <tr>\n",
       "      <th>32557</th>\n",
       "      <td>58</td>\n",
       "      <td>Private</td>\n",
       "      <td>151910</td>\n",
       "      <td>HS-grad</td>\n",
       "      <td>9</td>\n",
       "      <td>Widowed</td>\n",
       "      <td>Adm-clerical</td>\n",
       "      <td>Unmarried</td>\n",
       "      <td>White</td>\n",
       "      <td>Female</td>\n",
       "      <td>0</td>\n",
       "      <td>0</td>\n",
       "      <td>40</td>\n",
       "      <td>United-States</td>\n",
       "      <td>&lt;=50K</td>\n",
       "    </tr>\n",
       "    <tr>\n",
       "      <th>32558</th>\n",
       "      <td>22</td>\n",
       "      <td>Private</td>\n",
       "      <td>201490</td>\n",
       "      <td>HS-grad</td>\n",
       "      <td>9</td>\n",
       "      <td>Never-married</td>\n",
       "      <td>Adm-clerical</td>\n",
       "      <td>Own-child</td>\n",
       "      <td>White</td>\n",
       "      <td>Male</td>\n",
       "      <td>0</td>\n",
       "      <td>0</td>\n",
       "      <td>20</td>\n",
       "      <td>United-States</td>\n",
       "      <td>&lt;=50K</td>\n",
       "    </tr>\n",
       "    <tr>\n",
       "      <th>32559</th>\n",
       "      <td>52</td>\n",
       "      <td>Self-emp-inc</td>\n",
       "      <td>287927</td>\n",
       "      <td>HS-grad</td>\n",
       "      <td>9</td>\n",
       "      <td>Married-civ-spouse</td>\n",
       "      <td>Exec-managerial</td>\n",
       "      <td>Wife</td>\n",
       "      <td>White</td>\n",
       "      <td>Female</td>\n",
       "      <td>15024</td>\n",
       "      <td>0</td>\n",
       "      <td>40</td>\n",
       "      <td>United-States</td>\n",
       "      <td>&gt;50K</td>\n",
       "    </tr>\n",
       "  </tbody>\n",
       "</table>\n",
       "<p>32560 rows × 15 columns</p>\n",
       "</div>"
      ],
      "text/plain": [
       "       Age          Workclass  Fnlwgt    Education  Education_num  \\\n",
       "0       50   Self-emp-not-inc   83311    Bachelors             13   \n",
       "1       38            Private  215646      HS-grad              9   \n",
       "2       53            Private  234721         11th              7   \n",
       "3       28            Private  338409    Bachelors             13   \n",
       "4       37            Private  284582      Masters             14   \n",
       "...    ...                ...     ...          ...            ...   \n",
       "32555   27            Private  257302   Assoc-acdm             12   \n",
       "32556   40            Private  154374      HS-grad              9   \n",
       "32557   58            Private  151910      HS-grad              9   \n",
       "32558   22            Private  201490      HS-grad              9   \n",
       "32559   52       Self-emp-inc  287927      HS-grad              9   \n",
       "\n",
       "            Marital_status          Occupation    Relationship    Race  \\\n",
       "0       Married-civ-spouse     Exec-managerial         Husband   White   \n",
       "1                 Divorced   Handlers-cleaners   Not-in-family   White   \n",
       "2       Married-civ-spouse   Handlers-cleaners         Husband   Black   \n",
       "3       Married-civ-spouse      Prof-specialty            Wife   Black   \n",
       "4       Married-civ-spouse     Exec-managerial            Wife   White   \n",
       "...                    ...                 ...             ...     ...   \n",
       "32555   Married-civ-spouse        Tech-support            Wife   White   \n",
       "32556   Married-civ-spouse   Machine-op-inspct         Husband   White   \n",
       "32557              Widowed        Adm-clerical       Unmarried   White   \n",
       "32558        Never-married        Adm-clerical       Own-child   White   \n",
       "32559   Married-civ-spouse     Exec-managerial            Wife   White   \n",
       "\n",
       "           Sex  Capital_gain  Capital_loss  Hours_per_week  Native_country  \\\n",
       "0         Male             0             0              13   United-States   \n",
       "1         Male             0             0              40   United-States   \n",
       "2         Male             0             0              40   United-States   \n",
       "3       Female             0             0              40            Cuba   \n",
       "4       Female             0             0              40   United-States   \n",
       "...        ...           ...           ...             ...             ...   \n",
       "32555   Female             0             0              38   United-States   \n",
       "32556     Male             0             0              40   United-States   \n",
       "32557   Female             0             0              40   United-States   \n",
       "32558     Male             0             0              20   United-States   \n",
       "32559   Female         15024             0              40   United-States   \n",
       "\n",
       "       Income  \n",
       "0       <=50K  \n",
       "1       <=50K  \n",
       "2       <=50K  \n",
       "3       <=50K  \n",
       "4       <=50K  \n",
       "...       ...  \n",
       "32555   <=50K  \n",
       "32556    >50K  \n",
       "32557   <=50K  \n",
       "32558   <=50K  \n",
       "32559    >50K  \n",
       "\n",
       "[32560 rows x 15 columns]"
      ]
     },
     "execution_count": 67,
     "metadata": {},
     "output_type": "execute_result"
    }
   ],
   "source": [
    "#Read csv file and convert into Dataframe\n",
    "data=pd.read_csv(\"https://raw.githubusercontent.com/dsrscientist/dataset1/master/census_income.csv\")\n",
    "data"
   ]
  },
  {
   "cell_type": "markdown",
   "id": "fb3e334b",
   "metadata": {},
   "source": [
    "# Observation-\n",
    "The features in the above data set are-\n",
    "- Age\n",
    "\n",
    "- Workclass\n",
    "\n",
    "- Fnlwgt (Final Weight)\n",
    "\n",
    "- Education\n",
    "\n",
    "- Education_num\n",
    "\n",
    "- Marital status\n",
    "\n",
    "- Occupation\n",
    "\n",
    "- Relationship\n",
    "\n",
    "- Race\n",
    "\n",
    "- Sex\n",
    "\n",
    "- Capital gain\n",
    "\n",
    "- Capital loss\n",
    "\n",
    "- Hours per week\n",
    "\n",
    "- Native Country\n",
    "\n",
    "The label in the given dataset is-\n",
    "- Income"
   ]
  },
  {
   "cell_type": "code",
   "execution_count": 68,
   "id": "651c9395",
   "metadata": {},
   "outputs": [
    {
     "data": {
      "text/plain": [
       "(32560, 15)"
      ]
     },
     "execution_count": 68,
     "metadata": {},
     "output_type": "execute_result"
    }
   ],
   "source": [
    "#shape of file\n",
    "data.shape"
   ]
  },
  {
   "cell_type": "code",
   "execution_count": 69,
   "id": "2ddf696a",
   "metadata": {},
   "outputs": [
    {
     "data": {
      "text/plain": [
       "Age                int64\n",
       "Workclass         object\n",
       "Fnlwgt             int64\n",
       "Education         object\n",
       "Education_num      int64\n",
       "Marital_status    object\n",
       "Occupation        object\n",
       "Relationship      object\n",
       "Race              object\n",
       "Sex               object\n",
       "Capital_gain       int64\n",
       "Capital_loss       int64\n",
       "Hours_per_week     int64\n",
       "Native_country    object\n",
       "Income            object\n",
       "dtype: object"
      ]
     },
     "execution_count": 69,
     "metadata": {},
     "output_type": "execute_result"
    }
   ],
   "source": [
    "# Checking for data types of the columns\n",
    "data.dtypes"
   ]
  },
  {
   "cell_type": "markdown",
   "id": "b14dff65",
   "metadata": {},
   "source": [
    "# \n",
    "As there are object datatypes, we will apply encoding techniques"
   ]
  },
  {
   "cell_type": "code",
   "execution_count": 70,
   "id": "197e5f50",
   "metadata": {},
   "outputs": [
    {
     "data": {
      "text/plain": [
       "Age               0\n",
       "Workclass         0\n",
       "Fnlwgt            0\n",
       "Education         0\n",
       "Education_num     0\n",
       "Marital_status    0\n",
       "Occupation        0\n",
       "Relationship      0\n",
       "Race              0\n",
       "Sex               0\n",
       "Capital_gain      0\n",
       "Capital_loss      0\n",
       "Hours_per_week    0\n",
       "Native_country    0\n",
       "Income            0\n",
       "dtype: int64"
      ]
     },
     "execution_count": 70,
     "metadata": {},
     "output_type": "execute_result"
    }
   ],
   "source": [
    "#Checking for null values\n",
    "data.isnull().sum()"
   ]
  },
  {
   "cell_type": "markdown",
   "id": "67af4672",
   "metadata": {},
   "source": [
    "# \n",
    "There are no null values"
   ]
  },
  {
   "cell_type": "markdown",
   "id": "f60768d4",
   "metadata": {},
   "source": [
    "# Visualization of the Data"
   ]
  },
  {
   "cell_type": "code",
   "execution_count": 71,
   "id": "46b363a3",
   "metadata": {},
   "outputs": [
    {
     "name": "stdout",
     "output_type": "stream",
     "text": [
      " Private             22696\n",
      " Self-emp-not-inc     2541\n",
      " Local-gov            2093\n",
      " ?                    1836\n",
      " State-gov            1297\n",
      " Self-emp-inc         1116\n",
      " Federal-gov           960\n",
      " Without-pay            14\n",
      " Never-worked            7\n",
      "Name: Workclass, dtype: int64\n"
     ]
    },
    {
     "data": {
      "image/png": "[encoded data removed]",
      "text/plain": [
       "<Figure size 720x360 with 1 Axes>"
      ]
     },
     "metadata": {
      "needs_background": "light"
     },
     "output_type": "display_data"
    }
   ],
   "source": [
    "plt.figure(figsize=(10,5))\n",
    "ax=sns.countplot(x=\"Workclass\", data=data)\n",
    "print(data[\"Workclass\"].value_counts())"
   ]
  },
  {
   "cell_type": "markdown",
   "id": "5a1416ea",
   "metadata": {},
   "source": [
    "# \n",
    "22696 people work pivately, 2541 people are self employed not incorporated, 2093 people work for local government, 1297 work for state government, 1116 people are self employed and incorporated, 960 work for federal government, 14 people work without pay, 7 people have never worked.\n",
    "\n",
    "The workclass of 1836 people are not known and will have to be imputed          "
   ]
  },
  {
   "cell_type": "code",
   "execution_count": 72,
   "id": "e03bf41c",
   "metadata": {},
   "outputs": [
    {
     "name": "stdout",
     "output_type": "stream",
     "text": [
      " HS-grad         10501\n",
      " Some-college     7291\n",
      " Bachelors        5354\n",
      " Masters          1723\n",
      " Assoc-voc        1382\n",
      " 11th             1175\n",
      " Assoc-acdm       1067\n",
      " 10th              933\n",
      " 7th-8th           646\n",
      " Prof-school       576\n",
      " 9th               514\n",
      " 12th              433\n",
      " Doctorate         413\n",
      " 5th-6th           333\n",
      " 1st-4th           168\n",
      " Preschool          51\n",
      "Name: Education, dtype: int64\n"
     ]
    },
    {
     "data": {
      "image/png": "[encoded data removed]",
      "text/plain": [
       "<Figure size 1440x360 with 1 Axes>"
      ]
     },
     "metadata": {
      "needs_background": "light"
     },
     "output_type": "display_data"
    }
   ],
   "source": [
    "plt.figure(figsize=(20,5))\n",
    "ax=sns.countplot(x=\"Education\", data=data)\n",
    "print(data[\"Education\"].value_counts())"
   ]
  },
  {
   "cell_type": "markdown",
   "id": "2dd34117",
   "metadata": {},
   "source": [
    "# \n",
    "10501 are High school graduates, 7291 are college graduates, 5354 are bacherlor graduates, 1723 are Master graduates, 1382 are Assoc-voc, 1175 are 11 pass, 1067 are Assoc-adm, 933 are 10 pass, 646 are 7-8 class pass, 576 are Prof-school graduates, 514 are 9th class pass, 433 are 12th class pass, 413 are doctorates, 333 are 5-6 class pass, 168 are 1-4 class pass, 51 are preschool pass  \n",
    "         "
   ]
  },
  {
   "cell_type": "code",
   "execution_count": 73,
   "id": "91ead2d4",
   "metadata": {},
   "outputs": [
    {
     "name": "stdout",
     "output_type": "stream",
     "text": [
      " Married-civ-spouse       14976\n",
      " Never-married            10682\n",
      " Divorced                  4443\n",
      " Separated                 1025\n",
      " Widowed                    993\n",
      " Married-spouse-absent      418\n",
      " Married-AF-spouse           23\n",
      "Name: Marital_status, dtype: int64\n"
     ]
    },
    {
     "data": {
      "image/png": "[encoded data removed]",
      "text/plain": [
       "<Figure size 1080x360 with 1 Axes>"
      ]
     },
     "metadata": {
      "needs_background": "light"
     },
     "output_type": "display_data"
    }
   ],
   "source": [
    "plt.figure(figsize=(15,5))\n",
    "ax=sns.countplot(x=\"Marital_status\", data=data)\n",
    "print(data[\"Marital_status\"].value_counts())"
   ]
  },
  {
   "cell_type": "markdown",
   "id": "ea6a8610",
   "metadata": {},
   "source": [
    "# \n",
    "14976 are married to a civilian spouse, 10682 are unmarried, 4443 are divorced, 1025 are separated, 993 are widowed, 418 are married with spouse living far away due to personal or professional reasons, 23 are married to spouse in armed forces"
   ]
  },
  {
   "cell_type": "code",
   "execution_count": 74,
   "id": "f4076706",
   "metadata": {},
   "outputs": [
    {
     "name": "stdout",
     "output_type": "stream",
     "text": [
      " Prof-specialty       4140\n",
      " Craft-repair         4099\n",
      " Exec-managerial      4066\n",
      " Adm-clerical         3769\n",
      " Sales                3650\n",
      " Other-service        3295\n",
      " Machine-op-inspct    2002\n",
      " ?                    1843\n",
      " Transport-moving     1597\n",
      " Handlers-cleaners    1370\n",
      " Farming-fishing       994\n",
      " Tech-support          928\n",
      " Protective-serv       649\n",
      " Priv-house-serv       149\n",
      " Armed-Forces            9\n",
      "Name: Occupation, dtype: int64\n"
     ]
    },
    {
     "data": {
      "image/png": "[encoded data removed]",
      "text/plain": [
       "<Figure size 1800x360 with 1 Axes>"
      ]
     },
     "metadata": {
      "needs_background": "light"
     },
     "output_type": "display_data"
    }
   ],
   "source": [
    "plt.figure(figsize=(25,5))\n",
    "ax=sns.countplot(x=\"Occupation\", data=data)\n",
    "print(data[\"Occupation\"].value_counts())"
   ]
  },
  {
   "cell_type": "markdown",
   "id": "3120df48",
   "metadata": {},
   "source": [
    "# \n",
    "4140 are professional speciality, 4099 are into craft-repair, 4066 are managerial executives, 3769 are administrative clerks, 3650 are into sales, 3295 are into other services, 2002 are machine operation inspector, 1597 are into transport, 1370 are handlers-cleaners, 994 are into farming-fishing, 928 are into technical support, 649 are protectives service provider, 149 are private house service provider, 9 work in armed forces\n",
    "\n",
    "The occupation of 1843 people are not known and will have to be imputed         \n",
    "          "
   ]
  },
  {
   "cell_type": "code",
   "execution_count": 75,
   "id": "b7279851",
   "metadata": {},
   "outputs": [
    {
     "name": "stdout",
     "output_type": "stream",
     "text": [
      " Husband           13193\n",
      " Not-in-family      8304\n",
      " Own-child          5068\n",
      " Unmarried          3446\n",
      " Wife               1568\n",
      " Other-relative      981\n",
      "Name: Relationship, dtype: int64\n"
     ]
    },
    {
     "data": {
      "image/png": "[encoded data removed]",
      "text/plain": [
       "<Figure size 720x360 with 1 Axes>"
      ]
     },
     "metadata": {
      "needs_background": "light"
     },
     "output_type": "display_data"
    }
   ],
   "source": [
    "plt.figure(figsize=(10,5))\n",
    "ax=sns.countplot(x=\"Relationship\", data=data)\n",
    "print(data[\"Relationship\"].value_counts())"
   ]
  },
  {
   "cell_type": "markdown",
   "id": "b9f72bcc",
   "metadata": {},
   "source": [
    "# \n",
    "13193 were the husband,  8304 was not in family, 5068 was the own child, 3446 was unmarried, 1568 were the wife, 981 were other relative\n",
    " "
   ]
  },
  {
   "cell_type": "code",
   "execution_count": 76,
   "id": "d90cd1c9",
   "metadata": {},
   "outputs": [
    {
     "name": "stdout",
     "output_type": "stream",
     "text": [
      " White                 27815\n",
      " Black                  3124\n",
      " Asian-Pac-Islander     1039\n",
      " Amer-Indian-Eskimo      311\n",
      " Other                   271\n",
      "Name: Race, dtype: int64\n"
     ]
    },
    {
     "data": {
      "image/png": "[encoded data removed]",
      "text/plain": [
       "<Figure size 720x360 with 1 Axes>"
      ]
     },
     "metadata": {
      "needs_background": "light"
     },
     "output_type": "display_data"
    }
   ],
   "source": [
    "plt.figure(figsize=(10,5))\n",
    "ax=sns.countplot(x=\"Race\", data=data)\n",
    "print(data[\"Race\"].value_counts())"
   ]
  },
  {
   "cell_type": "markdown",
   "id": "2a312b5d",
   "metadata": {},
   "source": [
    "# \n",
    "27815 are white, 3124 are black, 1039 are Asian-Pac-Islander, 311 are America,-Indian-Eskimo, 271 are others"
   ]
  },
  {
   "cell_type": "code",
   "execution_count": 77,
   "id": "a5af8797",
   "metadata": {},
   "outputs": [
    {
     "name": "stdout",
     "output_type": "stream",
     "text": [
      " Male      21789\n",
      " Female    10771\n",
      "Name: Sex, dtype: int64\n"
     ]
    },
    {
     "data": {
      "image/png": "[encoded data removed]",
      "text/plain": [
       "<Figure size 360x360 with 1 Axes>"
      ]
     },
     "metadata": {
      "needs_background": "light"
     },
     "output_type": "display_data"
    }
   ],
   "source": [
    "plt.figure(figsize=(5,5))\n",
    "ax=sns.countplot(x=\"Sex\", data=data)\n",
    "print(data[\"Sex\"].value_counts())"
   ]
  },
  {
   "cell_type": "markdown",
   "id": "35aa3643",
   "metadata": {},
   "source": [
    "# \n",
    "21789 are males, 10771 are females   "
   ]
  },
  {
   "cell_type": "code",
   "execution_count": 78,
   "id": "b7ff5e2d",
   "metadata": {},
   "outputs": [
    {
     "name": "stdout",
     "output_type": "stream",
     "text": [
      " United-States                 29169\n",
      " Mexico                          643\n",
      " ?                               583\n",
      " Philippines                     198\n",
      " Germany                         137\n",
      " Canada                          121\n",
      " Puerto-Rico                     114\n",
      " El-Salvador                     106\n",
      " India                           100\n",
      " Cuba                             95\n",
      " England                          90\n",
      " Jamaica                          81\n",
      " South                            80\n",
      " China                            75\n",
      " Italy                            73\n",
      " Dominican-Republic               70\n",
      " Vietnam                          67\n",
      " Guatemala                        64\n",
      " Japan                            62\n",
      " Poland                           60\n",
      " Columbia                         59\n",
      " Taiwan                           51\n",
      " Haiti                            44\n",
      " Iran                             43\n",
      " Portugal                         37\n",
      " Nicaragua                        34\n",
      " Peru                             31\n",
      " France                           29\n",
      " Greece                           29\n",
      " Ecuador                          28\n",
      " Ireland                          24\n",
      " Hong                             20\n",
      " Cambodia                         19\n",
      " Trinadad&Tobago                  19\n",
      " Laos                             18\n",
      " Thailand                         18\n",
      " Yugoslavia                       16\n",
      " Outlying-US(Guam-USVI-etc)       14\n",
      " Honduras                         13\n",
      " Hungary                          13\n",
      " Scotland                         12\n",
      " Holand-Netherlands                1\n",
      "Name: Native_country, dtype: int64\n"
     ]
    },
    {
     "data": {
      "image/png": "[encoded data removed]",
      "text/plain": [
       "<Figure size 1800x360 with 1 Axes>"
      ]
     },
     "metadata": {
      "needs_background": "light"
     },
     "output_type": "display_data"
    }
   ],
   "source": [
    "plt.figure(figsize=(25,5))\n",
    "ax=sns.countplot(x=\"Native_country\", data=data)\n",
    "print(data[\"Native_country\"].value_counts())"
   ]
  },
  {
   "cell_type": "markdown",
   "id": "ff1ce262",
   "metadata": {},
   "source": [
    "# \n",
    "29169 are natives of United-States, 643 are natives of Mexico, 198 are natives of Philippines, 137 are natives of Germany, 121 are natives of Canada, 114 are natives of Puerto-Rico, 106 are natives of El-Salvador, 100 are natives of India, 95 are natives of Cuba, 90 are natives of England, 81 are natives of Jamaica, 80 are natives of the South\n",
    "75 are natives of China, 73 are natives of Italy, 70 are natives of Dominican-Republic, 67 are natives of Vietnam, 64 are natives of Guatemala, 62 are natives of Japan, 60 are natives of Poland, 59 are natives of Columbia, 51 are natives of Taiwan 44 are natives of Haiti, 43 are natives of Iran, 37 are natives of Portugal, 34 are natives of Nicaragua,31 are natives of Peru, 29 are natives of Peru, 29 are natives of Greece, 28 are natives of Ecuador, 24 are natives of Ireland, 20 are natives of Hong, 19 are natives of Cambodia, 19 are natives of Trinadad&Tobago,18 are natives of Laos, 18 are natives of Thailand,  16 are natives of Yugoslavia, 14 are natives of Outlying-US(Guam-USVI-etc), 13 are natives of Honduras, 13 are natives of Hungary, 12 are natives of Scotland, 1 is a native of Holand-Netherlands\n",
    "\n",
    "The nationality of 583 people are not known and will have to be imputed"
   ]
  },
  {
   "cell_type": "code",
   "execution_count": 107,
   "id": "16a73cd0",
   "metadata": {},
   "outputs": [
    {
     "data": {
      "image/png": "[encoded data removed]",
      "text/plain": [
       "<Figure size 432x288 with 1 Axes>"
      ]
     },
     "metadata": {
      "needs_background": "light"
     },
     "output_type": "display_data"
    }
   ],
   "source": [
    "sns.distplot(data[\"Age\"])\n",
    "plt.xlabel(\"Age\",fontsize=10)\n",
    "plt.tight_layout()"
   ]
  },
  {
   "cell_type": "markdown",
   "id": "0f694363",
   "metadata": {},
   "source": [
    "# \n",
    "The data seems skewed and will be dealt later"
   ]
  },
  {
   "cell_type": "code",
   "execution_count": 80,
   "id": "7d6f04f2",
   "metadata": {},
   "outputs": [
    {
     "data": {
      "image/png": "[encoded data removed]",
      "text/plain": [
       "<Figure size 432x288 with 1 Axes>"
      ]
     },
     "metadata": {
      "needs_background": "light"
     },
     "output_type": "display_data"
    }
   ],
   "source": [
    "sns.distplot(data[\"Fnlwgt\"])\n",
    "plt.xlabel(\"Fnlwgt\",fontsize=10)\n",
    "plt.tight_layout()"
   ]
  },
  {
   "cell_type": "markdown",
   "id": "bd06e9e4",
   "metadata": {},
   "source": [
    "# \n",
    "The data seems skewed and will be dealt later"
   ]
  },
  {
   "cell_type": "code",
   "execution_count": 81,
   "id": "1be764bf",
   "metadata": {},
   "outputs": [
    {
     "data": {
      "image/png": "[encoded data removed]",
      "text/plain": [
       "<Figure size 432x288 with 1 Axes>"
      ]
     },
     "metadata": {
      "needs_background": "light"
     },
     "output_type": "display_data"
    }
   ],
   "source": [
    "sns.distplot(data[\"Education_num\"])\n",
    "plt.xlabel(\"Education_num\",fontsize=10)\n",
    "plt.tight_layout()"
   ]
  },
  {
   "cell_type": "markdown",
   "id": "c619db83",
   "metadata": {},
   "source": [
    "# \n",
    "The data is highly skewed and will be dealt later"
   ]
  },
  {
   "cell_type": "code",
   "execution_count": 82,
   "id": "f97445a2",
   "metadata": {},
   "outputs": [
    {
     "data": {
      "text/plain": [
       "<AxesSubplot:ylabel='Frequency'>"
      ]
     },
     "execution_count": 82,
     "metadata": {},
     "output_type": "execute_result"
    },
    {
     "data": {
      "image/png": "[encoded data removed]",
      "text/plain": [
       "<Figure size 432x288 with 1 Axes>"
      ]
     },
     "metadata": {
      "needs_background": "light"
     },
     "output_type": "display_data"
    }
   ],
   "source": [
    "data.Capital_gain.plot(kind='hist')"
   ]
  },
  {
   "cell_type": "code",
   "execution_count": 83,
   "id": "63dc83ec",
   "metadata": {},
   "outputs": [
    {
     "data": {
      "text/plain": [
       "<AxesSubplot:ylabel='Frequency'>"
      ]
     },
     "execution_count": 83,
     "metadata": {},
     "output_type": "execute_result"
    },
    {
     "data": {
      "image/png": "[encoded data removed]",
      "text/plain": [
       "<Figure size 432x288 with 1 Axes>"
      ]
     },
     "metadata": {
      "needs_background": "light"
     },
     "output_type": "display_data"
    }
   ],
   "source": [
    "data.Capital_loss.plot(kind='hist')"
   ]
  },
  {
   "cell_type": "code",
   "execution_count": 84,
   "id": "70bee8e0",
   "metadata": {},
   "outputs": [
    {
     "data": {
      "image/png": "[encoded data removed]",
      "text/plain": [
       "<Figure size 432x288 with 1 Axes>"
      ]
     },
     "metadata": {
      "needs_background": "light"
     },
     "output_type": "display_data"
    }
   ],
   "source": [
    "sns.distplot(data[\"Hours_per_week\"])\n",
    "plt.xlabel(\"Hours_per_week\",fontsize=10)\n",
    "plt.tight_layout()"
   ]
  },
  {
   "cell_type": "markdown",
   "id": "54ab4b0c",
   "metadata": {},
   "source": [
    "# \n",
    "The data is skewed"
   ]
  },
  {
   "cell_type": "markdown",
   "id": "a0999081",
   "metadata": {},
   "source": [
    "# Encoding object data into numeric data"
   ]
  },
  {
   "cell_type": "code",
   "execution_count": 85,
   "id": "74096934",
   "metadata": {},
   "outputs": [],
   "source": [
    "from sklearn.preprocessing import LabelEncoder\n",
    "enc=LabelEncoder()\n",
    "\n",
    "for column in data:\n",
    "    if data[column].dtype=='object':\n",
    "        df=enc.fit_transform(data[column])\n",
    "        data[column]=df"
   ]
  },
  {
   "cell_type": "code",
   "execution_count": 86,
   "id": "91e2d6b0",
   "metadata": {},
   "outputs": [
    {
     "data": {
      "text/html": [
       "<div>\n",
       "<style scoped>\n",
       "    .dataframe tbody tr th:only-of-type {\n",
       "        vertical-align: middle;\n",
       "    }\n",
       "\n",
       "    .dataframe tbody tr th {\n",
       "        vertical-align: top;\n",
       "    }\n",
       "\n",
       "    .dataframe thead th {\n",
       "        text-align: right;\n",
       "    }\n",
       "</style>\n",
       "<table border=\"1\" class=\"dataframe\">\n",
       "  <thead>\n",
       "    <tr style=\"text-align: right;\">\n",
       "      <th></th>\n",
       "      <th>Age</th>\n",
       "      <th>Workclass</th>\n",
       "      <th>Fnlwgt</th>\n",
       "      <th>Education</th>\n",
       "      <th>Education_num</th>\n",
       "      <th>Marital_status</th>\n",
       "      <th>Occupation</th>\n",
       "      <th>Relationship</th>\n",
       "      <th>Race</th>\n",
       "      <th>Sex</th>\n",
       "      <th>Capital_gain</th>\n",
       "      <th>Capital_loss</th>\n",
       "      <th>Hours_per_week</th>\n",
       "      <th>Native_country</th>\n",
       "      <th>Income</th>\n",
       "    </tr>\n",
       "  </thead>\n",
       "  <tbody>\n",
       "    <tr>\n",
       "      <th>0</th>\n",
       "      <td>50</td>\n",
       "      <td>6</td>\n",
       "      <td>83311</td>\n",
       "      <td>9</td>\n",
       "      <td>13</td>\n",
       "      <td>2</td>\n",
       "      <td>4</td>\n",
       "      <td>0</td>\n",
       "      <td>4</td>\n",
       "      <td>1</td>\n",
       "      <td>0</td>\n",
       "      <td>0</td>\n",
       "      <td>13</td>\n",
       "      <td>39</td>\n",
       "      <td>0</td>\n",
       "    </tr>\n",
       "    <tr>\n",
       "      <th>1</th>\n",
       "      <td>38</td>\n",
       "      <td>4</td>\n",
       "      <td>215646</td>\n",
       "      <td>11</td>\n",
       "      <td>9</td>\n",
       "      <td>0</td>\n",
       "      <td>6</td>\n",
       "      <td>1</td>\n",
       "      <td>4</td>\n",
       "      <td>1</td>\n",
       "      <td>0</td>\n",
       "      <td>0</td>\n",
       "      <td>40</td>\n",
       "      <td>39</td>\n",
       "      <td>0</td>\n",
       "    </tr>\n",
       "    <tr>\n",
       "      <th>2</th>\n",
       "      <td>53</td>\n",
       "      <td>4</td>\n",
       "      <td>234721</td>\n",
       "      <td>1</td>\n",
       "      <td>7</td>\n",
       "      <td>2</td>\n",
       "      <td>6</td>\n",
       "      <td>0</td>\n",
       "      <td>2</td>\n",
       "      <td>1</td>\n",
       "      <td>0</td>\n",
       "      <td>0</td>\n",
       "      <td>40</td>\n",
       "      <td>39</td>\n",
       "      <td>0</td>\n",
       "    </tr>\n",
       "    <tr>\n",
       "      <th>3</th>\n",
       "      <td>28</td>\n",
       "      <td>4</td>\n",
       "      <td>338409</td>\n",
       "      <td>9</td>\n",
       "      <td>13</td>\n",
       "      <td>2</td>\n",
       "      <td>10</td>\n",
       "      <td>5</td>\n",
       "      <td>2</td>\n",
       "      <td>0</td>\n",
       "      <td>0</td>\n",
       "      <td>0</td>\n",
       "      <td>40</td>\n",
       "      <td>5</td>\n",
       "      <td>0</td>\n",
       "    </tr>\n",
       "    <tr>\n",
       "      <th>4</th>\n",
       "      <td>37</td>\n",
       "      <td>4</td>\n",
       "      <td>284582</td>\n",
       "      <td>12</td>\n",
       "      <td>14</td>\n",
       "      <td>2</td>\n",
       "      <td>4</td>\n",
       "      <td>5</td>\n",
       "      <td>4</td>\n",
       "      <td>0</td>\n",
       "      <td>0</td>\n",
       "      <td>0</td>\n",
       "      <td>40</td>\n",
       "      <td>39</td>\n",
       "      <td>0</td>\n",
       "    </tr>\n",
       "    <tr>\n",
       "      <th>...</th>\n",
       "      <td>...</td>\n",
       "      <td>...</td>\n",
       "      <td>...</td>\n",
       "      <td>...</td>\n",
       "      <td>...</td>\n",
       "      <td>...</td>\n",
       "      <td>...</td>\n",
       "      <td>...</td>\n",
       "      <td>...</td>\n",
       "      <td>...</td>\n",
       "      <td>...</td>\n",
       "      <td>...</td>\n",
       "      <td>...</td>\n",
       "      <td>...</td>\n",
       "      <td>...</td>\n",
       "    </tr>\n",
       "    <tr>\n",
       "      <th>32555</th>\n",
       "      <td>27</td>\n",
       "      <td>4</td>\n",
       "      <td>257302</td>\n",
       "      <td>7</td>\n",
       "      <td>12</td>\n",
       "      <td>2</td>\n",
       "      <td>13</td>\n",
       "      <td>5</td>\n",
       "      <td>4</td>\n",
       "      <td>0</td>\n",
       "      <td>0</td>\n",
       "      <td>0</td>\n",
       "      <td>38</td>\n",
       "      <td>39</td>\n",
       "      <td>0</td>\n",
       "    </tr>\n",
       "    <tr>\n",
       "      <th>32556</th>\n",
       "      <td>40</td>\n",
       "      <td>4</td>\n",
       "      <td>154374</td>\n",
       "      <td>11</td>\n",
       "      <td>9</td>\n",
       "      <td>2</td>\n",
       "      <td>7</td>\n",
       "      <td>0</td>\n",
       "      <td>4</td>\n",
       "      <td>1</td>\n",
       "      <td>0</td>\n",
       "      <td>0</td>\n",
       "      <td>40</td>\n",
       "      <td>39</td>\n",
       "      <td>1</td>\n",
       "    </tr>\n",
       "    <tr>\n",
       "      <th>32557</th>\n",
       "      <td>58</td>\n",
       "      <td>4</td>\n",
       "      <td>151910</td>\n",
       "      <td>11</td>\n",
       "      <td>9</td>\n",
       "      <td>6</td>\n",
       "      <td>1</td>\n",
       "      <td>4</td>\n",
       "      <td>4</td>\n",
       "      <td>0</td>\n",
       "      <td>0</td>\n",
       "      <td>0</td>\n",
       "      <td>40</td>\n",
       "      <td>39</td>\n",
       "      <td>0</td>\n",
       "    </tr>\n",
       "    <tr>\n",
       "      <th>32558</th>\n",
       "      <td>22</td>\n",
       "      <td>4</td>\n",
       "      <td>201490</td>\n",
       "      <td>11</td>\n",
       "      <td>9</td>\n",
       "      <td>4</td>\n",
       "      <td>1</td>\n",
       "      <td>3</td>\n",
       "      <td>4</td>\n",
       "      <td>1</td>\n",
       "      <td>0</td>\n",
       "      <td>0</td>\n",
       "      <td>20</td>\n",
       "      <td>39</td>\n",
       "      <td>0</td>\n",
       "    </tr>\n",
       "    <tr>\n",
       "      <th>32559</th>\n",
       "      <td>52</td>\n",
       "      <td>5</td>\n",
       "      <td>287927</td>\n",
       "      <td>11</td>\n",
       "      <td>9</td>\n",
       "      <td>2</td>\n",
       "      <td>4</td>\n",
       "      <td>5</td>\n",
       "      <td>4</td>\n",
       "      <td>0</td>\n",
       "      <td>15024</td>\n",
       "      <td>0</td>\n",
       "      <td>40</td>\n",
       "      <td>39</td>\n",
       "      <td>1</td>\n",
       "    </tr>\n",
       "  </tbody>\n",
       "</table>\n",
       "<p>32560 rows × 15 columns</p>\n",
       "</div>"
      ],
      "text/plain": [
       "       Age  Workclass  Fnlwgt  Education  Education_num  Marital_status  \\\n",
       "0       50          6   83311          9             13               2   \n",
       "1       38          4  215646         11              9               0   \n",
       "2       53          4  234721          1              7               2   \n",
       "3       28          4  338409          9             13               2   \n",
       "4       37          4  284582         12             14               2   \n",
       "...    ...        ...     ...        ...            ...             ...   \n",
       "32555   27          4  257302          7             12               2   \n",
       "32556   40          4  154374         11              9               2   \n",
       "32557   58          4  151910         11              9               6   \n",
       "32558   22          4  201490         11              9               4   \n",
       "32559   52          5  287927         11              9               2   \n",
       "\n",
       "       Occupation  Relationship  Race  Sex  Capital_gain  Capital_loss  \\\n",
       "0               4             0     4    1             0             0   \n",
       "1               6             1     4    1             0             0   \n",
       "2               6             0     2    1             0             0   \n",
       "3              10             5     2    0             0             0   \n",
       "4               4             5     4    0             0             0   \n",
       "...           ...           ...   ...  ...           ...           ...   \n",
       "32555          13             5     4    0             0             0   \n",
       "32556           7             0     4    1             0             0   \n",
       "32557           1             4     4    0             0             0   \n",
       "32558           1             3     4    1             0             0   \n",
       "32559           4             5     4    0         15024             0   \n",
       "\n",
       "       Hours_per_week  Native_country  Income  \n",
       "0                  13              39       0  \n",
       "1                  40              39       0  \n",
       "2                  40              39       0  \n",
       "3                  40               5       0  \n",
       "4                  40              39       0  \n",
       "...               ...             ...     ...  \n",
       "32555              38              39       0  \n",
       "32556              40              39       1  \n",
       "32557              40              39       0  \n",
       "32558              20              39       0  \n",
       "32559              40              39       1  \n",
       "\n",
       "[32560 rows x 15 columns]"
      ]
     },
     "execution_count": 86,
     "metadata": {},
     "output_type": "execute_result"
    }
   ],
   "source": [
    "data"
   ]
  },
  {
   "cell_type": "markdown",
   "id": "c1c0a72d",
   "metadata": {},
   "source": [
    "# Observation-\n",
    "\n",
    "The categorical data for the below features have been encoded into numeric based on alphabetic order as follows-\n",
    "\n",
    "- Workclass-\n",
    "       - 0- Not known\n",
    "       - 1- Federal Gov\n",
    "       - 2- Local-Goc\n",
    "       - 3- Never-worked\n",
    "       - 4- Private\n",
    "       - 5- Self-emp-inc\n",
    "       - 6- Self-emp-not-inc\n",
    "       - 7- State-gov\n",
    "       - 8- Without pay\n",
    "    \n",
    "- Education-\n",
    "       - 0- 10 pass\n",
    "       - 1- 11 pass\n",
    "       - 2- 12 pass\n",
    "       - 3- 1st-4th\n",
    "       - 4- 5th-6th \n",
    "       - 5- 7th-8th\n",
    "       - 6- 9th\n",
    "       - 7- Assoc-acdm\n",
    "       - 8- Assoc-voc\n",
    "       - 9- Bachelors\n",
    "       -10- Doctorate\n",
    "       -11- HS-grad\n",
    "       -12- Masters\n",
    "       -13- Preschool\n",
    "       -14- Prof-school\n",
    "       -15- Some-college\n",
    "\n",
    "- Marital_status-\n",
    "       - 0- Divorced\n",
    "       - 1- Married-AF-spouse\n",
    "       - 2- Married-civ-spouse\n",
    "       - 3- Married-spouse-absent\n",
    "       - 4- Never-married \n",
    "       - 5- Separated\n",
    "        \n",
    "- Occupation-\n",
    "       - 0- Not known\n",
    "       - 1- Adm-clerical\n",
    "       - 2- Armed-Forces\n",
    "       - 3- Craft-repair\n",
    "       - 4- Exec-managerial \n",
    "       - 5- Farming-fishing\n",
    "       - 6- Handlers-cleaners\n",
    "       - 7- Machine-op-inspct\n",
    "       - 8- Other-service\n",
    "       - 9- Priv-house-serv\n",
    "       -10- Prof-specialty\n",
    "       -11- Protective-serv\n",
    "       -12- Sales\n",
    "       -13- Tech-support\n",
    "       -14- Transport-moving\n",
    "\n",
    "- Relationship-\n",
    "       - 0- Husband\n",
    "       - 1- Not-in-family\n",
    "       - 2- Other-relative\n",
    "       - 3- Own-child\n",
    "       - 4- Unmarried \n",
    "       - 5- Wife\n",
    "\n",
    "- Race-\n",
    "       - 0- Amer-Indian-Eskimo\n",
    "       - 1- Asian-Pac-Islander\n",
    "       - 2- Black\n",
    "       - 3- Other\n",
    "       - 4- White\n",
    "    \n",
    "- Sex-\n",
    "       - 0- Female\n",
    "       - 1- Male\n",
    "        \n",
    "- Native_country-\n",
    "       - 0- Not known\n",
    "       - 1- Cambodia\n",
    "       - 2- Canada\n",
    "       - 3- China\n",
    "       - 4- Columbia \n",
    "       - 5- Cuba\n",
    "       - 6- Dominican-Republic\n",
    "       - 7- Ecuador\n",
    "       - 8- El-Salvador\n",
    "       - 9- England\n",
    "       -10- France\n",
    "       -11- Germany\n",
    "       -12- Greece\n",
    "       -13- Guatemala\n",
    "       -14- Haiti\n",
    "       -15- Holand-Netherlands\n",
    "       -16- Honduras \n",
    "       -17- Hong\n",
    "       -18- Hungary\n",
    "       -19- India\n",
    "       -20- Iran  \n",
    "       -21- Ireland\n",
    "       -22- Italy\n",
    "       -23- Jamaica\n",
    "       -24- Japan\n",
    "       -25- Laos\n",
    "       -26- Mexico\n",
    "       -27- Nicaragua\n",
    "       -28- Outlying-US(Guam-USVI-etc)\n",
    "       -29- Peru\n",
    "       -30- Philippines\n",
    "       -31- Poland\n",
    "       -32- Portugal\n",
    "       -33- Puerto-Rico\n",
    "       -34- Scotland\n",
    "       -35- South\n",
    "       -36- Taiwan  \n",
    "       -37- Thailand\n",
    "       -38- Trinadad&Tobago\n",
    "       -39- United-States\n",
    "       -40- Vietnam  \n",
    "       -41- Yugoslavia\n",
    "\n",
    "- Income-\n",
    "       - 0- <=50K\n",
    "       - 1- >50K"
   ]
  },
  {
   "cell_type": "markdown",
   "id": "45c9c54a",
   "metadata": {},
   "source": [
    "# Imputing the unknowns"
   ]
  },
  {
   "cell_type": "code",
   "execution_count": 87,
   "id": "2089783f",
   "metadata": {},
   "outputs": [],
   "source": [
    "#Replacing the notknown values as NAN to be subjected to imputing\n",
    "\n",
    "data['Workclass']=data['Workclass'].replace(0,np.nan)\n",
    "data['Occupation']=data['Occupation'].replace(0,np.nan)\n",
    "data['Native_country']=data['Native_country'].replace(0,np.nan)"
   ]
  },
  {
   "cell_type": "code",
   "execution_count": 88,
   "id": "a0be386f",
   "metadata": {},
   "outputs": [
    {
     "data": {
      "text/plain": [
       "Age                  0\n",
       "Workclass         1836\n",
       "Fnlwgt               0\n",
       "Education            0\n",
       "Education_num        0\n",
       "Marital_status       0\n",
       "Occupation        1843\n",
       "Relationship         0\n",
       "Race                 0\n",
       "Sex                  0\n",
       "Capital_gain         0\n",
       "Capital_loss         0\n",
       "Hours_per_week       0\n",
       "Native_country     583\n",
       "Income               0\n",
       "dtype: int64"
      ]
     },
     "execution_count": 88,
     "metadata": {},
     "output_type": "execute_result"
    }
   ],
   "source": [
    "data.isnull().sum()"
   ]
  },
  {
   "cell_type": "code",
   "execution_count": 93,
   "id": "b5d80cbe",
   "metadata": {},
   "outputs": [],
   "source": [
    "#Imputing using KNN Imputer to replace NANS with meaningful data\n",
    "\n",
    "from sklearn.impute import KNNImputer\n",
    "knnimp=KNNImputer(n_neighbors=3)\n",
    "df=pd.DataFrame(knnimp.fit_transform(data[['Age','Workclass','Fnlwgt','Education','Education_num','Marital_status','Occupation','Relationship','Race','Sex','Capital_gain','Capital_loss','Hours_per_week','Native_country','Income']]), columns=['Age','Workclass','Fnlwgt','Education','Education_num','Marital_status','Occupation','Relationship','Race','Sex','Capital_gain','Capital_loss','Hours_per_week','Native_country','Income'])\n",
    "data['Workclass']=df['Workclass'].astype(int)\n",
    "data['Occupation']=df['Occupation'].astype(int)\n",
    "data['Native_country']=df['Native_country'].astype(int)"
   ]
  },
  {
   "cell_type": "code",
   "execution_count": 98,
   "id": "da97e279",
   "metadata": {},
   "outputs": [
    {
     "data": {
      "text/html": [
       "<div>\n",
       "<style scoped>\n",
       "    .dataframe tbody tr th:only-of-type {\n",
       "        vertical-align: middle;\n",
       "    }\n",
       "\n",
       "    .dataframe tbody tr th {\n",
       "        vertical-align: top;\n",
       "    }\n",
       "\n",
       "    .dataframe thead th {\n",
       "        text-align: right;\n",
       "    }\n",
       "</style>\n",
       "<table border=\"1\" class=\"dataframe\">\n",
       "  <thead>\n",
       "    <tr style=\"text-align: right;\">\n",
       "      <th></th>\n",
       "      <th>Age</th>\n",
       "      <th>Workclass</th>\n",
       "      <th>Fnlwgt</th>\n",
       "      <th>Education</th>\n",
       "      <th>Education_num</th>\n",
       "      <th>Marital_status</th>\n",
       "      <th>Occupation</th>\n",
       "      <th>Relationship</th>\n",
       "      <th>Race</th>\n",
       "      <th>Sex</th>\n",
       "      <th>Capital_gain</th>\n",
       "      <th>Capital_loss</th>\n",
       "      <th>Hours_per_week</th>\n",
       "      <th>Native_country</th>\n",
       "      <th>Income</th>\n",
       "    </tr>\n",
       "  </thead>\n",
       "  <tbody>\n",
       "    <tr>\n",
       "      <th>count</th>\n",
       "      <td>32560.000000</td>\n",
       "      <td>32560.000000</td>\n",
       "      <td>3.256000e+04</td>\n",
       "      <td>32560.000000</td>\n",
       "      <td>32560.000000</td>\n",
       "      <td>32560.000000</td>\n",
       "      <td>32560.000000</td>\n",
       "      <td>32560.000000</td>\n",
       "      <td>32560.000000</td>\n",
       "      <td>32560.000000</td>\n",
       "      <td>32560.000000</td>\n",
       "      <td>32560.000000</td>\n",
       "      <td>32560.000000</td>\n",
       "      <td>32560.000000</td>\n",
       "      <td>32560.000000</td>\n",
       "    </tr>\n",
       "    <tr>\n",
       "      <th>mean</th>\n",
       "      <td>38.581634</td>\n",
       "      <td>4.087101</td>\n",
       "      <td>1.897818e+05</td>\n",
       "      <td>10.298249</td>\n",
       "      <td>10.080590</td>\n",
       "      <td>2.611794</td>\n",
       "      <td>6.947850</td>\n",
       "      <td>1.446376</td>\n",
       "      <td>3.665848</td>\n",
       "      <td>0.669195</td>\n",
       "      <td>1077.615172</td>\n",
       "      <td>87.306511</td>\n",
       "      <td>40.437469</td>\n",
       "      <td>37.372420</td>\n",
       "      <td>0.240817</td>\n",
       "    </tr>\n",
       "    <tr>\n",
       "      <th>std</th>\n",
       "      <td>13.640642</td>\n",
       "      <td>1.120150</td>\n",
       "      <td>1.055498e+05</td>\n",
       "      <td>3.870317</td>\n",
       "      <td>2.572709</td>\n",
       "      <td>1.506225</td>\n",
       "      <td>3.952129</td>\n",
       "      <td>1.606794</td>\n",
       "      <td>0.848817</td>\n",
       "      <td>0.470510</td>\n",
       "      <td>7385.402999</td>\n",
       "      <td>402.966116</td>\n",
       "      <td>12.347618</td>\n",
       "      <td>6.091202</td>\n",
       "      <td>0.427586</td>\n",
       "    </tr>\n",
       "    <tr>\n",
       "      <th>min</th>\n",
       "      <td>17.000000</td>\n",
       "      <td>1.000000</td>\n",
       "      <td>1.228500e+04</td>\n",
       "      <td>0.000000</td>\n",
       "      <td>1.000000</td>\n",
       "      <td>0.000000</td>\n",
       "      <td>1.000000</td>\n",
       "      <td>0.000000</td>\n",
       "      <td>0.000000</td>\n",
       "      <td>0.000000</td>\n",
       "      <td>0.000000</td>\n",
       "      <td>0.000000</td>\n",
       "      <td>1.000000</td>\n",
       "      <td>1.000000</td>\n",
       "      <td>0.000000</td>\n",
       "    </tr>\n",
       "    <tr>\n",
       "      <th>25%</th>\n",
       "      <td>28.000000</td>\n",
       "      <td>4.000000</td>\n",
       "      <td>1.178315e+05</td>\n",
       "      <td>9.000000</td>\n",
       "      <td>9.000000</td>\n",
       "      <td>2.000000</td>\n",
       "      <td>4.000000</td>\n",
       "      <td>0.000000</td>\n",
       "      <td>4.000000</td>\n",
       "      <td>0.000000</td>\n",
       "      <td>0.000000</td>\n",
       "      <td>0.000000</td>\n",
       "      <td>40.000000</td>\n",
       "      <td>39.000000</td>\n",
       "      <td>0.000000</td>\n",
       "    </tr>\n",
       "    <tr>\n",
       "      <th>50%</th>\n",
       "      <td>37.000000</td>\n",
       "      <td>4.000000</td>\n",
       "      <td>1.783630e+05</td>\n",
       "      <td>11.000000</td>\n",
       "      <td>10.000000</td>\n",
       "      <td>2.000000</td>\n",
       "      <td>7.000000</td>\n",
       "      <td>1.000000</td>\n",
       "      <td>4.000000</td>\n",
       "      <td>1.000000</td>\n",
       "      <td>0.000000</td>\n",
       "      <td>0.000000</td>\n",
       "      <td>40.000000</td>\n",
       "      <td>39.000000</td>\n",
       "      <td>0.000000</td>\n",
       "    </tr>\n",
       "    <tr>\n",
       "      <th>75%</th>\n",
       "      <td>48.000000</td>\n",
       "      <td>4.000000</td>\n",
       "      <td>2.370545e+05</td>\n",
       "      <td>12.000000</td>\n",
       "      <td>12.000000</td>\n",
       "      <td>4.000000</td>\n",
       "      <td>10.000000</td>\n",
       "      <td>3.000000</td>\n",
       "      <td>4.000000</td>\n",
       "      <td>1.000000</td>\n",
       "      <td>0.000000</td>\n",
       "      <td>0.000000</td>\n",
       "      <td>45.000000</td>\n",
       "      <td>39.000000</td>\n",
       "      <td>0.000000</td>\n",
       "    </tr>\n",
       "    <tr>\n",
       "      <th>max</th>\n",
       "      <td>90.000000</td>\n",
       "      <td>8.000000</td>\n",
       "      <td>1.484705e+06</td>\n",
       "      <td>15.000000</td>\n",
       "      <td>16.000000</td>\n",
       "      <td>6.000000</td>\n",
       "      <td>14.000000</td>\n",
       "      <td>5.000000</td>\n",
       "      <td>4.000000</td>\n",
       "      <td>1.000000</td>\n",
       "      <td>99999.000000</td>\n",
       "      <td>4356.000000</td>\n",
       "      <td>99.000000</td>\n",
       "      <td>41.000000</td>\n",
       "      <td>1.000000</td>\n",
       "    </tr>\n",
       "  </tbody>\n",
       "</table>\n",
       "</div>"
      ],
      "text/plain": [
       "                Age     Workclass        Fnlwgt     Education  Education_num  \\\n",
       "count  32560.000000  32560.000000  3.256000e+04  32560.000000   32560.000000   \n",
       "mean      38.581634      4.087101  1.897818e+05     10.298249      10.080590   \n",
       "std       13.640642      1.120150  1.055498e+05      3.870317       2.572709   \n",
       "min       17.000000      1.000000  1.228500e+04      0.000000       1.000000   \n",
       "25%       28.000000      4.000000  1.178315e+05      9.000000       9.000000   \n",
       "50%       37.000000      4.000000  1.783630e+05     11.000000      10.000000   \n",
       "75%       48.000000      4.000000  2.370545e+05     12.000000      12.000000   \n",
       "max       90.000000      8.000000  1.484705e+06     15.000000      16.000000   \n",
       "\n",
       "       Marital_status    Occupation  Relationship          Race           Sex  \\\n",
       "count    32560.000000  32560.000000  32560.000000  32560.000000  32560.000000   \n",
       "mean         2.611794      6.947850      1.446376      3.665848      0.669195   \n",
       "std          1.506225      3.952129      1.606794      0.848817      0.470510   \n",
       "min          0.000000      1.000000      0.000000      0.000000      0.000000   \n",
       "25%          2.000000      4.000000      0.000000      4.000000      0.000000   \n",
       "50%          2.000000      7.000000      1.000000      4.000000      1.000000   \n",
       "75%          4.000000     10.000000      3.000000      4.000000      1.000000   \n",
       "max          6.000000     14.000000      5.000000      4.000000      1.000000   \n",
       "\n",
       "       Capital_gain  Capital_loss  Hours_per_week  Native_country  \\\n",
       "count  32560.000000  32560.000000    32560.000000    32560.000000   \n",
       "mean    1077.615172     87.306511       40.437469       37.372420   \n",
       "std     7385.402999    402.966116       12.347618        6.091202   \n",
       "min        0.000000      0.000000        1.000000        1.000000   \n",
       "25%        0.000000      0.000000       40.000000       39.000000   \n",
       "50%        0.000000      0.000000       40.000000       39.000000   \n",
       "75%        0.000000      0.000000       45.000000       39.000000   \n",
       "max    99999.000000   4356.000000       99.000000       41.000000   \n",
       "\n",
       "             Income  \n",
       "count  32560.000000  \n",
       "mean       0.240817  \n",
       "std        0.427586  \n",
       "min        0.000000  \n",
       "25%        0.000000  \n",
       "50%        0.000000  \n",
       "75%        0.000000  \n",
       "max        1.000000  "
      ]
     },
     "execution_count": 98,
     "metadata": {},
     "output_type": "execute_result"
    }
   ],
   "source": [
    "#Statistical Analysis\n",
    "data.describe()"
   ]
  },
  {
   "cell_type": "markdown",
   "id": "7f714923",
   "metadata": {},
   "source": [
    "# Checking Correlation"
   ]
  },
  {
   "cell_type": "code",
   "execution_count": 99,
   "id": "d152e8d3",
   "metadata": {},
   "outputs": [
    {
     "data": {
      "text/html": [
       "<div>\n",
       "<style scoped>\n",
       "    .dataframe tbody tr th:only-of-type {\n",
       "        vertical-align: middle;\n",
       "    }\n",
       "\n",
       "    .dataframe tbody tr th {\n",
       "        vertical-align: top;\n",
       "    }\n",
       "\n",
       "    .dataframe thead th {\n",
       "        text-align: right;\n",
       "    }\n",
       "</style>\n",
       "<table border=\"1\" class=\"dataframe\">\n",
       "  <thead>\n",
       "    <tr style=\"text-align: right;\">\n",
       "      <th></th>\n",
       "      <th>Age</th>\n",
       "      <th>Workclass</th>\n",
       "      <th>Fnlwgt</th>\n",
       "      <th>Education</th>\n",
       "      <th>Education_num</th>\n",
       "      <th>Marital_status</th>\n",
       "      <th>Occupation</th>\n",
       "      <th>Relationship</th>\n",
       "      <th>Race</th>\n",
       "      <th>Sex</th>\n",
       "      <th>Capital_gain</th>\n",
       "      <th>Capital_loss</th>\n",
       "      <th>Hours_per_week</th>\n",
       "      <th>Native_country</th>\n",
       "      <th>Income</th>\n",
       "    </tr>\n",
       "  </thead>\n",
       "  <tbody>\n",
       "    <tr>\n",
       "      <th>Age</th>\n",
       "      <td>1.000000</td>\n",
       "      <td>0.036941</td>\n",
       "      <td>-0.076646</td>\n",
       "      <td>-0.010508</td>\n",
       "      <td>0.036527</td>\n",
       "      <td>-0.266292</td>\n",
       "      <td>-0.008250</td>\n",
       "      <td>-0.263698</td>\n",
       "      <td>0.028718</td>\n",
       "      <td>0.088832</td>\n",
       "      <td>0.077674</td>\n",
       "      <td>0.057775</td>\n",
       "      <td>0.068756</td>\n",
       "      <td>0.000245</td>\n",
       "      <td>0.234039</td>\n",
       "    </tr>\n",
       "    <tr>\n",
       "      <th>Workclass</th>\n",
       "      <td>0.036941</td>\n",
       "      <td>1.000000</td>\n",
       "      <td>-0.025413</td>\n",
       "      <td>0.004521</td>\n",
       "      <td>0.005248</td>\n",
       "      <td>-0.022919</td>\n",
       "      <td>0.012460</td>\n",
       "      <td>-0.058598</td>\n",
       "      <td>0.049218</td>\n",
       "      <td>0.073728</td>\n",
       "      <td>0.032489</td>\n",
       "      <td>0.001876</td>\n",
       "      <td>0.045090</td>\n",
       "      <td>-0.003548</td>\n",
       "      <td>0.004684</td>\n",
       "    </tr>\n",
       "    <tr>\n",
       "      <th>Fnlwgt</th>\n",
       "      <td>-0.076646</td>\n",
       "      <td>-0.025413</td>\n",
       "      <td>1.000000</td>\n",
       "      <td>-0.028156</td>\n",
       "      <td>-0.043159</td>\n",
       "      <td>0.028184</td>\n",
       "      <td>-0.000491</td>\n",
       "      <td>0.008922</td>\n",
       "      <td>-0.021278</td>\n",
       "      <td>0.026882</td>\n",
       "      <td>0.000437</td>\n",
       "      <td>-0.010259</td>\n",
       "      <td>-0.018770</td>\n",
       "      <td>-0.064369</td>\n",
       "      <td>-0.009481</td>\n",
       "    </tr>\n",
       "    <tr>\n",
       "      <th>Education</th>\n",
       "      <td>-0.010508</td>\n",
       "      <td>0.004521</td>\n",
       "      <td>-0.028156</td>\n",
       "      <td>1.000000</td>\n",
       "      <td>0.359172</td>\n",
       "      <td>-0.038398</td>\n",
       "      <td>-0.034486</td>\n",
       "      <td>-0.010879</td>\n",
       "      <td>0.014135</td>\n",
       "      <td>-0.027349</td>\n",
       "      <td>0.030047</td>\n",
       "      <td>0.016744</td>\n",
       "      <td>0.055510</td>\n",
       "      <td>0.076873</td>\n",
       "      <td>0.079311</td>\n",
       "    </tr>\n",
       "    <tr>\n",
       "      <th>Education_num</th>\n",
       "      <td>0.036527</td>\n",
       "      <td>0.005248</td>\n",
       "      <td>-0.043159</td>\n",
       "      <td>0.359172</td>\n",
       "      <td>1.000000</td>\n",
       "      <td>-0.069338</td>\n",
       "      <td>0.087361</td>\n",
       "      <td>-0.094145</td>\n",
       "      <td>0.031825</td>\n",
       "      <td>0.012256</td>\n",
       "      <td>0.122627</td>\n",
       "      <td>0.079932</td>\n",
       "      <td>0.148127</td>\n",
       "      <td>0.088901</td>\n",
       "      <td>0.335182</td>\n",
       "    </tr>\n",
       "    <tr>\n",
       "      <th>Marital_status</th>\n",
       "      <td>-0.266292</td>\n",
       "      <td>-0.022919</td>\n",
       "      <td>0.028184</td>\n",
       "      <td>-0.038398</td>\n",
       "      <td>-0.069338</td>\n",
       "      <td>1.000000</td>\n",
       "      <td>0.020457</td>\n",
       "      <td>0.185461</td>\n",
       "      <td>-0.068025</td>\n",
       "      <td>-0.129337</td>\n",
       "      <td>-0.043398</td>\n",
       "      <td>-0.034182</td>\n",
       "      <td>-0.190521</td>\n",
       "      <td>-0.021735</td>\n",
       "      <td>-0.199295</td>\n",
       "    </tr>\n",
       "    <tr>\n",
       "      <th>Occupation</th>\n",
       "      <td>-0.008250</td>\n",
       "      <td>0.012460</td>\n",
       "      <td>-0.000491</td>\n",
       "      <td>-0.034486</td>\n",
       "      <td>0.087361</td>\n",
       "      <td>0.020457</td>\n",
       "      <td>1.000000</td>\n",
       "      <td>-0.052346</td>\n",
       "      <td>-0.000883</td>\n",
       "      <td>0.060804</td>\n",
       "      <td>0.021652</td>\n",
       "      <td>0.014455</td>\n",
       "      <td>0.020813</td>\n",
       "      <td>-0.003386</td>\n",
       "      <td>0.050089</td>\n",
       "    </tr>\n",
       "    <tr>\n",
       "      <th>Relationship</th>\n",
       "      <td>-0.263698</td>\n",
       "      <td>-0.058598</td>\n",
       "      <td>0.008922</td>\n",
       "      <td>-0.010879</td>\n",
       "      <td>-0.094145</td>\n",
       "      <td>0.185461</td>\n",
       "      <td>-0.052346</td>\n",
       "      <td>1.000000</td>\n",
       "      <td>-0.116052</td>\n",
       "      <td>-0.582453</td>\n",
       "      <td>-0.057918</td>\n",
       "      <td>-0.061064</td>\n",
       "      <td>-0.248975</td>\n",
       "      <td>-0.010386</td>\n",
       "      <td>-0.250924</td>\n",
       "    </tr>\n",
       "    <tr>\n",
       "      <th>Race</th>\n",
       "      <td>0.028718</td>\n",
       "      <td>0.049218</td>\n",
       "      <td>-0.021278</td>\n",
       "      <td>0.014135</td>\n",
       "      <td>0.031825</td>\n",
       "      <td>-0.068025</td>\n",
       "      <td>-0.000883</td>\n",
       "      <td>-0.116052</td>\n",
       "      <td>1.000000</td>\n",
       "      <td>0.087197</td>\n",
       "      <td>0.011143</td>\n",
       "      <td>0.018902</td>\n",
       "      <td>0.041910</td>\n",
       "      <td>0.121789</td>\n",
       "      <td>0.071853</td>\n",
       "    </tr>\n",
       "    <tr>\n",
       "      <th>Sex</th>\n",
       "      <td>0.088832</td>\n",
       "      <td>0.073728</td>\n",
       "      <td>0.026882</td>\n",
       "      <td>-0.027349</td>\n",
       "      <td>0.012256</td>\n",
       "      <td>-0.129337</td>\n",
       "      <td>0.060804</td>\n",
       "      <td>-0.582453</td>\n",
       "      <td>0.087197</td>\n",
       "      <td>1.000000</td>\n",
       "      <td>0.048477</td>\n",
       "      <td>0.045572</td>\n",
       "      <td>0.229312</td>\n",
       "      <td>0.001686</td>\n",
       "      <td>0.215995</td>\n",
       "    </tr>\n",
       "    <tr>\n",
       "      <th>Capital_gain</th>\n",
       "      <td>0.077674</td>\n",
       "      <td>0.032489</td>\n",
       "      <td>0.000437</td>\n",
       "      <td>0.030047</td>\n",
       "      <td>0.122627</td>\n",
       "      <td>-0.043398</td>\n",
       "      <td>0.021652</td>\n",
       "      <td>-0.057918</td>\n",
       "      <td>0.011143</td>\n",
       "      <td>0.048477</td>\n",
       "      <td>1.000000</td>\n",
       "      <td>-0.031614</td>\n",
       "      <td>0.078409</td>\n",
       "      <td>0.009600</td>\n",
       "      <td>0.223333</td>\n",
       "    </tr>\n",
       "    <tr>\n",
       "      <th>Capital_loss</th>\n",
       "      <td>0.057775</td>\n",
       "      <td>0.001876</td>\n",
       "      <td>-0.010259</td>\n",
       "      <td>0.016744</td>\n",
       "      <td>0.079932</td>\n",
       "      <td>-0.034182</td>\n",
       "      <td>0.014455</td>\n",
       "      <td>-0.061064</td>\n",
       "      <td>0.018902</td>\n",
       "      <td>0.045572</td>\n",
       "      <td>-0.031614</td>\n",
       "      <td>1.000000</td>\n",
       "      <td>0.054256</td>\n",
       "      <td>0.010389</td>\n",
       "      <td>0.150523</td>\n",
       "    </tr>\n",
       "    <tr>\n",
       "      <th>Hours_per_week</th>\n",
       "      <td>0.068756</td>\n",
       "      <td>0.045090</td>\n",
       "      <td>-0.018770</td>\n",
       "      <td>0.055510</td>\n",
       "      <td>0.148127</td>\n",
       "      <td>-0.190521</td>\n",
       "      <td>0.020813</td>\n",
       "      <td>-0.248975</td>\n",
       "      <td>0.041910</td>\n",
       "      <td>0.229312</td>\n",
       "      <td>0.078409</td>\n",
       "      <td>0.054256</td>\n",
       "      <td>1.000000</td>\n",
       "      <td>0.006331</td>\n",
       "      <td>0.229690</td>\n",
       "    </tr>\n",
       "    <tr>\n",
       "      <th>Native_country</th>\n",
       "      <td>0.000245</td>\n",
       "      <td>-0.003548</td>\n",
       "      <td>-0.064369</td>\n",
       "      <td>0.076873</td>\n",
       "      <td>0.088901</td>\n",
       "      <td>-0.021735</td>\n",
       "      <td>-0.003386</td>\n",
       "      <td>-0.010386</td>\n",
       "      <td>0.121789</td>\n",
       "      <td>0.001686</td>\n",
       "      <td>0.009600</td>\n",
       "      <td>0.010389</td>\n",
       "      <td>0.006331</td>\n",
       "      <td>1.000000</td>\n",
       "      <td>0.024373</td>\n",
       "    </tr>\n",
       "    <tr>\n",
       "      <th>Income</th>\n",
       "      <td>0.234039</td>\n",
       "      <td>0.004684</td>\n",
       "      <td>-0.009481</td>\n",
       "      <td>0.079311</td>\n",
       "      <td>0.335182</td>\n",
       "      <td>-0.199295</td>\n",
       "      <td>0.050089</td>\n",
       "      <td>-0.250924</td>\n",
       "      <td>0.071853</td>\n",
       "      <td>0.215995</td>\n",
       "      <td>0.223333</td>\n",
       "      <td>0.150523</td>\n",
       "      <td>0.229690</td>\n",
       "      <td>0.024373</td>\n",
       "      <td>1.000000</td>\n",
       "    </tr>\n",
       "  </tbody>\n",
       "</table>\n",
       "</div>"
      ],
      "text/plain": [
       "                     Age  Workclass    Fnlwgt  Education  Education_num  \\\n",
       "Age             1.000000   0.036941 -0.076646  -0.010508       0.036527   \n",
       "Workclass       0.036941   1.000000 -0.025413   0.004521       0.005248   \n",
       "Fnlwgt         -0.076646  -0.025413  1.000000  -0.028156      -0.043159   \n",
       "Education      -0.010508   0.004521 -0.028156   1.000000       0.359172   \n",
       "Education_num   0.036527   0.005248 -0.043159   0.359172       1.000000   \n",
       "Marital_status -0.266292  -0.022919  0.028184  -0.038398      -0.069338   \n",
       "Occupation     -0.008250   0.012460 -0.000491  -0.034486       0.087361   \n",
       "Relationship   -0.263698  -0.058598  0.008922  -0.010879      -0.094145   \n",
       "Race            0.028718   0.049218 -0.021278   0.014135       0.031825   \n",
       "Sex             0.088832   0.073728  0.026882  -0.027349       0.012256   \n",
       "Capital_gain    0.077674   0.032489  0.000437   0.030047       0.122627   \n",
       "Capital_loss    0.057775   0.001876 -0.010259   0.016744       0.079932   \n",
       "Hours_per_week  0.068756   0.045090 -0.018770   0.055510       0.148127   \n",
       "Native_country  0.000245  -0.003548 -0.064369   0.076873       0.088901   \n",
       "Income          0.234039   0.004684 -0.009481   0.079311       0.335182   \n",
       "\n",
       "                Marital_status  Occupation  Relationship      Race       Sex  \\\n",
       "Age                  -0.266292   -0.008250     -0.263698  0.028718  0.088832   \n",
       "Workclass            -0.022919    0.012460     -0.058598  0.049218  0.073728   \n",
       "Fnlwgt                0.028184   -0.000491      0.008922 -0.021278  0.026882   \n",
       "Education            -0.038398   -0.034486     -0.010879  0.014135 -0.027349   \n",
       "Education_num        -0.069338    0.087361     -0.094145  0.031825  0.012256   \n",
       "Marital_status        1.000000    0.020457      0.185461 -0.068025 -0.129337   \n",
       "Occupation            0.020457    1.000000     -0.052346 -0.000883  0.060804   \n",
       "Relationship          0.185461   -0.052346      1.000000 -0.116052 -0.582453   \n",
       "Race                 -0.068025   -0.000883     -0.116052  1.000000  0.087197   \n",
       "Sex                  -0.129337    0.060804     -0.582453  0.087197  1.000000   \n",
       "Capital_gain         -0.043398    0.021652     -0.057918  0.011143  0.048477   \n",
       "Capital_loss         -0.034182    0.014455     -0.061064  0.018902  0.045572   \n",
       "Hours_per_week       -0.190521    0.020813     -0.248975  0.041910  0.229312   \n",
       "Native_country       -0.021735   -0.003386     -0.010386  0.121789  0.001686   \n",
       "Income               -0.199295    0.050089     -0.250924  0.071853  0.215995   \n",
       "\n",
       "                Capital_gain  Capital_loss  Hours_per_week  Native_country  \\\n",
       "Age                 0.077674      0.057775        0.068756        0.000245   \n",
       "Workclass           0.032489      0.001876        0.045090       -0.003548   \n",
       "Fnlwgt              0.000437     -0.010259       -0.018770       -0.064369   \n",
       "Education           0.030047      0.016744        0.055510        0.076873   \n",
       "Education_num       0.122627      0.079932        0.148127        0.088901   \n",
       "Marital_status     -0.043398     -0.034182       -0.190521       -0.021735   \n",
       "Occupation          0.021652      0.014455        0.020813       -0.003386   \n",
       "Relationship       -0.057918     -0.061064       -0.248975       -0.010386   \n",
       "Race                0.011143      0.018902        0.041910        0.121789   \n",
       "Sex                 0.048477      0.045572        0.229312        0.001686   \n",
       "Capital_gain        1.000000     -0.031614        0.078409        0.009600   \n",
       "Capital_loss       -0.031614      1.000000        0.054256        0.010389   \n",
       "Hours_per_week      0.078409      0.054256        1.000000        0.006331   \n",
       "Native_country      0.009600      0.010389        0.006331        1.000000   \n",
       "Income              0.223333      0.150523        0.229690        0.024373   \n",
       "\n",
       "                  Income  \n",
       "Age             0.234039  \n",
       "Workclass       0.004684  \n",
       "Fnlwgt         -0.009481  \n",
       "Education       0.079311  \n",
       "Education_num   0.335182  \n",
       "Marital_status -0.199295  \n",
       "Occupation      0.050089  \n",
       "Relationship   -0.250924  \n",
       "Race            0.071853  \n",
       "Sex             0.215995  \n",
       "Capital_gain    0.223333  \n",
       "Capital_loss    0.150523  \n",
       "Hours_per_week  0.229690  \n",
       "Native_country  0.024373  \n",
       "Income          1.000000  "
      ]
     },
     "execution_count": 99,
     "metadata": {},
     "output_type": "execute_result"
    }
   ],
   "source": [
    "data.corr()"
   ]
  },
  {
   "cell_type": "markdown",
   "id": "5bb9e348",
   "metadata": {},
   "source": [
    "# \n",
    "For better understanding let's use a heat map"
   ]
  },
  {
   "cell_type": "code",
   "execution_count": 100,
   "id": "193cbeab",
   "metadata": {},
   "outputs": [
    {
     "data": {
      "image/png": "[encoded data removed]",
      "text/plain": [
       "<Figure size 1440x1440 with 2 Axes>"
      ]
     },
     "metadata": {
      "needs_background": "light"
     },
     "output_type": "display_data"
    }
   ],
   "source": [
    "corr_mat=data.corr()\n",
    "\n",
    "#size of the canvas\n",
    "plt.figure(figsize=[20,20])\n",
    "\n",
    "#plot the correlation matrix\n",
    "sns.heatmap(corr_mat,annot=True, annot_kws={'size':12})\n",
    "plt.title(\"Correlation Matrix\")\n",
    "plt.show()"
   ]
  },
  {
   "cell_type": "markdown",
   "id": "e5f37260",
   "metadata": {},
   "source": [
    "# Observation-\n",
    "Let's print the correlation values of independent values with target variable for a better understanding"
   ]
  },
  {
   "cell_type": "code",
   "execution_count": 102,
   "id": "727dfb15",
   "metadata": {},
   "outputs": [
    {
     "data": {
      "text/plain": [
       "Relationship     -0.250924\n",
       "Marital_status   -0.199295\n",
       "Fnlwgt           -0.009481\n",
       "Workclass         0.004684\n",
       "Native_country    0.024373\n",
       "Occupation        0.050089\n",
       "Race              0.071853\n",
       "Education         0.079311\n",
       "Capital_loss      0.150523\n",
       "Sex               0.215995\n",
       "Capital_gain      0.223333\n",
       "Hours_per_week    0.229690\n",
       "Age               0.234039\n",
       "Education_num     0.335182\n",
       "Income            1.000000\n",
       "Name: Income, dtype: float64"
      ]
     },
     "execution_count": 102,
     "metadata": {},
     "output_type": "execute_result"
    }
   ],
   "source": [
    "corr_matrix=data.corr()\n",
    "corr_matrix[\"Income\"].sort_values(ascending=True)"
   ]
  },
  {
   "cell_type": "markdown",
   "id": "5414150f",
   "metadata": {},
   "source": [
    "# Observation-\n",
    "- Relationship, Marital_status and Fnlwgt are negatively correlated to the label Income\n",
    "- Features Workclass, Native_country, Occupation, Race, Education, Capital_loss, Sex, Capital_gain, Hours_per_week, Age and Education_num are positively correlated to the label Loan_Status\n",
    "- Relationship is 25% negatively correlated with Loan_Status showing a moderately weak bond\n",
    "- Fnlwgt is 0.9% negatively correlated with Loan_Status showing an extremely weak bond\n",
    "- Education_num is 33% positively correlated with Loan_Status showing a moderately strong bond\n",
    "- Workclass is 0.4% positively correlated with Loan_Status showing an extremely weak bond"
   ]
  },
  {
   "cell_type": "code",
   "execution_count": 105,
   "id": "5f0221c4",
   "metadata": {},
   "outputs": [
    {
     "data": {
      "text/plain": [
       "(32560, 15)"
      ]
     },
     "execution_count": 105,
     "metadata": {},
     "output_type": "execute_result"
    }
   ],
   "source": [
    "data.shape"
   ]
  },
  {
   "cell_type": "markdown",
   "id": "9c14cd8a",
   "metadata": {},
   "source": [
    "# Checking for outliers"
   ]
  },
  {
   "cell_type": "code",
   "execution_count": 106,
   "id": "afce8f2c",
   "metadata": {},
   "outputs": [
    {
     "data": {
      "image/png": "[encoded data removed]",
      "text/plain": [
       "<Figure size 1440x1800 with 15 Axes>"
      ]
     },
     "metadata": {
      "needs_background": "light"
     },
     "output_type": "display_data"
    }
   ],
   "source": [
    "#visulaize the outliers using boxplot\n",
    "plt.figure(figsize=(20,25))\n",
    "graph=1\n",
    "\n",
    "for column in data:\n",
    "    if graph<=15:\n",
    "        ax=plt.subplot(4,4,graph)\n",
    "        sns.boxplot(data=data[column], orient='v')\n",
    "        plt.xlabel(column,fontsize=20)\n",
    "    graph=graph+1\n",
    "plt.show()"
   ]
  },
  {
   "cell_type": "markdown",
   "id": "15a39986",
   "metadata": {},
   "source": [
    "# \n",
    "The features with continuous data containing outliers-\n",
    "\n",
    "- Age\n",
    "- Fnlwgt\n",
    "- Education_num\n",
    "- Hours_per_week\n",
    "- Capital loss\n",
    "- Capital gain"
   ]
  },
  {
   "cell_type": "code",
   "execution_count": 108,
   "id": "29fde7ac",
   "metadata": {},
   "outputs": [
    {
     "data": {
      "text/plain": [
       "(32560, 15)"
      ]
     },
     "execution_count": 108,
     "metadata": {},
     "output_type": "execute_result"
    }
   ],
   "source": [
    "#remove outliers using zscore technique\n",
    "from scipy.stats import zscore\n",
    "import numpy as np\n",
    "z=np.abs(zscore(data))\n",
    "z.shape"
   ]
  },
  {
   "cell_type": "code",
   "execution_count": 109,
   "id": "d22da435",
   "metadata": {},
   "outputs": [
    {
     "name": "stdout",
     "output_type": "stream",
     "text": [
      "(array([    3,     9,    10, ..., 32532, 32550, 32552], dtype=int64), array([13, 12,  8, ...,  8,  8,  8], dtype=int64))\n"
     ]
    }
   ],
   "source": [
    "threshold=3\n",
    "print(np.where(z>3))"
   ]
  },
  {
   "cell_type": "code",
   "execution_count": 110,
   "id": "07b82c67",
   "metadata": {},
   "outputs": [
    {
     "name": "stdout",
     "output_type": "stream",
     "text": [
      "(32560, 15)\n",
      "(27761, 15)\n"
     ]
    }
   ],
   "source": [
    "data_new=data[(z<3).all(axis=1)]\n",
    "print(data.shape)\n",
    "print(data_new.shape)"
   ]
  },
  {
   "cell_type": "markdown",
   "id": "cb847f41",
   "metadata": {},
   "source": [
    "# \n",
    "The removal of these outliers is essential, the percentage loss is 14.74% which is slightly tolerable"
   ]
  },
  {
   "cell_type": "markdown",
   "id": "d9f1f445",
   "metadata": {},
   "source": [
    "# Divide Data Set into features and labels"
   ]
  },
  {
   "cell_type": "code",
   "execution_count": 112,
   "id": "8b44defb",
   "metadata": {},
   "outputs": [],
   "source": [
    "y=data_new['Income']\n",
    "x=data_new.drop(columns=['Income'])"
   ]
  },
  {
   "cell_type": "code",
   "execution_count": 113,
   "id": "99baf0f4",
   "metadata": {},
   "outputs": [
    {
     "data": {
      "text/plain": [
       "Capital_loss      29.509748\n",
       "Capital_gain       4.929783\n",
       "Relationship       0.753622\n",
       "Fnlwgt             0.628251\n",
       "Age                0.485065\n",
       "Occupation         0.128371\n",
       "Workclass          0.079454\n",
       "Marital_status    -0.045580\n",
       "Education_num     -0.146330\n",
       "Hours_per_week    -0.359546\n",
       "Sex               -0.688769\n",
       "Education         -0.955598\n",
       "Race              -2.586771\n",
       "Native_country    -5.213119\n",
       "dtype: float64"
      ]
     },
     "execution_count": 113,
     "metadata": {},
     "output_type": "execute_result"
    }
   ],
   "source": [
    "#Confirming the skewness\n",
    "x.skew().sort_values(ascending=False)"
   ]
  },
  {
   "cell_type": "markdown",
   "id": "b787240c",
   "metadata": {},
   "source": [
    "# \n",
    "Keeping +/-0.5 as the range of skewness, the columns not falling in this range are-\n",
    "\n",
    "Capital_loss   \n",
    "Capital_gain      \n",
    "Relationship           \n",
    "Sex\n",
    "Education            \n",
    "Race                            \n",
    "Native_country              \n",
    "\n",
    "Amongst the above features, only Capital_loss and Capital_gain   are continous and their skewness need to be removed"
   ]
  },
  {
   "cell_type": "markdown",
   "id": "ec383fcd",
   "metadata": {},
   "source": [
    "# Transforming Data to remove skewness"
   ]
  },
  {
   "cell_type": "code",
   "execution_count": 115,
   "id": "9072e180",
   "metadata": {},
   "outputs": [],
   "source": [
    "from sklearn.preprocessing import power_transform\n",
    "x_n=power_transform(x)"
   ]
  },
  {
   "cell_type": "code",
   "execution_count": 116,
   "id": "6f29cf78",
   "metadata": {},
   "outputs": [
    {
     "data": {
      "text/plain": [
       "Capital_loss      24.778601\n",
       "Capital_gain       3.068642\n",
       "Native_country     1.403089\n",
       "Workclass          0.167679\n",
       "Relationship       0.109745\n",
       "Hours_per_week     0.105641\n",
       "Education_num      0.026817\n",
       "Age               -0.018085\n",
       "Fnlwgt            -0.034491\n",
       "Marital_status    -0.128385\n",
       "Occupation        -0.146504\n",
       "Education         -0.313570\n",
       "Sex               -0.688769\n",
       "Race              -2.524455\n",
       "dtype: float64"
      ]
     },
     "execution_count": 116,
     "metadata": {},
     "output_type": "execute_result"
    }
   ],
   "source": [
    "#Checking if skewness was rectified\n",
    "x_skew=pd.DataFrame(x_n, columns=x.columns)\n",
    "x_skew.skew().sort_values(ascending=False)"
   ]
  },
  {
   "cell_type": "markdown",
   "id": "eb3c7492",
   "metadata": {},
   "source": [
    "# \n",
    "Skewness has been removed, let's move forward"
   ]
  },
  {
   "cell_type": "markdown",
   "id": "fb1a0c64",
   "metadata": {},
   "source": [
    "# Scaling the data"
   ]
  },
  {
   "cell_type": "code",
   "execution_count": 118,
   "id": "ff5c3f18",
   "metadata": {},
   "outputs": [],
   "source": [
    "scaler=StandardScaler()\n",
    "X_scaled=scaler.fit_transform(x_skew)"
   ]
  },
  {
   "cell_type": "markdown",
   "id": "a7d0c48d",
   "metadata": {},
   "source": [
    "# Using Logistic Regression Model"
   ]
  },
  {
   "cell_type": "code",
   "execution_count": 119,
   "id": "12340c23",
   "metadata": {},
   "outputs": [],
   "source": [
    "from sklearn.linear_model import LogisticRegression\n",
    "from sklearn.metrics import accuracy_score\n",
    "from sklearn.metrics import confusion_matrix, classification_report\n",
    "from sklearn.model_selection import train_test_split"
   ]
  },
  {
   "cell_type": "code",
   "execution_count": 120,
   "id": "5c893ac3",
   "metadata": {},
   "outputs": [
    {
     "name": "stdout",
     "output_type": "stream",
     "text": [
      "accuracy 0.8350441202953358 random_state 0\n",
      "accuracy 0.8350441202953358 random_state 0\n",
      "accuracy 0.823878984332793 random_state 1\n",
      "accuracy 0.832703043399964 random_state 2\n",
      "accuracy 0.8278408067711147 random_state 3\n",
      "accuracy 0.8289213037997479 random_state 4\n",
      "accuracy 0.8309022150189087 random_state 5\n",
      "accuracy 0.8303619665045922 random_state 6\n",
      "accuracy 0.8332432919142806 random_state 7\n",
      "accuracy 0.8287412209616424 random_state 8\n",
      "accuracy 0.8305420493426976 random_state 9\n",
      "accuracy 0.8287412209616424 random_state 10\n",
      "accuracy 0.8245993156852152 random_state 11\n",
      "accuracy 0.833063209076175 random_state 12\n",
      "accuracy 0.8264001440662705 random_state 13\n",
      "accuracy 0.8314424635332253 random_state 14\n",
      "accuracy 0.8370250315144967 random_state 15\n",
      "accuracy 0.8370250315144967 random_state 15\n",
      "accuracy 0.8283810552854313 random_state 16\n",
      "accuracy 0.8289213037997479 random_state 17\n",
      "accuracy 0.8325229605618585 random_state 18\n",
      "accuracy 0.826580226904376 random_state 19\n",
      "accuracy 0.8355843688096525 random_state 20\n",
      "accuracy 0.8213578245993157 random_state 21\n",
      "accuracy 0.8242391500090042 random_state 22\n",
      "accuracy 0.8245993156852152 random_state 23\n",
      "accuracy 0.8336034575904916 random_state 24\n",
      "accuracy 0.8400864397622907 random_state 25\n",
      "accuracy 0.8400864397622907 random_state 25\n",
      "accuracy 0.8303619665045922 random_state 26\n",
      "accuracy 0.8282009724473258 random_state 27\n",
      "accuracy 0.8294615523140645 random_state 28\n",
      "accuracy 0.8258598955519539 random_state 29\n",
      "accuracy 0.8312623806951197 random_state 30\n",
      "accuracy 0.8346839546191248 random_state 31\n",
      "accuracy 0.8346839546191248 random_state 32\n",
      "accuracy 0.8287412209616424 random_state 33\n",
      "accuracy 0.8262200612281649 random_state 34\n",
      "accuracy 0.8274806410949036 random_state 35\n",
      "accuracy 0.8336034575904916 random_state 36\n",
      "accuracy 0.8298217179902755 random_state 37\n",
      "accuracy 0.8328831262380695 random_state 38\n",
      "accuracy 0.8287412209616424 random_state 39\n",
      "accuracy 0.8312623806951197 random_state 40\n",
      "accuracy 0.8280208896092203 random_state 41\n",
      "accuracy 0.8305420493426976 random_state 42\n",
      "accuracy 0.826940392580587 random_state 43\n",
      "accuracy 0.8273005582567982 random_state 44\n",
      "accuracy 0.826940392580587 random_state 45\n",
      "accuracy 0.8229785701422655 random_state 46\n",
      "accuracy 0.8179362506753106 random_state 47\n",
      "accuracy 0.8312623806951197 random_state 48\n",
      "accuracy 0.8242391500090042 random_state 49\n",
      "accuracy 0.8303619665045922 random_state 50\n",
      "accuracy 0.826940392580587 random_state 51\n",
      "accuracy 0.8262200612281649 random_state 52\n",
      "accuracy 0.8206374932468936 random_state 53\n",
      "accuracy 0.826940392580587 random_state 54\n",
      "accuracy 0.8285611381235368 random_state 55\n",
      "accuracy 0.8267603097424815 random_state 56\n",
      "accuracy 0.8346839546191248 random_state 57\n",
      "accuracy 0.8298217179902755 random_state 58\n",
      "accuracy 0.8292814694759589 random_state 59\n",
      "accuracy 0.8242391500090042 random_state 60\n",
      "accuracy 0.8280208896092203 random_state 61\n",
      "accuracy 0.8303619665045922 random_state 62\n",
      "accuracy 0.8298217179902755 random_state 63\n",
      "accuracy 0.8227984873041599 random_state 64\n",
      "accuracy 0.8262200612281649 random_state 65\n",
      "accuracy 0.836124617323969 random_state 66\n",
      "accuracy 0.8316225463713308 random_state 67\n",
      "accuracy 0.8307221321808032 random_state 68\n",
      "accuracy 0.8343237889429137 random_state 69\n",
      "accuracy 0.8231586529803709 random_state 70\n",
      "accuracy 0.8254997298757428 random_state 71\n",
      "accuracy 0.8287412209616424 random_state 72\n",
      "accuracy 0.8271204754186926 random_state 73\n",
      "accuracy 0.8256798127138484 random_state 74\n",
      "accuracy 0.8343237889429137 random_state 75\n",
      "accuracy 0.8328831262380695 random_state 76\n",
      "accuracy 0.8373851971907077 random_state 77\n",
      "accuracy 0.8318026292094364 random_state 78\n",
      "accuracy 0.8267603097424815 random_state 79\n",
      "accuracy 0.8244192328471097 random_state 80\n",
      "accuracy 0.8341437061048083 random_state 81\n",
      "accuracy 0.8309022150189087 random_state 82\n",
      "accuracy 0.8179362506753106 random_state 83\n",
      "accuracy 0.8273005582567982 random_state 84\n",
      "accuracy 0.8298217179902755 random_state 85\n",
      "accuracy 0.8161354222942554 random_state 86\n",
      "accuracy 0.8264001440662705 random_state 87\n",
      "accuracy 0.8294615523140645 random_state 88\n",
      "accuracy 0.8289213037997479 random_state 89\n",
      "accuracy 0.8289213037997479 random_state 90\n",
      "accuracy 0.8318026292094364 random_state 91\n",
      "accuracy 0.8291013866378534 random_state 92\n",
      "accuracy 0.8273005582567982 random_state 93\n",
      "accuracy 0.8294615523140645 random_state 94\n",
      "accuracy 0.8262200612281649 random_state 95\n",
      "accuracy 0.826940392580587 random_state 96\n",
      "accuracy 0.82964163515217 random_state 97\n",
      "accuracy 0.826580226904376 random_state 98\n",
      "accuracy 0.8292814694759589 random_state 99\n",
      "accuracy 0.836124617323969 random_state 100\n",
      "accuracy 0.8217179902755267 random_state 101\n",
      "accuracy 0.8253196470376373 random_state 102\n",
      "accuracy 0.8211777417612102 random_state 103\n",
      "accuracy 0.8328831262380695 random_state 104\n",
      "accuracy 0.8292814694759589 random_state 105\n",
      "accuracy 0.8276607239330092 random_state 106\n",
      "accuracy 0.8258598955519539 random_state 107\n",
      "accuracy 0.8229785701422655 random_state 108\n",
      "accuracy 0.8271204754186926 random_state 109\n",
      "accuracy 0.8217179902755267 random_state 110\n",
      "accuracy 0.8264001440662705 random_state 111\n",
      "accuracy 0.8260399783900594 random_state 112\n",
      "accuracy 0.8292814694759589 random_state 113\n",
      "accuracy 0.8368449486763911 random_state 114\n",
      "accuracy 0.8253196470376373 random_state 115\n",
      "accuracy 0.8373851971907077 random_state 116\n",
      "accuracy 0.8291013866378534 random_state 117\n",
      "accuracy 0.8258598955519539 random_state 118\n",
      "accuracy 0.8348640374572304 random_state 119\n",
      "accuracy 0.8249594813614263 random_state 120\n",
      "accuracy 0.8310822978570143 random_state 121\n",
      "accuracy 0.82964163515217 random_state 122\n",
      "accuracy 0.8273005582567982 random_state 123\n",
      "accuracy 0.8314424635332253 random_state 124\n",
      "accuracy 0.8325229605618585 random_state 125\n",
      "accuracy 0.8157752566180443 random_state 126\n",
      "accuracy 0.8307221321808032 random_state 127\n",
      "accuracy 0.8294615523140645 random_state 128\n",
      "accuracy 0.8258598955519539 random_state 129\n",
      "accuracy 0.8262200612281649 random_state 130\n",
      "accuracy 0.8370250315144967 random_state 131\n",
      "accuracy 0.8363047001620746 random_state 132\n",
      "accuracy 0.8278408067711147 random_state 133\n",
      "accuracy 0.8278408067711147 random_state 134\n",
      "accuracy 0.8318026292094364 random_state 135\n",
      "accuracy 0.8247793985233207 random_state 136\n",
      "accuracy 0.8236989014946876 random_state 137\n",
      "accuracy 0.8292814694759589 random_state 138\n",
      "accuracy 0.8278408067711147 random_state 139\n",
      "accuracy 0.8289213037997479 random_state 140\n",
      "accuracy 0.8370250315144967 random_state 141\n",
      "accuracy 0.8245993156852152 random_state 142\n",
      "accuracy 0.8375652800288133 random_state 143\n",
      "accuracy 0.8287412209616424 random_state 144\n",
      "accuracy 0.8267603097424815 random_state 145\n",
      "accuracy 0.8309022150189087 random_state 146\n",
      "accuracy 0.8294615523140645 random_state 147\n",
      "accuracy 0.8264001440662705 random_state 148\n",
      "accuracy 0.8227984873041599 random_state 149\n",
      "accuracy 0.8280208896092203 random_state 150\n",
      "accuracy 0.8291013866378534 random_state 151\n",
      "accuracy 0.8287412209616424 random_state 152\n",
      "accuracy 0.8285611381235368 random_state 153\n",
      "accuracy 0.839546191247974 random_state 154\n",
      "accuracy 0.8289213037997479 random_state 155\n",
      "accuracy 0.823878984332793 random_state 156\n",
      "accuracy 0.8337835404285971 random_state 157\n",
      "accuracy 0.8345038717810193 random_state 158\n",
      "accuracy 0.8236989014946876 random_state 159\n",
      "accuracy 0.8350441202953358 random_state 160\n",
      "accuracy 0.8231586529803709 random_state 161\n",
      "accuracy 0.8336034575904916 random_state 162\n",
      "accuracy 0.8220781559517378 random_state 163\n",
      "accuracy 0.8260399783900594 random_state 164\n",
      "accuracy 0.8280208896092203 random_state 165\n",
      "accuracy 0.826940392580587 random_state 166\n",
      "accuracy 0.8289213037997479 random_state 167\n",
      "accuracy 0.8316225463713308 random_state 168\n",
      "accuracy 0.8307221321808032 random_state 169\n",
      "accuracy 0.8264001440662705 random_state 170\n",
      "accuracy 0.8251395641995318 random_state 171\n",
      "accuracy 0.826940392580587 random_state 172\n",
      "accuracy 0.8325229605618585 random_state 173\n",
      "accuracy 0.836124617323969 random_state 174\n",
      "accuracy 0.8240590671708986 random_state 175\n",
      "accuracy 0.8409868539528182 random_state 176\n",
      "accuracy 0.8409868539528182 random_state 176\n",
      "accuracy 0.8276607239330092 random_state 177\n",
      "accuracy 0.8321627948856474 random_state 178\n",
      "accuracy 0.8164955879704664 random_state 179\n",
      "accuracy 0.8341437061048083 random_state 180\n",
      "accuracy 0.8256798127138484 random_state 181\n",
      "accuracy 0.8249594813614263 random_state 182\n",
      "accuracy 0.8217179902755267 random_state 183\n",
      "accuracy 0.8242391500090042 random_state 184\n",
      "accuracy 0.8262200612281649 random_state 185\n",
      "accuracy 0.8249594813614263 random_state 186\n",
      "accuracy 0.8310822978570143 random_state 187\n",
      "accuracy 0.8258598955519539 random_state 188\n",
      "accuracy 0.8258598955519539 random_state 189\n",
      "accuracy 0.8273005582567982 random_state 190\n",
      "accuracy 0.8224383216279488 random_state 191\n",
      "accuracy 0.8325229605618585 random_state 192\n",
      "accuracy 0.8321627948856474 random_state 193\n",
      "accuracy 0.8231586529803709 random_state 194\n",
      "accuracy 0.8227984873041599 random_state 195\n",
      "accuracy 0.836124617323969 random_state 196\n",
      "accuracy 0.8291013866378534 random_state 197\n",
      "accuracy 0.8318026292094364 random_state 198\n",
      "accuracy 0.8305420493426976 random_state 199\n"
     ]
    }
   ],
   "source": [
    "maxAccu=0     #maximum accuracy\n",
    "maxRS=0       #best random state\n",
    "\n",
    "#Finding Best random state\n",
    "for i in range(0,200):\n",
    "    x_train, x_test, y_train, y_test= train_test_split(X_scaled, y, test_size=0.2, random_state=i)\n",
    "    LR=LogisticRegression()\n",
    "    LR.fit(x_train, y_train)                #fitting the data will train the model\n",
    "    predrf=LR.predict(x_test)               #this is the predicted target variable\n",
    "    acc=accuracy_score(y_test, predrf)      #accuracy score\n",
    "    print('accuracy', acc, 'random_state', i)\n",
    "    \n",
    "    if acc>maxAccu:\n",
    "        maxAccu=acc\n",
    "        maxRS=i\n",
    "        print('accuracy', maxAccu, 'random_state', i)"
   ]
  },
  {
   "cell_type": "code",
   "execution_count": 121,
   "id": "647e8e99",
   "metadata": {},
   "outputs": [],
   "source": [
    "#creating train-test-sloit using best random state observed(i.e.15)\n",
    "x_train, x_test, y_train, y_test= train_test_split(X_scaled, y, test_size=0.2, random_state=15)"
   ]
  },
  {
   "cell_type": "code",
   "execution_count": 122,
   "id": "aaa5af39",
   "metadata": {},
   "outputs": [
    {
     "name": "stdout",
     "output_type": "stream",
     "text": [
      "Accuracy  83.70250315144968\n",
      "[[4081  218]\n",
      " [ 687  567]]\n",
      "              precision    recall  f1-score   support\n",
      "\n",
      "           0       0.86      0.95      0.90      4299\n",
      "           1       0.72      0.45      0.56      1254\n",
      "\n",
      "    accuracy                           0.84      5553\n",
      "   macro avg       0.79      0.70      0.73      5553\n",
      "weighted avg       0.83      0.84      0.82      5553\n",
      "\n"
     ]
    }
   ],
   "source": [
    "LR=LogisticRegression()\n",
    "LR.fit(x_train, y_train)                \n",
    "predlr=LR.predict(x_test)               \n",
    "print(\"Accuracy \",accuracy_score(y_test, predlr)*100)      #accuracy score\n",
    "print(confusion_matrix(y_test,predlr))\n",
    "print(classification_report(y_test,predlr))"
   ]
  },
  {
   "cell_type": "markdown",
   "id": "241f0200",
   "metadata": {},
   "source": [
    "# Using Decision Tree Classifier"
   ]
  },
  {
   "cell_type": "code",
   "execution_count": 123,
   "id": "6ee38083",
   "metadata": {},
   "outputs": [
    {
     "name": "stdout",
     "output_type": "stream",
     "text": [
      "Accuracy  81.59553394561499\n",
      "[[3773  526]\n",
      " [ 496  758]]\n",
      "              precision    recall  f1-score   support\n",
      "\n",
      "           0       0.88      0.88      0.88      4299\n",
      "           1       0.59      0.60      0.60      1254\n",
      "\n",
      "    accuracy                           0.82      5553\n",
      "   macro avg       0.74      0.74      0.74      5553\n",
      "weighted avg       0.82      0.82      0.82      5553\n",
      "\n"
     ]
    }
   ],
   "source": [
    "from sklearn.tree import DecisionTreeClassifier\n",
    "\n",
    "dt=DecisionTreeClassifier()\n",
    "dt.fit(x_train, y_train)\n",
    "preddt=dt.predict(x_test)\n",
    "print(\"Accuracy \",accuracy_score(y_test, preddt)*100)      #accuracy score\n",
    "print(confusion_matrix(y_test,preddt))\n",
    "print(classification_report(y_test,preddt))"
   ]
  },
  {
   "cell_type": "markdown",
   "id": "1b0e4a9f",
   "metadata": {},
   "source": [
    "# Using Random Forest CLassifier"
   ]
  },
  {
   "cell_type": "code",
   "execution_count": 124,
   "id": "96f29453",
   "metadata": {},
   "outputs": [
    {
     "name": "stdout",
     "output_type": "stream",
     "text": [
      "Accuracy  85.95353862776878\n",
      "[[4023  276]\n",
      " [ 504  750]]\n",
      "              precision    recall  f1-score   support\n",
      "\n",
      "           0       0.89      0.94      0.91      4299\n",
      "           1       0.73      0.60      0.66      1254\n",
      "\n",
      "    accuracy                           0.86      5553\n",
      "   macro avg       0.81      0.77      0.78      5553\n",
      "weighted avg       0.85      0.86      0.85      5553\n",
      "\n"
     ]
    }
   ],
   "source": [
    "from sklearn.ensemble import RandomForestClassifier\n",
    "\n",
    "rf=RandomForestClassifier()\n",
    "rf.fit(x_train, y_train)\n",
    "predrf=rf.predict(x_test)\n",
    "print(\"Accuracy \",accuracy_score(y_test, predrf)*100)      #accuracy score\n",
    "print(confusion_matrix(y_test,predrf))\n",
    "print(classification_report(y_test,predrf))"
   ]
  },
  {
   "cell_type": "markdown",
   "id": "93aa201e",
   "metadata": {},
   "source": [
    "# Using SVC"
   ]
  },
  {
   "cell_type": "code",
   "execution_count": 125,
   "id": "aead89ab",
   "metadata": {},
   "outputs": [
    {
     "name": "stdout",
     "output_type": "stream",
     "text": [
      "Accuracy  84.58490905816676\n",
      "[[4089  210]\n",
      " [ 646  608]]\n",
      "              precision    recall  f1-score   support\n",
      "\n",
      "           0       0.86      0.95      0.91      4299\n",
      "           1       0.74      0.48      0.59      1254\n",
      "\n",
      "    accuracy                           0.85      5553\n",
      "   macro avg       0.80      0.72      0.75      5553\n",
      "weighted avg       0.84      0.85      0.83      5553\n",
      "\n"
     ]
    }
   ],
   "source": [
    "from sklearn.svm import SVC\n",
    "\n",
    "svc=SVC()\n",
    "svc.fit(x_train, y_train)\n",
    "ad_pred=svc.predict(x_test)\n",
    "print(\"Accuracy \",accuracy_score(y_test, ad_pred)*100)      #accuracy score\n",
    "print(confusion_matrix(y_test,ad_pred))\n",
    "print(classification_report(y_test,ad_pred))"
   ]
  },
  {
   "cell_type": "markdown",
   "id": "a51d784d",
   "metadata": {},
   "source": [
    "# Cross Validation"
   ]
  },
  {
   "cell_type": "code",
   "execution_count": 134,
   "id": "4c31ad8d",
   "metadata": {},
   "outputs": [
    {
     "name": "stdout",
     "output_type": "stream",
     "text": [
      "Cross validation score of Logistic Regression:  0.8021321911825836\n"
     ]
    }
   ],
   "source": [
    "from sklearn.model_selection import cross_val_score\n",
    "\n",
    "#validation accuracy\n",
    "scr=cross_val_score(LR,x,y,cv=5)\n",
    "print(\"Cross validation score of Logistic Regression: \", scr.mean())"
   ]
  },
  {
   "cell_type": "code",
   "execution_count": 135,
   "id": "e851cd27",
   "metadata": {},
   "outputs": [
    {
     "name": "stdout",
     "output_type": "stream",
     "text": [
      "Cross validation score of Decision Tree Classifier:  0.8040416790570925\n"
     ]
    }
   ],
   "source": [
    "scr2=cross_val_score(dt,x,y,cv=5)\n",
    "print(\"Cross validation score of Decision Tree Classifier: \", scr2.mean())"
   ]
  },
  {
   "cell_type": "code",
   "execution_count": 136,
   "id": "fcdd0de7",
   "metadata": {},
   "outputs": [
    {
     "name": "stdout",
     "output_type": "stream",
     "text": [
      "Cross validation score of Random Forest Classifier:  0.8507619592908992\n"
     ]
    }
   ],
   "source": [
    "scr3=cross_val_score(rf,x,y,cv=5)\n",
    "print(\"Cross validation score of Random Forest Classifier: \", scr3.mean())"
   ]
  },
  {
   "cell_type": "code",
   "execution_count": 137,
   "id": "7079fa71",
   "metadata": {},
   "outputs": [
    {
     "name": "stdout",
     "output_type": "stream",
     "text": [
      "Cross validation score of SVC model:  0.8078238597824162\n"
     ]
    }
   ],
   "source": [
    "scr4=cross_val_score(svc,x,y,cv=5)\n",
    "print(\"Cross validation score of SVC model: \", scr4.mean())"
   ]
  },
  {
   "cell_type": "markdown",
   "id": "d885a80a",
   "metadata": {},
   "source": [
    "# \n",
    "Random Forest Classifier is performing better, hence it is carried forward"
   ]
  },
  {
   "cell_type": "markdown",
   "id": "0069ffab",
   "metadata": {},
   "source": [
    "# Hyper Parameter Tuning"
   ]
  },
  {
   "cell_type": "code",
   "execution_count": 139,
   "id": "d3057654",
   "metadata": {},
   "outputs": [
    {
     "data": {
      "text/plain": [
       "RandomForestClassifier()"
      ]
     },
     "execution_count": 139,
     "metadata": {},
     "output_type": "execute_result"
    }
   ],
   "source": [
    "RandomForestClassifier()"
   ]
  },
  {
   "cell_type": "code",
   "execution_count": 141,
   "id": "60918122",
   "metadata": {},
   "outputs": [],
   "source": [
    "from sklearn.model_selection import GridSearchCV\n",
    "\n",
    "#Creating parameter list to pass in GridSearchCV\n",
    "parameters={'max_features':['auto','sqrt','log2'], 'max_depth':[4,5,6,7,8], 'criterion':['gini', 'entropy']}"
   ]
  },
  {
   "cell_type": "code",
   "execution_count": 142,
   "id": "b3fb17db",
   "metadata": {},
   "outputs": [
    {
     "data": {
      "text/plain": [
       "{'criterion': 'gini', 'max_depth': 8, 'max_features': 'sqrt'}"
      ]
     },
     "execution_count": 142,
     "metadata": {},
     "output_type": "execute_result"
    }
   ],
   "source": [
    "GCV=GridSearchCV(RandomForestClassifier(), parameters, cv=5, scoring=\"accuracy\")\n",
    "GCV.fit(x_train,y_train)       #fitting data in the model\n",
    "GCV.best_params_               #printing the best parameters found in GridSearchCV"
   ]
  },
  {
   "cell_type": "code",
   "execution_count": 144,
   "id": "4af27aef",
   "metadata": {},
   "outputs": [
    {
     "data": {
      "text/plain": [
       "RandomForestClassifier(max_depth=8, max_features='sqrt')"
      ]
     },
     "execution_count": 144,
     "metadata": {},
     "output_type": "execute_result"
    }
   ],
   "source": [
    "GCV.best_estimator_"
   ]
  },
  {
   "cell_type": "code",
   "execution_count": 147,
   "id": "f55f50fb",
   "metadata": {},
   "outputs": [
    {
     "data": {
      "text/plain": [
       "0.8562938951917882"
      ]
     },
     "execution_count": 147,
     "metadata": {},
     "output_type": "execute_result"
    }
   ],
   "source": [
    "GCV_pred=GCV.best_estimator_.predict(x_test)        #Predicting with best parameters\n",
    "accuracy_score(y_test,GCV_pred)                     #Checking final accuracy"
   ]
  },
  {
   "cell_type": "markdown",
   "id": "259c7a0a",
   "metadata": {},
   "source": [
    "# ROC AUC Plot"
   ]
  },
  {
   "cell_type": "code",
   "execution_count": 148,
   "id": "57b43f1c",
   "metadata": {},
   "outputs": [
    {
     "data": {
      "image/png": "[encoded data removed]",
      "text/plain": [
       "<Figure size 432x288 with 1 Axes>"
      ]
     },
     "metadata": {
      "needs_background": "light"
     },
     "output_type": "display_data"
    }
   ],
   "source": [
    "from sklearn.metrics import plot_roc_curve\n",
    "plot_roc_curve(GCV.best_estimator_,x_test,y_test)\n",
    "plt.title(\"ROC AUC Plot\")\n",
    "plt.show()"
   ]
  },
  {
   "cell_type": "markdown",
   "id": "ab81657c",
   "metadata": {},
   "source": [
    "# \n",
    "Final Accuracy is 85.6% and AUC score is 91%, which depicts that our model is working well"
   ]
  },
  {
   "cell_type": "markdown",
   "id": "4ecc2a86",
   "metadata": {},
   "source": [
    "# Saving the Random Forest Classifier Model"
   ]
  },
  {
   "cell_type": "code",
   "execution_count": 149,
   "id": "5909539b",
   "metadata": {},
   "outputs": [],
   "source": [
    "filename='Census Income Project.pkl'\n",
    "pickle.dump(LR, open(filename,'wb'))"
   ]
  },
  {
   "cell_type": "code",
   "execution_count": null,
   "id": "127c51ca",
   "metadata": {},
   "outputs": [],
   "source": []
  }
 ],
 "metadata": {
  "kernelspec": {
   "display_name": "Python 3 (ipykernel)",
   "language": "python",
   "name": "python3"
  },
  "language_info": {
   "codemirror_mode": {
    "name": "ipython",
    "version": 3
   },
   "file_extension": ".py",
   "mimetype": "text/x-python",
   "name": "python",
   "nbconvert_exporter": "python",
   "pygments_lexer": "ipython3",
   "version": "3.9.7"
  }
 },
 "nbformat": 4,
 "nbformat_minor": 5
}
