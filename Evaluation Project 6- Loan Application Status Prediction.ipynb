{
 "cells": [
  {
   "cell_type": "markdown",
   "id": "ca496942",
   "metadata": {},
   "source": [
    "# Problem Statement-\n",
    "\n",
    "This dataset includes details of applicants who have applied for loan. The dataset includes details like credit history, loan amount, their income, dependents etc. \n",
    "\n",
    "You have to build a model that can predict whether the loan of the applicant will be approved or not on the basis of the details provided in the dataset. "
   ]
  },
  {
   "cell_type": "code",
   "execution_count": 312,
   "id": "152a9bfb",
   "metadata": {},
   "outputs": [],
   "source": [
    "#Let's start with importing necessary libraries\n",
    "import pandas as pd\n",
    "import numpy as np\n",
    "from sklearn.preprocessing import StandardScaler\n",
    "from sklearn.model_selection import train_test_split\n",
    "import matplotlib.pyplot as plt\n",
    "import seaborn as sns\n",
    "import pickle\n",
    "import warnings\n",
    "warnings.filterwarnings(\"ignore\")"
   ]
  },
  {
   "cell_type": "code",
   "execution_count": 313,
   "id": "e2fbddf0",
   "metadata": {},
   "outputs": [
    {
     "data": {
      "text/html": [
       "<div>\n",
       "<style scoped>\n",
       "    .dataframe tbody tr th:only-of-type {\n",
       "        vertical-align: middle;\n",
       "    }\n",
       "\n",
       "    .dataframe tbody tr th {\n",
       "        vertical-align: top;\n",
       "    }\n",
       "\n",
       "    .dataframe thead th {\n",
       "        text-align: right;\n",
       "    }\n",
       "</style>\n",
       "<table border=\"1\" class=\"dataframe\">\n",
       "  <thead>\n",
       "    <tr style=\"text-align: right;\">\n",
       "      <th></th>\n",
       "      <th>Loan_ID</th>\n",
       "      <th>Gender</th>\n",
       "      <th>Married</th>\n",
       "      <th>Dependents</th>\n",
       "      <th>Education</th>\n",
       "      <th>Self_Employed</th>\n",
       "      <th>ApplicantIncome</th>\n",
       "      <th>CoapplicantIncome</th>\n",
       "      <th>LoanAmount</th>\n",
       "      <th>Loan_Amount_Term</th>\n",
       "      <th>Credit_History</th>\n",
       "      <th>Property_Area</th>\n",
       "      <th>Loan_Status</th>\n",
       "    </tr>\n",
       "  </thead>\n",
       "  <tbody>\n",
       "    <tr>\n",
       "      <th>0</th>\n",
       "      <td>LP001002</td>\n",
       "      <td>Male</td>\n",
       "      <td>No</td>\n",
       "      <td>0</td>\n",
       "      <td>Graduate</td>\n",
       "      <td>No</td>\n",
       "      <td>5849</td>\n",
       "      <td>0.0</td>\n",
       "      <td>NaN</td>\n",
       "      <td>360.0</td>\n",
       "      <td>1.0</td>\n",
       "      <td>Urban</td>\n",
       "      <td>Y</td>\n",
       "    </tr>\n",
       "    <tr>\n",
       "      <th>1</th>\n",
       "      <td>LP001003</td>\n",
       "      <td>Male</td>\n",
       "      <td>Yes</td>\n",
       "      <td>1</td>\n",
       "      <td>Graduate</td>\n",
       "      <td>No</td>\n",
       "      <td>4583</td>\n",
       "      <td>1508.0</td>\n",
       "      <td>128.0</td>\n",
       "      <td>360.0</td>\n",
       "      <td>1.0</td>\n",
       "      <td>Rural</td>\n",
       "      <td>N</td>\n",
       "    </tr>\n",
       "    <tr>\n",
       "      <th>2</th>\n",
       "      <td>LP001005</td>\n",
       "      <td>Male</td>\n",
       "      <td>Yes</td>\n",
       "      <td>0</td>\n",
       "      <td>Graduate</td>\n",
       "      <td>Yes</td>\n",
       "      <td>3000</td>\n",
       "      <td>0.0</td>\n",
       "      <td>66.0</td>\n",
       "      <td>360.0</td>\n",
       "      <td>1.0</td>\n",
       "      <td>Urban</td>\n",
       "      <td>Y</td>\n",
       "    </tr>\n",
       "    <tr>\n",
       "      <th>3</th>\n",
       "      <td>LP001006</td>\n",
       "      <td>Male</td>\n",
       "      <td>Yes</td>\n",
       "      <td>0</td>\n",
       "      <td>Not Graduate</td>\n",
       "      <td>No</td>\n",
       "      <td>2583</td>\n",
       "      <td>2358.0</td>\n",
       "      <td>120.0</td>\n",
       "      <td>360.0</td>\n",
       "      <td>1.0</td>\n",
       "      <td>Urban</td>\n",
       "      <td>Y</td>\n",
       "    </tr>\n",
       "    <tr>\n",
       "      <th>4</th>\n",
       "      <td>LP001008</td>\n",
       "      <td>Male</td>\n",
       "      <td>No</td>\n",
       "      <td>0</td>\n",
       "      <td>Graduate</td>\n",
       "      <td>No</td>\n",
       "      <td>6000</td>\n",
       "      <td>0.0</td>\n",
       "      <td>141.0</td>\n",
       "      <td>360.0</td>\n",
       "      <td>1.0</td>\n",
       "      <td>Urban</td>\n",
       "      <td>Y</td>\n",
       "    </tr>\n",
       "    <tr>\n",
       "      <th>...</th>\n",
       "      <td>...</td>\n",
       "      <td>...</td>\n",
       "      <td>...</td>\n",
       "      <td>...</td>\n",
       "      <td>...</td>\n",
       "      <td>...</td>\n",
       "      <td>...</td>\n",
       "      <td>...</td>\n",
       "      <td>...</td>\n",
       "      <td>...</td>\n",
       "      <td>...</td>\n",
       "      <td>...</td>\n",
       "      <td>...</td>\n",
       "    </tr>\n",
       "    <tr>\n",
       "      <th>609</th>\n",
       "      <td>LP002978</td>\n",
       "      <td>Female</td>\n",
       "      <td>No</td>\n",
       "      <td>0</td>\n",
       "      <td>Graduate</td>\n",
       "      <td>No</td>\n",
       "      <td>2900</td>\n",
       "      <td>0.0</td>\n",
       "      <td>71.0</td>\n",
       "      <td>360.0</td>\n",
       "      <td>1.0</td>\n",
       "      <td>Rural</td>\n",
       "      <td>Y</td>\n",
       "    </tr>\n",
       "    <tr>\n",
       "      <th>610</th>\n",
       "      <td>LP002979</td>\n",
       "      <td>Male</td>\n",
       "      <td>Yes</td>\n",
       "      <td>3+</td>\n",
       "      <td>Graduate</td>\n",
       "      <td>No</td>\n",
       "      <td>4106</td>\n",
       "      <td>0.0</td>\n",
       "      <td>40.0</td>\n",
       "      <td>180.0</td>\n",
       "      <td>1.0</td>\n",
       "      <td>Rural</td>\n",
       "      <td>Y</td>\n",
       "    </tr>\n",
       "    <tr>\n",
       "      <th>611</th>\n",
       "      <td>LP002983</td>\n",
       "      <td>Male</td>\n",
       "      <td>Yes</td>\n",
       "      <td>1</td>\n",
       "      <td>Graduate</td>\n",
       "      <td>No</td>\n",
       "      <td>8072</td>\n",
       "      <td>240.0</td>\n",
       "      <td>253.0</td>\n",
       "      <td>360.0</td>\n",
       "      <td>1.0</td>\n",
       "      <td>Urban</td>\n",
       "      <td>Y</td>\n",
       "    </tr>\n",
       "    <tr>\n",
       "      <th>612</th>\n",
       "      <td>LP002984</td>\n",
       "      <td>Male</td>\n",
       "      <td>Yes</td>\n",
       "      <td>2</td>\n",
       "      <td>Graduate</td>\n",
       "      <td>No</td>\n",
       "      <td>7583</td>\n",
       "      <td>0.0</td>\n",
       "      <td>187.0</td>\n",
       "      <td>360.0</td>\n",
       "      <td>1.0</td>\n",
       "      <td>Urban</td>\n",
       "      <td>Y</td>\n",
       "    </tr>\n",
       "    <tr>\n",
       "      <th>613</th>\n",
       "      <td>LP002990</td>\n",
       "      <td>Female</td>\n",
       "      <td>No</td>\n",
       "      <td>0</td>\n",
       "      <td>Graduate</td>\n",
       "      <td>Yes</td>\n",
       "      <td>4583</td>\n",
       "      <td>0.0</td>\n",
       "      <td>133.0</td>\n",
       "      <td>360.0</td>\n",
       "      <td>0.0</td>\n",
       "      <td>Semiurban</td>\n",
       "      <td>N</td>\n",
       "    </tr>\n",
       "  </tbody>\n",
       "</table>\n",
       "<p>614 rows × 13 columns</p>\n",
       "</div>"
      ],
      "text/plain": [
       "      Loan_ID  Gender Married Dependents     Education Self_Employed  \\\n",
       "0    LP001002    Male      No          0      Graduate            No   \n",
       "1    LP001003    Male     Yes          1      Graduate            No   \n",
       "2    LP001005    Male     Yes          0      Graduate           Yes   \n",
       "3    LP001006    Male     Yes          0  Not Graduate            No   \n",
       "4    LP001008    Male      No          0      Graduate            No   \n",
       "..        ...     ...     ...        ...           ...           ...   \n",
       "609  LP002978  Female      No          0      Graduate            No   \n",
       "610  LP002979    Male     Yes         3+      Graduate            No   \n",
       "611  LP002983    Male     Yes          1      Graduate            No   \n",
       "612  LP002984    Male     Yes          2      Graduate            No   \n",
       "613  LP002990  Female      No          0      Graduate           Yes   \n",
       "\n",
       "     ApplicantIncome  CoapplicantIncome  LoanAmount  Loan_Amount_Term  \\\n",
       "0               5849                0.0         NaN             360.0   \n",
       "1               4583             1508.0       128.0             360.0   \n",
       "2               3000                0.0        66.0             360.0   \n",
       "3               2583             2358.0       120.0             360.0   \n",
       "4               6000                0.0       141.0             360.0   \n",
       "..               ...                ...         ...               ...   \n",
       "609             2900                0.0        71.0             360.0   \n",
       "610             4106                0.0        40.0             180.0   \n",
       "611             8072              240.0       253.0             360.0   \n",
       "612             7583                0.0       187.0             360.0   \n",
       "613             4583                0.0       133.0             360.0   \n",
       "\n",
       "     Credit_History Property_Area Loan_Status  \n",
       "0               1.0         Urban           Y  \n",
       "1               1.0         Rural           N  \n",
       "2               1.0         Urban           Y  \n",
       "3               1.0         Urban           Y  \n",
       "4               1.0         Urban           Y  \n",
       "..              ...           ...         ...  \n",
       "609             1.0         Rural           Y  \n",
       "610             1.0         Rural           Y  \n",
       "611             1.0         Urban           Y  \n",
       "612             1.0         Urban           Y  \n",
       "613             0.0     Semiurban           N  \n",
       "\n",
       "[614 rows x 13 columns]"
      ]
     },
     "execution_count": 313,
     "metadata": {},
     "output_type": "execute_result"
    }
   ],
   "source": [
    "#Read csv file and convert into Dataframe\n",
    "data=pd.read_csv(\"https://raw.githubusercontent.com/dsrscientist/DSData/master/loan_prediction.csv\")\n",
    "data"
   ]
  },
  {
   "cell_type": "markdown",
   "id": "747dbf35",
   "metadata": {},
   "source": [
    "# Observation-\n",
    "The features in the above data set are-\n",
    "- Loan_ID\n",
    "\n",
    "- Gender\n",
    "\n",
    "- Married\n",
    "\n",
    "- Dependents\n",
    "\n",
    "- Education\n",
    "\n",
    "- Self_Employed\n",
    "\n",
    "- ApplicantIncome\n",
    "\n",
    "- CoapplicantIncome\n",
    "\n",
    "- Loan_Amount\n",
    "\n",
    "- Loan_Amount_Term\n",
    "\n",
    "- Credit History\n",
    "\n",
    "- Property_Area\n",
    "\n",
    "The label in the given dataset is-\n",
    "- Loan_Status"
   ]
  },
  {
   "cell_type": "code",
   "execution_count": 314,
   "id": "96a95a27",
   "metadata": {},
   "outputs": [
    {
     "data": {
      "text/plain": [
       "(614, 13)"
      ]
     },
     "execution_count": 314,
     "metadata": {},
     "output_type": "execute_result"
    }
   ],
   "source": [
    "#shape of file\n",
    "data.shape"
   ]
  },
  {
   "cell_type": "code",
   "execution_count": 317,
   "id": "779801d4",
   "metadata": {},
   "outputs": [
    {
     "data": {
      "text/plain": [
       "Loan_ID               object\n",
       "Gender                object\n",
       "Married               object\n",
       "Dependents            object\n",
       "Education             object\n",
       "Self_Employed         object\n",
       "ApplicantIncome        int64\n",
       "CoapplicantIncome    float64\n",
       "LoanAmount           float64\n",
       "Loan_Amount_Term     float64\n",
       "Credit_History       float64\n",
       "Property_Area         object\n",
       "Loan_Status           object\n",
       "dtype: object"
      ]
     },
     "execution_count": 317,
     "metadata": {},
     "output_type": "execute_result"
    }
   ],
   "source": [
    "# Checking for data types of the columns\n",
    "data.dtypes"
   ]
  },
  {
   "cell_type": "markdown",
   "id": "c47bc33c",
   "metadata": {},
   "source": [
    "# \n",
    "As there are object datatypes, we will apply encoding techniques"
   ]
  },
  {
   "cell_type": "code",
   "execution_count": 318,
   "id": "e48212e1",
   "metadata": {},
   "outputs": [],
   "source": [
    "#Dropping Loan_ID as it as no significant influence on loan status\n",
    "data=data.drop(columns=[\"Loan_ID\"])"
   ]
  },
  {
   "cell_type": "code",
   "execution_count": 319,
   "id": "c7eeb8bb",
   "metadata": {},
   "outputs": [
    {
     "data": {
      "text/plain": [
       "Gender               13\n",
       "Married               3\n",
       "Dependents           15\n",
       "Education             0\n",
       "Self_Employed        32\n",
       "ApplicantIncome       0\n",
       "CoapplicantIncome     0\n",
       "LoanAmount           22\n",
       "Loan_Amount_Term     14\n",
       "Credit_History       50\n",
       "Property_Area         0\n",
       "Loan_Status           0\n",
       "dtype: int64"
      ]
     },
     "execution_count": 319,
     "metadata": {},
     "output_type": "execute_result"
    }
   ],
   "source": [
    "#Checking for null values\n",
    "data.isnull().sum()"
   ]
  },
  {
   "cell_type": "markdown",
   "id": "3a6d4691",
   "metadata": {},
   "source": [
    "# \n",
    "The null values will be dealt post encoding"
   ]
  },
  {
   "cell_type": "markdown",
   "id": "8443bdb4",
   "metadata": {},
   "source": [
    "# Encoding object data into numeric data"
   ]
  },
  {
   "cell_type": "code",
   "execution_count": 320,
   "id": "0baba19f",
   "metadata": {},
   "outputs": [],
   "source": [
    "from sklearn.preprocessing import LabelEncoder\n",
    "enc=LabelEncoder()\n",
    "\n",
    "for column in data:\n",
    "    if data[column].dtype=='object':\n",
    "        df=enc.fit_transform(data[column])\n",
    "        data[column]=df"
   ]
  },
  {
   "cell_type": "code",
   "execution_count": 321,
   "id": "d4126097",
   "metadata": {},
   "outputs": [
    {
     "data": {
      "text/html": [
       "<div>\n",
       "<style scoped>\n",
       "    .dataframe tbody tr th:only-of-type {\n",
       "        vertical-align: middle;\n",
       "    }\n",
       "\n",
       "    .dataframe tbody tr th {\n",
       "        vertical-align: top;\n",
       "    }\n",
       "\n",
       "    .dataframe thead th {\n",
       "        text-align: right;\n",
       "    }\n",
       "</style>\n",
       "<table border=\"1\" class=\"dataframe\">\n",
       "  <thead>\n",
       "    <tr style=\"text-align: right;\">\n",
       "      <th></th>\n",
       "      <th>Gender</th>\n",
       "      <th>Married</th>\n",
       "      <th>Dependents</th>\n",
       "      <th>Education</th>\n",
       "      <th>Self_Employed</th>\n",
       "      <th>ApplicantIncome</th>\n",
       "      <th>CoapplicantIncome</th>\n",
       "      <th>LoanAmount</th>\n",
       "      <th>Loan_Amount_Term</th>\n",
       "      <th>Credit_History</th>\n",
       "      <th>Property_Area</th>\n",
       "      <th>Loan_Status</th>\n",
       "    </tr>\n",
       "  </thead>\n",
       "  <tbody>\n",
       "    <tr>\n",
       "      <th>0</th>\n",
       "      <td>1</td>\n",
       "      <td>0</td>\n",
       "      <td>0</td>\n",
       "      <td>0</td>\n",
       "      <td>0</td>\n",
       "      <td>5849</td>\n",
       "      <td>0.0</td>\n",
       "      <td>NaN</td>\n",
       "      <td>360.0</td>\n",
       "      <td>1.0</td>\n",
       "      <td>2</td>\n",
       "      <td>1</td>\n",
       "    </tr>\n",
       "    <tr>\n",
       "      <th>1</th>\n",
       "      <td>1</td>\n",
       "      <td>1</td>\n",
       "      <td>1</td>\n",
       "      <td>0</td>\n",
       "      <td>0</td>\n",
       "      <td>4583</td>\n",
       "      <td>1508.0</td>\n",
       "      <td>128.0</td>\n",
       "      <td>360.0</td>\n",
       "      <td>1.0</td>\n",
       "      <td>0</td>\n",
       "      <td>0</td>\n",
       "    </tr>\n",
       "    <tr>\n",
       "      <th>2</th>\n",
       "      <td>1</td>\n",
       "      <td>1</td>\n",
       "      <td>0</td>\n",
       "      <td>0</td>\n",
       "      <td>1</td>\n",
       "      <td>3000</td>\n",
       "      <td>0.0</td>\n",
       "      <td>66.0</td>\n",
       "      <td>360.0</td>\n",
       "      <td>1.0</td>\n",
       "      <td>2</td>\n",
       "      <td>1</td>\n",
       "    </tr>\n",
       "    <tr>\n",
       "      <th>3</th>\n",
       "      <td>1</td>\n",
       "      <td>1</td>\n",
       "      <td>0</td>\n",
       "      <td>1</td>\n",
       "      <td>0</td>\n",
       "      <td>2583</td>\n",
       "      <td>2358.0</td>\n",
       "      <td>120.0</td>\n",
       "      <td>360.0</td>\n",
       "      <td>1.0</td>\n",
       "      <td>2</td>\n",
       "      <td>1</td>\n",
       "    </tr>\n",
       "    <tr>\n",
       "      <th>4</th>\n",
       "      <td>1</td>\n",
       "      <td>0</td>\n",
       "      <td>0</td>\n",
       "      <td>0</td>\n",
       "      <td>0</td>\n",
       "      <td>6000</td>\n",
       "      <td>0.0</td>\n",
       "      <td>141.0</td>\n",
       "      <td>360.0</td>\n",
       "      <td>1.0</td>\n",
       "      <td>2</td>\n",
       "      <td>1</td>\n",
       "    </tr>\n",
       "    <tr>\n",
       "      <th>...</th>\n",
       "      <td>...</td>\n",
       "      <td>...</td>\n",
       "      <td>...</td>\n",
       "      <td>...</td>\n",
       "      <td>...</td>\n",
       "      <td>...</td>\n",
       "      <td>...</td>\n",
       "      <td>...</td>\n",
       "      <td>...</td>\n",
       "      <td>...</td>\n",
       "      <td>...</td>\n",
       "      <td>...</td>\n",
       "    </tr>\n",
       "    <tr>\n",
       "      <th>609</th>\n",
       "      <td>0</td>\n",
       "      <td>0</td>\n",
       "      <td>0</td>\n",
       "      <td>0</td>\n",
       "      <td>0</td>\n",
       "      <td>2900</td>\n",
       "      <td>0.0</td>\n",
       "      <td>71.0</td>\n",
       "      <td>360.0</td>\n",
       "      <td>1.0</td>\n",
       "      <td>0</td>\n",
       "      <td>1</td>\n",
       "    </tr>\n",
       "    <tr>\n",
       "      <th>610</th>\n",
       "      <td>1</td>\n",
       "      <td>1</td>\n",
       "      <td>3</td>\n",
       "      <td>0</td>\n",
       "      <td>0</td>\n",
       "      <td>4106</td>\n",
       "      <td>0.0</td>\n",
       "      <td>40.0</td>\n",
       "      <td>180.0</td>\n",
       "      <td>1.0</td>\n",
       "      <td>0</td>\n",
       "      <td>1</td>\n",
       "    </tr>\n",
       "    <tr>\n",
       "      <th>611</th>\n",
       "      <td>1</td>\n",
       "      <td>1</td>\n",
       "      <td>1</td>\n",
       "      <td>0</td>\n",
       "      <td>0</td>\n",
       "      <td>8072</td>\n",
       "      <td>240.0</td>\n",
       "      <td>253.0</td>\n",
       "      <td>360.0</td>\n",
       "      <td>1.0</td>\n",
       "      <td>2</td>\n",
       "      <td>1</td>\n",
       "    </tr>\n",
       "    <tr>\n",
       "      <th>612</th>\n",
       "      <td>1</td>\n",
       "      <td>1</td>\n",
       "      <td>2</td>\n",
       "      <td>0</td>\n",
       "      <td>0</td>\n",
       "      <td>7583</td>\n",
       "      <td>0.0</td>\n",
       "      <td>187.0</td>\n",
       "      <td>360.0</td>\n",
       "      <td>1.0</td>\n",
       "      <td>2</td>\n",
       "      <td>1</td>\n",
       "    </tr>\n",
       "    <tr>\n",
       "      <th>613</th>\n",
       "      <td>0</td>\n",
       "      <td>0</td>\n",
       "      <td>0</td>\n",
       "      <td>0</td>\n",
       "      <td>1</td>\n",
       "      <td>4583</td>\n",
       "      <td>0.0</td>\n",
       "      <td>133.0</td>\n",
       "      <td>360.0</td>\n",
       "      <td>0.0</td>\n",
       "      <td>1</td>\n",
       "      <td>0</td>\n",
       "    </tr>\n",
       "  </tbody>\n",
       "</table>\n",
       "<p>614 rows × 12 columns</p>\n",
       "</div>"
      ],
      "text/plain": [
       "     Gender  Married  Dependents  Education  Self_Employed  ApplicantIncome  \\\n",
       "0         1        0           0          0              0             5849   \n",
       "1         1        1           1          0              0             4583   \n",
       "2         1        1           0          0              1             3000   \n",
       "3         1        1           0          1              0             2583   \n",
       "4         1        0           0          0              0             6000   \n",
       "..      ...      ...         ...        ...            ...              ...   \n",
       "609       0        0           0          0              0             2900   \n",
       "610       1        1           3          0              0             4106   \n",
       "611       1        1           1          0              0             8072   \n",
       "612       1        1           2          0              0             7583   \n",
       "613       0        0           0          0              1             4583   \n",
       "\n",
       "     CoapplicantIncome  LoanAmount  Loan_Amount_Term  Credit_History  \\\n",
       "0                  0.0         NaN             360.0             1.0   \n",
       "1               1508.0       128.0             360.0             1.0   \n",
       "2                  0.0        66.0             360.0             1.0   \n",
       "3               2358.0       120.0             360.0             1.0   \n",
       "4                  0.0       141.0             360.0             1.0   \n",
       "..                 ...         ...               ...             ...   \n",
       "609                0.0        71.0             360.0             1.0   \n",
       "610                0.0        40.0             180.0             1.0   \n",
       "611              240.0       253.0             360.0             1.0   \n",
       "612                0.0       187.0             360.0             1.0   \n",
       "613                0.0       133.0             360.0             0.0   \n",
       "\n",
       "     Property_Area  Loan_Status  \n",
       "0                2            1  \n",
       "1                0            0  \n",
       "2                2            1  \n",
       "3                2            1  \n",
       "4                2            1  \n",
       "..             ...          ...  \n",
       "609              0            1  \n",
       "610              0            1  \n",
       "611              2            1  \n",
       "612              2            1  \n",
       "613              1            0  \n",
       "\n",
       "[614 rows x 12 columns]"
      ]
     },
     "execution_count": 321,
     "metadata": {},
     "output_type": "execute_result"
    }
   ],
   "source": [
    "data"
   ]
  },
  {
   "cell_type": "markdown",
   "id": "80c52f4f",
   "metadata": {},
   "source": [
    "# Observation-\n",
    "\n",
    "The categorical data for the below features have been encoded into numeric based on alphabetic order as follows-\n",
    "\n",
    "- Gender-\n",
    "       - 0- Female\n",
    "       - 1- Male\n",
    "        \n",
    "- Married-\n",
    "       - 0- No\n",
    "       - 1- Yes\n",
    "        \n",
    "- Education-\n",
    "       - 0- Graduate\n",
    "       - 1- Not-Graduate\n",
    "        \n",
    "- Self.employed-\n",
    "       - 0- No\n",
    "       - 1- Yes\n",
    "        \n",
    "- Property Area-\n",
    "       - 0- Rural\n",
    "       - 1- Semi-urban\n",
    "       - 2- Urban\n",
    "\n",
    "- Loan_Status-\n",
    "       - 0- No\n",
    "       - 1- Yes"
   ]
  },
  {
   "cell_type": "markdown",
   "id": "f652657f",
   "metadata": {},
   "source": [
    "# Filling in the null values"
   ]
  },
  {
   "cell_type": "code",
   "execution_count": 322,
   "id": "4f0f39f4",
   "metadata": {},
   "outputs": [
    {
     "data": {
      "text/plain": [
       "Gender                0\n",
       "Married               0\n",
       "Dependents            0\n",
       "Education             0\n",
       "Self_Employed         0\n",
       "ApplicantIncome       0\n",
       "CoapplicantIncome     0\n",
       "LoanAmount           22\n",
       "Loan_Amount_Term     14\n",
       "Credit_History       50\n",
       "Property_Area         0\n",
       "Loan_Status           0\n",
       "dtype: int64"
      ]
     },
     "execution_count": 322,
     "metadata": {},
     "output_type": "execute_result"
    }
   ],
   "source": [
    "data.isnull().sum()"
   ]
  },
  {
   "cell_type": "markdown",
   "id": "579e3ca0",
   "metadata": {},
   "source": [
    "# Observation-\n",
    "As null values were present in features Gender, Married, Dependents, Self employed, but post encoding it got imputed wrongly, hence we check each feature individually and replace with the mode of the feature"
   ]
  },
  {
   "cell_type": "code",
   "execution_count": 323,
   "id": "0483edfe",
   "metadata": {},
   "outputs": [
    {
     "name": "stdout",
     "output_type": "stream",
     "text": [
      "1    489\n",
      "0    112\n",
      "2     13\n",
      "Name: Gender, dtype: int64\n",
      "1    398\n",
      "0    213\n",
      "2      3\n",
      "Name: Married, dtype: int64\n",
      "0    345\n",
      "1    102\n",
      "2    101\n",
      "3     51\n",
      "4     15\n",
      "Name: Dependents, dtype: int64\n",
      "0    500\n",
      "1     82\n",
      "2     32\n",
      "Name: Self_Employed, dtype: int64\n"
     ]
    }
   ],
   "source": [
    "print(data['Gender'].value_counts())\n",
    "print(data['Married'].value_counts())\n",
    "print(data['Dependents'].value_counts())\n",
    "print(data['Self_Employed'].value_counts())"
   ]
  },
  {
   "cell_type": "markdown",
   "id": "2d42a20f",
   "metadata": {},
   "source": [
    "# \n",
    "Replacing the value been assigned to nulls by the mode of each feature"
   ]
  },
  {
   "cell_type": "code",
   "execution_count": 324,
   "id": "9dbfcd99",
   "metadata": {},
   "outputs": [],
   "source": [
    "data['Gender']=data['Gender'].replace(2,data['Gender'].mode()[0])\n",
    "data['Married']=data['Married'].replace(2,data['Married'].mode()[0])\n",
    "data['Dependents']=data['Dependents'].replace(4,data['Dependents'].mode()[0])\n",
    "data['Self_Employed']=data['Self_Employed'].replace(2,data['Gender'].mode()[0])"
   ]
  },
  {
   "cell_type": "markdown",
   "id": "a8ccd89c",
   "metadata": {},
   "source": [
    "# Imputing the nulls"
   ]
  },
  {
   "cell_type": "code",
   "execution_count": 325,
   "id": "7e61cbeb",
   "metadata": {},
   "outputs": [],
   "source": [
    "data['Credit_History']=data['Credit_History'].fillna(data['Credit_History'].mode()[0])"
   ]
  },
  {
   "cell_type": "code",
   "execution_count": 326,
   "id": "e4bb449e",
   "metadata": {},
   "outputs": [],
   "source": [
    "from sklearn.impute import KNNImputer\n",
    "knnimp=KNNImputer(n_neighbors=3)\n",
    "df=pd.DataFrame(knnimp.fit_transform(data[['ApplicantIncome','CoapplicantIncome','LoanAmount','Loan_Amount_Term','Credit_History']]), columns=['ApplicantIncome','CoapplicantIncome','LoanAmount','Loan_Amount_Term','Credit_History'])\n",
    "data['LoanAmount']=df['LoanAmount']\n",
    "data['Loan_Amount_Term']=df['Loan_Amount_Term']"
   ]
  },
  {
   "cell_type": "code",
   "execution_count": 327,
   "id": "aa68eea9",
   "metadata": {},
   "outputs": [
    {
     "data": {
      "text/plain": [
       "Gender               0\n",
       "Married              0\n",
       "Dependents           0\n",
       "Education            0\n",
       "Self_Employed        0\n",
       "ApplicantIncome      0\n",
       "CoapplicantIncome    0\n",
       "LoanAmount           0\n",
       "Loan_Amount_Term     0\n",
       "Credit_History       0\n",
       "Property_Area        0\n",
       "Loan_Status          0\n",
       "dtype: int64"
      ]
     },
     "execution_count": 327,
     "metadata": {},
     "output_type": "execute_result"
    }
   ],
   "source": [
    "data.isnull().sum()"
   ]
  },
  {
   "cell_type": "markdown",
   "id": "db9a33e1",
   "metadata": {},
   "source": [
    "# \n",
    "All the nulls have been replaced accordingly"
   ]
  },
  {
   "cell_type": "code",
   "execution_count": 328,
   "id": "74243157",
   "metadata": {},
   "outputs": [
    {
     "data": {
      "text/html": [
       "<div>\n",
       "<style scoped>\n",
       "    .dataframe tbody tr th:only-of-type {\n",
       "        vertical-align: middle;\n",
       "    }\n",
       "\n",
       "    .dataframe tbody tr th {\n",
       "        vertical-align: top;\n",
       "    }\n",
       "\n",
       "    .dataframe thead th {\n",
       "        text-align: right;\n",
       "    }\n",
       "</style>\n",
       "<table border=\"1\" class=\"dataframe\">\n",
       "  <thead>\n",
       "    <tr style=\"text-align: right;\">\n",
       "      <th></th>\n",
       "      <th>Gender</th>\n",
       "      <th>Married</th>\n",
       "      <th>Dependents</th>\n",
       "      <th>Education</th>\n",
       "      <th>Self_Employed</th>\n",
       "      <th>ApplicantIncome</th>\n",
       "      <th>CoapplicantIncome</th>\n",
       "      <th>LoanAmount</th>\n",
       "      <th>Loan_Amount_Term</th>\n",
       "      <th>Credit_History</th>\n",
       "      <th>Property_Area</th>\n",
       "      <th>Loan_Status</th>\n",
       "    </tr>\n",
       "  </thead>\n",
       "  <tbody>\n",
       "    <tr>\n",
       "      <th>0</th>\n",
       "      <td>1</td>\n",
       "      <td>0</td>\n",
       "      <td>0</td>\n",
       "      <td>0</td>\n",
       "      <td>0</td>\n",
       "      <td>5849</td>\n",
       "      <td>0.0</td>\n",
       "      <td>138.0</td>\n",
       "      <td>360.0</td>\n",
       "      <td>1.0</td>\n",
       "      <td>2</td>\n",
       "      <td>1</td>\n",
       "    </tr>\n",
       "    <tr>\n",
       "      <th>1</th>\n",
       "      <td>1</td>\n",
       "      <td>1</td>\n",
       "      <td>1</td>\n",
       "      <td>0</td>\n",
       "      <td>0</td>\n",
       "      <td>4583</td>\n",
       "      <td>1508.0</td>\n",
       "      <td>128.0</td>\n",
       "      <td>360.0</td>\n",
       "      <td>1.0</td>\n",
       "      <td>0</td>\n",
       "      <td>0</td>\n",
       "    </tr>\n",
       "    <tr>\n",
       "      <th>2</th>\n",
       "      <td>1</td>\n",
       "      <td>1</td>\n",
       "      <td>0</td>\n",
       "      <td>0</td>\n",
       "      <td>1</td>\n",
       "      <td>3000</td>\n",
       "      <td>0.0</td>\n",
       "      <td>66.0</td>\n",
       "      <td>360.0</td>\n",
       "      <td>1.0</td>\n",
       "      <td>2</td>\n",
       "      <td>1</td>\n",
       "    </tr>\n",
       "    <tr>\n",
       "      <th>3</th>\n",
       "      <td>1</td>\n",
       "      <td>1</td>\n",
       "      <td>0</td>\n",
       "      <td>1</td>\n",
       "      <td>0</td>\n",
       "      <td>2583</td>\n",
       "      <td>2358.0</td>\n",
       "      <td>120.0</td>\n",
       "      <td>360.0</td>\n",
       "      <td>1.0</td>\n",
       "      <td>2</td>\n",
       "      <td>1</td>\n",
       "    </tr>\n",
       "    <tr>\n",
       "      <th>4</th>\n",
       "      <td>1</td>\n",
       "      <td>0</td>\n",
       "      <td>0</td>\n",
       "      <td>0</td>\n",
       "      <td>0</td>\n",
       "      <td>6000</td>\n",
       "      <td>0.0</td>\n",
       "      <td>141.0</td>\n",
       "      <td>360.0</td>\n",
       "      <td>1.0</td>\n",
       "      <td>2</td>\n",
       "      <td>1</td>\n",
       "    </tr>\n",
       "    <tr>\n",
       "      <th>...</th>\n",
       "      <td>...</td>\n",
       "      <td>...</td>\n",
       "      <td>...</td>\n",
       "      <td>...</td>\n",
       "      <td>...</td>\n",
       "      <td>...</td>\n",
       "      <td>...</td>\n",
       "      <td>...</td>\n",
       "      <td>...</td>\n",
       "      <td>...</td>\n",
       "      <td>...</td>\n",
       "      <td>...</td>\n",
       "    </tr>\n",
       "    <tr>\n",
       "      <th>609</th>\n",
       "      <td>0</td>\n",
       "      <td>0</td>\n",
       "      <td>0</td>\n",
       "      <td>0</td>\n",
       "      <td>0</td>\n",
       "      <td>2900</td>\n",
       "      <td>0.0</td>\n",
       "      <td>71.0</td>\n",
       "      <td>360.0</td>\n",
       "      <td>1.0</td>\n",
       "      <td>0</td>\n",
       "      <td>1</td>\n",
       "    </tr>\n",
       "    <tr>\n",
       "      <th>610</th>\n",
       "      <td>1</td>\n",
       "      <td>1</td>\n",
       "      <td>3</td>\n",
       "      <td>0</td>\n",
       "      <td>0</td>\n",
       "      <td>4106</td>\n",
       "      <td>0.0</td>\n",
       "      <td>40.0</td>\n",
       "      <td>180.0</td>\n",
       "      <td>1.0</td>\n",
       "      <td>0</td>\n",
       "      <td>1</td>\n",
       "    </tr>\n",
       "    <tr>\n",
       "      <th>611</th>\n",
       "      <td>1</td>\n",
       "      <td>1</td>\n",
       "      <td>1</td>\n",
       "      <td>0</td>\n",
       "      <td>0</td>\n",
       "      <td>8072</td>\n",
       "      <td>240.0</td>\n",
       "      <td>253.0</td>\n",
       "      <td>360.0</td>\n",
       "      <td>1.0</td>\n",
       "      <td>2</td>\n",
       "      <td>1</td>\n",
       "    </tr>\n",
       "    <tr>\n",
       "      <th>612</th>\n",
       "      <td>1</td>\n",
       "      <td>1</td>\n",
       "      <td>2</td>\n",
       "      <td>0</td>\n",
       "      <td>0</td>\n",
       "      <td>7583</td>\n",
       "      <td>0.0</td>\n",
       "      <td>187.0</td>\n",
       "      <td>360.0</td>\n",
       "      <td>1.0</td>\n",
       "      <td>2</td>\n",
       "      <td>1</td>\n",
       "    </tr>\n",
       "    <tr>\n",
       "      <th>613</th>\n",
       "      <td>0</td>\n",
       "      <td>0</td>\n",
       "      <td>0</td>\n",
       "      <td>0</td>\n",
       "      <td>1</td>\n",
       "      <td>4583</td>\n",
       "      <td>0.0</td>\n",
       "      <td>133.0</td>\n",
       "      <td>360.0</td>\n",
       "      <td>0.0</td>\n",
       "      <td>1</td>\n",
       "      <td>0</td>\n",
       "    </tr>\n",
       "  </tbody>\n",
       "</table>\n",
       "<p>614 rows × 12 columns</p>\n",
       "</div>"
      ],
      "text/plain": [
       "     Gender  Married  Dependents  Education  Self_Employed  ApplicantIncome  \\\n",
       "0         1        0           0          0              0             5849   \n",
       "1         1        1           1          0              0             4583   \n",
       "2         1        1           0          0              1             3000   \n",
       "3         1        1           0          1              0             2583   \n",
       "4         1        0           0          0              0             6000   \n",
       "..      ...      ...         ...        ...            ...              ...   \n",
       "609       0        0           0          0              0             2900   \n",
       "610       1        1           3          0              0             4106   \n",
       "611       1        1           1          0              0             8072   \n",
       "612       1        1           2          0              0             7583   \n",
       "613       0        0           0          0              1             4583   \n",
       "\n",
       "     CoapplicantIncome  LoanAmount  Loan_Amount_Term  Credit_History  \\\n",
       "0                  0.0       138.0             360.0             1.0   \n",
       "1               1508.0       128.0             360.0             1.0   \n",
       "2                  0.0        66.0             360.0             1.0   \n",
       "3               2358.0       120.0             360.0             1.0   \n",
       "4                  0.0       141.0             360.0             1.0   \n",
       "..                 ...         ...               ...             ...   \n",
       "609                0.0        71.0             360.0             1.0   \n",
       "610                0.0        40.0             180.0             1.0   \n",
       "611              240.0       253.0             360.0             1.0   \n",
       "612                0.0       187.0             360.0             1.0   \n",
       "613                0.0       133.0             360.0             0.0   \n",
       "\n",
       "     Property_Area  Loan_Status  \n",
       "0                2            1  \n",
       "1                0            0  \n",
       "2                2            1  \n",
       "3                2            1  \n",
       "4                2            1  \n",
       "..             ...          ...  \n",
       "609              0            1  \n",
       "610              0            1  \n",
       "611              2            1  \n",
       "612              2            1  \n",
       "613              1            0  \n",
       "\n",
       "[614 rows x 12 columns]"
      ]
     },
     "execution_count": 328,
     "metadata": {},
     "output_type": "execute_result"
    }
   ],
   "source": [
    "data"
   ]
  },
  {
   "cell_type": "code",
   "execution_count": 329,
   "id": "0f5178f7",
   "metadata": {},
   "outputs": [
    {
     "data": {
      "text/html": [
       "<div>\n",
       "<style scoped>\n",
       "    .dataframe tbody tr th:only-of-type {\n",
       "        vertical-align: middle;\n",
       "    }\n",
       "\n",
       "    .dataframe tbody tr th {\n",
       "        vertical-align: top;\n",
       "    }\n",
       "\n",
       "    .dataframe thead th {\n",
       "        text-align: right;\n",
       "    }\n",
       "</style>\n",
       "<table border=\"1\" class=\"dataframe\">\n",
       "  <thead>\n",
       "    <tr style=\"text-align: right;\">\n",
       "      <th></th>\n",
       "      <th>Gender</th>\n",
       "      <th>Married</th>\n",
       "      <th>Dependents</th>\n",
       "      <th>Education</th>\n",
       "      <th>Self_Employed</th>\n",
       "      <th>ApplicantIncome</th>\n",
       "      <th>CoapplicantIncome</th>\n",
       "      <th>LoanAmount</th>\n",
       "      <th>Loan_Amount_Term</th>\n",
       "      <th>Credit_History</th>\n",
       "      <th>Property_Area</th>\n",
       "      <th>Loan_Status</th>\n",
       "    </tr>\n",
       "  </thead>\n",
       "  <tbody>\n",
       "    <tr>\n",
       "      <th>count</th>\n",
       "      <td>614.000000</td>\n",
       "      <td>614.000000</td>\n",
       "      <td>614.000000</td>\n",
       "      <td>614.000000</td>\n",
       "      <td>614.000000</td>\n",
       "      <td>614.000000</td>\n",
       "      <td>614.000000</td>\n",
       "      <td>614.000000</td>\n",
       "      <td>614.000000</td>\n",
       "      <td>614.000000</td>\n",
       "      <td>614.000000</td>\n",
       "      <td>614.000000</td>\n",
       "    </tr>\n",
       "    <tr>\n",
       "      <th>mean</th>\n",
       "      <td>0.817590</td>\n",
       "      <td>0.653094</td>\n",
       "      <td>0.744300</td>\n",
       "      <td>0.218241</td>\n",
       "      <td>0.185668</td>\n",
       "      <td>5403.459283</td>\n",
       "      <td>1621.245798</td>\n",
       "      <td>146.568947</td>\n",
       "      <td>341.954397</td>\n",
       "      <td>0.855049</td>\n",
       "      <td>1.037459</td>\n",
       "      <td>0.687296</td>\n",
       "    </tr>\n",
       "    <tr>\n",
       "      <th>std</th>\n",
       "      <td>0.386497</td>\n",
       "      <td>0.476373</td>\n",
       "      <td>1.009623</td>\n",
       "      <td>0.413389</td>\n",
       "      <td>0.389155</td>\n",
       "      <td>6109.041673</td>\n",
       "      <td>2926.248369</td>\n",
       "      <td>86.427282</td>\n",
       "      <td>64.494707</td>\n",
       "      <td>0.352339</td>\n",
       "      <td>0.787482</td>\n",
       "      <td>0.463973</td>\n",
       "    </tr>\n",
       "    <tr>\n",
       "      <th>min</th>\n",
       "      <td>0.000000</td>\n",
       "      <td>0.000000</td>\n",
       "      <td>0.000000</td>\n",
       "      <td>0.000000</td>\n",
       "      <td>0.000000</td>\n",
       "      <td>150.000000</td>\n",
       "      <td>0.000000</td>\n",
       "      <td>9.000000</td>\n",
       "      <td>12.000000</td>\n",
       "      <td>0.000000</td>\n",
       "      <td>0.000000</td>\n",
       "      <td>0.000000</td>\n",
       "    </tr>\n",
       "    <tr>\n",
       "      <th>25%</th>\n",
       "      <td>1.000000</td>\n",
       "      <td>0.000000</td>\n",
       "      <td>0.000000</td>\n",
       "      <td>0.000000</td>\n",
       "      <td>0.000000</td>\n",
       "      <td>2877.500000</td>\n",
       "      <td>0.000000</td>\n",
       "      <td>100.000000</td>\n",
       "      <td>360.000000</td>\n",
       "      <td>1.000000</td>\n",
       "      <td>0.000000</td>\n",
       "      <td>0.000000</td>\n",
       "    </tr>\n",
       "    <tr>\n",
       "      <th>50%</th>\n",
       "      <td>1.000000</td>\n",
       "      <td>1.000000</td>\n",
       "      <td>0.000000</td>\n",
       "      <td>0.000000</td>\n",
       "      <td>0.000000</td>\n",
       "      <td>3812.500000</td>\n",
       "      <td>1188.500000</td>\n",
       "      <td>128.000000</td>\n",
       "      <td>360.000000</td>\n",
       "      <td>1.000000</td>\n",
       "      <td>1.000000</td>\n",
       "      <td>1.000000</td>\n",
       "    </tr>\n",
       "    <tr>\n",
       "      <th>75%</th>\n",
       "      <td>1.000000</td>\n",
       "      <td>1.000000</td>\n",
       "      <td>1.000000</td>\n",
       "      <td>0.000000</td>\n",
       "      <td>0.000000</td>\n",
       "      <td>5795.000000</td>\n",
       "      <td>2297.250000</td>\n",
       "      <td>167.000000</td>\n",
       "      <td>360.000000</td>\n",
       "      <td>1.000000</td>\n",
       "      <td>2.000000</td>\n",
       "      <td>1.000000</td>\n",
       "    </tr>\n",
       "    <tr>\n",
       "      <th>max</th>\n",
       "      <td>1.000000</td>\n",
       "      <td>1.000000</td>\n",
       "      <td>3.000000</td>\n",
       "      <td>1.000000</td>\n",
       "      <td>1.000000</td>\n",
       "      <td>81000.000000</td>\n",
       "      <td>41667.000000</td>\n",
       "      <td>700.000000</td>\n",
       "      <td>480.000000</td>\n",
       "      <td>1.000000</td>\n",
       "      <td>2.000000</td>\n",
       "      <td>1.000000</td>\n",
       "    </tr>\n",
       "  </tbody>\n",
       "</table>\n",
       "</div>"
      ],
      "text/plain": [
       "           Gender     Married  Dependents   Education  Self_Employed  \\\n",
       "count  614.000000  614.000000  614.000000  614.000000     614.000000   \n",
       "mean     0.817590    0.653094    0.744300    0.218241       0.185668   \n",
       "std      0.386497    0.476373    1.009623    0.413389       0.389155   \n",
       "min      0.000000    0.000000    0.000000    0.000000       0.000000   \n",
       "25%      1.000000    0.000000    0.000000    0.000000       0.000000   \n",
       "50%      1.000000    1.000000    0.000000    0.000000       0.000000   \n",
       "75%      1.000000    1.000000    1.000000    0.000000       0.000000   \n",
       "max      1.000000    1.000000    3.000000    1.000000       1.000000   \n",
       "\n",
       "       ApplicantIncome  CoapplicantIncome  LoanAmount  Loan_Amount_Term  \\\n",
       "count       614.000000         614.000000  614.000000        614.000000   \n",
       "mean       5403.459283        1621.245798  146.568947        341.954397   \n",
       "std        6109.041673        2926.248369   86.427282         64.494707   \n",
       "min         150.000000           0.000000    9.000000         12.000000   \n",
       "25%        2877.500000           0.000000  100.000000        360.000000   \n",
       "50%        3812.500000        1188.500000  128.000000        360.000000   \n",
       "75%        5795.000000        2297.250000  167.000000        360.000000   \n",
       "max       81000.000000       41667.000000  700.000000        480.000000   \n",
       "\n",
       "       Credit_History  Property_Area  Loan_Status  \n",
       "count      614.000000     614.000000   614.000000  \n",
       "mean         0.855049       1.037459     0.687296  \n",
       "std          0.352339       0.787482     0.463973  \n",
       "min          0.000000       0.000000     0.000000  \n",
       "25%          1.000000       0.000000     0.000000  \n",
       "50%          1.000000       1.000000     1.000000  \n",
       "75%          1.000000       2.000000     1.000000  \n",
       "max          1.000000       2.000000     1.000000  "
      ]
     },
     "execution_count": 329,
     "metadata": {},
     "output_type": "execute_result"
    }
   ],
   "source": [
    "#Statistical Analysis\n",
    "data.describe()"
   ]
  },
  {
   "cell_type": "markdown",
   "id": "6331adb3",
   "metadata": {},
   "source": [
    "# Checking Correlation"
   ]
  },
  {
   "cell_type": "code",
   "execution_count": 330,
   "id": "c26cb7d4",
   "metadata": {},
   "outputs": [
    {
     "data": {
      "text/html": [
       "<div>\n",
       "<style scoped>\n",
       "    .dataframe tbody tr th:only-of-type {\n",
       "        vertical-align: middle;\n",
       "    }\n",
       "\n",
       "    .dataframe tbody tr th {\n",
       "        vertical-align: top;\n",
       "    }\n",
       "\n",
       "    .dataframe thead th {\n",
       "        text-align: right;\n",
       "    }\n",
       "</style>\n",
       "<table border=\"1\" class=\"dataframe\">\n",
       "  <thead>\n",
       "    <tr style=\"text-align: right;\">\n",
       "      <th></th>\n",
       "      <th>Gender</th>\n",
       "      <th>Married</th>\n",
       "      <th>Dependents</th>\n",
       "      <th>Education</th>\n",
       "      <th>Self_Employed</th>\n",
       "      <th>ApplicantIncome</th>\n",
       "      <th>CoapplicantIncome</th>\n",
       "      <th>LoanAmount</th>\n",
       "      <th>Loan_Amount_Term</th>\n",
       "      <th>Credit_History</th>\n",
       "      <th>Property_Area</th>\n",
       "      <th>Loan_Status</th>\n",
       "    </tr>\n",
       "  </thead>\n",
       "  <tbody>\n",
       "    <tr>\n",
       "      <th>Gender</th>\n",
       "      <td>1.000000</td>\n",
       "      <td>0.364569</td>\n",
       "      <td>0.172914</td>\n",
       "      <td>0.045364</td>\n",
       "      <td>-0.023918</td>\n",
       "      <td>0.058809</td>\n",
       "      <td>0.082912</td>\n",
       "      <td>0.106694</td>\n",
       "      <td>-0.073370</td>\n",
       "      <td>0.009170</td>\n",
       "      <td>-0.025752</td>\n",
       "      <td>0.017987</td>\n",
       "    </tr>\n",
       "    <tr>\n",
       "      <th>Married</th>\n",
       "      <td>0.364569</td>\n",
       "      <td>1.000000</td>\n",
       "      <td>0.334216</td>\n",
       "      <td>0.012304</td>\n",
       "      <td>-0.021584</td>\n",
       "      <td>0.051708</td>\n",
       "      <td>0.075948</td>\n",
       "      <td>0.149886</td>\n",
       "      <td>-0.102780</td>\n",
       "      <td>0.010938</td>\n",
       "      <td>0.004257</td>\n",
       "      <td>0.091478</td>\n",
       "    </tr>\n",
       "    <tr>\n",
       "      <th>Dependents</th>\n",
       "      <td>0.172914</td>\n",
       "      <td>0.334216</td>\n",
       "      <td>1.000000</td>\n",
       "      <td>0.055752</td>\n",
       "      <td>0.042142</td>\n",
       "      <td>0.118202</td>\n",
       "      <td>0.030430</td>\n",
       "      <td>0.144457</td>\n",
       "      <td>-0.099038</td>\n",
       "      <td>-0.040160</td>\n",
       "      <td>-0.000244</td>\n",
       "      <td>0.010118</td>\n",
       "    </tr>\n",
       "    <tr>\n",
       "      <th>Education</th>\n",
       "      <td>0.045364</td>\n",
       "      <td>0.012304</td>\n",
       "      <td>0.055752</td>\n",
       "      <td>1.000000</td>\n",
       "      <td>-0.019059</td>\n",
       "      <td>-0.140760</td>\n",
       "      <td>-0.062290</td>\n",
       "      <td>-0.176363</td>\n",
       "      <td>-0.077456</td>\n",
       "      <td>-0.073658</td>\n",
       "      <td>-0.065243</td>\n",
       "      <td>-0.085884</td>\n",
       "    </tr>\n",
       "    <tr>\n",
       "      <th>Self_Employed</th>\n",
       "      <td>-0.023918</td>\n",
       "      <td>-0.021584</td>\n",
       "      <td>0.042142</td>\n",
       "      <td>-0.019059</td>\n",
       "      <td>1.000000</td>\n",
       "      <td>0.121356</td>\n",
       "      <td>0.028834</td>\n",
       "      <td>0.104676</td>\n",
       "      <td>-0.040220</td>\n",
       "      <td>0.041932</td>\n",
       "      <td>-0.022732</td>\n",
       "      <td>0.005857</td>\n",
       "    </tr>\n",
       "    <tr>\n",
       "      <th>ApplicantIncome</th>\n",
       "      <td>0.058809</td>\n",
       "      <td>0.051708</td>\n",
       "      <td>0.118202</td>\n",
       "      <td>-0.140760</td>\n",
       "      <td>0.121356</td>\n",
       "      <td>1.000000</td>\n",
       "      <td>-0.116605</td>\n",
       "      <td>0.579523</td>\n",
       "      <td>-0.044101</td>\n",
       "      <td>-0.018615</td>\n",
       "      <td>-0.009500</td>\n",
       "      <td>-0.004710</td>\n",
       "    </tr>\n",
       "    <tr>\n",
       "      <th>CoapplicantIncome</th>\n",
       "      <td>0.082912</td>\n",
       "      <td>0.075948</td>\n",
       "      <td>0.030430</td>\n",
       "      <td>-0.062290</td>\n",
       "      <td>0.028834</td>\n",
       "      <td>-0.116605</td>\n",
       "      <td>1.000000</td>\n",
       "      <td>0.179601</td>\n",
       "      <td>-0.061507</td>\n",
       "      <td>0.011134</td>\n",
       "      <td>0.010522</td>\n",
       "      <td>-0.059187</td>\n",
       "    </tr>\n",
       "    <tr>\n",
       "      <th>LoanAmount</th>\n",
       "      <td>0.106694</td>\n",
       "      <td>0.149886</td>\n",
       "      <td>0.144457</td>\n",
       "      <td>-0.176363</td>\n",
       "      <td>0.104676</td>\n",
       "      <td>0.579523</td>\n",
       "      <td>0.179601</td>\n",
       "      <td>1.000000</td>\n",
       "      <td>0.040268</td>\n",
       "      <td>0.005855</td>\n",
       "      <td>-0.059453</td>\n",
       "      <td>-0.039695</td>\n",
       "    </tr>\n",
       "    <tr>\n",
       "      <th>Loan_Amount_Term</th>\n",
       "      <td>-0.073370</td>\n",
       "      <td>-0.102780</td>\n",
       "      <td>-0.099038</td>\n",
       "      <td>-0.077456</td>\n",
       "      <td>-0.040220</td>\n",
       "      <td>-0.044101</td>\n",
       "      <td>-0.061507</td>\n",
       "      <td>0.040268</td>\n",
       "      <td>1.000000</td>\n",
       "      <td>0.003872</td>\n",
       "      <td>-0.076990</td>\n",
       "      <td>-0.018577</td>\n",
       "    </tr>\n",
       "    <tr>\n",
       "      <th>Credit_History</th>\n",
       "      <td>0.009170</td>\n",
       "      <td>0.010938</td>\n",
       "      <td>-0.040160</td>\n",
       "      <td>-0.073658</td>\n",
       "      <td>0.041932</td>\n",
       "      <td>-0.018615</td>\n",
       "      <td>0.011134</td>\n",
       "      <td>0.005855</td>\n",
       "      <td>0.003872</td>\n",
       "      <td>1.000000</td>\n",
       "      <td>0.001963</td>\n",
       "      <td>0.540556</td>\n",
       "    </tr>\n",
       "    <tr>\n",
       "      <th>Property_Area</th>\n",
       "      <td>-0.025752</td>\n",
       "      <td>0.004257</td>\n",
       "      <td>-0.000244</td>\n",
       "      <td>-0.065243</td>\n",
       "      <td>-0.022732</td>\n",
       "      <td>-0.009500</td>\n",
       "      <td>0.010522</td>\n",
       "      <td>-0.059453</td>\n",
       "      <td>-0.076990</td>\n",
       "      <td>0.001963</td>\n",
       "      <td>1.000000</td>\n",
       "      <td>0.032112</td>\n",
       "    </tr>\n",
       "    <tr>\n",
       "      <th>Loan_Status</th>\n",
       "      <td>0.017987</td>\n",
       "      <td>0.091478</td>\n",
       "      <td>0.010118</td>\n",
       "      <td>-0.085884</td>\n",
       "      <td>0.005857</td>\n",
       "      <td>-0.004710</td>\n",
       "      <td>-0.059187</td>\n",
       "      <td>-0.039695</td>\n",
       "      <td>-0.018577</td>\n",
       "      <td>0.540556</td>\n",
       "      <td>0.032112</td>\n",
       "      <td>1.000000</td>\n",
       "    </tr>\n",
       "  </tbody>\n",
       "</table>\n",
       "</div>"
      ],
      "text/plain": [
       "                     Gender   Married  Dependents  Education  Self_Employed  \\\n",
       "Gender             1.000000  0.364569    0.172914   0.045364      -0.023918   \n",
       "Married            0.364569  1.000000    0.334216   0.012304      -0.021584   \n",
       "Dependents         0.172914  0.334216    1.000000   0.055752       0.042142   \n",
       "Education          0.045364  0.012304    0.055752   1.000000      -0.019059   \n",
       "Self_Employed     -0.023918 -0.021584    0.042142  -0.019059       1.000000   \n",
       "ApplicantIncome    0.058809  0.051708    0.118202  -0.140760       0.121356   \n",
       "CoapplicantIncome  0.082912  0.075948    0.030430  -0.062290       0.028834   \n",
       "LoanAmount         0.106694  0.149886    0.144457  -0.176363       0.104676   \n",
       "Loan_Amount_Term  -0.073370 -0.102780   -0.099038  -0.077456      -0.040220   \n",
       "Credit_History     0.009170  0.010938   -0.040160  -0.073658       0.041932   \n",
       "Property_Area     -0.025752  0.004257   -0.000244  -0.065243      -0.022732   \n",
       "Loan_Status        0.017987  0.091478    0.010118  -0.085884       0.005857   \n",
       "\n",
       "                   ApplicantIncome  CoapplicantIncome  LoanAmount  \\\n",
       "Gender                    0.058809           0.082912    0.106694   \n",
       "Married                   0.051708           0.075948    0.149886   \n",
       "Dependents                0.118202           0.030430    0.144457   \n",
       "Education                -0.140760          -0.062290   -0.176363   \n",
       "Self_Employed             0.121356           0.028834    0.104676   \n",
       "ApplicantIncome           1.000000          -0.116605    0.579523   \n",
       "CoapplicantIncome        -0.116605           1.000000    0.179601   \n",
       "LoanAmount                0.579523           0.179601    1.000000   \n",
       "Loan_Amount_Term         -0.044101          -0.061507    0.040268   \n",
       "Credit_History           -0.018615           0.011134    0.005855   \n",
       "Property_Area            -0.009500           0.010522   -0.059453   \n",
       "Loan_Status              -0.004710          -0.059187   -0.039695   \n",
       "\n",
       "                   Loan_Amount_Term  Credit_History  Property_Area  \\\n",
       "Gender                    -0.073370        0.009170      -0.025752   \n",
       "Married                   -0.102780        0.010938       0.004257   \n",
       "Dependents                -0.099038       -0.040160      -0.000244   \n",
       "Education                 -0.077456       -0.073658      -0.065243   \n",
       "Self_Employed             -0.040220        0.041932      -0.022732   \n",
       "ApplicantIncome           -0.044101       -0.018615      -0.009500   \n",
       "CoapplicantIncome         -0.061507        0.011134       0.010522   \n",
       "LoanAmount                 0.040268        0.005855      -0.059453   \n",
       "Loan_Amount_Term           1.000000        0.003872      -0.076990   \n",
       "Credit_History             0.003872        1.000000       0.001963   \n",
       "Property_Area             -0.076990        0.001963       1.000000   \n",
       "Loan_Status               -0.018577        0.540556       0.032112   \n",
       "\n",
       "                   Loan_Status  \n",
       "Gender                0.017987  \n",
       "Married               0.091478  \n",
       "Dependents            0.010118  \n",
       "Education            -0.085884  \n",
       "Self_Employed         0.005857  \n",
       "ApplicantIncome      -0.004710  \n",
       "CoapplicantIncome    -0.059187  \n",
       "LoanAmount           -0.039695  \n",
       "Loan_Amount_Term     -0.018577  \n",
       "Credit_History        0.540556  \n",
       "Property_Area         0.032112  \n",
       "Loan_Status           1.000000  "
      ]
     },
     "execution_count": 330,
     "metadata": {},
     "output_type": "execute_result"
    }
   ],
   "source": [
    "data.corr()"
   ]
  },
  {
   "cell_type": "markdown",
   "id": "a403f1b6",
   "metadata": {},
   "source": [
    "# \n",
    "For better understanding let's use a heat map"
   ]
  },
  {
   "cell_type": "code",
   "execution_count": 331,
   "id": "73b8a66a",
   "metadata": {},
   "outputs": [
    {
     "data": {
      "image/png": "[encoded data removed]",
      "text/plain": [
       "<Figure size 1440x1440 with 2 Axes>"
      ]
     },
     "metadata": {
      "needs_background": "light"
     },
     "output_type": "display_data"
    }
   ],
   "source": [
    "corr_mat=data.corr()\n",
    "\n",
    "#size of the canvas\n",
    "plt.figure(figsize=[20,20])\n",
    "\n",
    "#plot the correlation matrix\n",
    "sns.heatmap(corr_mat,annot=True, annot_kws={'size':12})\n",
    "plt.title(\"Correlation Matrix\")\n",
    "plt.show()"
   ]
  },
  {
   "cell_type": "markdown",
   "id": "ef1f25c4",
   "metadata": {},
   "source": [
    "# Observation-\n",
    "Let's print the correlation values of independent values with target variable for a better understanding"
   ]
  },
  {
   "cell_type": "code",
   "execution_count": 332,
   "id": "449d654b",
   "metadata": {},
   "outputs": [
    {
     "data": {
      "text/plain": [
       "Education           -0.085884\n",
       "CoapplicantIncome   -0.059187\n",
       "LoanAmount          -0.039695\n",
       "Loan_Amount_Term    -0.018577\n",
       "ApplicantIncome     -0.004710\n",
       "Self_Employed        0.005857\n",
       "Dependents           0.010118\n",
       "Gender               0.017987\n",
       "Property_Area        0.032112\n",
       "Married              0.091478\n",
       "Credit_History       0.540556\n",
       "Loan_Status          1.000000\n",
       "Name: Loan_Status, dtype: float64"
      ]
     },
     "execution_count": 332,
     "metadata": {},
     "output_type": "execute_result"
    }
   ],
   "source": [
    "corr_matrix=data.corr()\n",
    "corr_matrix[\"Loan_Status\"].sort_values(ascending=True)"
   ]
  },
  {
   "cell_type": "markdown",
   "id": "a7b28f94",
   "metadata": {},
   "source": [
    "# Observation-\n",
    "- Features Education, CoapplicantIncome, LoanAmount, Loan_Amount_Term and ApplicantIncome are negatively correlated to the label Loan_Status\n",
    "- Features Self_Employed, Dependents, Gender, Property_Area, Married and Credit_History are positively correlated to the label Loan_Status\n",
    "- Education is 8.5% negatively correlated with Loan_Status showing a moderately weak bond\n",
    "- ApplicantIncome is 0.4% negatively correlated with Loan_Status showing an extremely weak bond\n",
    "- Credit_History is 53% positively correlated with Loan_Status showing a strong bond\n",
    "- Self_Employed is 0.5% positively correlated with Loan_Status showing an extremely weak bond"
   ]
  },
  {
   "cell_type": "markdown",
   "id": "23c7997f",
   "metadata": {},
   "source": [
    "# Visualization of the Data"
   ]
  },
  {
   "cell_type": "code",
   "execution_count": 333,
   "id": "989f100c",
   "metadata": {},
   "outputs": [
    {
     "name": "stdout",
     "output_type": "stream",
     "text": [
      "1    502\n",
      "0    112\n",
      "Name: Gender, dtype: int64\n"
     ]
    },
    {
     "data": {
      "image/png": "[encoded data removed]",
      "text/plain": [
       "<Figure size 432x288 with 1 Axes>"
      ]
     },
     "metadata": {
      "needs_background": "light"
     },
     "output_type": "display_data"
    }
   ],
   "source": [
    "ax=sns.countplot(x=\"Gender\", data=data)\n",
    "print(data[\"Gender\"].value_counts())"
   ]
  },
  {
   "cell_type": "markdown",
   "id": "97c008e0",
   "metadata": {},
   "source": [
    "# \n",
    "There are 112 Females and 502 male applicants"
   ]
  },
  {
   "cell_type": "code",
   "execution_count": 334,
   "id": "54e68d94",
   "metadata": {},
   "outputs": [
    {
     "name": "stdout",
     "output_type": "stream",
     "text": [
      "1    401\n",
      "0    213\n",
      "Name: Married, dtype: int64\n"
     ]
    },
    {
     "data": {
      "image/png": "[encoded data removed]",
      "text/plain": [
       "<Figure size 432x288 with 1 Axes>"
      ]
     },
     "metadata": {
      "needs_background": "light"
     },
     "output_type": "display_data"
    }
   ],
   "source": [
    "ax=sns.countplot(x=\"Married\", data=data)\n",
    "print(data[\"Married\"].value_counts())"
   ]
  },
  {
   "cell_type": "markdown",
   "id": "92278b7b",
   "metadata": {},
   "source": [
    "# \n",
    "There are 213 unmarried and 401 married applicants"
   ]
  },
  {
   "cell_type": "code",
   "execution_count": 335,
   "id": "d82f9acd",
   "metadata": {},
   "outputs": [
    {
     "name": "stdout",
     "output_type": "stream",
     "text": [
      "0    360\n",
      "1    102\n",
      "2    101\n",
      "3     51\n",
      "Name: Dependents, dtype: int64\n"
     ]
    },
    {
     "data": {
      "image/png": "[encoded data removed]",
      "text/plain": [
       "<Figure size 432x288 with 1 Axes>"
      ]
     },
     "metadata": {
      "needs_background": "light"
     },
     "output_type": "display_data"
    }
   ],
   "source": [
    "ax=sns.countplot(x=\"Dependents\", data=data)\n",
    "print(data[\"Dependents\"].value_counts())"
   ]
  },
  {
   "cell_type": "markdown",
   "id": "8d1746b8",
   "metadata": {},
   "source": [
    "# \n",
    "360 applicants have 0 dependents, 102 applicants have 1 dependent, 101 applicants have 2 dependents and 51 applicants 3 or more than 3 dependents"
   ]
  },
  {
   "cell_type": "code",
   "execution_count": 336,
   "id": "37e48282",
   "metadata": {},
   "outputs": [
    {
     "name": "stdout",
     "output_type": "stream",
     "text": [
      "0    480\n",
      "1    134\n",
      "Name: Education, dtype: int64\n"
     ]
    },
    {
     "data": {
      "image/png": "[encoded data removed]",
      "text/plain": [
       "<Figure size 432x288 with 1 Axes>"
      ]
     },
     "metadata": {
      "needs_background": "light"
     },
     "output_type": "display_data"
    }
   ],
   "source": [
    "ax=sns.countplot(x=\"Education\", data=data)\n",
    "print(data[\"Education\"].value_counts())"
   ]
  },
  {
   "cell_type": "markdown",
   "id": "3f722c48",
   "metadata": {},
   "source": [
    "# \n",
    "480 applicants are graduates whereas 134 are non-graduates"
   ]
  },
  {
   "cell_type": "code",
   "execution_count": 337,
   "id": "ef6ef9e2",
   "metadata": {},
   "outputs": [
    {
     "name": "stdout",
     "output_type": "stream",
     "text": [
      "0    500\n",
      "1    114\n",
      "Name: Self_Employed, dtype: int64\n"
     ]
    },
    {
     "data": {
      "image/png": "[encoded data removed]",
      "text/plain": [
       "<Figure size 432x288 with 1 Axes>"
      ]
     },
     "metadata": {
      "needs_background": "light"
     },
     "output_type": "display_data"
    }
   ],
   "source": [
    "ax=sns.countplot(x=\"Self_Employed\", data=data)\n",
    "print(data[\"Self_Employed\"].value_counts())"
   ]
  },
  {
   "cell_type": "markdown",
   "id": "69212915",
   "metadata": {},
   "source": [
    "# \n",
    "500 applicants are unemployed, and 114 applicants are employed"
   ]
  },
  {
   "cell_type": "code",
   "execution_count": 338,
   "id": "17f77081",
   "metadata": {},
   "outputs": [
    {
     "name": "stdout",
     "output_type": "stream",
     "text": [
      "1    233\n",
      "2    202\n",
      "0    179\n",
      "Name: Property_Area, dtype: int64\n"
     ]
    },
    {
     "data": {
      "image/png": "[encoded data removed]",
      "text/plain": [
       "<Figure size 432x288 with 1 Axes>"
      ]
     },
     "metadata": {
      "needs_background": "light"
     },
     "output_type": "display_data"
    }
   ],
   "source": [
    "ax=sns.countplot(x=\"Property_Area\", data=data)\n",
    "print(data[\"Property_Area\"].value_counts())"
   ]
  },
  {
   "cell_type": "markdown",
   "id": "5e15834c",
   "metadata": {},
   "source": [
    "# \n",
    "179 applicants have property in rural area, 202 applicants have property in semi-urban area and 233 applicants have property in urban area"
   ]
  },
  {
   "cell_type": "code",
   "execution_count": 339,
   "id": "6bc08bc1",
   "metadata": {},
   "outputs": [
    {
     "name": "stdout",
     "output_type": "stream",
     "text": [
      "1.0    525\n",
      "0.0     89\n",
      "Name: Credit_History, dtype: int64\n"
     ]
    },
    {
     "data": {
      "image/png": "[encoded data removed]",
      "text/plain": [
       "<Figure size 432x288 with 1 Axes>"
      ]
     },
     "metadata": {
      "needs_background": "light"
     },
     "output_type": "display_data"
    }
   ],
   "source": [
    "ax=sns.countplot(x=\"Credit_History\", data=data)\n",
    "print(data[\"Credit_History\"].value_counts())"
   ]
  },
  {
   "cell_type": "markdown",
   "id": "578a2663",
   "metadata": {},
   "source": [
    "# \n",
    "89 applicants have 0 credit history and 525 have a credit history of 1"
   ]
  },
  {
   "cell_type": "code",
   "execution_count": 340,
   "id": "a4fa6bc0",
   "metadata": {},
   "outputs": [
    {
     "data": {
      "image/png": "[encoded data removed]",
      "text/plain": [
       "<Figure size 432x288 with 1 Axes>"
      ]
     },
     "metadata": {
      "needs_background": "light"
     },
     "output_type": "display_data"
    }
   ],
   "source": [
    "sns.distplot(data[\"ApplicantIncome\"])\n",
    "plt.xlabel(\"ApplicantIncome\",fontsize=10)\n",
    "plt.tight_layout()"
   ]
  },
  {
   "cell_type": "markdown",
   "id": "8f3c946d",
   "metadata": {},
   "source": [
    "# \n",
    "The data is not normally distributed and seems skewed"
   ]
  },
  {
   "cell_type": "code",
   "execution_count": 341,
   "id": "c7bc0d74",
   "metadata": {},
   "outputs": [
    {
     "data": {
      "image/png": "[encoded data removed]",
      "text/plain": [
       "<Figure size 432x288 with 1 Axes>"
      ]
     },
     "metadata": {
      "needs_background": "light"
     },
     "output_type": "display_data"
    }
   ],
   "source": [
    "sns.distplot(data[\"CoapplicantIncome\"])\n",
    "plt.xlabel(\"CoapplicantIncome\",fontsize=10)\n",
    "plt.tight_layout()"
   ]
  },
  {
   "cell_type": "markdown",
   "id": "598b7a0b",
   "metadata": {},
   "source": [
    "# \n",
    "The data is not normally distributed and seems skewed"
   ]
  },
  {
   "cell_type": "code",
   "execution_count": 342,
   "id": "1099ad21",
   "metadata": {},
   "outputs": [
    {
     "data": {
      "image/png": "[encoded data removed]",
      "text/plain": [
       "<Figure size 432x288 with 1 Axes>"
      ]
     },
     "metadata": {
      "needs_background": "light"
     },
     "output_type": "display_data"
    }
   ],
   "source": [
    "sns.distplot(data[\"LoanAmount\"])\n",
    "plt.xlabel(\"LoanAmount\",fontsize=10)\n",
    "plt.tight_layout()"
   ]
  },
  {
   "cell_type": "markdown",
   "id": "a7beaa60",
   "metadata": {},
   "source": [
    "# \n",
    "The data is not normally distributed and seems skewed"
   ]
  },
  {
   "cell_type": "code",
   "execution_count": 343,
   "id": "ae909c28",
   "metadata": {},
   "outputs": [
    {
     "data": {
      "image/png": "[encoded data removed]",
      "text/plain": [
       "<Figure size 432x288 with 1 Axes>"
      ]
     },
     "metadata": {
      "needs_background": "light"
     },
     "output_type": "display_data"
    }
   ],
   "source": [
    "sns.distplot(data[\"Loan_Amount_Term\"])\n",
    "plt.xlabel(\"Loan_Amount_Term\",fontsize=10)\n",
    "plt.tight_layout()"
   ]
  },
  {
   "cell_type": "markdown",
   "id": "5ebf1bf1",
   "metadata": {},
   "source": [
    "# \n",
    "The data is not normally distributed and seems skewed"
   ]
  },
  {
   "cell_type": "code",
   "execution_count": 344,
   "id": "0d37be6d",
   "metadata": {},
   "outputs": [
    {
     "data": {
      "text/plain": [
       "(614, 12)"
      ]
     },
     "execution_count": 344,
     "metadata": {},
     "output_type": "execute_result"
    }
   ],
   "source": [
    "data.shape"
   ]
  },
  {
   "cell_type": "markdown",
   "id": "d10659f1",
   "metadata": {},
   "source": [
    "# Checking for outliers"
   ]
  },
  {
   "cell_type": "code",
   "execution_count": 345,
   "id": "f4689930",
   "metadata": {},
   "outputs": [
    {
     "data": {
      "image/png": "[encoded data removed]",
      "text/plain": [
       "<Figure size 1440x1800 with 12 Axes>"
      ]
     },
     "metadata": {
      "needs_background": "light"
     },
     "output_type": "display_data"
    }
   ],
   "source": [
    "#visulaize the outliers using boxplot\n",
    "plt.figure(figsize=(20,25))\n",
    "graph=1\n",
    "\n",
    "for column in data:\n",
    "    if graph<=13:\n",
    "        ax=plt.subplot(4,4,graph)\n",
    "        sns.boxplot(data=data[column], orient='v')\n",
    "        plt.xlabel(column,fontsize=20)\n",
    "    graph=graph+1\n",
    "plt.show()"
   ]
  },
  {
   "cell_type": "markdown",
   "id": "d57e2906",
   "metadata": {},
   "source": [
    "# \n",
    "The features with continuous data containing outliers-\n",
    "\n",
    "- Applicant Income\n",
    "- Coapplicant Income\n",
    "- Loan Amount\n",
    "- Loan Amount Term"
   ]
  },
  {
   "cell_type": "code",
   "execution_count": 346,
   "id": "dd8f23f4",
   "metadata": {},
   "outputs": [
    {
     "data": {
      "text/plain": [
       "(614, 12)"
      ]
     },
     "execution_count": 346,
     "metadata": {},
     "output_type": "execute_result"
    }
   ],
   "source": [
    "#remove outliers using zscore technique\n",
    "from scipy.stats import zscore\n",
    "import numpy as np\n",
    "z=np.abs(zscore(data))\n",
    "z.shape"
   ]
  },
  {
   "cell_type": "code",
   "execution_count": 347,
   "id": "4f71eaf4",
   "metadata": {},
   "outputs": [
    {
     "name": "stdout",
     "output_type": "stream",
     "text": [
      "(array([  9,  14,  68,  94, 126, 130, 133, 155, 155, 171, 171, 177, 177,\n",
      "       183, 185, 242, 262, 278, 284, 308, 313, 333, 333, 369, 402, 409,\n",
      "       417, 443, 487, 495, 497, 506, 523, 546, 561, 575, 581, 585, 600,\n",
      "       604], dtype=int64), array([6, 8, 8, 8, 5, 7, 8, 5, 7, 5, 7, 6, 7, 5, 5, 8, 8, 7, 7, 7, 8, 5,\n",
      "       7, 7, 6, 5, 6, 5, 7, 8, 8, 7, 7, 8, 7, 8, 6, 8, 6, 7], dtype=int64))\n"
     ]
    }
   ],
   "source": [
    "threshold=3\n",
    "print(np.where(z>3))"
   ]
  },
  {
   "cell_type": "code",
   "execution_count": 348,
   "id": "bc3d355c",
   "metadata": {},
   "outputs": [
    {
     "name": "stdout",
     "output_type": "stream",
     "text": [
      "(614, 12)\n",
      "(578, 12)\n"
     ]
    }
   ],
   "source": [
    "data_new=data[(z<3).all(axis=1)]\n",
    "print(data.shape)\n",
    "print(data_new.shape)"
   ]
  },
  {
   "cell_type": "markdown",
   "id": "17c0ec75",
   "metadata": {},
   "source": [
    "# \n",
    "The removal of these outliers is essential, the percentage loss is 5.86% which is tolerable"
   ]
  },
  {
   "cell_type": "markdown",
   "id": "7ca83358",
   "metadata": {},
   "source": [
    "# # Divide Data Set into features and labels"
   ]
  },
  {
   "cell_type": "code",
   "execution_count": 349,
   "id": "0154fe6c",
   "metadata": {},
   "outputs": [],
   "source": [
    "y=data_new['Loan_Status']\n",
    "x=data_new.drop(columns=['Loan_Status'])"
   ]
  },
  {
   "cell_type": "code",
   "execution_count": 350,
   "id": "39071210",
   "metadata": {},
   "outputs": [
    {
     "data": {
      "text/plain": [
       "ApplicantIncome      2.060575\n",
       "Self_Employed        1.670803\n",
       "CoapplicantIncome    1.352458\n",
       "Education            1.309263\n",
       "LoanAmount           1.272751\n",
       "Dependents           1.045496\n",
       "Property_Area       -0.055174\n",
       "Married             -0.625020\n",
       "Gender              -1.625655\n",
       "Credit_History      -1.978899\n",
       "Loan_Amount_Term    -2.062136\n",
       "dtype: float64"
      ]
     },
     "execution_count": 350,
     "metadata": {},
     "output_type": "execute_result"
    }
   ],
   "source": [
    "#Confirming the skewness\n",
    "x.skew().sort_values(ascending=False)"
   ]
  },
  {
   "cell_type": "markdown",
   "id": "c4001e94",
   "metadata": {},
   "source": [
    "# \n",
    "Keeping +/-0.5 as the range of skewness, the columns not falling in this range are-\n",
    "\n",
    "CoapplicantIncome   \n",
    "ApplicantIncome      \n",
    "LoanAmount           \n",
    "Self_Employed        \n",
    "Education            \n",
    "Dependents                 \n",
    "Married            \n",
    "Gender              \n",
    "Credit_History      \n",
    "Loan_Amount_Term  \n",
    "\n",
    "Amongst the above features, only CoapplicantIncome, ApplicantIncome,LoanAmount and LoanAmountTerm are continous and their skewness need to be removed"
   ]
  },
  {
   "cell_type": "markdown",
   "id": "bd70e797",
   "metadata": {},
   "source": [
    "# Transforming Data to remove skewness"
   ]
  },
  {
   "cell_type": "code",
   "execution_count": 351,
   "id": "ffa7dcea",
   "metadata": {},
   "outputs": [],
   "source": [
    "from sklearn.preprocessing import power_transform\n",
    "x_n=power_transform(x)"
   ]
  },
  {
   "cell_type": "code",
   "execution_count": 352,
   "id": "f586e014",
   "metadata": {},
   "outputs": [
    {
     "data": {
      "text/plain": [
       "Self_Employed        1.670803\n",
       "Education            1.309263\n",
       "Loan_Amount_Term     0.705600\n",
       "Dependents           0.474681\n",
       "LoanAmount           0.042683\n",
       "ApplicantIncome      0.028051\n",
       "Property_Area       -0.154907\n",
       "CoapplicantIncome   -0.188561\n",
       "Married             -0.625020\n",
       "Gender              -1.625655\n",
       "Credit_History      -1.978899\n",
       "dtype: float64"
      ]
     },
     "execution_count": 352,
     "metadata": {},
     "output_type": "execute_result"
    }
   ],
   "source": [
    "#Checking if skewness was rectified\n",
    "x_skew=pd.DataFrame(x_n, columns=x.columns)\n",
    "x_skew.skew().sort_values(ascending=False)"
   ]
  },
  {
   "cell_type": "markdown",
   "id": "608f895f",
   "metadata": {},
   "source": [
    "# \n",
    "Skewness has been removed, let's move forward"
   ]
  },
  {
   "cell_type": "markdown",
   "id": "d1c21eb2",
   "metadata": {},
   "source": [
    "# Scaling the data"
   ]
  },
  {
   "cell_type": "code",
   "execution_count": 356,
   "id": "b8c5d6a5",
   "metadata": {},
   "outputs": [],
   "source": [
    "scaler=StandardScaler()\n",
    "X_scaled=scaler.fit_transform(x_skew)"
   ]
  },
  {
   "cell_type": "markdown",
   "id": "59fda38b",
   "metadata": {},
   "source": [
    "# Using Logistic Regression Model"
   ]
  },
  {
   "cell_type": "code",
   "execution_count": 355,
   "id": "c5918807",
   "metadata": {},
   "outputs": [],
   "source": [
    "from sklearn.linear_model import LogisticRegression\n",
    "from sklearn.metrics import accuracy_score\n",
    "from sklearn.metrics import confusion_matrix, classification_report\n",
    "from sklearn.model_selection import train_test_split"
   ]
  },
  {
   "cell_type": "code",
   "execution_count": 357,
   "id": "5d96c930",
   "metadata": {},
   "outputs": [
    {
     "name": "stdout",
     "output_type": "stream",
     "text": [
      "accuracy 0.8362068965517241 random_state 0\n",
      "accuracy 0.8362068965517241 random_state 0\n",
      "accuracy 0.8103448275862069 random_state 1\n",
      "accuracy 0.8189655172413793 random_state 2\n",
      "accuracy 0.8103448275862069 random_state 3\n",
      "accuracy 0.8017241379310345 random_state 4\n",
      "accuracy 0.7844827586206896 random_state 5\n",
      "accuracy 0.8103448275862069 random_state 6\n",
      "accuracy 0.7931034482758621 random_state 7\n",
      "accuracy 0.7758620689655172 random_state 8\n",
      "accuracy 0.7931034482758621 random_state 9\n",
      "accuracy 0.9137931034482759 random_state 10\n",
      "accuracy 0.9137931034482759 random_state 10\n",
      "accuracy 0.8620689655172413 random_state 11\n",
      "accuracy 0.8793103448275862 random_state 12\n",
      "accuracy 0.8103448275862069 random_state 13\n",
      "accuracy 0.75 random_state 14\n",
      "accuracy 0.8620689655172413 random_state 15\n",
      "accuracy 0.8017241379310345 random_state 16\n",
      "accuracy 0.8362068965517241 random_state 17\n",
      "accuracy 0.7586206896551724 random_state 18\n",
      "accuracy 0.8362068965517241 random_state 19\n",
      "accuracy 0.8017241379310345 random_state 20\n",
      "accuracy 0.8362068965517241 random_state 21\n",
      "accuracy 0.8189655172413793 random_state 22\n",
      "accuracy 0.7672413793103449 random_state 23\n",
      "accuracy 0.7931034482758621 random_state 24\n",
      "accuracy 0.853448275862069 random_state 25\n",
      "accuracy 0.8189655172413793 random_state 26\n",
      "accuracy 0.8189655172413793 random_state 27\n",
      "accuracy 0.8448275862068966 random_state 28\n",
      "accuracy 0.8362068965517241 random_state 29\n",
      "accuracy 0.8017241379310345 random_state 30\n",
      "accuracy 0.8189655172413793 random_state 31\n",
      "accuracy 0.7586206896551724 random_state 32\n",
      "accuracy 0.8706896551724138 random_state 33\n",
      "accuracy 0.8017241379310345 random_state 34\n",
      "accuracy 0.7931034482758621 random_state 35\n",
      "accuracy 0.7413793103448276 random_state 36\n",
      "accuracy 0.7931034482758621 random_state 37\n",
      "accuracy 0.8879310344827587 random_state 38\n",
      "accuracy 0.8620689655172413 random_state 39\n",
      "accuracy 0.8275862068965517 random_state 40\n",
      "accuracy 0.8189655172413793 random_state 41\n",
      "accuracy 0.7586206896551724 random_state 42\n",
      "accuracy 0.7931034482758621 random_state 43\n",
      "accuracy 0.8448275862068966 random_state 44\n",
      "accuracy 0.7413793103448276 random_state 45\n",
      "accuracy 0.7844827586206896 random_state 46\n",
      "accuracy 0.8017241379310345 random_state 47\n",
      "accuracy 0.8189655172413793 random_state 48\n",
      "accuracy 0.8189655172413793 random_state 49\n",
      "accuracy 0.8275862068965517 random_state 50\n",
      "accuracy 0.7844827586206896 random_state 51\n",
      "accuracy 0.7931034482758621 random_state 52\n",
      "accuracy 0.7758620689655172 random_state 53\n",
      "accuracy 0.7758620689655172 random_state 54\n",
      "accuracy 0.8103448275862069 random_state 55\n",
      "accuracy 0.8275862068965517 random_state 56\n",
      "accuracy 0.8189655172413793 random_state 57\n",
      "accuracy 0.8103448275862069 random_state 58\n",
      "accuracy 0.7931034482758621 random_state 59\n",
      "accuracy 0.8275862068965517 random_state 60\n",
      "accuracy 0.8017241379310345 random_state 61\n",
      "accuracy 0.8017241379310345 random_state 62\n",
      "accuracy 0.7586206896551724 random_state 63\n",
      "accuracy 0.8017241379310345 random_state 64\n",
      "accuracy 0.7844827586206896 random_state 65\n",
      "accuracy 0.8275862068965517 random_state 66\n",
      "accuracy 0.7931034482758621 random_state 67\n",
      "accuracy 0.853448275862069 random_state 68\n",
      "accuracy 0.8620689655172413 random_state 69\n",
      "accuracy 0.8189655172413793 random_state 70\n",
      "accuracy 0.8706896551724138 random_state 71\n",
      "accuracy 0.853448275862069 random_state 72\n",
      "accuracy 0.8189655172413793 random_state 73\n",
      "accuracy 0.7931034482758621 random_state 74\n",
      "accuracy 0.8275862068965517 random_state 75\n",
      "accuracy 0.7586206896551724 random_state 76\n",
      "accuracy 0.8275862068965517 random_state 77\n",
      "accuracy 0.8103448275862069 random_state 78\n",
      "accuracy 0.8017241379310345 random_state 79\n",
      "accuracy 0.7931034482758621 random_state 80\n",
      "accuracy 0.8189655172413793 random_state 81\n",
      "accuracy 0.8275862068965517 random_state 82\n",
      "accuracy 0.8362068965517241 random_state 83\n",
      "accuracy 0.853448275862069 random_state 84\n",
      "accuracy 0.7931034482758621 random_state 85\n",
      "accuracy 0.8448275862068966 random_state 86\n",
      "accuracy 0.8362068965517241 random_state 87\n",
      "accuracy 0.7586206896551724 random_state 88\n",
      "accuracy 0.7758620689655172 random_state 89\n",
      "accuracy 0.7844827586206896 random_state 90\n",
      "accuracy 0.8448275862068966 random_state 91\n",
      "accuracy 0.8017241379310345 random_state 92\n",
      "accuracy 0.8362068965517241 random_state 93\n",
      "accuracy 0.853448275862069 random_state 94\n",
      "accuracy 0.853448275862069 random_state 95\n",
      "accuracy 0.8103448275862069 random_state 96\n",
      "accuracy 0.8362068965517241 random_state 97\n",
      "accuracy 0.8017241379310345 random_state 98\n",
      "accuracy 0.8275862068965517 random_state 99\n",
      "accuracy 0.8362068965517241 random_state 100\n",
      "accuracy 0.7844827586206896 random_state 101\n",
      "accuracy 0.8103448275862069 random_state 102\n",
      "accuracy 0.8017241379310345 random_state 103\n",
      "accuracy 0.853448275862069 random_state 104\n",
      "accuracy 0.8189655172413793 random_state 105\n",
      "accuracy 0.853448275862069 random_state 106\n",
      "accuracy 0.8362068965517241 random_state 107\n",
      "accuracy 0.8189655172413793 random_state 108\n",
      "accuracy 0.7931034482758621 random_state 109\n",
      "accuracy 0.8362068965517241 random_state 110\n",
      "accuracy 0.8017241379310345 random_state 111\n",
      "accuracy 0.8189655172413793 random_state 112\n",
      "accuracy 0.8189655172413793 random_state 113\n",
      "accuracy 0.8706896551724138 random_state 114\n",
      "accuracy 0.8879310344827587 random_state 115\n",
      "accuracy 0.8103448275862069 random_state 116\n",
      "accuracy 0.8189655172413793 random_state 117\n",
      "accuracy 0.8275862068965517 random_state 118\n",
      "accuracy 0.8879310344827587 random_state 119\n",
      "accuracy 0.8620689655172413 random_state 120\n",
      "accuracy 0.8362068965517241 random_state 121\n",
      "accuracy 0.8448275862068966 random_state 122\n",
      "accuracy 0.8706896551724138 random_state 123\n",
      "accuracy 0.8706896551724138 random_state 124\n",
      "accuracy 0.7672413793103449 random_state 125\n",
      "accuracy 0.8189655172413793 random_state 126\n",
      "accuracy 0.8017241379310345 random_state 127\n",
      "accuracy 0.8103448275862069 random_state 128\n",
      "accuracy 0.8017241379310345 random_state 129\n",
      "accuracy 0.8448275862068966 random_state 130\n",
      "accuracy 0.8275862068965517 random_state 131\n",
      "accuracy 0.8017241379310345 random_state 132\n",
      "accuracy 0.8620689655172413 random_state 133\n",
      "accuracy 0.8620689655172413 random_state 134\n",
      "accuracy 0.853448275862069 random_state 135\n",
      "accuracy 0.75 random_state 136\n",
      "accuracy 0.7758620689655172 random_state 137\n",
      "accuracy 0.8189655172413793 random_state 138\n",
      "accuracy 0.8189655172413793 random_state 139\n",
      "accuracy 0.7758620689655172 random_state 140\n",
      "accuracy 0.853448275862069 random_state 141\n",
      "accuracy 0.8275862068965517 random_state 142\n",
      "accuracy 0.7586206896551724 random_state 143\n",
      "accuracy 0.7758620689655172 random_state 144\n",
      "accuracy 0.8103448275862069 random_state 145\n",
      "accuracy 0.8103448275862069 random_state 146\n",
      "accuracy 0.8189655172413793 random_state 147\n",
      "accuracy 0.7586206896551724 random_state 148\n",
      "accuracy 0.8103448275862069 random_state 149\n",
      "accuracy 0.8620689655172413 random_state 150\n",
      "accuracy 0.8448275862068966 random_state 151\n",
      "accuracy 0.7844827586206896 random_state 152\n",
      "accuracy 0.8017241379310345 random_state 153\n",
      "accuracy 0.8189655172413793 random_state 154\n",
      "accuracy 0.8189655172413793 random_state 155\n",
      "accuracy 0.7844827586206896 random_state 156\n",
      "accuracy 0.8189655172413793 random_state 157\n",
      "accuracy 0.8448275862068966 random_state 158\n",
      "accuracy 0.8103448275862069 random_state 159\n",
      "accuracy 0.8706896551724138 random_state 160\n",
      "accuracy 0.8620689655172413 random_state 161\n",
      "accuracy 0.7844827586206896 random_state 162\n",
      "accuracy 0.7758620689655172 random_state 163\n",
      "accuracy 0.8275862068965517 random_state 164\n",
      "accuracy 0.8017241379310345 random_state 165\n",
      "accuracy 0.8793103448275862 random_state 166\n",
      "accuracy 0.8362068965517241 random_state 167\n",
      "accuracy 0.7844827586206896 random_state 168\n",
      "accuracy 0.8706896551724138 random_state 169\n",
      "accuracy 0.8362068965517241 random_state 170\n",
      "accuracy 0.7844827586206896 random_state 171\n",
      "accuracy 0.7758620689655172 random_state 172\n",
      "accuracy 0.7672413793103449 random_state 173\n",
      "accuracy 0.8275862068965517 random_state 174\n",
      "accuracy 0.853448275862069 random_state 175\n",
      "accuracy 0.8362068965517241 random_state 176\n",
      "accuracy 0.8103448275862069 random_state 177\n",
      "accuracy 0.8275862068965517 random_state 178\n",
      "accuracy 0.8189655172413793 random_state 179\n",
      "accuracy 0.8706896551724138 random_state 180\n",
      "accuracy 0.853448275862069 random_state 181\n",
      "accuracy 0.8448275862068966 random_state 182\n",
      "accuracy 0.8103448275862069 random_state 183\n",
      "accuracy 0.8362068965517241 random_state 184\n",
      "accuracy 0.8275862068965517 random_state 185\n",
      "accuracy 0.8189655172413793 random_state 186\n",
      "accuracy 0.8620689655172413 random_state 187\n",
      "accuracy 0.8017241379310345 random_state 188\n",
      "accuracy 0.8017241379310345 random_state 189\n",
      "accuracy 0.8879310344827587 random_state 190\n",
      "accuracy 0.7931034482758621 random_state 191\n",
      "accuracy 0.8275862068965517 random_state 192\n",
      "accuracy 0.8103448275862069 random_state 193\n",
      "accuracy 0.75 random_state 194\n",
      "accuracy 0.7672413793103449 random_state 195\n",
      "accuracy 0.8017241379310345 random_state 196\n",
      "accuracy 0.8017241379310345 random_state 197\n",
      "accuracy 0.8448275862068966 random_state 198\n",
      "accuracy 0.7844827586206896 random_state 199\n"
     ]
    }
   ],
   "source": [
    "maxAccu=0     #maximum accuracy\n",
    "maxRS=0       #best random state\n",
    "\n",
    "#Finding Best random state\n",
    "for i in range(0,200):\n",
    "    x_train, x_test, y_train, y_test= train_test_split(X_scaled, y, test_size=0.2, random_state=i)\n",
    "    LR=LogisticRegression()\n",
    "    LR.fit(x_train, y_train)                #fitting the data will train the model\n",
    "    predrf=LR.predict(x_test)               #this is the predicted target variable\n",
    "    acc=accuracy_score(y_test, predrf)      #accuracy score\n",
    "    print('accuracy', acc, 'random_state', i)\n",
    "    \n",
    "    if acc>maxAccu:\n",
    "        maxAccu=acc\n",
    "        maxRS=i\n",
    "        print('accuracy', maxAccu, 'random_state', i)"
   ]
  },
  {
   "cell_type": "code",
   "execution_count": 358,
   "id": "8b01998b",
   "metadata": {},
   "outputs": [],
   "source": [
    "#creating train-test-sloit using best random state observed(i.e.10)\n",
    "x_train, x_test, y_train, y_test= train_test_split(X_scaled, y, test_size=0.2, random_state=10)"
   ]
  },
  {
   "cell_type": "code",
   "execution_count": 373,
   "id": "d6d1e5b0",
   "metadata": {},
   "outputs": [
    {
     "name": "stdout",
     "output_type": "stream",
     "text": [
      "Accuracy  91.37931034482759\n",
      "[[14 10]\n",
      " [ 0 92]]\n",
      "              precision    recall  f1-score   support\n",
      "\n",
      "           0       1.00      0.58      0.74        24\n",
      "           1       0.90      1.00      0.95        92\n",
      "\n",
      "    accuracy                           0.91       116\n",
      "   macro avg       0.95      0.79      0.84       116\n",
      "weighted avg       0.92      0.91      0.90       116\n",
      "\n"
     ]
    }
   ],
   "source": [
    "LR=LogisticRegression()\n",
    "LR.fit(x_train, y_train)                \n",
    "predlr=LR.predict(x_test)               \n",
    "print(\"Accuracy \",accuracy_score(y_test, predlr)*100)      #accuracy score\n",
    "print(confusion_matrix(y_test,predlr))\n",
    "print(classification_report(y_test,predlr))"
   ]
  },
  {
   "cell_type": "markdown",
   "id": "d6b9dc81",
   "metadata": {},
   "source": [
    "# Using Decision Tree Classifier"
   ]
  },
  {
   "cell_type": "code",
   "execution_count": 374,
   "id": "659dc52e",
   "metadata": {},
   "outputs": [
    {
     "name": "stdout",
     "output_type": "stream",
     "text": [
      "Accuracy  84.48275862068965\n",
      "[[19  5]\n",
      " [13 79]]\n",
      "              precision    recall  f1-score   support\n",
      "\n",
      "           0       0.59      0.79      0.68        24\n",
      "           1       0.94      0.86      0.90        92\n",
      "\n",
      "    accuracy                           0.84       116\n",
      "   macro avg       0.77      0.83      0.79       116\n",
      "weighted avg       0.87      0.84      0.85       116\n",
      "\n"
     ]
    }
   ],
   "source": [
    "from sklearn.tree import DecisionTreeClassifier\n",
    "\n",
    "dt=DecisionTreeClassifier()\n",
    "dt.fit(x_train, y_train)\n",
    "preddt=dt.predict(x_test)\n",
    "print(\"Accuracy \",accuracy_score(y_test, preddt)*100)      #accuracy score\n",
    "print(confusion_matrix(y_test,preddt))\n",
    "print(classification_report(y_test,preddt))"
   ]
  },
  {
   "cell_type": "markdown",
   "id": "2a53ca05",
   "metadata": {},
   "source": [
    "# Using Random Forest CLassifier"
   ]
  },
  {
   "cell_type": "code",
   "execution_count": 376,
   "id": "fd172402",
   "metadata": {},
   "outputs": [
    {
     "name": "stdout",
     "output_type": "stream",
     "text": [
      "Accuracy  88.79310344827587\n",
      "[[16  8]\n",
      " [ 5 87]]\n",
      "              precision    recall  f1-score   support\n",
      "\n",
      "           0       0.76      0.67      0.71        24\n",
      "           1       0.92      0.95      0.93        92\n",
      "\n",
      "    accuracy                           0.89       116\n",
      "   macro avg       0.84      0.81      0.82       116\n",
      "weighted avg       0.88      0.89      0.89       116\n",
      "\n"
     ]
    }
   ],
   "source": [
    "from sklearn.ensemble import RandomForestClassifier\n",
    "\n",
    "rf=RandomForestClassifier()\n",
    "rf.fit(x_train, y_train)\n",
    "predrf=rf.predict(x_test)\n",
    "print(\"Accuracy \",accuracy_score(y_test, predrf)*100)      #accuracy score\n",
    "print(confusion_matrix(y_test,predrf))\n",
    "print(classification_report(y_test,predrf))"
   ]
  },
  {
   "cell_type": "markdown",
   "id": "92804a19",
   "metadata": {},
   "source": [
    "# Using SVC"
   ]
  },
  {
   "cell_type": "code",
   "execution_count": 377,
   "id": "188838c7",
   "metadata": {},
   "outputs": [
    {
     "name": "stdout",
     "output_type": "stream",
     "text": [
      "Accuracy  92.24137931034483\n",
      "[[15  9]\n",
      " [ 0 92]]\n",
      "              precision    recall  f1-score   support\n",
      "\n",
      "           0       1.00      0.62      0.77        24\n",
      "           1       0.91      1.00      0.95        92\n",
      "\n",
      "    accuracy                           0.92       116\n",
      "   macro avg       0.96      0.81      0.86       116\n",
      "weighted avg       0.93      0.92      0.92       116\n",
      "\n"
     ]
    }
   ],
   "source": [
    "from sklearn.svm import SVC\n",
    "\n",
    "svc=SVC()\n",
    "svc.fit(x_train, y_train)\n",
    "ad_pred=svc.predict(x_test)\n",
    "print(\"Accuracy \",accuracy_score(y_test, ad_pred)*100)      #accuracy score\n",
    "print(confusion_matrix(y_test,ad_pred))\n",
    "print(classification_report(y_test,ad_pred))"
   ]
  },
  {
   "cell_type": "markdown",
   "id": "4e930e7e",
   "metadata": {},
   "source": [
    "# Cross Validation"
   ]
  },
  {
   "cell_type": "code",
   "execution_count": 381,
   "id": "f0404736",
   "metadata": {},
   "outputs": [
    {
     "name": "stdout",
     "output_type": "stream",
     "text": [
      "Cross validation score of Logistic Regression:  0.8149775112443777\n"
     ]
    }
   ],
   "source": [
    "from sklearn.model_selection import cross_val_score\n",
    "\n",
    "#validation accuracy\n",
    "scr=cross_val_score(LR,x,y,cv=5)\n",
    "print(\"Cross validation score of Logistic Regression: \", scr.mean())"
   ]
  },
  {
   "cell_type": "code",
   "execution_count": 403,
   "id": "48fe114b",
   "metadata": {},
   "outputs": [
    {
     "name": "stdout",
     "output_type": "stream",
     "text": [
      "Cross validation score of Decision Tree Classifier:  0.7042578710644678\n"
     ]
    }
   ],
   "source": [
    "scr2=cross_val_score(dt,x,y,cv=5)\n",
    "print(\"Cross validation score of Decision Tree Classifier: \", scr2.mean())"
   ]
  },
  {
   "cell_type": "code",
   "execution_count": 404,
   "id": "e7a9913a",
   "metadata": {},
   "outputs": [
    {
     "name": "stdout",
     "output_type": "stream",
     "text": [
      "Cross validation score of Random Forest Classifier:  0.7976761619190406\n"
     ]
    }
   ],
   "source": [
    "scr3=cross_val_score(rf,x,y,cv=5)\n",
    "print(\"Cross validation score of Random Forest Classifier: \", scr3.mean())"
   ]
  },
  {
   "cell_type": "code",
   "execution_count": 402,
   "id": "82fbe63e",
   "metadata": {},
   "outputs": [
    {
     "name": "stdout",
     "output_type": "stream",
     "text": [
      "Cross validation score of SVC model:  0.6920539730134933\n"
     ]
    }
   ],
   "source": [
    "scr4=cross_val_score(svc,x,y,cv=5)\n",
    "print(\"Cross validation score of SVC model: \", scr4.mean())"
   ]
  },
  {
   "cell_type": "markdown",
   "id": "02adc654",
   "metadata": {},
   "source": [
    "# \n",
    "Logistic Regression is performing better, hence it is carried forward"
   ]
  },
  {
   "cell_type": "markdown",
   "id": "4affbfa2",
   "metadata": {},
   "source": [
    "# AUC ROC curve"
   ]
  },
  {
   "cell_type": "code",
   "execution_count": 405,
   "id": "a1d4098b",
   "metadata": {},
   "outputs": [
    {
     "data": {
      "image/png": "[encoded data removed]",
      "text/plain": [
       "<Figure size 432x288 with 1 Axes>"
      ]
     },
     "metadata": {
      "needs_background": "light"
     },
     "output_type": "display_data"
    }
   ],
   "source": [
    "from sklearn.metrics import roc_curve, auc\n",
    "fpr, tpr, thresholds= roc_curve(predlr, y_test)\n",
    "roc_auc=auc(fpr, tpr)\n",
    "\n",
    "plt.figure()\n",
    "plt.plot(fpr, tpr, lw=10, label=\"ROC curve (area = %0.2f)\" % roc_auc)\n",
    "plt.plot([0,1], [0,1], lw=10, linestyle='--')\n",
    "plt.xlim([0.0, 1.0])\n",
    "plt.ylim([0.0, 1.05])\n",
    "plt.xlabel('False Positive Rate')\n",
    "plt.ylabel('True Positive Rate')\n",
    "plt.title('Receiver operating characteristic')\n",
    "plt.legend(loc='lower right')\n",
    "plt.show()"
   ]
  },
  {
   "cell_type": "markdown",
   "id": "2be929bf",
   "metadata": {},
   "source": [
    "# Saving the Logistic Regression Model"
   ]
  },
  {
   "cell_type": "code",
   "execution_count": 407,
   "id": "994d2a47",
   "metadata": {},
   "outputs": [],
   "source": [
    "filename='Loan Status Prediction.pkl'\n",
    "pickle.dump(LR, open(filename,'wb'))"
   ]
  }
 ],
 "metadata": {
  "kernelspec": {
   "display_name": "Python 3 (ipykernel)",
   "language": "python",
   "name": "python3"
  },
  "language_info": {
   "codemirror_mode": {
    "name": "ipython",
    "version": 3
   },
   "file_extension": ".py",
   "mimetype": "text/x-python",
   "name": "python",
   "nbconvert_exporter": "python",
   "pygments_lexer": "ipython3",
   "version": "3.9.7"
  }
 },
 "nbformat": 4,
 "nbformat_minor": 5
}
