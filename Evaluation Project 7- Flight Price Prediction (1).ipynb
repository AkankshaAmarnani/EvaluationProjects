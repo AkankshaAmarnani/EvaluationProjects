{
 "cells": [
  {
   "cell_type": "markdown",
   "id": "7b866ea7",
   "metadata": {},
   "source": [
    "# Problem Statement-\n",
    "Flight ticket prices can be something hard to guess, today we might see a price, check out the price of the same flight tomorrow, it will be a different story. We might have often heard travellers saying that flight ticket prices are so unpredictable. Here you will be provided with prices of flight tickets for various airlines between the months of March and June of 2019 and between various cities.\n",
    "\n",
    "Size of training set: 10683 records\n",
    "\n",
    "Size of test set: 2671 records"
   ]
  },
  {
   "cell_type": "code",
   "execution_count": 1452,
   "id": "3d730607",
   "metadata": {},
   "outputs": [],
   "source": [
    "#Let's start with importing necessary libraries\n",
    "import pandas as pd\n",
    "import numpy as np\n",
    "from sklearn.preprocessing import StandardScaler\n",
    "import matplotlib.pyplot as plt\n",
    "import seaborn as sns\n",
    "import pickle\n",
    "import warnings\n",
    "warnings.filterwarnings(\"ignore\")"
   ]
  },
  {
   "cell_type": "markdown",
   "id": "4ba5d9be",
   "metadata": {},
   "source": [
    "# Reading the train data"
   ]
  },
  {
   "cell_type": "code",
   "execution_count": 1453,
   "id": "5b1836d8",
   "metadata": {},
   "outputs": [
    {
     "data": {
      "text/html": [
       "<div>\n",
       "<style scoped>\n",
       "    .dataframe tbody tr th:only-of-type {\n",
       "        vertical-align: middle;\n",
       "    }\n",
       "\n",
       "    .dataframe tbody tr th {\n",
       "        vertical-align: top;\n",
       "    }\n",
       "\n",
       "    .dataframe thead th {\n",
       "        text-align: right;\n",
       "    }\n",
       "</style>\n",
       "<table border=\"1\" class=\"dataframe\">\n",
       "  <thead>\n",
       "    <tr style=\"text-align: right;\">\n",
       "      <th></th>\n",
       "      <th>Airline</th>\n",
       "      <th>Date_of_Journey</th>\n",
       "      <th>Source</th>\n",
       "      <th>Destination</th>\n",
       "      <th>Route</th>\n",
       "      <th>Dep_Time</th>\n",
       "      <th>Arrival_Time</th>\n",
       "      <th>Duration</th>\n",
       "      <th>Total_Stops</th>\n",
       "      <th>Additional_Info</th>\n",
       "      <th>Price</th>\n",
       "    </tr>\n",
       "  </thead>\n",
       "  <tbody>\n",
       "    <tr>\n",
       "      <th>0</th>\n",
       "      <td>IndiGo</td>\n",
       "      <td>24/03/2019</td>\n",
       "      <td>Banglore</td>\n",
       "      <td>New Delhi</td>\n",
       "      <td>BLR → DEL</td>\n",
       "      <td>22:20</td>\n",
       "      <td>01:10 22 Mar</td>\n",
       "      <td>2h 50m</td>\n",
       "      <td>non-stop</td>\n",
       "      <td>No info</td>\n",
       "      <td>3897</td>\n",
       "    </tr>\n",
       "    <tr>\n",
       "      <th>1</th>\n",
       "      <td>Air India</td>\n",
       "      <td>1/05/2019</td>\n",
       "      <td>Kolkata</td>\n",
       "      <td>Banglore</td>\n",
       "      <td>CCU → IXR → BBI → BLR</td>\n",
       "      <td>05:50</td>\n",
       "      <td>13:15</td>\n",
       "      <td>7h 25m</td>\n",
       "      <td>2 stops</td>\n",
       "      <td>No info</td>\n",
       "      <td>7662</td>\n",
       "    </tr>\n",
       "    <tr>\n",
       "      <th>2</th>\n",
       "      <td>Jet Airways</td>\n",
       "      <td>9/06/2019</td>\n",
       "      <td>Delhi</td>\n",
       "      <td>Cochin</td>\n",
       "      <td>DEL → LKO → BOM → COK</td>\n",
       "      <td>09:25</td>\n",
       "      <td>04:25 10 Jun</td>\n",
       "      <td>19h</td>\n",
       "      <td>2 stops</td>\n",
       "      <td>No info</td>\n",
       "      <td>13882</td>\n",
       "    </tr>\n",
       "    <tr>\n",
       "      <th>3</th>\n",
       "      <td>IndiGo</td>\n",
       "      <td>12/05/2019</td>\n",
       "      <td>Kolkata</td>\n",
       "      <td>Banglore</td>\n",
       "      <td>CCU → NAG → BLR</td>\n",
       "      <td>18:05</td>\n",
       "      <td>23:30</td>\n",
       "      <td>5h 25m</td>\n",
       "      <td>1 stop</td>\n",
       "      <td>No info</td>\n",
       "      <td>6218</td>\n",
       "    </tr>\n",
       "    <tr>\n",
       "      <th>4</th>\n",
       "      <td>IndiGo</td>\n",
       "      <td>01/03/2019</td>\n",
       "      <td>Banglore</td>\n",
       "      <td>New Delhi</td>\n",
       "      <td>BLR → NAG → DEL</td>\n",
       "      <td>16:50</td>\n",
       "      <td>21:35</td>\n",
       "      <td>4h 45m</td>\n",
       "      <td>1 stop</td>\n",
       "      <td>No info</td>\n",
       "      <td>13302</td>\n",
       "    </tr>\n",
       "    <tr>\n",
       "      <th>...</th>\n",
       "      <td>...</td>\n",
       "      <td>...</td>\n",
       "      <td>...</td>\n",
       "      <td>...</td>\n",
       "      <td>...</td>\n",
       "      <td>...</td>\n",
       "      <td>...</td>\n",
       "      <td>...</td>\n",
       "      <td>...</td>\n",
       "      <td>...</td>\n",
       "      <td>...</td>\n",
       "    </tr>\n",
       "    <tr>\n",
       "      <th>10678</th>\n",
       "      <td>Air Asia</td>\n",
       "      <td>9/04/2019</td>\n",
       "      <td>Kolkata</td>\n",
       "      <td>Banglore</td>\n",
       "      <td>CCU → BLR</td>\n",
       "      <td>19:55</td>\n",
       "      <td>22:25</td>\n",
       "      <td>2h 30m</td>\n",
       "      <td>non-stop</td>\n",
       "      <td>No info</td>\n",
       "      <td>4107</td>\n",
       "    </tr>\n",
       "    <tr>\n",
       "      <th>10679</th>\n",
       "      <td>Air India</td>\n",
       "      <td>27/04/2019</td>\n",
       "      <td>Kolkata</td>\n",
       "      <td>Banglore</td>\n",
       "      <td>CCU → BLR</td>\n",
       "      <td>20:45</td>\n",
       "      <td>23:20</td>\n",
       "      <td>2h 35m</td>\n",
       "      <td>non-stop</td>\n",
       "      <td>No info</td>\n",
       "      <td>4145</td>\n",
       "    </tr>\n",
       "    <tr>\n",
       "      <th>10680</th>\n",
       "      <td>Jet Airways</td>\n",
       "      <td>27/04/2019</td>\n",
       "      <td>Banglore</td>\n",
       "      <td>Delhi</td>\n",
       "      <td>BLR → DEL</td>\n",
       "      <td>08:20</td>\n",
       "      <td>11:20</td>\n",
       "      <td>3h</td>\n",
       "      <td>non-stop</td>\n",
       "      <td>No info</td>\n",
       "      <td>7229</td>\n",
       "    </tr>\n",
       "    <tr>\n",
       "      <th>10681</th>\n",
       "      <td>Vistara</td>\n",
       "      <td>01/03/2019</td>\n",
       "      <td>Banglore</td>\n",
       "      <td>New Delhi</td>\n",
       "      <td>BLR → DEL</td>\n",
       "      <td>11:30</td>\n",
       "      <td>14:10</td>\n",
       "      <td>2h 40m</td>\n",
       "      <td>non-stop</td>\n",
       "      <td>No info</td>\n",
       "      <td>12648</td>\n",
       "    </tr>\n",
       "    <tr>\n",
       "      <th>10682</th>\n",
       "      <td>Air India</td>\n",
       "      <td>9/05/2019</td>\n",
       "      <td>Delhi</td>\n",
       "      <td>Cochin</td>\n",
       "      <td>DEL → GOI → BOM → COK</td>\n",
       "      <td>10:55</td>\n",
       "      <td>19:15</td>\n",
       "      <td>8h 20m</td>\n",
       "      <td>2 stops</td>\n",
       "      <td>No info</td>\n",
       "      <td>11753</td>\n",
       "    </tr>\n",
       "  </tbody>\n",
       "</table>\n",
       "<p>10683 rows × 11 columns</p>\n",
       "</div>"
      ],
      "text/plain": [
       "           Airline Date_of_Journey    Source Destination  \\\n",
       "0           IndiGo      24/03/2019  Banglore   New Delhi   \n",
       "1        Air India       1/05/2019   Kolkata    Banglore   \n",
       "2      Jet Airways       9/06/2019     Delhi      Cochin   \n",
       "3           IndiGo      12/05/2019   Kolkata    Banglore   \n",
       "4           IndiGo      01/03/2019  Banglore   New Delhi   \n",
       "...            ...             ...       ...         ...   \n",
       "10678     Air Asia       9/04/2019   Kolkata    Banglore   \n",
       "10679    Air India      27/04/2019   Kolkata    Banglore   \n",
       "10680  Jet Airways      27/04/2019  Banglore       Delhi   \n",
       "10681      Vistara      01/03/2019  Banglore   New Delhi   \n",
       "10682    Air India       9/05/2019     Delhi      Cochin   \n",
       "\n",
       "                       Route Dep_Time  Arrival_Time Duration Total_Stops  \\\n",
       "0                  BLR → DEL    22:20  01:10 22 Mar   2h 50m    non-stop   \n",
       "1      CCU → IXR → BBI → BLR    05:50         13:15   7h 25m     2 stops   \n",
       "2      DEL → LKO → BOM → COK    09:25  04:25 10 Jun      19h     2 stops   \n",
       "3            CCU → NAG → BLR    18:05         23:30   5h 25m      1 stop   \n",
       "4            BLR → NAG → DEL    16:50         21:35   4h 45m      1 stop   \n",
       "...                      ...      ...           ...      ...         ...   \n",
       "10678              CCU → BLR    19:55         22:25   2h 30m    non-stop   \n",
       "10679              CCU → BLR    20:45         23:20   2h 35m    non-stop   \n",
       "10680              BLR → DEL    08:20         11:20       3h    non-stop   \n",
       "10681              BLR → DEL    11:30         14:10   2h 40m    non-stop   \n",
       "10682  DEL → GOI → BOM → COK    10:55         19:15   8h 20m     2 stops   \n",
       "\n",
       "      Additional_Info  Price  \n",
       "0             No info   3897  \n",
       "1             No info   7662  \n",
       "2             No info  13882  \n",
       "3             No info   6218  \n",
       "4             No info  13302  \n",
       "...               ...    ...  \n",
       "10678         No info   4107  \n",
       "10679         No info   4145  \n",
       "10680         No info   7229  \n",
       "10681         No info  12648  \n",
       "10682         No info  11753  \n",
       "\n",
       "[10683 rows x 11 columns]"
      ]
     },
     "execution_count": 1453,
     "metadata": {},
     "output_type": "execute_result"
    }
   ],
   "source": [
    "#Read csv file and convert into Dataframe\n",
    "data_train=pd.read_excel(r'D:\\DataTrained\\Flight_Ticket_Participant_Datasets\\Data_Train.xlsx')\n",
    "data_train"
   ]
  },
  {
   "cell_type": "markdown",
   "id": "b2d3a6a1",
   "metadata": {},
   "source": [
    "# Observation-\n",
    "\n",
    "The features in the above data set are-\n",
    "\n",
    "- Airline     \n",
    "\n",
    "- Date_of_Journey    \n",
    "\n",
    "- Source \n",
    "\n",
    "- Destination \n",
    "\n",
    "- Route \n",
    "\n",
    "- Dep Time\n",
    "\n",
    "- Arrival_Time\n",
    "\n",
    "- Duration\n",
    "\n",
    "- Total stops\n",
    "\n",
    "- Additional info\n",
    "\n",
    "The label in the given dataset is-\n",
    "\n",
    "- Price"
   ]
  },
  {
   "cell_type": "code",
   "execution_count": 1454,
   "id": "9f3b4d9d",
   "metadata": {},
   "outputs": [
    {
     "data": {
      "text/plain": [
       "(10683, 11)"
      ]
     },
     "execution_count": 1454,
     "metadata": {},
     "output_type": "execute_result"
    }
   ],
   "source": [
    "#shape of file\n",
    "data_train.shape"
   ]
  },
  {
   "cell_type": "code",
   "execution_count": 1455,
   "id": "a2da9fec",
   "metadata": {},
   "outputs": [
    {
     "data": {
      "text/plain": [
       "Airline            object\n",
       "Date_of_Journey    object\n",
       "Source             object\n",
       "Destination        object\n",
       "Route              object\n",
       "Dep_Time           object\n",
       "Arrival_Time       object\n",
       "Duration           object\n",
       "Total_Stops        object\n",
       "Additional_Info    object\n",
       "Price               int64\n",
       "dtype: object"
      ]
     },
     "execution_count": 1455,
     "metadata": {},
     "output_type": "execute_result"
    }
   ],
   "source": [
    "# Checking for data types of the columns\n",
    "data_train.dtypes"
   ]
  },
  {
   "cell_type": "markdown",
   "id": "bc117dfa",
   "metadata": {},
   "source": [
    "# \n",
    "As there are object datatypes, we will apply encoding techniques"
   ]
  },
  {
   "cell_type": "code",
   "execution_count": 1456,
   "id": "01ed85fb",
   "metadata": {},
   "outputs": [
    {
     "data": {
      "text/plain": [
       "Airline            0\n",
       "Date_of_Journey    0\n",
       "Source             0\n",
       "Destination        0\n",
       "Route              1\n",
       "Dep_Time           0\n",
       "Arrival_Time       0\n",
       "Duration           0\n",
       "Total_Stops        1\n",
       "Additional_Info    0\n",
       "Price              0\n",
       "dtype: int64"
      ]
     },
     "execution_count": 1456,
     "metadata": {},
     "output_type": "execute_result"
    }
   ],
   "source": [
    "# Checking for null values\n",
    "data_train.isnull().sum()"
   ]
  },
  {
   "cell_type": "code",
   "execution_count": 1457,
   "id": "70b471a7",
   "metadata": {},
   "outputs": [],
   "source": [
    "# Checking for null values in object datatype columns\n",
    "\n",
    "for column in data_train:\n",
    "    data_train[column]=data_train[column].replace(\" \",np.nan)"
   ]
  },
  {
   "cell_type": "code",
   "execution_count": 1458,
   "id": "58956777",
   "metadata": {},
   "outputs": [
    {
     "data": {
      "text/plain": [
       "Airline            0\n",
       "Date_of_Journey    0\n",
       "Source             0\n",
       "Destination        0\n",
       "Route              1\n",
       "Dep_Time           0\n",
       "Arrival_Time       0\n",
       "Duration           0\n",
       "Total_Stops        1\n",
       "Additional_Info    0\n",
       "Price              0\n",
       "dtype: int64"
      ]
     },
     "execution_count": 1458,
     "metadata": {},
     "output_type": "execute_result"
    }
   ],
   "source": [
    "# Checking for null values\n",
    "data_train.isnull().sum()"
   ]
  },
  {
   "cell_type": "code",
   "execution_count": 1459,
   "id": "cfc08bac",
   "metadata": {},
   "outputs": [],
   "source": [
    "#As it is for one row lets drop the null value row\n",
    "data_train=data_train.dropna()"
   ]
  },
  {
   "cell_type": "code",
   "execution_count": 1460,
   "id": "c36315bc",
   "metadata": {},
   "outputs": [
    {
     "data": {
      "text/plain": [
       "Airline            0\n",
       "Date_of_Journey    0\n",
       "Source             0\n",
       "Destination        0\n",
       "Route              0\n",
       "Dep_Time           0\n",
       "Arrival_Time       0\n",
       "Duration           0\n",
       "Total_Stops        0\n",
       "Additional_Info    0\n",
       "Price              0\n",
       "dtype: int64"
      ]
     },
     "execution_count": 1460,
     "metadata": {},
     "output_type": "execute_result"
    }
   ],
   "source": [
    "# Checking for null values\n",
    "data_train.isnull().sum()"
   ]
  },
  {
   "cell_type": "code",
   "execution_count": 1461,
   "id": "68d5e77b",
   "metadata": {},
   "outputs": [
    {
     "data": {
      "text/plain": [
       "(10682, 11)"
      ]
     },
     "execution_count": 1461,
     "metadata": {},
     "output_type": "execute_result"
    }
   ],
   "source": [
    "#shape of file\n",
    "data_train.shape"
   ]
  },
  {
   "cell_type": "markdown",
   "id": "30d815ea",
   "metadata": {},
   "source": [
    "# Visualization of the Data and Encoding object data"
   ]
  },
  {
   "cell_type": "code",
   "execution_count": 1462,
   "id": "637d406e",
   "metadata": {},
   "outputs": [
    {
     "name": "stdout",
     "output_type": "stream",
     "text": [
      "Jet Airways                          3849\n",
      "IndiGo                               2053\n",
      "Air India                            1751\n",
      "Multiple carriers                    1196\n",
      "SpiceJet                              818\n",
      "Vistara                               479\n",
      "Air Asia                              319\n",
      "GoAir                                 194\n",
      "Multiple carriers Premium economy      13\n",
      "Jet Airways Business                    6\n",
      "Vistara Premium economy                 3\n",
      "Trujet                                  1\n",
      "Name: Airline, dtype: int64\n"
     ]
    },
    {
     "data": {
      "image/png": "[encoded data removed]",
      "text/plain": [
       "<Figure size 1800x720 with 1 Axes>"
      ]
     },
     "metadata": {
      "needs_background": "light"
     },
     "output_type": "display_data"
    }
   ],
   "source": [
    "plt.figure(figsize=(25,10))\n",
    "ax=sns.countplot(x=\"Airline\", data=data_train)\n",
    "print(data_train[\"Airline\"].value_counts())"
   ]
  },
  {
   "cell_type": "markdown",
   "id": "fc2f4d7e",
   "metadata": {},
   "source": [
    "# \n",
    "3849 are Jet Airways flights, 2053 are Indigo flights, 1751 are Air India flights, 1196 are Multple carriers, 818 are spice jet flights, 479 are vistara flights, 319 are Ais Asia flights, 194 are GoAir flights, 13 are Multiple carriers Premium economy, 6 are Jet Airways Business, 3 are Vistara Premium Economy, 1 are Trujet flight   "
   ]
  },
  {
   "cell_type": "code",
   "execution_count": 1463,
   "id": "8070737f",
   "metadata": {},
   "outputs": [],
   "source": [
    "#Encoding string into numeric data by alphabetical order\n",
    "\n",
    "from sklearn.preprocessing import LabelEncoder\n",
    "enc=LabelEncoder()\n",
    "df=enc.fit_transform(data_train[\"Airline\"])\n",
    "data_train[\"Airline\"]=df"
   ]
  },
  {
   "cell_type": "markdown",
   "id": "2f48342f",
   "metadata": {},
   "source": [
    "# \n",
    "The data is encoded as follows-\n",
    "\n",
    "- 0 - Air Asia\n",
    "- 1 - Air India\n",
    "- 2 - GoAir\n",
    "- 3 - IndiGo\n",
    "- 4 - Jet Airways \n",
    "- 5 - Jet Airways Business\n",
    "- 6 - Multiple carriers\n",
    "- 7 - Multiple carriers Premium economy\n",
    "- 8 - SpiceJet\n",
    "- 9 - Trujet\n",
    "- 10- Vistara \n",
    "- 11- Vistara Premium economy"
   ]
  },
  {
   "cell_type": "code",
   "execution_count": 1464,
   "id": "1fd72326",
   "metadata": {},
   "outputs": [],
   "source": [
    "data_train['Date_of_Journey']=pd.to_datetime(data_train['Date_of_Journey'], dayfirst=True)"
   ]
  },
  {
   "cell_type": "code",
   "execution_count": 1465,
   "id": "af11c276",
   "metadata": {},
   "outputs": [],
   "source": [
    "#Storing date and month in separate column\n",
    "#As the year is 2019, it need not be stored\n",
    "data_train['Date']=data_train['Date_of_Journey'].dt.day\n",
    "data_train['Month']=data_train['Date_of_Journey'].dt.month"
   ]
  },
  {
   "cell_type": "code",
   "execution_count": 1466,
   "id": "ceeacc28",
   "metadata": {},
   "outputs": [
    {
     "data": {
      "text/html": [
       "<div>\n",
       "<style scoped>\n",
       "    .dataframe tbody tr th:only-of-type {\n",
       "        vertical-align: middle;\n",
       "    }\n",
       "\n",
       "    .dataframe tbody tr th {\n",
       "        vertical-align: top;\n",
       "    }\n",
       "\n",
       "    .dataframe thead th {\n",
       "        text-align: right;\n",
       "    }\n",
       "</style>\n",
       "<table border=\"1\" class=\"dataframe\">\n",
       "  <thead>\n",
       "    <tr style=\"text-align: right;\">\n",
       "      <th></th>\n",
       "      <th>Airline</th>\n",
       "      <th>Date_of_Journey</th>\n",
       "      <th>Source</th>\n",
       "      <th>Destination</th>\n",
       "      <th>Route</th>\n",
       "      <th>Dep_Time</th>\n",
       "      <th>Arrival_Time</th>\n",
       "      <th>Duration</th>\n",
       "      <th>Total_Stops</th>\n",
       "      <th>Additional_Info</th>\n",
       "      <th>Price</th>\n",
       "      <th>Date</th>\n",
       "      <th>Month</th>\n",
       "    </tr>\n",
       "  </thead>\n",
       "  <tbody>\n",
       "    <tr>\n",
       "      <th>0</th>\n",
       "      <td>3</td>\n",
       "      <td>2019-03-24</td>\n",
       "      <td>Banglore</td>\n",
       "      <td>New Delhi</td>\n",
       "      <td>BLR → DEL</td>\n",
       "      <td>22:20</td>\n",
       "      <td>01:10 22 Mar</td>\n",
       "      <td>2h 50m</td>\n",
       "      <td>non-stop</td>\n",
       "      <td>No info</td>\n",
       "      <td>3897</td>\n",
       "      <td>24</td>\n",
       "      <td>3</td>\n",
       "    </tr>\n",
       "    <tr>\n",
       "      <th>1</th>\n",
       "      <td>1</td>\n",
       "      <td>2019-05-01</td>\n",
       "      <td>Kolkata</td>\n",
       "      <td>Banglore</td>\n",
       "      <td>CCU → IXR → BBI → BLR</td>\n",
       "      <td>05:50</td>\n",
       "      <td>13:15</td>\n",
       "      <td>7h 25m</td>\n",
       "      <td>2 stops</td>\n",
       "      <td>No info</td>\n",
       "      <td>7662</td>\n",
       "      <td>1</td>\n",
       "      <td>5</td>\n",
       "    </tr>\n",
       "    <tr>\n",
       "      <th>2</th>\n",
       "      <td>4</td>\n",
       "      <td>2019-06-09</td>\n",
       "      <td>Delhi</td>\n",
       "      <td>Cochin</td>\n",
       "      <td>DEL → LKO → BOM → COK</td>\n",
       "      <td>09:25</td>\n",
       "      <td>04:25 10 Jun</td>\n",
       "      <td>19h</td>\n",
       "      <td>2 stops</td>\n",
       "      <td>No info</td>\n",
       "      <td>13882</td>\n",
       "      <td>9</td>\n",
       "      <td>6</td>\n",
       "    </tr>\n",
       "    <tr>\n",
       "      <th>3</th>\n",
       "      <td>3</td>\n",
       "      <td>2019-05-12</td>\n",
       "      <td>Kolkata</td>\n",
       "      <td>Banglore</td>\n",
       "      <td>CCU → NAG → BLR</td>\n",
       "      <td>18:05</td>\n",
       "      <td>23:30</td>\n",
       "      <td>5h 25m</td>\n",
       "      <td>1 stop</td>\n",
       "      <td>No info</td>\n",
       "      <td>6218</td>\n",
       "      <td>12</td>\n",
       "      <td>5</td>\n",
       "    </tr>\n",
       "    <tr>\n",
       "      <th>4</th>\n",
       "      <td>3</td>\n",
       "      <td>2019-03-01</td>\n",
       "      <td>Banglore</td>\n",
       "      <td>New Delhi</td>\n",
       "      <td>BLR → NAG → DEL</td>\n",
       "      <td>16:50</td>\n",
       "      <td>21:35</td>\n",
       "      <td>4h 45m</td>\n",
       "      <td>1 stop</td>\n",
       "      <td>No info</td>\n",
       "      <td>13302</td>\n",
       "      <td>1</td>\n",
       "      <td>3</td>\n",
       "    </tr>\n",
       "    <tr>\n",
       "      <th>...</th>\n",
       "      <td>...</td>\n",
       "      <td>...</td>\n",
       "      <td>...</td>\n",
       "      <td>...</td>\n",
       "      <td>...</td>\n",
       "      <td>...</td>\n",
       "      <td>...</td>\n",
       "      <td>...</td>\n",
       "      <td>...</td>\n",
       "      <td>...</td>\n",
       "      <td>...</td>\n",
       "      <td>...</td>\n",
       "      <td>...</td>\n",
       "    </tr>\n",
       "    <tr>\n",
       "      <th>10678</th>\n",
       "      <td>0</td>\n",
       "      <td>2019-04-09</td>\n",
       "      <td>Kolkata</td>\n",
       "      <td>Banglore</td>\n",
       "      <td>CCU → BLR</td>\n",
       "      <td>19:55</td>\n",
       "      <td>22:25</td>\n",
       "      <td>2h 30m</td>\n",
       "      <td>non-stop</td>\n",
       "      <td>No info</td>\n",
       "      <td>4107</td>\n",
       "      <td>9</td>\n",
       "      <td>4</td>\n",
       "    </tr>\n",
       "    <tr>\n",
       "      <th>10679</th>\n",
       "      <td>1</td>\n",
       "      <td>2019-04-27</td>\n",
       "      <td>Kolkata</td>\n",
       "      <td>Banglore</td>\n",
       "      <td>CCU → BLR</td>\n",
       "      <td>20:45</td>\n",
       "      <td>23:20</td>\n",
       "      <td>2h 35m</td>\n",
       "      <td>non-stop</td>\n",
       "      <td>No info</td>\n",
       "      <td>4145</td>\n",
       "      <td>27</td>\n",
       "      <td>4</td>\n",
       "    </tr>\n",
       "    <tr>\n",
       "      <th>10680</th>\n",
       "      <td>4</td>\n",
       "      <td>2019-04-27</td>\n",
       "      <td>Banglore</td>\n",
       "      <td>Delhi</td>\n",
       "      <td>BLR → DEL</td>\n",
       "      <td>08:20</td>\n",
       "      <td>11:20</td>\n",
       "      <td>3h</td>\n",
       "      <td>non-stop</td>\n",
       "      <td>No info</td>\n",
       "      <td>7229</td>\n",
       "      <td>27</td>\n",
       "      <td>4</td>\n",
       "    </tr>\n",
       "    <tr>\n",
       "      <th>10681</th>\n",
       "      <td>10</td>\n",
       "      <td>2019-03-01</td>\n",
       "      <td>Banglore</td>\n",
       "      <td>New Delhi</td>\n",
       "      <td>BLR → DEL</td>\n",
       "      <td>11:30</td>\n",
       "      <td>14:10</td>\n",
       "      <td>2h 40m</td>\n",
       "      <td>non-stop</td>\n",
       "      <td>No info</td>\n",
       "      <td>12648</td>\n",
       "      <td>1</td>\n",
       "      <td>3</td>\n",
       "    </tr>\n",
       "    <tr>\n",
       "      <th>10682</th>\n",
       "      <td>1</td>\n",
       "      <td>2019-05-09</td>\n",
       "      <td>Delhi</td>\n",
       "      <td>Cochin</td>\n",
       "      <td>DEL → GOI → BOM → COK</td>\n",
       "      <td>10:55</td>\n",
       "      <td>19:15</td>\n",
       "      <td>8h 20m</td>\n",
       "      <td>2 stops</td>\n",
       "      <td>No info</td>\n",
       "      <td>11753</td>\n",
       "      <td>9</td>\n",
       "      <td>5</td>\n",
       "    </tr>\n",
       "  </tbody>\n",
       "</table>\n",
       "<p>10682 rows × 13 columns</p>\n",
       "</div>"
      ],
      "text/plain": [
       "       Airline Date_of_Journey    Source Destination                  Route  \\\n",
       "0            3      2019-03-24  Banglore   New Delhi              BLR → DEL   \n",
       "1            1      2019-05-01   Kolkata    Banglore  CCU → IXR → BBI → BLR   \n",
       "2            4      2019-06-09     Delhi      Cochin  DEL → LKO → BOM → COK   \n",
       "3            3      2019-05-12   Kolkata    Banglore        CCU → NAG → BLR   \n",
       "4            3      2019-03-01  Banglore   New Delhi        BLR → NAG → DEL   \n",
       "...        ...             ...       ...         ...                    ...   \n",
       "10678        0      2019-04-09   Kolkata    Banglore              CCU → BLR   \n",
       "10679        1      2019-04-27   Kolkata    Banglore              CCU → BLR   \n",
       "10680        4      2019-04-27  Banglore       Delhi              BLR → DEL   \n",
       "10681       10      2019-03-01  Banglore   New Delhi              BLR → DEL   \n",
       "10682        1      2019-05-09     Delhi      Cochin  DEL → GOI → BOM → COK   \n",
       "\n",
       "      Dep_Time  Arrival_Time Duration Total_Stops Additional_Info  Price  \\\n",
       "0        22:20  01:10 22 Mar   2h 50m    non-stop         No info   3897   \n",
       "1        05:50         13:15   7h 25m     2 stops         No info   7662   \n",
       "2        09:25  04:25 10 Jun      19h     2 stops         No info  13882   \n",
       "3        18:05         23:30   5h 25m      1 stop         No info   6218   \n",
       "4        16:50         21:35   4h 45m      1 stop         No info  13302   \n",
       "...        ...           ...      ...         ...             ...    ...   \n",
       "10678    19:55         22:25   2h 30m    non-stop         No info   4107   \n",
       "10679    20:45         23:20   2h 35m    non-stop         No info   4145   \n",
       "10680    08:20         11:20       3h    non-stop         No info   7229   \n",
       "10681    11:30         14:10   2h 40m    non-stop         No info  12648   \n",
       "10682    10:55         19:15   8h 20m     2 stops         No info  11753   \n",
       "\n",
       "       Date  Month  \n",
       "0        24      3  \n",
       "1         1      5  \n",
       "2         9      6  \n",
       "3        12      5  \n",
       "4         1      3  \n",
       "...     ...    ...  \n",
       "10678     9      4  \n",
       "10679    27      4  \n",
       "10680    27      4  \n",
       "10681     1      3  \n",
       "10682     9      5  \n",
       "\n",
       "[10682 rows x 13 columns]"
      ]
     },
     "execution_count": 1466,
     "metadata": {},
     "output_type": "execute_result"
    }
   ],
   "source": [
    "data_train"
   ]
  },
  {
   "cell_type": "code",
   "execution_count": 1467,
   "id": "17e50bfe",
   "metadata": {},
   "outputs": [],
   "source": [
    "#As the date of journey is stored in date and month columns, date of journey is deleted\n",
    "data_train=data_train.drop(columns=[\"Date_of_Journey\"])"
   ]
  },
  {
   "cell_type": "code",
   "execution_count": 1468,
   "id": "44704414",
   "metadata": {},
   "outputs": [
    {
     "data": {
      "text/plain": [
       "<AxesSubplot:ylabel='Frequency'>"
      ]
     },
     "execution_count": 1468,
     "metadata": {},
     "output_type": "execute_result"
    },
    {
     "data": {
      "image/png": "[encoded data removed]",
      "text/plain": [
       "<Figure size 432x288 with 1 Axes>"
      ]
     },
     "metadata": {
      "needs_background": "light"
     },
     "output_type": "display_data"
    }
   ],
   "source": [
    "data_train.Date.plot(kind='hist')"
   ]
  },
  {
   "cell_type": "markdown",
   "id": "44302722",
   "metadata": {},
   "source": [
    "# \n",
    "The maximum flights are operated in the 1st week of the month"
   ]
  },
  {
   "cell_type": "code",
   "execution_count": 1469,
   "id": "4999b485",
   "metadata": {},
   "outputs": [
    {
     "name": "stdout",
     "output_type": "stream",
     "text": [
      "5    3465\n",
      "6    3414\n",
      "3    2724\n",
      "4    1079\n",
      "Name: Month, dtype: int64\n"
     ]
    },
    {
     "data": {
      "image/png": "[encoded data removed]",
      "text/plain": [
       "<Figure size 432x288 with 1 Axes>"
      ]
     },
     "metadata": {
      "needs_background": "light"
     },
     "output_type": "display_data"
    }
   ],
   "source": [
    "ax=sns.countplot(x=\"Month\", data=data_train)\n",
    "print(data_train[\"Month\"].value_counts())"
   ]
  },
  {
   "cell_type": "markdown",
   "id": "b81a0d72",
   "metadata": {},
   "source": [
    "# \n",
    "The maximum flights are operated in the month of May and June"
   ]
  },
  {
   "cell_type": "code",
   "execution_count": 1470,
   "id": "986650a1",
   "metadata": {},
   "outputs": [
    {
     "name": "stdout",
     "output_type": "stream",
     "text": [
      "Delhi       4536\n",
      "Kolkata     2871\n",
      "Banglore    2197\n",
      "Mumbai       697\n",
      "Chennai      381\n",
      "Name: Source, dtype: int64\n"
     ]
    },
    {
     "data": {
      "image/png": "[encoded data removed]",
      "text/plain": [
       "<Figure size 432x288 with 1 Axes>"
      ]
     },
     "metadata": {
      "needs_background": "light"
     },
     "output_type": "display_data"
    }
   ],
   "source": [
    "ax=sns.countplot(x=\"Source\", data=data_train)\n",
    "print(data_train[\"Source\"].value_counts())"
   ]
  },
  {
   "cell_type": "markdown",
   "id": "7e963fe1",
   "metadata": {},
   "source": [
    "# \n",
    "4536 flights fly from Delhi, 2871 flights fly from Kolkata, 2197 flights from Banglore, 697 flights fly from Mumbai and 381 flights fly from Chennai"
   ]
  },
  {
   "cell_type": "code",
   "execution_count": 1471,
   "id": "cc504847",
   "metadata": {},
   "outputs": [],
   "source": [
    "#Encoding string into numeric data by alphabetical order\n",
    "\n",
    "from sklearn.preprocessing import LabelEncoder\n",
    "enc=LabelEncoder()\n",
    "df=enc.fit_transform(data_train[\"Source\"])\n",
    "data_train[\"Source\"]=df"
   ]
  },
  {
   "cell_type": "markdown",
   "id": "c4a169a5",
   "metadata": {},
   "source": [
    "# \n",
    "The data is encoded as follows-\n",
    "\n",
    "- 0 - Banglore\n",
    "- 1 - Chennai\n",
    "- 2 - Delhi\n",
    "- 3 - Kolkata\n",
    "- 4 - Mumbai"
   ]
  },
  {
   "cell_type": "code",
   "execution_count": 1472,
   "id": "dca0fd46",
   "metadata": {},
   "outputs": [
    {
     "name": "stdout",
     "output_type": "stream",
     "text": [
      "Cochin       4536\n",
      "Banglore     2871\n",
      "Delhi        1265\n",
      "New Delhi     932\n",
      "Hyderabad     697\n",
      "Kolkata       381\n",
      "Name: Destination, dtype: int64\n"
     ]
    },
    {
     "data": {
      "image/png": "[encoded data removed]",
      "text/plain": [
       "<Figure size 1800x720 with 1 Axes>"
      ]
     },
     "metadata": {
      "needs_background": "light"
     },
     "output_type": "display_data"
    }
   ],
   "source": [
    "plt.figure(figsize=(25,10))\n",
    "ax=sns.countplot(x=\"Destination\", data=data_train)\n",
    "print(data_train[\"Destination\"].value_counts())"
   ]
  },
  {
   "cell_type": "markdown",
   "id": "4218f2cf",
   "metadata": {},
   "source": [
    "# \n",
    "4536 flights are flying to Cochin, 2871 flights are flying to Banglore, 1265 flights are flying to Delhi, 932 flights fly to New Delhi, 697 flights fly to Hyderabad, 381 flights fly to Kolkata   \n",
    "\n",
    "As Delhi and New Delhi are the same location, their data will be combined (1265+932), 2197 flights arrive at Delhi"
   ]
  },
  {
   "cell_type": "code",
   "execution_count": 1473,
   "id": "419bf139",
   "metadata": {},
   "outputs": [],
   "source": [
    "#Encoding string into numeric data by alphabetical order\n",
    "\n",
    "from sklearn.preprocessing import LabelEncoder\n",
    "enc=LabelEncoder()\n",
    "df=enc.fit_transform(data_train[\"Destination\"])\n",
    "data_train[\"Destination\"]=df"
   ]
  },
  {
   "cell_type": "markdown",
   "id": "bf2ba24c",
   "metadata": {},
   "source": [
    "\n",
    "The data is encoded as follows-\n",
    "\n",
    "- 0 - Banglore\n",
    "- 1 - Cochin\n",
    "- 2 - Delhi\n",
    "- 3 - Hyderabad\n",
    "- 4 - Kolkata\n",
    "- 5 - New Delhi"
   ]
  },
  {
   "cell_type": "code",
   "execution_count": 1474,
   "id": "590aa423",
   "metadata": {},
   "outputs": [],
   "source": [
    "#Replace the values of destination, so that source and destination have different numbers\n",
    "data_train[\"Destination\"]=data_train[\"Destination\"].replace(0,10)\n",
    "data_train[\"Destination\"]=data_train[\"Destination\"].replace(1,11)\n",
    "data_train[\"Destination\"]=data_train[\"Destination\"].replace(2,12)\n",
    "data_train[\"Destination\"]=data_train[\"Destination\"].replace(3,13)\n",
    "data_train[\"Destination\"]=data_train[\"Destination\"].replace(4,14)\n",
    "data_train[\"Destination\"]=data_train[\"Destination\"].replace(5,12)"
   ]
  },
  {
   "cell_type": "markdown",
   "id": "3fdee982",
   "metadata": {},
   "source": [
    "# \n",
    "The data is now encoded as follows-\n",
    "\n",
    "- 10 - Banglore\n",
    "- 11 - Cochin\n",
    "- 12 - Delhi\n",
    "- 13 - Hyderabad\n",
    "- 14 - Kolkata"
   ]
  },
  {
   "cell_type": "code",
   "execution_count": 1475,
   "id": "f140675e",
   "metadata": {},
   "outputs": [
    {
     "name": "stdout",
     "output_type": "stream",
     "text": [
      "DEL → BOM → COK          2376\n",
      "BLR → DEL                1552\n",
      "CCU → BOM → BLR           979\n",
      "CCU → BLR                 724\n",
      "BOM → HYD                 621\n",
      "                         ... \n",
      "CCU → VTZ → BLR             1\n",
      "CCU → IXZ → MAA → BLR       1\n",
      "BOM → COK → MAA → HYD       1\n",
      "BOM → CCU → HYD             1\n",
      "BOM → BBI → HYD             1\n",
      "Name: Route, Length: 128, dtype: int64\n"
     ]
    },
    {
     "data": {
      "image/png": "[encoded data removed]",
      "text/plain": [
       "<Figure size 1800x720 with 1 Axes>"
      ]
     },
     "metadata": {
      "needs_background": "light"
     },
     "output_type": "display_data"
    }
   ],
   "source": [
    "plt.figure(figsize=(25,10))\n",
    "ax=sns.countplot(x=\"Route\", data=data_train)\n",
    "print(data_train[\"Route\"].value_counts())"
   ]
  },
  {
   "cell_type": "markdown",
   "id": "fe9e4340",
   "metadata": {},
   "source": [
    "# \n",
    "Maximum flights pass through Mumbai (BOM)"
   ]
  },
  {
   "cell_type": "code",
   "execution_count": 1476,
   "id": "51c2c977",
   "metadata": {},
   "outputs": [],
   "source": [
    "#Encoding the features using OrdinalEncoder\n",
    "\n",
    "from sklearn.preprocessing import OrdinalEncoder\n",
    "enc=OrdinalEncoder()\n",
    "\n",
    "data_train[\"Route\"]=enc.fit_transform(data_train[\"Route\"].values.reshape(-1,1))"
   ]
  },
  {
   "cell_type": "code",
   "execution_count": 1477,
   "id": "44c0651c",
   "metadata": {},
   "outputs": [
    {
     "name": "stdout",
     "output_type": "stream",
     "text": [
      "18:55    233\n",
      "17:00    227\n",
      "07:05    205\n",
      "10:00    203\n",
      "07:10    202\n",
      "        ... \n",
      "16:25      1\n",
      "01:35      1\n",
      "21:35      1\n",
      "04:15      1\n",
      "03:00      1\n",
      "Name: Dep_Time, Length: 222, dtype: int64\n"
     ]
    },
    {
     "data": {
      "image/png": "[encoded data removed]",
      "text/plain": [
       "<Figure size 1800x720 with 1 Axes>"
      ]
     },
     "metadata": {
      "needs_background": "light"
     },
     "output_type": "display_data"
    }
   ],
   "source": [
    "plt.figure(figsize=(25,10))\n",
    "ax=sns.countplot(x=\"Dep_Time\", data=data_train)\n",
    "print(data_train[\"Dep_Time\"].value_counts())"
   ]
  },
  {
   "cell_type": "markdown",
   "id": "eef06ffe",
   "metadata": {},
   "source": [
    "# \n",
    "Majority of the flights depart in the evening between 17:00 and 19:00"
   ]
  },
  {
   "cell_type": "code",
   "execution_count": 1478,
   "id": "2aa614fd",
   "metadata": {},
   "outputs": [],
   "source": [
    "#Converting time to continous number\n",
    "d=data_train[\"Dep_Time\"]"
   ]
  },
  {
   "cell_type": "code",
   "execution_count": 1479,
   "id": "626f0b09",
   "metadata": {},
   "outputs": [],
   "source": [
    "dd=[]\n",
    "for i in d:\n",
    "    dd.append(i[0:2]+i[3:5])"
   ]
  },
  {
   "cell_type": "code",
   "execution_count": 1480,
   "id": "fe1715a3",
   "metadata": {},
   "outputs": [],
   "source": [
    "data_train[\"Dep_Time\"]=dd"
   ]
  },
  {
   "cell_type": "code",
   "execution_count": 1481,
   "id": "94a4cecc",
   "metadata": {},
   "outputs": [],
   "source": [
    "data_train[\"Dep_Time\"]=data_train[\"Dep_Time\"].astype(int)"
   ]
  },
  {
   "cell_type": "code",
   "execution_count": 1482,
   "id": "585fd268",
   "metadata": {},
   "outputs": [
    {
     "name": "stdout",
     "output_type": "stream",
     "text": [
      "19:00           423\n",
      "21:00           360\n",
      "19:15           333\n",
      "16:10           154\n",
      "12:35           122\n",
      "               ... \n",
      "00:25 02 Jun      1\n",
      "08:55 13 Mar      1\n",
      "11:05 19 May      1\n",
      "12:30 22 May      1\n",
      "21:20 13 Mar      1\n",
      "Name: Arrival_Time, Length: 1343, dtype: int64\n"
     ]
    },
    {
     "data": {
      "image/png": "[encoded data removed]",
      "text/plain": [
       "<Figure size 1800x720 with 1 Axes>"
      ]
     },
     "metadata": {
      "needs_background": "light"
     },
     "output_type": "display_data"
    }
   ],
   "source": [
    "plt.figure(figsize=(25,10))\n",
    "ax=sns.countplot(x=\"Arrival_Time\", data=data_train)\n",
    "print(data_train[\"Arrival_Time\"].value_counts())"
   ]
  },
  {
   "cell_type": "markdown",
   "id": "2c5d0584",
   "metadata": {},
   "source": [
    "# \n",
    "Majority of the flights arrive at night between 19:00 and 21:00"
   ]
  },
  {
   "cell_type": "code",
   "execution_count": 1483,
   "id": "2d73205e",
   "metadata": {},
   "outputs": [],
   "source": [
    "#Converting time to continous number\n",
    "da=data_train[\"Arrival_Time\"]"
   ]
  },
  {
   "cell_type": "code",
   "execution_count": 1484,
   "id": "001ba6a4",
   "metadata": {},
   "outputs": [],
   "source": [
    "d=[]\n",
    "for i in da:\n",
    "    d.append(i[0:2]+i[3:5])"
   ]
  },
  {
   "cell_type": "code",
   "execution_count": 1485,
   "id": "9d650816",
   "metadata": {},
   "outputs": [],
   "source": [
    "data_train[\"Arrival_Time\"]=d"
   ]
  },
  {
   "cell_type": "code",
   "execution_count": 1486,
   "id": "6e41f22e",
   "metadata": {},
   "outputs": [],
   "source": [
    "data_train[\"Arrival_Time\"]=data_train[\"Arrival_Time\"].astype(int)"
   ]
  },
  {
   "cell_type": "code",
   "execution_count": 1487,
   "id": "c52f7328",
   "metadata": {},
   "outputs": [
    {
     "name": "stdout",
     "output_type": "stream",
     "text": [
      "2h 50m     550\n",
      "1h 30m     386\n",
      "2h 45m     337\n",
      "2h 55m     337\n",
      "2h 35m     329\n",
      "          ... \n",
      "31h 30m      1\n",
      "30h 25m      1\n",
      "42h 5m       1\n",
      "4h 10m       1\n",
      "47h 40m      1\n",
      "Name: Duration, Length: 368, dtype: int64\n"
     ]
    },
    {
     "data": {
      "image/png": "[encoded data removed]",
      "text/plain": [
       "<Figure size 1800x720 with 1 Axes>"
      ]
     },
     "metadata": {
      "needs_background": "light"
     },
     "output_type": "display_data"
    }
   ],
   "source": [
    "plt.figure(figsize=(25,10))\n",
    "ax=sns.countplot(x=\"Duration\", data=data_train)\n",
    "print(data_train[\"Duration\"].value_counts())"
   ]
  },
  {
   "cell_type": "markdown",
   "id": "c296e719",
   "metadata": {},
   "source": [
    "# \n",
    "The flight duration of majority flights are of 2-3 hours"
   ]
  },
  {
   "cell_type": "code",
   "execution_count": 1488,
   "id": "5bcc8b12",
   "metadata": {},
   "outputs": [],
   "source": [
    "#Converting time to continous number\n",
    "dur=data_train[\"Duration\"]"
   ]
  },
  {
   "cell_type": "code",
   "execution_count": 1489,
   "id": "95b456b8",
   "metadata": {},
   "outputs": [],
   "source": [
    "dt_h=[]\n",
    "dt_m=[]\n",
    "for i in dur:\n",
    "    b=\"\"\n",
    "    c=\"\"\n",
    "    x=0\n",
    "    y=0\n",
    "    for a in range(0,len(i)):\n",
    "        if i[a]=='h':\n",
    "            x=a\n",
    "            b=i[0:x]\n",
    "            dt_h.append(b)\n",
    "    for a in range(0,len(i)):       \n",
    "        if i[a]=='m':\n",
    "            y=a\n",
    "            if x>0:\n",
    "                c=i[x+2:y] \n",
    "            else:\n",
    "                c=i[0:y]\n",
    "            dt_m.append(c)\n",
    "    if b==\"\":\n",
    "        dt_h.append('0')\n",
    "    if c==\"\":\n",
    "        dt_m.append('0')   "
   ]
  },
  {
   "cell_type": "code",
   "execution_count": 1490,
   "id": "9828d5f5",
   "metadata": {},
   "outputs": [],
   "source": [
    "#converting duration into minutes\n",
    "dh=[]\n",
    "a=0\n",
    "for i in dt_h:\n",
    "    l=int(i)\n",
    "    if dt_m[a]=='':\n",
    "        j=0\n",
    "    else:\n",
    "        j=int(dt_m[a])\n",
    "    k=(l*60)+j\n",
    "    dh.append(k)\n",
    "    a=a+1"
   ]
  },
  {
   "cell_type": "code",
   "execution_count": 1491,
   "id": "6b9064f7",
   "metadata": {},
   "outputs": [],
   "source": [
    "data_train[\"Duration\"]=dh"
   ]
  },
  {
   "cell_type": "code",
   "execution_count": 1492,
   "id": "6b1aa6d5",
   "metadata": {},
   "outputs": [
    {
     "name": "stdout",
     "output_type": "stream",
     "text": [
      "1 stop      5625\n",
      "non-stop    3491\n",
      "2 stops     1520\n",
      "3 stops       45\n",
      "4 stops        1\n",
      "Name: Total_Stops, dtype: int64\n"
     ]
    },
    {
     "data": {
      "image/png": "[encoded data removed]",
      "text/plain": [
       "<Figure size 1800x720 with 1 Axes>"
      ]
     },
     "metadata": {
      "needs_background": "light"
     },
     "output_type": "display_data"
    }
   ],
   "source": [
    "plt.figure(figsize=(25,10))\n",
    "ax=sns.countplot(x=\"Total_Stops\", data=data_train)\n",
    "print(data_train[\"Total_Stops\"].value_counts())"
   ]
  },
  {
   "cell_type": "markdown",
   "id": "796e15ce",
   "metadata": {},
   "source": [
    "# \n",
    "5625 flights have 1 stop, 3491 flights fly non-stop, 1520 flights have 2 stops, 45 flights have 3 stops and 1 flight has 4 stops       "
   ]
  },
  {
   "cell_type": "code",
   "execution_count": 1493,
   "id": "2f0f2dfd",
   "metadata": {},
   "outputs": [],
   "source": [
    "#Replace the values of meaningful obvious values\n",
    "data_train[\"Total_Stops\"]=data_train[\"Total_Stops\"].replace(\"non-stop\",0)\n",
    "data_train[\"Total_Stops\"]=data_train[\"Total_Stops\"].replace(\"1 stop\",1)\n",
    "data_train[\"Total_Stops\"]=data_train[\"Total_Stops\"].replace(\"2 stops\",2)\n",
    "data_train[\"Total_Stops\"]=data_train[\"Total_Stops\"].replace(\"3 stops\",3)\n",
    "data_train[\"Total_Stops\"]=data_train[\"Total_Stops\"].replace(\"4 stops\",4)"
   ]
  },
  {
   "cell_type": "markdown",
   "id": "16b8244f",
   "metadata": {},
   "source": [
    "# \n",
    "The data is encoded as follows-\n",
    "\n",
    "- 0 - non-stop\n",
    "- 1 - 1 stop \n",
    "- 2 - 2 stops\n",
    "- 3 - 3 stops\n",
    "- 4 - 4 stops"
   ]
  },
  {
   "cell_type": "code",
   "execution_count": 1494,
   "id": "ceb56b35",
   "metadata": {},
   "outputs": [
    {
     "name": "stdout",
     "output_type": "stream",
     "text": [
      "No info                         8344\n",
      "In-flight meal not included     1982\n",
      "No check-in baggage included     320\n",
      "1 Long layover                    19\n",
      "Change airports                    7\n",
      "Business class                     4\n",
      "No Info                            3\n",
      "1 Short layover                    1\n",
      "Red-eye flight                     1\n",
      "2 Long layover                     1\n",
      "Name: Additional_Info, dtype: int64\n"
     ]
    },
    {
     "data": {
      "image/png": "[encoded data removed]",
      "text/plain": [
       "<Figure size 1800x720 with 1 Axes>"
      ]
     },
     "metadata": {
      "needs_background": "light"
     },
     "output_type": "display_data"
    }
   ],
   "source": [
    "plt.figure(figsize=(25,10))\n",
    "ax=sns.countplot(x=\"Additional_Info\", data=data_train)\n",
    "print(data_train[\"Additional_Info\"].value_counts())"
   ]
  },
  {
   "cell_type": "markdown",
   "id": "a30d67a1",
   "metadata": {},
   "source": [
    "# \n",
    "8344 (+3) have no additional info, 1982 have In-flight meal not included, 320 have No check-in baggage included, 19 have 1 Long layover, 7 have Change airports,  4 have Business class,  1 has 1 Short layover, 1 has Red-eye flight, 1 has 2 Long layover"
   ]
  },
  {
   "cell_type": "code",
   "execution_count": 1495,
   "id": "f42d4e3b",
   "metadata": {},
   "outputs": [],
   "source": [
    "#Encoding string into numeric data by alphabetical order\n",
    "\n",
    "from sklearn.preprocessing import LabelEncoder\n",
    "enc=LabelEncoder()\n",
    "df=enc.fit_transform(data_train[\"Additional_Info\"])\n",
    "data_train[\"Additional_Info\"]=df"
   ]
  },
  {
   "cell_type": "markdown",
   "id": "487342fd",
   "metadata": {},
   "source": [
    "# \n",
    "The data is encoded as follows-\n",
    "\n",
    "- 0 - 1 Long layover \n",
    "- 1 - 1 Short layover \n",
    "- 2 - 2 Long layover\n",
    "- 3 - Business class\n",
    "- 4 - Change airports\n",
    "- 5 - In-flight meal not included\n",
    "- 6 - No Info\n",
    "- 7 - No check-in baggage included\n",
    "- 8 - No info \n",
    "- 9 - Red-eye flight"
   ]
  },
  {
   "cell_type": "code",
   "execution_count": 1496,
   "id": "f2b7df47",
   "metadata": {},
   "outputs": [],
   "source": [
    "#Replace the values of reduntant No info to one category (i.e., 8)\n",
    "data_train[\"Additional_Info\"]=data_train[\"Additional_Info\"].replace(6,8)"
   ]
  },
  {
   "cell_type": "code",
   "execution_count": 1497,
   "id": "a291da32",
   "metadata": {},
   "outputs": [
    {
     "data": {
      "text/html": [
       "<div>\n",
       "<style scoped>\n",
       "    .dataframe tbody tr th:only-of-type {\n",
       "        vertical-align: middle;\n",
       "    }\n",
       "\n",
       "    .dataframe tbody tr th {\n",
       "        vertical-align: top;\n",
       "    }\n",
       "\n",
       "    .dataframe thead th {\n",
       "        text-align: right;\n",
       "    }\n",
       "</style>\n",
       "<table border=\"1\" class=\"dataframe\">\n",
       "  <thead>\n",
       "    <tr style=\"text-align: right;\">\n",
       "      <th></th>\n",
       "      <th>Airline</th>\n",
       "      <th>Source</th>\n",
       "      <th>Destination</th>\n",
       "      <th>Route</th>\n",
       "      <th>Dep_Time</th>\n",
       "      <th>Arrival_Time</th>\n",
       "      <th>Duration</th>\n",
       "      <th>Total_Stops</th>\n",
       "      <th>Additional_Info</th>\n",
       "      <th>Price</th>\n",
       "      <th>Date</th>\n",
       "      <th>Month</th>\n",
       "    </tr>\n",
       "  </thead>\n",
       "  <tbody>\n",
       "    <tr>\n",
       "      <th>0</th>\n",
       "      <td>3</td>\n",
       "      <td>0</td>\n",
       "      <td>12</td>\n",
       "      <td>18.0</td>\n",
       "      <td>2220</td>\n",
       "      <td>110</td>\n",
       "      <td>170</td>\n",
       "      <td>0</td>\n",
       "      <td>8</td>\n",
       "      <td>3897</td>\n",
       "      <td>24</td>\n",
       "      <td>3</td>\n",
       "    </tr>\n",
       "    <tr>\n",
       "      <th>1</th>\n",
       "      <td>1</td>\n",
       "      <td>3</td>\n",
       "      <td>10</td>\n",
       "      <td>84.0</td>\n",
       "      <td>550</td>\n",
       "      <td>1315</td>\n",
       "      <td>445</td>\n",
       "      <td>2</td>\n",
       "      <td>8</td>\n",
       "      <td>7662</td>\n",
       "      <td>1</td>\n",
       "      <td>5</td>\n",
       "    </tr>\n",
       "    <tr>\n",
       "      <th>2</th>\n",
       "      <td>4</td>\n",
       "      <td>2</td>\n",
       "      <td>11</td>\n",
       "      <td>118.0</td>\n",
       "      <td>925</td>\n",
       "      <td>425</td>\n",
       "      <td>1140</td>\n",
       "      <td>2</td>\n",
       "      <td>8</td>\n",
       "      <td>13882</td>\n",
       "      <td>9</td>\n",
       "      <td>6</td>\n",
       "    </tr>\n",
       "    <tr>\n",
       "      <th>3</th>\n",
       "      <td>3</td>\n",
       "      <td>3</td>\n",
       "      <td>10</td>\n",
       "      <td>91.0</td>\n",
       "      <td>1805</td>\n",
       "      <td>2330</td>\n",
       "      <td>325</td>\n",
       "      <td>1</td>\n",
       "      <td>8</td>\n",
       "      <td>6218</td>\n",
       "      <td>12</td>\n",
       "      <td>5</td>\n",
       "    </tr>\n",
       "    <tr>\n",
       "      <th>4</th>\n",
       "      <td>3</td>\n",
       "      <td>0</td>\n",
       "      <td>12</td>\n",
       "      <td>29.0</td>\n",
       "      <td>1650</td>\n",
       "      <td>2135</td>\n",
       "      <td>285</td>\n",
       "      <td>1</td>\n",
       "      <td>8</td>\n",
       "      <td>13302</td>\n",
       "      <td>1</td>\n",
       "      <td>3</td>\n",
       "    </tr>\n",
       "    <tr>\n",
       "      <th>...</th>\n",
       "      <td>...</td>\n",
       "      <td>...</td>\n",
       "      <td>...</td>\n",
       "      <td>...</td>\n",
       "      <td>...</td>\n",
       "      <td>...</td>\n",
       "      <td>...</td>\n",
       "      <td>...</td>\n",
       "      <td>...</td>\n",
       "      <td>...</td>\n",
       "      <td>...</td>\n",
       "      <td>...</td>\n",
       "    </tr>\n",
       "    <tr>\n",
       "      <th>10678</th>\n",
       "      <td>0</td>\n",
       "      <td>3</td>\n",
       "      <td>10</td>\n",
       "      <td>64.0</td>\n",
       "      <td>1955</td>\n",
       "      <td>2225</td>\n",
       "      <td>150</td>\n",
       "      <td>0</td>\n",
       "      <td>8</td>\n",
       "      <td>4107</td>\n",
       "      <td>9</td>\n",
       "      <td>4</td>\n",
       "    </tr>\n",
       "    <tr>\n",
       "      <th>10679</th>\n",
       "      <td>1</td>\n",
       "      <td>3</td>\n",
       "      <td>10</td>\n",
       "      <td>64.0</td>\n",
       "      <td>2045</td>\n",
       "      <td>2320</td>\n",
       "      <td>155</td>\n",
       "      <td>0</td>\n",
       "      <td>8</td>\n",
       "      <td>4145</td>\n",
       "      <td>27</td>\n",
       "      <td>4</td>\n",
       "    </tr>\n",
       "    <tr>\n",
       "      <th>10680</th>\n",
       "      <td>4</td>\n",
       "      <td>0</td>\n",
       "      <td>12</td>\n",
       "      <td>18.0</td>\n",
       "      <td>820</td>\n",
       "      <td>1120</td>\n",
       "      <td>180</td>\n",
       "      <td>0</td>\n",
       "      <td>8</td>\n",
       "      <td>7229</td>\n",
       "      <td>27</td>\n",
       "      <td>4</td>\n",
       "    </tr>\n",
       "    <tr>\n",
       "      <th>10681</th>\n",
       "      <td>10</td>\n",
       "      <td>0</td>\n",
       "      <td>12</td>\n",
       "      <td>18.0</td>\n",
       "      <td>1130</td>\n",
       "      <td>1410</td>\n",
       "      <td>160</td>\n",
       "      <td>0</td>\n",
       "      <td>8</td>\n",
       "      <td>12648</td>\n",
       "      <td>1</td>\n",
       "      <td>3</td>\n",
       "    </tr>\n",
       "    <tr>\n",
       "      <th>10682</th>\n",
       "      <td>1</td>\n",
       "      <td>2</td>\n",
       "      <td>11</td>\n",
       "      <td>108.0</td>\n",
       "      <td>1055</td>\n",
       "      <td>1915</td>\n",
       "      <td>500</td>\n",
       "      <td>2</td>\n",
       "      <td>8</td>\n",
       "      <td>11753</td>\n",
       "      <td>9</td>\n",
       "      <td>5</td>\n",
       "    </tr>\n",
       "  </tbody>\n",
       "</table>\n",
       "<p>10682 rows × 12 columns</p>\n",
       "</div>"
      ],
      "text/plain": [
       "       Airline  Source  Destination  Route  Dep_Time  Arrival_Time  Duration  \\\n",
       "0            3       0           12   18.0      2220           110       170   \n",
       "1            1       3           10   84.0       550          1315       445   \n",
       "2            4       2           11  118.0       925           425      1140   \n",
       "3            3       3           10   91.0      1805          2330       325   \n",
       "4            3       0           12   29.0      1650          2135       285   \n",
       "...        ...     ...          ...    ...       ...           ...       ...   \n",
       "10678        0       3           10   64.0      1955          2225       150   \n",
       "10679        1       3           10   64.0      2045          2320       155   \n",
       "10680        4       0           12   18.0       820          1120       180   \n",
       "10681       10       0           12   18.0      1130          1410       160   \n",
       "10682        1       2           11  108.0      1055          1915       500   \n",
       "\n",
       "       Total_Stops  Additional_Info  Price  Date  Month  \n",
       "0                0                8   3897    24      3  \n",
       "1                2                8   7662     1      5  \n",
       "2                2                8  13882     9      6  \n",
       "3                1                8   6218    12      5  \n",
       "4                1                8  13302     1      3  \n",
       "...            ...              ...    ...   ...    ...  \n",
       "10678            0                8   4107     9      4  \n",
       "10679            0                8   4145    27      4  \n",
       "10680            0                8   7229    27      4  \n",
       "10681            0                8  12648     1      3  \n",
       "10682            2                8  11753     9      5  \n",
       "\n",
       "[10682 rows x 12 columns]"
      ]
     },
     "execution_count": 1497,
     "metadata": {},
     "output_type": "execute_result"
    }
   ],
   "source": [
    "data_train"
   ]
  },
  {
   "cell_type": "code",
   "execution_count": 1498,
   "id": "0dbe232c",
   "metadata": {},
   "outputs": [
    {
     "data": {
      "text/html": [
       "<div>\n",
       "<style scoped>\n",
       "    .dataframe tbody tr th:only-of-type {\n",
       "        vertical-align: middle;\n",
       "    }\n",
       "\n",
       "    .dataframe tbody tr th {\n",
       "        vertical-align: top;\n",
       "    }\n",
       "\n",
       "    .dataframe thead th {\n",
       "        text-align: right;\n",
       "    }\n",
       "</style>\n",
       "<table border=\"1\" class=\"dataframe\">\n",
       "  <thead>\n",
       "    <tr style=\"text-align: right;\">\n",
       "      <th></th>\n",
       "      <th>Airline</th>\n",
       "      <th>Source</th>\n",
       "      <th>Destination</th>\n",
       "      <th>Route</th>\n",
       "      <th>Dep_Time</th>\n",
       "      <th>Arrival_Time</th>\n",
       "      <th>Duration</th>\n",
       "      <th>Total_Stops</th>\n",
       "      <th>Additional_Info</th>\n",
       "      <th>Price</th>\n",
       "      <th>Date</th>\n",
       "      <th>Month</th>\n",
       "    </tr>\n",
       "  </thead>\n",
       "  <tbody>\n",
       "    <tr>\n",
       "      <th>count</th>\n",
       "      <td>10682.000000</td>\n",
       "      <td>10682.000000</td>\n",
       "      <td>10682.000000</td>\n",
       "      <td>10682.000000</td>\n",
       "      <td>10682.000000</td>\n",
       "      <td>10682.000000</td>\n",
       "      <td>10682.000000</td>\n",
       "      <td>10682.000000</td>\n",
       "      <td>10682.000000</td>\n",
       "      <td>10682.000000</td>\n",
       "      <td>10682.000000</td>\n",
       "      <td>10682.000000</td>\n",
       "    </tr>\n",
       "    <tr>\n",
       "      <th>mean</th>\n",
       "      <td>3.966205</td>\n",
       "      <td>1.952256</td>\n",
       "      <td>11.174406</td>\n",
       "      <td>74.820165</td>\n",
       "      <td>1273.510579</td>\n",
       "      <td>1359.609156</td>\n",
       "      <td>643.020502</td>\n",
       "      <td>0.824190</td>\n",
       "      <td>7.393559</td>\n",
       "      <td>9087.214567</td>\n",
       "      <td>13.509081</td>\n",
       "      <td>4.708575</td>\n",
       "    </tr>\n",
       "    <tr>\n",
       "      <th>std</th>\n",
       "      <td>2.352090</td>\n",
       "      <td>1.177276</td>\n",
       "      <td>1.012980</td>\n",
       "      <td>36.729039</td>\n",
       "      <td>574.723912</td>\n",
       "      <td>683.578257</td>\n",
       "      <td>507.830133</td>\n",
       "      <td>0.675229</td>\n",
       "      <td>1.214072</td>\n",
       "      <td>4611.548810</td>\n",
       "      <td>8.479363</td>\n",
       "      <td>1.164408</td>\n",
       "    </tr>\n",
       "    <tr>\n",
       "      <th>min</th>\n",
       "      <td>0.000000</td>\n",
       "      <td>0.000000</td>\n",
       "      <td>10.000000</td>\n",
       "      <td>0.000000</td>\n",
       "      <td>20.000000</td>\n",
       "      <td>5.000000</td>\n",
       "      <td>5.000000</td>\n",
       "      <td>0.000000</td>\n",
       "      <td>0.000000</td>\n",
       "      <td>1759.000000</td>\n",
       "      <td>1.000000</td>\n",
       "      <td>3.000000</td>\n",
       "    </tr>\n",
       "    <tr>\n",
       "      <th>25%</th>\n",
       "      <td>3.000000</td>\n",
       "      <td>2.000000</td>\n",
       "      <td>10.000000</td>\n",
       "      <td>48.000000</td>\n",
       "      <td>800.000000</td>\n",
       "      <td>845.000000</td>\n",
       "      <td>170.000000</td>\n",
       "      <td>0.000000</td>\n",
       "      <td>8.000000</td>\n",
       "      <td>5277.000000</td>\n",
       "      <td>6.000000</td>\n",
       "      <td>3.000000</td>\n",
       "    </tr>\n",
       "    <tr>\n",
       "      <th>50%</th>\n",
       "      <td>4.000000</td>\n",
       "      <td>2.000000</td>\n",
       "      <td>11.000000</td>\n",
       "      <td>73.000000</td>\n",
       "      <td>1150.000000</td>\n",
       "      <td>1405.000000</td>\n",
       "      <td>520.000000</td>\n",
       "      <td>1.000000</td>\n",
       "      <td>8.000000</td>\n",
       "      <td>8372.000000</td>\n",
       "      <td>12.000000</td>\n",
       "      <td>5.000000</td>\n",
       "    </tr>\n",
       "    <tr>\n",
       "      <th>75%</th>\n",
       "      <td>4.000000</td>\n",
       "      <td>3.000000</td>\n",
       "      <td>12.000000</td>\n",
       "      <td>104.000000</td>\n",
       "      <td>1805.000000</td>\n",
       "      <td>1915.000000</td>\n",
       "      <td>930.000000</td>\n",
       "      <td>1.000000</td>\n",
       "      <td>8.000000</td>\n",
       "      <td>12373.000000</td>\n",
       "      <td>21.000000</td>\n",
       "      <td>6.000000</td>\n",
       "    </tr>\n",
       "    <tr>\n",
       "      <th>max</th>\n",
       "      <td>11.000000</td>\n",
       "      <td>4.000000</td>\n",
       "      <td>14.000000</td>\n",
       "      <td>127.000000</td>\n",
       "      <td>2355.000000</td>\n",
       "      <td>2355.000000</td>\n",
       "      <td>2860.000000</td>\n",
       "      <td>4.000000</td>\n",
       "      <td>9.000000</td>\n",
       "      <td>79512.000000</td>\n",
       "      <td>27.000000</td>\n",
       "      <td>6.000000</td>\n",
       "    </tr>\n",
       "  </tbody>\n",
       "</table>\n",
       "</div>"
      ],
      "text/plain": [
       "            Airline        Source   Destination         Route      Dep_Time  \\\n",
       "count  10682.000000  10682.000000  10682.000000  10682.000000  10682.000000   \n",
       "mean       3.966205      1.952256     11.174406     74.820165   1273.510579   \n",
       "std        2.352090      1.177276      1.012980     36.729039    574.723912   \n",
       "min        0.000000      0.000000     10.000000      0.000000     20.000000   \n",
       "25%        3.000000      2.000000     10.000000     48.000000    800.000000   \n",
       "50%        4.000000      2.000000     11.000000     73.000000   1150.000000   \n",
       "75%        4.000000      3.000000     12.000000    104.000000   1805.000000   \n",
       "max       11.000000      4.000000     14.000000    127.000000   2355.000000   \n",
       "\n",
       "       Arrival_Time      Duration   Total_Stops  Additional_Info  \\\n",
       "count  10682.000000  10682.000000  10682.000000     10682.000000   \n",
       "mean    1359.609156    643.020502      0.824190         7.393559   \n",
       "std      683.578257    507.830133      0.675229         1.214072   \n",
       "min        5.000000      5.000000      0.000000         0.000000   \n",
       "25%      845.000000    170.000000      0.000000         8.000000   \n",
       "50%     1405.000000    520.000000      1.000000         8.000000   \n",
       "75%     1915.000000    930.000000      1.000000         8.000000   \n",
       "max     2355.000000   2860.000000      4.000000         9.000000   \n",
       "\n",
       "              Price          Date         Month  \n",
       "count  10682.000000  10682.000000  10682.000000  \n",
       "mean    9087.214567     13.509081      4.708575  \n",
       "std     4611.548810      8.479363      1.164408  \n",
       "min     1759.000000      1.000000      3.000000  \n",
       "25%     5277.000000      6.000000      3.000000  \n",
       "50%     8372.000000     12.000000      5.000000  \n",
       "75%    12373.000000     21.000000      6.000000  \n",
       "max    79512.000000     27.000000      6.000000  "
      ]
     },
     "execution_count": 1498,
     "metadata": {},
     "output_type": "execute_result"
    }
   ],
   "source": [
    "#Statistical Analysis\n",
    "data_train.describe()"
   ]
  },
  {
   "cell_type": "code",
   "execution_count": 1499,
   "id": "d00cd9bf",
   "metadata": {},
   "outputs": [
    {
     "data": {
      "text/html": [
       "<div>\n",
       "<style scoped>\n",
       "    .dataframe tbody tr th:only-of-type {\n",
       "        vertical-align: middle;\n",
       "    }\n",
       "\n",
       "    .dataframe tbody tr th {\n",
       "        vertical-align: top;\n",
       "    }\n",
       "\n",
       "    .dataframe thead th {\n",
       "        text-align: right;\n",
       "    }\n",
       "</style>\n",
       "<table border=\"1\" class=\"dataframe\">\n",
       "  <thead>\n",
       "    <tr style=\"text-align: right;\">\n",
       "      <th></th>\n",
       "      <th>Airline</th>\n",
       "      <th>Source</th>\n",
       "      <th>Destination</th>\n",
       "      <th>Route</th>\n",
       "      <th>Dep_Time</th>\n",
       "      <th>Arrival_Time</th>\n",
       "      <th>Duration</th>\n",
       "      <th>Total_Stops</th>\n",
       "      <th>Additional_Info</th>\n",
       "      <th>Price</th>\n",
       "      <th>Date</th>\n",
       "      <th>Month</th>\n",
       "    </tr>\n",
       "  </thead>\n",
       "  <tbody>\n",
       "    <tr>\n",
       "      <th>6474</th>\n",
       "      <td>1</td>\n",
       "      <td>4</td>\n",
       "      <td>13</td>\n",
       "      <td>47.0</td>\n",
       "      <td>1650</td>\n",
       "      <td>1655</td>\n",
       "      <td>5</td>\n",
       "      <td>2</td>\n",
       "      <td>8</td>\n",
       "      <td>17327</td>\n",
       "      <td>6</td>\n",
       "      <td>3</td>\n",
       "    </tr>\n",
       "  </tbody>\n",
       "</table>\n",
       "</div>"
      ],
      "text/plain": [
       "      Airline  Source  Destination  Route  Dep_Time  Arrival_Time  Duration  \\\n",
       "6474        1       4           13   47.0      1650          1655         5   \n",
       "\n",
       "      Total_Stops  Additional_Info  Price  Date  Month  \n",
       "6474            2                8  17327     6      3  "
      ]
     },
     "execution_count": 1499,
     "metadata": {},
     "output_type": "execute_result"
    }
   ],
   "source": [
    "#As the duration of any flight is not usually 5 minutes, the data needs to be checked\n",
    "\n",
    "data_train.loc[data_train[\"Duration\"]==5]"
   ]
  },
  {
   "cell_type": "code",
   "execution_count": 1500,
   "id": "e16f2286",
   "metadata": {},
   "outputs": [],
   "source": [
    "#The arrival time is probably for the next day\n",
    "\n",
    "data_train[\"Duration\"]=data_train[\"Duration\"].replace(5,1445)"
   ]
  },
  {
   "cell_type": "code",
   "execution_count": 1501,
   "id": "097a469a",
   "metadata": {},
   "outputs": [
    {
     "data": {
      "text/html": [
       "<div>\n",
       "<style scoped>\n",
       "    .dataframe tbody tr th:only-of-type {\n",
       "        vertical-align: middle;\n",
       "    }\n",
       "\n",
       "    .dataframe tbody tr th {\n",
       "        vertical-align: top;\n",
       "    }\n",
       "\n",
       "    .dataframe thead th {\n",
       "        text-align: right;\n",
       "    }\n",
       "</style>\n",
       "<table border=\"1\" class=\"dataframe\">\n",
       "  <thead>\n",
       "    <tr style=\"text-align: right;\">\n",
       "      <th></th>\n",
       "      <th>Airline</th>\n",
       "      <th>Source</th>\n",
       "      <th>Destination</th>\n",
       "      <th>Route</th>\n",
       "      <th>Dep_Time</th>\n",
       "      <th>Arrival_Time</th>\n",
       "      <th>Duration</th>\n",
       "      <th>Total_Stops</th>\n",
       "      <th>Additional_Info</th>\n",
       "      <th>Price</th>\n",
       "      <th>Date</th>\n",
       "      <th>Month</th>\n",
       "    </tr>\n",
       "  </thead>\n",
       "  <tbody>\n",
       "    <tr>\n",
       "      <th>count</th>\n",
       "      <td>10682.000000</td>\n",
       "      <td>10682.000000</td>\n",
       "      <td>10682.000000</td>\n",
       "      <td>10682.000000</td>\n",
       "      <td>10682.000000</td>\n",
       "      <td>10682.000000</td>\n",
       "      <td>10682.000000</td>\n",
       "      <td>10682.000000</td>\n",
       "      <td>10682.000000</td>\n",
       "      <td>10682.000000</td>\n",
       "      <td>10682.000000</td>\n",
       "      <td>10682.000000</td>\n",
       "    </tr>\n",
       "    <tr>\n",
       "      <th>mean</th>\n",
       "      <td>3.966205</td>\n",
       "      <td>1.952256</td>\n",
       "      <td>11.174406</td>\n",
       "      <td>74.820165</td>\n",
       "      <td>1273.510579</td>\n",
       "      <td>1359.609156</td>\n",
       "      <td>643.155308</td>\n",
       "      <td>0.824190</td>\n",
       "      <td>7.393559</td>\n",
       "      <td>9087.214567</td>\n",
       "      <td>13.509081</td>\n",
       "      <td>4.708575</td>\n",
       "    </tr>\n",
       "    <tr>\n",
       "      <th>std</th>\n",
       "      <td>2.352090</td>\n",
       "      <td>1.177276</td>\n",
       "      <td>1.012980</td>\n",
       "      <td>36.729039</td>\n",
       "      <td>574.723912</td>\n",
       "      <td>683.578257</td>\n",
       "      <td>507.851879</td>\n",
       "      <td>0.675229</td>\n",
       "      <td>1.214072</td>\n",
       "      <td>4611.548810</td>\n",
       "      <td>8.479363</td>\n",
       "      <td>1.164408</td>\n",
       "    </tr>\n",
       "    <tr>\n",
       "      <th>min</th>\n",
       "      <td>0.000000</td>\n",
       "      <td>0.000000</td>\n",
       "      <td>10.000000</td>\n",
       "      <td>0.000000</td>\n",
       "      <td>20.000000</td>\n",
       "      <td>5.000000</td>\n",
       "      <td>75.000000</td>\n",
       "      <td>0.000000</td>\n",
       "      <td>0.000000</td>\n",
       "      <td>1759.000000</td>\n",
       "      <td>1.000000</td>\n",
       "      <td>3.000000</td>\n",
       "    </tr>\n",
       "    <tr>\n",
       "      <th>25%</th>\n",
       "      <td>3.000000</td>\n",
       "      <td>2.000000</td>\n",
       "      <td>10.000000</td>\n",
       "      <td>48.000000</td>\n",
       "      <td>800.000000</td>\n",
       "      <td>845.000000</td>\n",
       "      <td>170.000000</td>\n",
       "      <td>0.000000</td>\n",
       "      <td>8.000000</td>\n",
       "      <td>5277.000000</td>\n",
       "      <td>6.000000</td>\n",
       "      <td>3.000000</td>\n",
       "    </tr>\n",
       "    <tr>\n",
       "      <th>50%</th>\n",
       "      <td>4.000000</td>\n",
       "      <td>2.000000</td>\n",
       "      <td>11.000000</td>\n",
       "      <td>73.000000</td>\n",
       "      <td>1150.000000</td>\n",
       "      <td>1405.000000</td>\n",
       "      <td>520.000000</td>\n",
       "      <td>1.000000</td>\n",
       "      <td>8.000000</td>\n",
       "      <td>8372.000000</td>\n",
       "      <td>12.000000</td>\n",
       "      <td>5.000000</td>\n",
       "    </tr>\n",
       "    <tr>\n",
       "      <th>75%</th>\n",
       "      <td>4.000000</td>\n",
       "      <td>3.000000</td>\n",
       "      <td>12.000000</td>\n",
       "      <td>104.000000</td>\n",
       "      <td>1805.000000</td>\n",
       "      <td>1915.000000</td>\n",
       "      <td>930.000000</td>\n",
       "      <td>1.000000</td>\n",
       "      <td>8.000000</td>\n",
       "      <td>12373.000000</td>\n",
       "      <td>21.000000</td>\n",
       "      <td>6.000000</td>\n",
       "    </tr>\n",
       "    <tr>\n",
       "      <th>max</th>\n",
       "      <td>11.000000</td>\n",
       "      <td>4.000000</td>\n",
       "      <td>14.000000</td>\n",
       "      <td>127.000000</td>\n",
       "      <td>2355.000000</td>\n",
       "      <td>2355.000000</td>\n",
       "      <td>2860.000000</td>\n",
       "      <td>4.000000</td>\n",
       "      <td>9.000000</td>\n",
       "      <td>79512.000000</td>\n",
       "      <td>27.000000</td>\n",
       "      <td>6.000000</td>\n",
       "    </tr>\n",
       "  </tbody>\n",
       "</table>\n",
       "</div>"
      ],
      "text/plain": [
       "            Airline        Source   Destination         Route      Dep_Time  \\\n",
       "count  10682.000000  10682.000000  10682.000000  10682.000000  10682.000000   \n",
       "mean       3.966205      1.952256     11.174406     74.820165   1273.510579   \n",
       "std        2.352090      1.177276      1.012980     36.729039    574.723912   \n",
       "min        0.000000      0.000000     10.000000      0.000000     20.000000   \n",
       "25%        3.000000      2.000000     10.000000     48.000000    800.000000   \n",
       "50%        4.000000      2.000000     11.000000     73.000000   1150.000000   \n",
       "75%        4.000000      3.000000     12.000000    104.000000   1805.000000   \n",
       "max       11.000000      4.000000     14.000000    127.000000   2355.000000   \n",
       "\n",
       "       Arrival_Time      Duration   Total_Stops  Additional_Info  \\\n",
       "count  10682.000000  10682.000000  10682.000000     10682.000000   \n",
       "mean    1359.609156    643.155308      0.824190         7.393559   \n",
       "std      683.578257    507.851879      0.675229         1.214072   \n",
       "min        5.000000     75.000000      0.000000         0.000000   \n",
       "25%      845.000000    170.000000      0.000000         8.000000   \n",
       "50%     1405.000000    520.000000      1.000000         8.000000   \n",
       "75%     1915.000000    930.000000      1.000000         8.000000   \n",
       "max     2355.000000   2860.000000      4.000000         9.000000   \n",
       "\n",
       "              Price          Date         Month  \n",
       "count  10682.000000  10682.000000  10682.000000  \n",
       "mean    9087.214567     13.509081      4.708575  \n",
       "std     4611.548810      8.479363      1.164408  \n",
       "min     1759.000000      1.000000      3.000000  \n",
       "25%     5277.000000      6.000000      3.000000  \n",
       "50%     8372.000000     12.000000      5.000000  \n",
       "75%    12373.000000     21.000000      6.000000  \n",
       "max    79512.000000     27.000000      6.000000  "
      ]
     },
     "execution_count": 1501,
     "metadata": {},
     "output_type": "execute_result"
    }
   ],
   "source": [
    "#Statistical Analysis\n",
    "data_train.describe()"
   ]
  },
  {
   "cell_type": "markdown",
   "id": "ba416f2f",
   "metadata": {},
   "source": [
    "# Checking Correlation"
   ]
  },
  {
   "cell_type": "code",
   "execution_count": 1502,
   "id": "9af7e5db",
   "metadata": {},
   "outputs": [
    {
     "data": {
      "text/plain": [
       "Destination       -0.262164\n",
       "Date              -0.153774\n",
       "Month             -0.103643\n",
       "Additional_Info   -0.065577\n",
       "Airline           -0.039565\n",
       "Dep_Time           0.006002\n",
       "Source             0.015999\n",
       "Arrival_Time       0.022247\n",
       "Route              0.164149\n",
       "Duration           0.506932\n",
       "Total_Stops        0.603897\n",
       "Price              1.000000\n",
       "Name: Price, dtype: float64"
      ]
     },
     "execution_count": 1502,
     "metadata": {},
     "output_type": "execute_result"
    }
   ],
   "source": [
    "#Let's print the correlation coefficient for the Prediction with Price\n",
    "\n",
    "corr_matrix=data_train.corr()\n",
    "corr_matrix[\"Price\"].sort_values(ascending=True)"
   ]
  },
  {
   "cell_type": "markdown",
   "id": "1675b139",
   "metadata": {},
   "source": [
    "# Observation-\n",
    "- Date, Month, Destination, Additional_Info and Airline are negatively correlated to the label Price\n",
    "- Dep_Time, Source, Arrival_Time, Route, Duration  and Total_Stops are positively correlated to the label Price\n",
    "- Date are 15% negatively correlated to the label Price showing a moderately weak bond\n",
    "- Airline is 3% negatively correlated with Price showing an extremely weak bond\n",
    "- Dep_Time is 0.6% positively correlated with Price showing an extremely weak bond\n",
    "- Total_Stops is 60% positively correlated with Price showing a strong bond"
   ]
  },
  {
   "cell_type": "markdown",
   "id": "c98da8b5",
   "metadata": {},
   "source": [
    "\n",
    "As Route is weakly corelated to Price, it is advised to drop it out, as it is producing a large number of categories, which might not be clean for the model"
   ]
  },
  {
   "cell_type": "code",
   "execution_count": 1503,
   "id": "4d977760",
   "metadata": {},
   "outputs": [],
   "source": [
    "data_train=data_train.drop(columns=[\"Route\"])"
   ]
  },
  {
   "cell_type": "markdown",
   "id": "bbc27c48",
   "metadata": {},
   "source": [
    "# Checking for outliers"
   ]
  },
  {
   "cell_type": "code",
   "execution_count": 1504,
   "id": "442bbe7a",
   "metadata": {},
   "outputs": [
    {
     "data": {
      "text/plain": [
       "(10682, 11)"
      ]
     },
     "execution_count": 1504,
     "metadata": {},
     "output_type": "execute_result"
    }
   ],
   "source": [
    "data_train.shape"
   ]
  },
  {
   "cell_type": "code",
   "execution_count": 1505,
   "id": "e08b73fa",
   "metadata": {},
   "outputs": [
    {
     "data": {
      "image/png": "[encoded data removed]",
      "text/plain": [
       "<Figure size 1440x1800 with 11 Axes>"
      ]
     },
     "metadata": {
      "needs_background": "light"
     },
     "output_type": "display_data"
    }
   ],
   "source": [
    "#visulaize the outliers using boxplot\n",
    "plt.figure(figsize=(20,25))\n",
    "graph=1\n",
    "\n",
    "for column in data_train:\n",
    "    if graph<=20:\n",
    "        ax=plt.subplot(5,4,graph)\n",
    "        sns.boxplot(data=data_train[column], orient='v')\n",
    "        plt.xlabel(column,fontsize=20)\n",
    "    graph=graph+1\n",
    "plt.show()"
   ]
  },
  {
   "cell_type": "markdown",
   "id": "5e88a8e9",
   "metadata": {},
   "source": [
    "# \n",
    "The features containing outliers-\n",
    "\n",
    "- Airline\n",
    "- Source\n",
    "- Duration\n",
    "- Total Stops\n",
    "- Additional Info\n",
    "- Price\n",
    "\n",
    "However as all outliers are belonging to categorical data, we tend to ignore it"
   ]
  },
  {
   "cell_type": "markdown",
   "id": "dbce726c",
   "metadata": {},
   "source": [
    "# Divide Data Set into x_train and y_train"
   ]
  },
  {
   "cell_type": "code",
   "execution_count": 1506,
   "id": "6a11f92e",
   "metadata": {},
   "outputs": [],
   "source": [
    "y_train=data_train['Price']\n",
    "x_train=data_train.drop(columns=['Price'])"
   ]
  },
  {
   "cell_type": "markdown",
   "id": "4e3337bd",
   "metadata": {},
   "source": [
    "# Checking for skewness"
   ]
  },
  {
   "cell_type": "code",
   "execution_count": 1507,
   "id": "f2ca4033",
   "metadata": {},
   "outputs": [
    {
     "data": {
      "text/plain": [
       "Duration           0.861059\n",
       "Destination        0.846631\n",
       "Airline            0.731057\n",
       "Total_Stops        0.317109\n",
       "Dep_Time           0.120256\n",
       "Date               0.118174\n",
       "Arrival_Time      -0.371465\n",
       "Month             -0.387409\n",
       "Source            -0.424023\n",
       "Additional_Info   -1.781418\n",
       "dtype: float64"
      ]
     },
     "execution_count": 1507,
     "metadata": {},
     "output_type": "execute_result"
    }
   ],
   "source": [
    "x_train.skew().sort_values(ascending=False)"
   ]
  },
  {
   "cell_type": "markdown",
   "id": "484f673c",
   "metadata": {},
   "source": [
    "# \n",
    "Keeping +/-0.5 as the range of skewness, the columns not falling in this range are-\n",
    "\n",
    "- Duration\n",
    "- Destination\n",
    "- Airline\n",
    "- Additional_Info"
   ]
  },
  {
   "cell_type": "markdown",
   "id": "aae2e738",
   "metadata": {},
   "source": [
    "# Transforming Data to remove skewness"
   ]
  },
  {
   "cell_type": "code",
   "execution_count": 1508,
   "id": "440b75fe",
   "metadata": {},
   "outputs": [],
   "source": [
    "from sklearn.preprocessing import power_transform\n",
    "x_n=power_transform(x_train)"
   ]
  },
  {
   "cell_type": "code",
   "execution_count": 1509,
   "id": "cc3572b7",
   "metadata": {},
   "outputs": [],
   "source": [
    "x_train=x_n"
   ]
  },
  {
   "cell_type": "markdown",
   "id": "d1e183c7",
   "metadata": {},
   "source": [
    "# Reading the test data (x_test)"
   ]
  },
  {
   "cell_type": "code",
   "execution_count": 1510,
   "id": "328365cc",
   "metadata": {},
   "outputs": [
    {
     "data": {
      "text/html": [
       "<div>\n",
       "<style scoped>\n",
       "    .dataframe tbody tr th:only-of-type {\n",
       "        vertical-align: middle;\n",
       "    }\n",
       "\n",
       "    .dataframe tbody tr th {\n",
       "        vertical-align: top;\n",
       "    }\n",
       "\n",
       "    .dataframe thead th {\n",
       "        text-align: right;\n",
       "    }\n",
       "</style>\n",
       "<table border=\"1\" class=\"dataframe\">\n",
       "  <thead>\n",
       "    <tr style=\"text-align: right;\">\n",
       "      <th></th>\n",
       "      <th>Airline</th>\n",
       "      <th>Date_of_Journey</th>\n",
       "      <th>Source</th>\n",
       "      <th>Destination</th>\n",
       "      <th>Route</th>\n",
       "      <th>Dep_Time</th>\n",
       "      <th>Arrival_Time</th>\n",
       "      <th>Duration</th>\n",
       "      <th>Total_Stops</th>\n",
       "      <th>Additional_Info</th>\n",
       "    </tr>\n",
       "  </thead>\n",
       "  <tbody>\n",
       "    <tr>\n",
       "      <th>0</th>\n",
       "      <td>Jet Airways</td>\n",
       "      <td>6/06/2019</td>\n",
       "      <td>Delhi</td>\n",
       "      <td>Cochin</td>\n",
       "      <td>DEL → BOM → COK</td>\n",
       "      <td>17:30</td>\n",
       "      <td>04:25 07 Jun</td>\n",
       "      <td>10h 55m</td>\n",
       "      <td>1 stop</td>\n",
       "      <td>No info</td>\n",
       "    </tr>\n",
       "    <tr>\n",
       "      <th>1</th>\n",
       "      <td>IndiGo</td>\n",
       "      <td>12/05/2019</td>\n",
       "      <td>Kolkata</td>\n",
       "      <td>Banglore</td>\n",
       "      <td>CCU → MAA → BLR</td>\n",
       "      <td>06:20</td>\n",
       "      <td>10:20</td>\n",
       "      <td>4h</td>\n",
       "      <td>1 stop</td>\n",
       "      <td>No info</td>\n",
       "    </tr>\n",
       "    <tr>\n",
       "      <th>2</th>\n",
       "      <td>Jet Airways</td>\n",
       "      <td>21/05/2019</td>\n",
       "      <td>Delhi</td>\n",
       "      <td>Cochin</td>\n",
       "      <td>DEL → BOM → COK</td>\n",
       "      <td>19:15</td>\n",
       "      <td>19:00 22 May</td>\n",
       "      <td>23h 45m</td>\n",
       "      <td>1 stop</td>\n",
       "      <td>In-flight meal not included</td>\n",
       "    </tr>\n",
       "    <tr>\n",
       "      <th>3</th>\n",
       "      <td>Multiple carriers</td>\n",
       "      <td>21/05/2019</td>\n",
       "      <td>Delhi</td>\n",
       "      <td>Cochin</td>\n",
       "      <td>DEL → BOM → COK</td>\n",
       "      <td>08:00</td>\n",
       "      <td>21:00</td>\n",
       "      <td>13h</td>\n",
       "      <td>1 stop</td>\n",
       "      <td>No info</td>\n",
       "    </tr>\n",
       "    <tr>\n",
       "      <th>4</th>\n",
       "      <td>Air Asia</td>\n",
       "      <td>24/06/2019</td>\n",
       "      <td>Banglore</td>\n",
       "      <td>Delhi</td>\n",
       "      <td>BLR → DEL</td>\n",
       "      <td>23:55</td>\n",
       "      <td>02:45 25 Jun</td>\n",
       "      <td>2h 50m</td>\n",
       "      <td>non-stop</td>\n",
       "      <td>No info</td>\n",
       "    </tr>\n",
       "    <tr>\n",
       "      <th>...</th>\n",
       "      <td>...</td>\n",
       "      <td>...</td>\n",
       "      <td>...</td>\n",
       "      <td>...</td>\n",
       "      <td>...</td>\n",
       "      <td>...</td>\n",
       "      <td>...</td>\n",
       "      <td>...</td>\n",
       "      <td>...</td>\n",
       "      <td>...</td>\n",
       "    </tr>\n",
       "    <tr>\n",
       "      <th>2666</th>\n",
       "      <td>Air India</td>\n",
       "      <td>6/06/2019</td>\n",
       "      <td>Kolkata</td>\n",
       "      <td>Banglore</td>\n",
       "      <td>CCU → DEL → BLR</td>\n",
       "      <td>20:30</td>\n",
       "      <td>20:25 07 Jun</td>\n",
       "      <td>23h 55m</td>\n",
       "      <td>1 stop</td>\n",
       "      <td>No info</td>\n",
       "    </tr>\n",
       "    <tr>\n",
       "      <th>2667</th>\n",
       "      <td>IndiGo</td>\n",
       "      <td>27/03/2019</td>\n",
       "      <td>Kolkata</td>\n",
       "      <td>Banglore</td>\n",
       "      <td>CCU → BLR</td>\n",
       "      <td>14:20</td>\n",
       "      <td>16:55</td>\n",
       "      <td>2h 35m</td>\n",
       "      <td>non-stop</td>\n",
       "      <td>No info</td>\n",
       "    </tr>\n",
       "    <tr>\n",
       "      <th>2668</th>\n",
       "      <td>Jet Airways</td>\n",
       "      <td>6/03/2019</td>\n",
       "      <td>Delhi</td>\n",
       "      <td>Cochin</td>\n",
       "      <td>DEL → BOM → COK</td>\n",
       "      <td>21:50</td>\n",
       "      <td>04:25 07 Mar</td>\n",
       "      <td>6h 35m</td>\n",
       "      <td>1 stop</td>\n",
       "      <td>No info</td>\n",
       "    </tr>\n",
       "    <tr>\n",
       "      <th>2669</th>\n",
       "      <td>Air India</td>\n",
       "      <td>6/03/2019</td>\n",
       "      <td>Delhi</td>\n",
       "      <td>Cochin</td>\n",
       "      <td>DEL → BOM → COK</td>\n",
       "      <td>04:00</td>\n",
       "      <td>19:15</td>\n",
       "      <td>15h 15m</td>\n",
       "      <td>1 stop</td>\n",
       "      <td>No info</td>\n",
       "    </tr>\n",
       "    <tr>\n",
       "      <th>2670</th>\n",
       "      <td>Multiple carriers</td>\n",
       "      <td>15/06/2019</td>\n",
       "      <td>Delhi</td>\n",
       "      <td>Cochin</td>\n",
       "      <td>DEL → BOM → COK</td>\n",
       "      <td>04:55</td>\n",
       "      <td>19:15</td>\n",
       "      <td>14h 20m</td>\n",
       "      <td>1 stop</td>\n",
       "      <td>No info</td>\n",
       "    </tr>\n",
       "  </tbody>\n",
       "</table>\n",
       "<p>2671 rows × 10 columns</p>\n",
       "</div>"
      ],
      "text/plain": [
       "                Airline Date_of_Journey    Source Destination  \\\n",
       "0           Jet Airways       6/06/2019     Delhi      Cochin   \n",
       "1                IndiGo      12/05/2019   Kolkata    Banglore   \n",
       "2           Jet Airways      21/05/2019     Delhi      Cochin   \n",
       "3     Multiple carriers      21/05/2019     Delhi      Cochin   \n",
       "4              Air Asia      24/06/2019  Banglore       Delhi   \n",
       "...                 ...             ...       ...         ...   \n",
       "2666          Air India       6/06/2019   Kolkata    Banglore   \n",
       "2667             IndiGo      27/03/2019   Kolkata    Banglore   \n",
       "2668        Jet Airways       6/03/2019     Delhi      Cochin   \n",
       "2669          Air India       6/03/2019     Delhi      Cochin   \n",
       "2670  Multiple carriers      15/06/2019     Delhi      Cochin   \n",
       "\n",
       "                Route Dep_Time  Arrival_Time Duration Total_Stops  \\\n",
       "0     DEL → BOM → COK    17:30  04:25 07 Jun  10h 55m      1 stop   \n",
       "1     CCU → MAA → BLR    06:20         10:20       4h      1 stop   \n",
       "2     DEL → BOM → COK    19:15  19:00 22 May  23h 45m      1 stop   \n",
       "3     DEL → BOM → COK    08:00         21:00      13h      1 stop   \n",
       "4           BLR → DEL    23:55  02:45 25 Jun   2h 50m    non-stop   \n",
       "...               ...      ...           ...      ...         ...   \n",
       "2666  CCU → DEL → BLR    20:30  20:25 07 Jun  23h 55m      1 stop   \n",
       "2667        CCU → BLR    14:20         16:55   2h 35m    non-stop   \n",
       "2668  DEL → BOM → COK    21:50  04:25 07 Mar   6h 35m      1 stop   \n",
       "2669  DEL → BOM → COK    04:00         19:15  15h 15m      1 stop   \n",
       "2670  DEL → BOM → COK    04:55         19:15  14h 20m      1 stop   \n",
       "\n",
       "                  Additional_Info  \n",
       "0                         No info  \n",
       "1                         No info  \n",
       "2     In-flight meal not included  \n",
       "3                         No info  \n",
       "4                         No info  \n",
       "...                           ...  \n",
       "2666                      No info  \n",
       "2667                      No info  \n",
       "2668                      No info  \n",
       "2669                      No info  \n",
       "2670                      No info  \n",
       "\n",
       "[2671 rows x 10 columns]"
      ]
     },
     "execution_count": 1510,
     "metadata": {},
     "output_type": "execute_result"
    }
   ],
   "source": [
    "#Read csv file and convert into Dataframe\n",
    "data_test=pd.read_excel(r'D:\\DataTrained\\Flight_Ticket_Participant_Datasets\\Test_set.xlsx')\n",
    "data_test"
   ]
  },
  {
   "cell_type": "markdown",
   "id": "afed788f",
   "metadata": {},
   "source": [
    "# Observation-\n",
    "\n",
    "The features in the above data set are-\n",
    "\n",
    "- Airline     \n",
    "\n",
    "- Date_of_Journey    \n",
    "\n",
    "- Source \n",
    "\n",
    "- Destination \n",
    "\n",
    "- Route \n",
    "\n",
    "- Dep Time\n",
    "\n",
    "- Arrival_Time\n",
    "\n",
    "- Duration\n",
    "\n",
    "- Total stops\n",
    "\n",
    "- Additional info\n"
   ]
  },
  {
   "cell_type": "code",
   "execution_count": 1511,
   "id": "d1d207f3",
   "metadata": {},
   "outputs": [
    {
     "data": {
      "text/plain": [
       "(2671, 10)"
      ]
     },
     "execution_count": 1511,
     "metadata": {},
     "output_type": "execute_result"
    }
   ],
   "source": [
    "#shape of file\n",
    "data_test.shape"
   ]
  },
  {
   "cell_type": "code",
   "execution_count": 1512,
   "id": "01f4bf25",
   "metadata": {},
   "outputs": [
    {
     "data": {
      "text/plain": [
       "Airline            object\n",
       "Date_of_Journey    object\n",
       "Source             object\n",
       "Destination        object\n",
       "Route              object\n",
       "Dep_Time           object\n",
       "Arrival_Time       object\n",
       "Duration           object\n",
       "Total_Stops        object\n",
       "Additional_Info    object\n",
       "dtype: object"
      ]
     },
     "execution_count": 1512,
     "metadata": {},
     "output_type": "execute_result"
    }
   ],
   "source": [
    "# Checking for data types of the columns\n",
    "data_test.dtypes"
   ]
  },
  {
   "cell_type": "markdown",
   "id": "1d093efb",
   "metadata": {},
   "source": [
    "# \n",
    "As there are object datatypes, we will apply encoding techniques"
   ]
  },
  {
   "cell_type": "code",
   "execution_count": 1513,
   "id": "638615cb",
   "metadata": {},
   "outputs": [
    {
     "data": {
      "text/plain": [
       "Airline            0\n",
       "Date_of_Journey    0\n",
       "Source             0\n",
       "Destination        0\n",
       "Route              0\n",
       "Dep_Time           0\n",
       "Arrival_Time       0\n",
       "Duration           0\n",
       "Total_Stops        0\n",
       "Additional_Info    0\n",
       "dtype: int64"
      ]
     },
     "execution_count": 1513,
     "metadata": {},
     "output_type": "execute_result"
    }
   ],
   "source": [
    "# Checking for null values\n",
    "data_test.isnull().sum()"
   ]
  },
  {
   "cell_type": "code",
   "execution_count": 1514,
   "id": "961d8bc9",
   "metadata": {},
   "outputs": [],
   "source": [
    "# Checking for null values in object datatype columns\n",
    "\n",
    "for column in data_test:\n",
    "    data_test[column]=data_test[column].replace(\" \",np.nan)"
   ]
  },
  {
   "cell_type": "code",
   "execution_count": 1515,
   "id": "7d7b51d1",
   "metadata": {},
   "outputs": [
    {
     "data": {
      "text/plain": [
       "Airline            0\n",
       "Source             0\n",
       "Destination        0\n",
       "Dep_Time           0\n",
       "Arrival_Time       0\n",
       "Duration           0\n",
       "Total_Stops        0\n",
       "Additional_Info    0\n",
       "Price              0\n",
       "Date               0\n",
       "Month              0\n",
       "dtype: int64"
      ]
     },
     "execution_count": 1515,
     "metadata": {},
     "output_type": "execute_result"
    }
   ],
   "source": [
    "# Checking for null values\n",
    "data_train.isnull().sum()"
   ]
  },
  {
   "cell_type": "markdown",
   "id": "bbf05c20",
   "metadata": {},
   "source": [
    "# Visualization of the Data and Encoding object data"
   ]
  },
  {
   "cell_type": "code",
   "execution_count": 1516,
   "id": "00374adf",
   "metadata": {},
   "outputs": [
    {
     "name": "stdout",
     "output_type": "stream",
     "text": [
      "Jet Airways                          897\n",
      "IndiGo                               511\n",
      "Air India                            440\n",
      "Multiple carriers                    347\n",
      "SpiceJet                             208\n",
      "Vistara                              129\n",
      "Air Asia                              86\n",
      "GoAir                                 46\n",
      "Multiple carriers Premium economy      3\n",
      "Vistara Premium economy                2\n",
      "Jet Airways Business                   2\n",
      "Name: Airline, dtype: int64\n"
     ]
    },
    {
     "data": {
      "image/png": "[encoded data removed]",
      "text/plain": [
       "<Figure size 1800x720 with 1 Axes>"
      ]
     },
     "metadata": {
      "needs_background": "light"
     },
     "output_type": "display_data"
    }
   ],
   "source": [
    "plt.figure(figsize=(25,10))\n",
    "ax=sns.countplot(x=\"Airline\", data=data_train)\n",
    "print(data_test[\"Airline\"].value_counts())"
   ]
  },
  {
   "cell_type": "markdown",
   "id": "68848732",
   "metadata": {},
   "source": [
    "# \n",
    "897 are Jet Airways flights, 511 are Indigo flights, 440 are Air India flights, 347 are Multple carriers, 208 are spice jet flights, 129 are vistara flights, 86 are Ais Asia flights, 46 are GoAir flights, 3 are Multiple carriers Premium economy, 2 are Jet Airways Business, 2 are Vistara Premium Economy "
   ]
  },
  {
   "cell_type": "code",
   "execution_count": 1517,
   "id": "b078bd97",
   "metadata": {},
   "outputs": [],
   "source": [
    "#To maintain the encoding as with the train data, we replace it with the codes encoded in the training set\n",
    "\n",
    "data_test[\"Airline\"]=data_test[\"Airline\"].replace(\"Air Asia\",0)\n",
    "data_test[\"Airline\"]=data_test[\"Airline\"].replace(\"Air India\",1)\n",
    "data_test[\"Airline\"]=data_test[\"Airline\"].replace(\"GoAir\",2)\n",
    "data_test[\"Airline\"]=data_test[\"Airline\"].replace(\"IndiGo\",3)\n",
    "data_test[\"Airline\"]=data_test[\"Airline\"].replace(\"Jet Airways\",4)\n",
    "data_test[\"Airline\"]=data_test[\"Airline\"].replace(\"Jet Airways Business\",5)\n",
    "data_test[\"Airline\"]=data_test[\"Airline\"].replace(\"Multiple carriers\",6)\n",
    "data_test[\"Airline\"]=data_test[\"Airline\"].replace(\"Multiple carriers Premium economy\",7)\n",
    "data_test[\"Airline\"]=data_test[\"Airline\"].replace(\"SpiceJet\",8)\n",
    "data_test[\"Airline\"]=data_test[\"Airline\"].replace(\"Vistara\",10)\n",
    "data_test[\"Airline\"]=data_test[\"Airline\"].replace(\"Vistara Premium economy\",11)"
   ]
  },
  {
   "cell_type": "markdown",
   "id": "9a352825",
   "metadata": {},
   "source": [
    "# \n",
    "The data is encoded as follows-\n",
    "\n",
    "- 0 - Air Asia\n",
    "- 1 - Air India\n",
    "- 2 - GoAir\n",
    "- 3 - IndiGo\n",
    "- 4 - Jet Airways \n",
    "- 5 - Jet Airways Business\n",
    "- 6 - Multiple carriers\n",
    "- 7 - Multiple carriers Premium economy\n",
    "- 8 - SpiceJet\n",
    "- 10- Vistara \n",
    "- 11- Vistara Premium economy"
   ]
  },
  {
   "cell_type": "code",
   "execution_count": 1518,
   "id": "ccaebfdc",
   "metadata": {},
   "outputs": [],
   "source": [
    "data_test['Date_of_Journey']=pd.to_datetime(data_test['Date_of_Journey'], dayfirst=True)"
   ]
  },
  {
   "cell_type": "code",
   "execution_count": 1519,
   "id": "a3ba8dce",
   "metadata": {},
   "outputs": [],
   "source": [
    "#Storing date and month in separate column\n",
    "#As the year is 2019, it need not be stored\n",
    "data_test['Date']=data_test['Date_of_Journey'].dt.day\n",
    "data_test['Month']=data_test['Date_of_Journey'].dt.month"
   ]
  },
  {
   "cell_type": "code",
   "execution_count": 1520,
   "id": "0917d7fd",
   "metadata": {},
   "outputs": [
    {
     "data": {
      "text/html": [
       "<div>\n",
       "<style scoped>\n",
       "    .dataframe tbody tr th:only-of-type {\n",
       "        vertical-align: middle;\n",
       "    }\n",
       "\n",
       "    .dataframe tbody tr th {\n",
       "        vertical-align: top;\n",
       "    }\n",
       "\n",
       "    .dataframe thead th {\n",
       "        text-align: right;\n",
       "    }\n",
       "</style>\n",
       "<table border=\"1\" class=\"dataframe\">\n",
       "  <thead>\n",
       "    <tr style=\"text-align: right;\">\n",
       "      <th></th>\n",
       "      <th>Airline</th>\n",
       "      <th>Date_of_Journey</th>\n",
       "      <th>Source</th>\n",
       "      <th>Destination</th>\n",
       "      <th>Route</th>\n",
       "      <th>Dep_Time</th>\n",
       "      <th>Arrival_Time</th>\n",
       "      <th>Duration</th>\n",
       "      <th>Total_Stops</th>\n",
       "      <th>Additional_Info</th>\n",
       "      <th>Date</th>\n",
       "      <th>Month</th>\n",
       "    </tr>\n",
       "  </thead>\n",
       "  <tbody>\n",
       "    <tr>\n",
       "      <th>0</th>\n",
       "      <td>4</td>\n",
       "      <td>2019-06-06</td>\n",
       "      <td>Delhi</td>\n",
       "      <td>Cochin</td>\n",
       "      <td>DEL → BOM → COK</td>\n",
       "      <td>17:30</td>\n",
       "      <td>04:25 07 Jun</td>\n",
       "      <td>10h 55m</td>\n",
       "      <td>1 stop</td>\n",
       "      <td>No info</td>\n",
       "      <td>6</td>\n",
       "      <td>6</td>\n",
       "    </tr>\n",
       "    <tr>\n",
       "      <th>1</th>\n",
       "      <td>3</td>\n",
       "      <td>2019-05-12</td>\n",
       "      <td>Kolkata</td>\n",
       "      <td>Banglore</td>\n",
       "      <td>CCU → MAA → BLR</td>\n",
       "      <td>06:20</td>\n",
       "      <td>10:20</td>\n",
       "      <td>4h</td>\n",
       "      <td>1 stop</td>\n",
       "      <td>No info</td>\n",
       "      <td>12</td>\n",
       "      <td>5</td>\n",
       "    </tr>\n",
       "    <tr>\n",
       "      <th>2</th>\n",
       "      <td>4</td>\n",
       "      <td>2019-05-21</td>\n",
       "      <td>Delhi</td>\n",
       "      <td>Cochin</td>\n",
       "      <td>DEL → BOM → COK</td>\n",
       "      <td>19:15</td>\n",
       "      <td>19:00 22 May</td>\n",
       "      <td>23h 45m</td>\n",
       "      <td>1 stop</td>\n",
       "      <td>In-flight meal not included</td>\n",
       "      <td>21</td>\n",
       "      <td>5</td>\n",
       "    </tr>\n",
       "    <tr>\n",
       "      <th>3</th>\n",
       "      <td>6</td>\n",
       "      <td>2019-05-21</td>\n",
       "      <td>Delhi</td>\n",
       "      <td>Cochin</td>\n",
       "      <td>DEL → BOM → COK</td>\n",
       "      <td>08:00</td>\n",
       "      <td>21:00</td>\n",
       "      <td>13h</td>\n",
       "      <td>1 stop</td>\n",
       "      <td>No info</td>\n",
       "      <td>21</td>\n",
       "      <td>5</td>\n",
       "    </tr>\n",
       "    <tr>\n",
       "      <th>4</th>\n",
       "      <td>0</td>\n",
       "      <td>2019-06-24</td>\n",
       "      <td>Banglore</td>\n",
       "      <td>Delhi</td>\n",
       "      <td>BLR → DEL</td>\n",
       "      <td>23:55</td>\n",
       "      <td>02:45 25 Jun</td>\n",
       "      <td>2h 50m</td>\n",
       "      <td>non-stop</td>\n",
       "      <td>No info</td>\n",
       "      <td>24</td>\n",
       "      <td>6</td>\n",
       "    </tr>\n",
       "    <tr>\n",
       "      <th>...</th>\n",
       "      <td>...</td>\n",
       "      <td>...</td>\n",
       "      <td>...</td>\n",
       "      <td>...</td>\n",
       "      <td>...</td>\n",
       "      <td>...</td>\n",
       "      <td>...</td>\n",
       "      <td>...</td>\n",
       "      <td>...</td>\n",
       "      <td>...</td>\n",
       "      <td>...</td>\n",
       "      <td>...</td>\n",
       "    </tr>\n",
       "    <tr>\n",
       "      <th>2666</th>\n",
       "      <td>1</td>\n",
       "      <td>2019-06-06</td>\n",
       "      <td>Kolkata</td>\n",
       "      <td>Banglore</td>\n",
       "      <td>CCU → DEL → BLR</td>\n",
       "      <td>20:30</td>\n",
       "      <td>20:25 07 Jun</td>\n",
       "      <td>23h 55m</td>\n",
       "      <td>1 stop</td>\n",
       "      <td>No info</td>\n",
       "      <td>6</td>\n",
       "      <td>6</td>\n",
       "    </tr>\n",
       "    <tr>\n",
       "      <th>2667</th>\n",
       "      <td>3</td>\n",
       "      <td>2019-03-27</td>\n",
       "      <td>Kolkata</td>\n",
       "      <td>Banglore</td>\n",
       "      <td>CCU → BLR</td>\n",
       "      <td>14:20</td>\n",
       "      <td>16:55</td>\n",
       "      <td>2h 35m</td>\n",
       "      <td>non-stop</td>\n",
       "      <td>No info</td>\n",
       "      <td>27</td>\n",
       "      <td>3</td>\n",
       "    </tr>\n",
       "    <tr>\n",
       "      <th>2668</th>\n",
       "      <td>4</td>\n",
       "      <td>2019-03-06</td>\n",
       "      <td>Delhi</td>\n",
       "      <td>Cochin</td>\n",
       "      <td>DEL → BOM → COK</td>\n",
       "      <td>21:50</td>\n",
       "      <td>04:25 07 Mar</td>\n",
       "      <td>6h 35m</td>\n",
       "      <td>1 stop</td>\n",
       "      <td>No info</td>\n",
       "      <td>6</td>\n",
       "      <td>3</td>\n",
       "    </tr>\n",
       "    <tr>\n",
       "      <th>2669</th>\n",
       "      <td>1</td>\n",
       "      <td>2019-03-06</td>\n",
       "      <td>Delhi</td>\n",
       "      <td>Cochin</td>\n",
       "      <td>DEL → BOM → COK</td>\n",
       "      <td>04:00</td>\n",
       "      <td>19:15</td>\n",
       "      <td>15h 15m</td>\n",
       "      <td>1 stop</td>\n",
       "      <td>No info</td>\n",
       "      <td>6</td>\n",
       "      <td>3</td>\n",
       "    </tr>\n",
       "    <tr>\n",
       "      <th>2670</th>\n",
       "      <td>6</td>\n",
       "      <td>2019-06-15</td>\n",
       "      <td>Delhi</td>\n",
       "      <td>Cochin</td>\n",
       "      <td>DEL → BOM → COK</td>\n",
       "      <td>04:55</td>\n",
       "      <td>19:15</td>\n",
       "      <td>14h 20m</td>\n",
       "      <td>1 stop</td>\n",
       "      <td>No info</td>\n",
       "      <td>15</td>\n",
       "      <td>6</td>\n",
       "    </tr>\n",
       "  </tbody>\n",
       "</table>\n",
       "<p>2671 rows × 12 columns</p>\n",
       "</div>"
      ],
      "text/plain": [
       "      Airline Date_of_Journey    Source Destination            Route Dep_Time  \\\n",
       "0           4      2019-06-06     Delhi      Cochin  DEL → BOM → COK    17:30   \n",
       "1           3      2019-05-12   Kolkata    Banglore  CCU → MAA → BLR    06:20   \n",
       "2           4      2019-05-21     Delhi      Cochin  DEL → BOM → COK    19:15   \n",
       "3           6      2019-05-21     Delhi      Cochin  DEL → BOM → COK    08:00   \n",
       "4           0      2019-06-24  Banglore       Delhi        BLR → DEL    23:55   \n",
       "...       ...             ...       ...         ...              ...      ...   \n",
       "2666        1      2019-06-06   Kolkata    Banglore  CCU → DEL → BLR    20:30   \n",
       "2667        3      2019-03-27   Kolkata    Banglore        CCU → BLR    14:20   \n",
       "2668        4      2019-03-06     Delhi      Cochin  DEL → BOM → COK    21:50   \n",
       "2669        1      2019-03-06     Delhi      Cochin  DEL → BOM → COK    04:00   \n",
       "2670        6      2019-06-15     Delhi      Cochin  DEL → BOM → COK    04:55   \n",
       "\n",
       "      Arrival_Time Duration Total_Stops              Additional_Info  Date  \\\n",
       "0     04:25 07 Jun  10h 55m      1 stop                      No info     6   \n",
       "1            10:20       4h      1 stop                      No info    12   \n",
       "2     19:00 22 May  23h 45m      1 stop  In-flight meal not included    21   \n",
       "3            21:00      13h      1 stop                      No info    21   \n",
       "4     02:45 25 Jun   2h 50m    non-stop                      No info    24   \n",
       "...            ...      ...         ...                          ...   ...   \n",
       "2666  20:25 07 Jun  23h 55m      1 stop                      No info     6   \n",
       "2667         16:55   2h 35m    non-stop                      No info    27   \n",
       "2668  04:25 07 Mar   6h 35m      1 stop                      No info     6   \n",
       "2669         19:15  15h 15m      1 stop                      No info     6   \n",
       "2670         19:15  14h 20m      1 stop                      No info    15   \n",
       "\n",
       "      Month  \n",
       "0         6  \n",
       "1         5  \n",
       "2         5  \n",
       "3         5  \n",
       "4         6  \n",
       "...     ...  \n",
       "2666      6  \n",
       "2667      3  \n",
       "2668      3  \n",
       "2669      3  \n",
       "2670      6  \n",
       "\n",
       "[2671 rows x 12 columns]"
      ]
     },
     "execution_count": 1520,
     "metadata": {},
     "output_type": "execute_result"
    }
   ],
   "source": [
    "data_test"
   ]
  },
  {
   "cell_type": "code",
   "execution_count": 1521,
   "id": "7d3c76c8",
   "metadata": {},
   "outputs": [],
   "source": [
    "#As the date of journey is stored in date and month columns, date of journey is deleted\n",
    "data_test=data_test.drop(columns=[\"Date_of_Journey\"])"
   ]
  },
  {
   "cell_type": "code",
   "execution_count": 1522,
   "id": "ea4bb86c",
   "metadata": {},
   "outputs": [
    {
     "data": {
      "text/plain": [
       "<AxesSubplot:ylabel='Frequency'>"
      ]
     },
     "execution_count": 1522,
     "metadata": {},
     "output_type": "execute_result"
    },
    {
     "data": {
      "image/png": "[encoded data removed]",
      "text/plain": [
       "<Figure size 432x288 with 1 Axes>"
      ]
     },
     "metadata": {
      "needs_background": "light"
     },
     "output_type": "display_data"
    }
   ],
   "source": [
    "data_test.Date.plot(kind='hist')"
   ]
  },
  {
   "cell_type": "markdown",
   "id": "63227fcb",
   "metadata": {},
   "source": [
    "# \n",
    "The maximum flights are operated in the 1st week of the month"
   ]
  },
  {
   "cell_type": "code",
   "execution_count": 1523,
   "id": "bc4ae029",
   "metadata": {},
   "outputs": [
    {
     "name": "stdout",
     "output_type": "stream",
     "text": [
      "6    872\n",
      "5    863\n",
      "3    688\n",
      "4    248\n",
      "Name: Month, dtype: int64\n"
     ]
    },
    {
     "data": {
      "image/png": "[encoded data removed]",
      "text/plain": [
       "<Figure size 432x288 with 1 Axes>"
      ]
     },
     "metadata": {
      "needs_background": "light"
     },
     "output_type": "display_data"
    }
   ],
   "source": [
    "ax=sns.countplot(x=\"Month\", data=data_test)\n",
    "print(data_test[\"Month\"].value_counts())"
   ]
  },
  {
   "cell_type": "markdown",
   "id": "ef7a52d7",
   "metadata": {},
   "source": [
    "# \n",
    "The maximum flights are operated in the month of May and June"
   ]
  },
  {
   "cell_type": "code",
   "execution_count": 1524,
   "id": "c884ad76",
   "metadata": {},
   "outputs": [
    {
     "name": "stdout",
     "output_type": "stream",
     "text": [
      "Delhi       1145\n",
      "Kolkata      710\n",
      "Banglore     555\n",
      "Mumbai       186\n",
      "Chennai       75\n",
      "Name: Source, dtype: int64\n"
     ]
    },
    {
     "data": {
      "image/png": "[encoded data removed]",
      "text/plain": [
       "<Figure size 432x288 with 1 Axes>"
      ]
     },
     "metadata": {
      "needs_background": "light"
     },
     "output_type": "display_data"
    }
   ],
   "source": [
    "ax=sns.countplot(x=\"Source\", data=data_test)\n",
    "print(data_test[\"Source\"].value_counts())"
   ]
  },
  {
   "cell_type": "markdown",
   "id": "6719cbad",
   "metadata": {},
   "source": [
    "\n",
    "1145 flights depart from Delhi, 710 flights depart from Kolkata, 555 flights depart from Banglore, 186 flights depart from Mumbai, 75 flights depart from Chennai\n",
    "   "
   ]
  },
  {
   "cell_type": "code",
   "execution_count": 1525,
   "id": "abe8b53f",
   "metadata": {},
   "outputs": [],
   "source": [
    "#To maintain the encoding as with the train data, we replace it with the codes encoded in the training set\n",
    "\n",
    "data_test[\"Source\"]=data_test[\"Source\"].replace(\"Banglore\",0)\n",
    "data_test[\"Source\"]=data_test[\"Source\"].replace(\"Chennai\",1)\n",
    "data_test[\"Source\"]=data_test[\"Source\"].replace(\"Delhi\",2)\n",
    "data_test[\"Source\"]=data_test[\"Source\"].replace(\"Kolkata\",3)\n",
    "data_test[\"Source\"]=data_test[\"Source\"].replace(\"Mumbai\",4)"
   ]
  },
  {
   "cell_type": "markdown",
   "id": "dddf1d34",
   "metadata": {},
   "source": [
    "# \n",
    "The data is encoded as follows-\n",
    "\n",
    "- 0 - Banglore\n",
    "- 1 - Chennai\n",
    "- 2 - Delhi\n",
    "- 3 - Kolkata\n",
    "- 4 - Mumbai"
   ]
  },
  {
   "cell_type": "code",
   "execution_count": 1526,
   "id": "6c6bd5a8",
   "metadata": {},
   "outputs": [
    {
     "name": "stdout",
     "output_type": "stream",
     "text": [
      "Cochin       1145\n",
      "Banglore      710\n",
      "Delhi         317\n",
      "New Delhi     238\n",
      "Hyderabad     186\n",
      "Kolkata        75\n",
      "Name: Destination, dtype: int64\n"
     ]
    },
    {
     "data": {
      "image/png": "[encoded data removed]",
      "text/plain": [
       "<Figure size 1800x720 with 1 Axes>"
      ]
     },
     "metadata": {
      "needs_background": "light"
     },
     "output_type": "display_data"
    }
   ],
   "source": [
    "plt.figure(figsize=(25,10))\n",
    "ax=sns.countplot(x=\"Destination\", data=data_test)\n",
    "print(data_test[\"Destination\"].value_counts())"
   ]
  },
  {
   "cell_type": "markdown",
   "id": "2fc9e7b4",
   "metadata": {},
   "source": [
    "# \n",
    "1145 flights arrive at Cochin, 710 flights arrive at Banglore, 317 flights arrive at Delhi, 238 flights arrive at New Delhi, 186 flights arrive at Hyderabad, 75 flights arrive at Kolkata\n",
    "\n",
    "As Delhi and New Delhi are the same location, theri data will be combined (317+238), 555 flights arrive at Delhi"
   ]
  },
  {
   "cell_type": "code",
   "execution_count": 1527,
   "id": "8e7bb1c2",
   "metadata": {},
   "outputs": [],
   "source": [
    "#To maintain the encoding as with the train data, we replace it with the codes encoded in the training set\n",
    "\n",
    "data_test[\"Destination\"]=data_test[\"Destination\"].replace(\"Banglore\",10)\n",
    "data_test[\"Destination\"]=data_test[\"Destination\"].replace(\"Cochin\",11)\n",
    "data_test[\"Destination\"]=data_test[\"Destination\"].replace(\"Delhi\",12)\n",
    "data_test[\"Destination\"]=data_test[\"Destination\"].replace(\"Hyderabad\",13)\n",
    "data_test[\"Destination\"]=data_test[\"Destination\"].replace(\"Kolkata\",14)\n",
    "data_test[\"Destination\"]=data_test[\"Destination\"].replace(\"New Delhi\",12)"
   ]
  },
  {
   "cell_type": "markdown",
   "id": "133cd63a",
   "metadata": {},
   "source": [
    "# \n",
    "The data is now encoded as follows-\n",
    "\n",
    "- 10 - Banglore\n",
    "- 11 - Cochin\n",
    "- 12 - Delhi\n",
    "- 13 - Hyderabad\n",
    "- 14 - Kolkata"
   ]
  },
  {
   "cell_type": "code",
   "execution_count": 1528,
   "id": "a3a9a2a7",
   "metadata": {},
   "outputs": [
    {
     "name": "stdout",
     "output_type": "stream",
     "text": [
      "DEL → BOM → COK                624\n",
      "BLR → DEL                      389\n",
      "CCU → BOM → BLR                253\n",
      "CCU → BLR                      172\n",
      "BOM → HYD                      164\n",
      "                              ... \n",
      "BLR → BOM → IDR → GWL → DEL      1\n",
      "BLR → GOI → DEL                  1\n",
      "CCU → PAT → BLR                  1\n",
      "BLR → VGA → DEL                  1\n",
      "BOM → GOI → PNQ → HYD            1\n",
      "Name: Route, Length: 100, dtype: int64\n"
     ]
    },
    {
     "data": {
      "image/png": "[encoded data removed]",
      "text/plain": [
       "<Figure size 1800x720 with 1 Axes>"
      ]
     },
     "metadata": {
      "needs_background": "light"
     },
     "output_type": "display_data"
    }
   ],
   "source": [
    "plt.figure(figsize=(25,10))\n",
    "ax=sns.countplot(x=\"Route\", data=data_test)\n",
    "print(data_test[\"Route\"].value_counts())"
   ]
  },
  {
   "cell_type": "markdown",
   "id": "b260e4a8",
   "metadata": {},
   "source": [
    "# \n",
    "Maximum flights pass through Mumbai (BOM)"
   ]
  },
  {
   "cell_type": "code",
   "execution_count": 1529,
   "id": "657180ed",
   "metadata": {},
   "outputs": [],
   "source": [
    "#Encoding the features using OrdinalEncoder\n",
    "\n",
    "from sklearn.preprocessing import OrdinalEncoder\n",
    "enc=OrdinalEncoder()\n",
    "\n",
    "data_test[\"Route\"]=enc.fit_transform(data_test[\"Route\"].values.reshape(-1,1))"
   ]
  },
  {
   "cell_type": "code",
   "execution_count": 1530,
   "id": "7a27fc5f",
   "metadata": {},
   "outputs": [
    {
     "name": "stdout",
     "output_type": "stream",
     "text": [
      "10:00    62\n",
      "18:55    55\n",
      "20:00    53\n",
      "14:05    51\n",
      "17:00    48\n",
      "         ..\n",
      "22:30     1\n",
      "16:35     1\n",
      "15:35     1\n",
      "06:15     1\n",
      "23:00     1\n",
      "Name: Dep_Time, Length: 199, dtype: int64\n"
     ]
    },
    {
     "data": {
      "image/png": "[encoded data removed]",
      "text/plain": [
       "<Figure size 1800x720 with 1 Axes>"
      ]
     },
     "metadata": {
      "needs_background": "light"
     },
     "output_type": "display_data"
    }
   ],
   "source": [
    "plt.figure(figsize=(25,10))\n",
    "ax=sns.countplot(x=\"Dep_Time\", data=data_test)\n",
    "print(data_test[\"Dep_Time\"].value_counts())"
   ]
  },
  {
   "cell_type": "markdown",
   "id": "5944ba87",
   "metadata": {},
   "source": [
    "# \n",
    "Majority of the flights depart between 17:00 to 20:00"
   ]
  },
  {
   "cell_type": "code",
   "execution_count": 1531,
   "id": "2fcf0727",
   "metadata": {},
   "outputs": [],
   "source": [
    "#Converting time to continous number\n",
    "d=data_test[\"Dep_Time\"]"
   ]
  },
  {
   "cell_type": "code",
   "execution_count": 1532,
   "id": "0625aa18",
   "metadata": {},
   "outputs": [],
   "source": [
    "dd=[]\n",
    "for i in d:\n",
    "    dd.append(i[0:2]+i[3:5])"
   ]
  },
  {
   "cell_type": "code",
   "execution_count": 1533,
   "id": "eee4d0b0",
   "metadata": {},
   "outputs": [],
   "source": [
    "data_test[\"Dep_Time\"]=dd"
   ]
  },
  {
   "cell_type": "code",
   "execution_count": 1534,
   "id": "fddc04c4",
   "metadata": {},
   "outputs": [],
   "source": [
    "data_test[\"Dep_Time\"]=data_test[\"Dep_Time\"].astype(int)"
   ]
  },
  {
   "cell_type": "code",
   "execution_count": 1535,
   "id": "b4ed2806",
   "metadata": {},
   "outputs": [
    {
     "name": "stdout",
     "output_type": "stream",
     "text": [
      "19:00           113\n",
      "21:00           106\n",
      "19:15           101\n",
      "12:35            37\n",
      "16:10            31\n",
      "               ... \n",
      "19:10 13 May      1\n",
      "10:00 02 Apr      1\n",
      "19:10 02 Apr      1\n",
      "01:20 04 Mar      1\n",
      "20:25 07 Jun      1\n",
      "Name: Arrival_Time, Length: 704, dtype: int64\n"
     ]
    },
    {
     "data": {
      "image/png": "[encoded data removed]",
      "text/plain": [
       "<Figure size 1800x720 with 1 Axes>"
      ]
     },
     "metadata": {
      "needs_background": "light"
     },
     "output_type": "display_data"
    }
   ],
   "source": [
    "plt.figure(figsize=(25,10))\n",
    "ax=sns.countplot(x=\"Arrival_Time\", data=data_test)\n",
    "print(data_test[\"Arrival_Time\"].value_counts())"
   ]
  },
  {
   "cell_type": "markdown",
   "id": "8b3d1fe8",
   "metadata": {},
   "source": [
    "# \n",
    "Majority of the flights arrive at night between 19:00 and 21:00"
   ]
  },
  {
   "cell_type": "code",
   "execution_count": 1536,
   "id": "3aa7996f",
   "metadata": {},
   "outputs": [],
   "source": [
    "#Converting time to continous number\n",
    "da=data_test[\"Arrival_Time\"]"
   ]
  },
  {
   "cell_type": "code",
   "execution_count": 1537,
   "id": "d1b8bc23",
   "metadata": {},
   "outputs": [],
   "source": [
    "d=[]\n",
    "for i in da:\n",
    "    d.append(i[0:2]+i[3:5])"
   ]
  },
  {
   "cell_type": "code",
   "execution_count": 1538,
   "id": "d13218a0",
   "metadata": {},
   "outputs": [],
   "source": [
    "data_test[\"Arrival_Time\"]=d"
   ]
  },
  {
   "cell_type": "code",
   "execution_count": 1539,
   "id": "3d32edfb",
   "metadata": {},
   "outputs": [],
   "source": [
    "data_test[\"Arrival_Time\"]=data_test[\"Arrival_Time\"].astype(int)"
   ]
  },
  {
   "cell_type": "code",
   "execution_count": 1540,
   "id": "9c946689",
   "metadata": {},
   "outputs": [
    {
     "name": "stdout",
     "output_type": "stream",
     "text": [
      "2h 50m     122\n",
      "1h 30m     107\n",
      "2h 45m      95\n",
      "2h 55m      81\n",
      "3h          72\n",
      "          ... \n",
      "30h 45m      1\n",
      "32h 5m       1\n",
      "32h 20m      1\n",
      "28h 55m      1\n",
      "5m           1\n",
      "Name: Duration, Length: 320, dtype: int64\n"
     ]
    },
    {
     "data": {
      "image/png": "[encoded data removed]",
      "text/plain": [
       "<Figure size 1800x720 with 1 Axes>"
      ]
     },
     "metadata": {
      "needs_background": "light"
     },
     "output_type": "display_data"
    }
   ],
   "source": [
    "plt.figure(figsize=(25,10))\n",
    "ax=sns.countplot(x=\"Duration\", data=data_test)\n",
    "print(data_test[\"Duration\"].value_counts())"
   ]
  },
  {
   "cell_type": "markdown",
   "id": "30f1d43a",
   "metadata": {},
   "source": [
    "# \n",
    "The flight duration of majority flights are of 1-3 hours"
   ]
  },
  {
   "cell_type": "code",
   "execution_count": 1541,
   "id": "0d67c06c",
   "metadata": {},
   "outputs": [],
   "source": [
    "#Converting time to continous number\n",
    "dur=data_test[\"Duration\"]"
   ]
  },
  {
   "cell_type": "code",
   "execution_count": 1542,
   "id": "51683a8a",
   "metadata": {},
   "outputs": [],
   "source": [
    "dt_h=[]\n",
    "dt_m=[]\n",
    "for i in dur:\n",
    "    b=\"\"\n",
    "    c=\"\"\n",
    "    x=0\n",
    "    y=0\n",
    "    for a in range(0,len(i)):\n",
    "        if i[a]=='h':\n",
    "            x=a\n",
    "            b=i[0:x]\n",
    "            dt_h.append(b)\n",
    "    for a in range(0,len(i)):       \n",
    "        if i[a]=='m':\n",
    "            y=a\n",
    "            if x>0:\n",
    "                c=i[x+2:y] \n",
    "            else:\n",
    "                c=i[0:y]\n",
    "            dt_m.append(c)\n",
    "    if b==\"\":\n",
    "        dt_h.append('0')\n",
    "    if c==\"\":\n",
    "        dt_m.append('0')   "
   ]
  },
  {
   "cell_type": "code",
   "execution_count": 1543,
   "id": "1672b756",
   "metadata": {},
   "outputs": [],
   "source": [
    "#converting duration into minutes\n",
    "dh=[]\n",
    "a=0\n",
    "for i in dt_h:\n",
    "    l=int(i)\n",
    "    if dt_m[a]=='':\n",
    "        j=0\n",
    "    else:\n",
    "        j=int(dt_m[a])\n",
    "    k=(l*60)+j\n",
    "    dh.append(k)\n",
    "    a=a+1"
   ]
  },
  {
   "cell_type": "code",
   "execution_count": 1544,
   "id": "16165aaf",
   "metadata": {},
   "outputs": [],
   "source": [
    "data_test[\"Duration\"]=dh"
   ]
  },
  {
   "cell_type": "code",
   "execution_count": 1545,
   "id": "f0819cd1",
   "metadata": {},
   "outputs": [
    {
     "name": "stdout",
     "output_type": "stream",
     "text": [
      "1 stop      1431\n",
      "non-stop     849\n",
      "2 stops      379\n",
      "3 stops       11\n",
      "4 stops        1\n",
      "Name: Total_Stops, dtype: int64\n"
     ]
    },
    {
     "data": {
      "image/png": "[encoded data removed]",
      "text/plain": [
       "<Figure size 1800x720 with 1 Axes>"
      ]
     },
     "metadata": {
      "needs_background": "light"
     },
     "output_type": "display_data"
    }
   ],
   "source": [
    "plt.figure(figsize=(25,10))\n",
    "ax=sns.countplot(x=\"Total_Stops\", data=data_test)\n",
    "print(data_test[\"Total_Stops\"].value_counts())"
   ]
  },
  {
   "cell_type": "markdown",
   "id": "245f64d0",
   "metadata": {},
   "source": [
    "# \n",
    "1431 flights have 1 stop, 849 fly non-stop, 379 flights have 2 stops, 11 flights have 3 stops, 1 flight have 4 stops\n",
    "  "
   ]
  },
  {
   "cell_type": "code",
   "execution_count": 1546,
   "id": "6b74f1c3",
   "metadata": {},
   "outputs": [],
   "source": [
    "#Replace the values of meaningful obvious values\n",
    "data_test[\"Total_Stops\"]=data_test[\"Total_Stops\"].replace(\"non-stop\",0)\n",
    "data_test[\"Total_Stops\"]=data_test[\"Total_Stops\"].replace(\"1 stop\",1)\n",
    "data_test[\"Total_Stops\"]=data_test[\"Total_Stops\"].replace(\"2 stops\",2)\n",
    "data_test[\"Total_Stops\"]=data_test[\"Total_Stops\"].replace(\"3 stops\",3)\n",
    "data_test[\"Total_Stops\"]=data_test[\"Total_Stops\"].replace(\"4 stops\",4)"
   ]
  },
  {
   "cell_type": "markdown",
   "id": "5baa7120",
   "metadata": {},
   "source": [
    "# \n",
    "The data is encoded as follows-\n",
    "\n",
    "- 0 - non-stop\n",
    "- 1 - 1 stop\n",
    "- 2 - 2 stops\n",
    "- 3 - 3 stops\n",
    "- 4 - 4 stops"
   ]
  },
  {
   "cell_type": "code",
   "execution_count": 1547,
   "id": "c13e7994",
   "metadata": {},
   "outputs": [
    {
     "name": "stdout",
     "output_type": "stream",
     "text": [
      "No info                         2148\n",
      "In-flight meal not included      444\n",
      "No check-in baggage included      76\n",
      "1 Long layover                     1\n",
      "Business class                     1\n",
      "Change airports                    1\n",
      "Name: Additional_Info, dtype: int64\n"
     ]
    },
    {
     "data": {
      "image/png": "[encoded data removed]",
      "text/plain": [
       "<Figure size 1800x720 with 1 Axes>"
      ]
     },
     "metadata": {
      "needs_background": "light"
     },
     "output_type": "display_data"
    }
   ],
   "source": [
    "plt.figure(figsize=(25,10))\n",
    "ax=sns.countplot(x=\"Additional_Info\", data=data_test)\n",
    "print(data_test[\"Additional_Info\"].value_counts())"
   ]
  },
  {
   "cell_type": "markdown",
   "id": "85000785",
   "metadata": {},
   "source": [
    "# \n",
    "2148 have no additional info, 444 have In-flight meal not included, 76 have No check-in baggage included, 1 has 1 Long layover, 1 has Business class,  1 has Change airports     "
   ]
  },
  {
   "cell_type": "code",
   "execution_count": 1548,
   "id": "81f6cc68",
   "metadata": {},
   "outputs": [],
   "source": [
    "#To maintain the encoding as with the train data, we replace it with the codes encoded in the training set\n",
    "\n",
    "data_test[\"Additional_Info\"]=data_test[\"Additional_Info\"].replace(\"1 Long layover\",0)\n",
    "data_test[\"Additional_Info\"]=data_test[\"Additional_Info\"].replace(\"Business class\",3)\n",
    "data_test[\"Additional_Info\"]=data_test[\"Additional_Info\"].replace(\"Change airports\",4)\n",
    "data_test[\"Additional_Info\"]=data_test[\"Additional_Info\"].replace(\"In-flight meal not included\",5)\n",
    "data_test[\"Additional_Info\"]=data_test[\"Additional_Info\"].replace(\"No info\",8)\n",
    "data_test[\"Additional_Info\"]=data_test[\"Additional_Info\"].replace(\"No check-in baggage included\",7)"
   ]
  },
  {
   "cell_type": "markdown",
   "id": "aeb08263",
   "metadata": {},
   "source": [
    "# \n",
    "The data is encoded as follows-\n",
    "\n",
    "- 0 - 1 Long layover\n",
    "- 3 - Business class\n",
    "- 4 - Change airports\n",
    "- 5 - In-flight meal not included\n",
    "- 7 - No check-in baggage included\n",
    "- 8 - No info"
   ]
  },
  {
   "cell_type": "code",
   "execution_count": 1549,
   "id": "7e2f6f57",
   "metadata": {},
   "outputs": [
    {
     "data": {
      "text/html": [
       "<div>\n",
       "<style scoped>\n",
       "    .dataframe tbody tr th:only-of-type {\n",
       "        vertical-align: middle;\n",
       "    }\n",
       "\n",
       "    .dataframe tbody tr th {\n",
       "        vertical-align: top;\n",
       "    }\n",
       "\n",
       "    .dataframe thead th {\n",
       "        text-align: right;\n",
       "    }\n",
       "</style>\n",
       "<table border=\"1\" class=\"dataframe\">\n",
       "  <thead>\n",
       "    <tr style=\"text-align: right;\">\n",
       "      <th></th>\n",
       "      <th>Airline</th>\n",
       "      <th>Source</th>\n",
       "      <th>Destination</th>\n",
       "      <th>Route</th>\n",
       "      <th>Dep_Time</th>\n",
       "      <th>Arrival_Time</th>\n",
       "      <th>Duration</th>\n",
       "      <th>Total_Stops</th>\n",
       "      <th>Additional_Info</th>\n",
       "      <th>Date</th>\n",
       "      <th>Month</th>\n",
       "    </tr>\n",
       "  </thead>\n",
       "  <tbody>\n",
       "    <tr>\n",
       "      <th>0</th>\n",
       "      <td>4</td>\n",
       "      <td>2</td>\n",
       "      <td>11</td>\n",
       "      <td>76.0</td>\n",
       "      <td>1730</td>\n",
       "      <td>425</td>\n",
       "      <td>655</td>\n",
       "      <td>1</td>\n",
       "      <td>8</td>\n",
       "      <td>6</td>\n",
       "      <td>6</td>\n",
       "    </tr>\n",
       "    <tr>\n",
       "      <th>1</th>\n",
       "      <td>3</td>\n",
       "      <td>3</td>\n",
       "      <td>10</td>\n",
       "      <td>65.0</td>\n",
       "      <td>620</td>\n",
       "      <td>1020</td>\n",
       "      <td>240</td>\n",
       "      <td>1</td>\n",
       "      <td>8</td>\n",
       "      <td>12</td>\n",
       "      <td>5</td>\n",
       "    </tr>\n",
       "    <tr>\n",
       "      <th>2</th>\n",
       "      <td>4</td>\n",
       "      <td>2</td>\n",
       "      <td>11</td>\n",
       "      <td>76.0</td>\n",
       "      <td>1915</td>\n",
       "      <td>1900</td>\n",
       "      <td>1425</td>\n",
       "      <td>1</td>\n",
       "      <td>5</td>\n",
       "      <td>21</td>\n",
       "      <td>5</td>\n",
       "    </tr>\n",
       "    <tr>\n",
       "      <th>3</th>\n",
       "      <td>6</td>\n",
       "      <td>2</td>\n",
       "      <td>11</td>\n",
       "      <td>76.0</td>\n",
       "      <td>800</td>\n",
       "      <td>2100</td>\n",
       "      <td>780</td>\n",
       "      <td>1</td>\n",
       "      <td>8</td>\n",
       "      <td>21</td>\n",
       "      <td>5</td>\n",
       "    </tr>\n",
       "    <tr>\n",
       "      <th>4</th>\n",
       "      <td>0</td>\n",
       "      <td>0</td>\n",
       "      <td>12</td>\n",
       "      <td>16.0</td>\n",
       "      <td>2355</td>\n",
       "      <td>245</td>\n",
       "      <td>170</td>\n",
       "      <td>0</td>\n",
       "      <td>8</td>\n",
       "      <td>24</td>\n",
       "      <td>6</td>\n",
       "    </tr>\n",
       "    <tr>\n",
       "      <th>...</th>\n",
       "      <td>...</td>\n",
       "      <td>...</td>\n",
       "      <td>...</td>\n",
       "      <td>...</td>\n",
       "      <td>...</td>\n",
       "      <td>...</td>\n",
       "      <td>...</td>\n",
       "      <td>...</td>\n",
       "      <td>...</td>\n",
       "      <td>...</td>\n",
       "      <td>...</td>\n",
       "    </tr>\n",
       "    <tr>\n",
       "      <th>2666</th>\n",
       "      <td>1</td>\n",
       "      <td>3</td>\n",
       "      <td>10</td>\n",
       "      <td>51.0</td>\n",
       "      <td>2030</td>\n",
       "      <td>2025</td>\n",
       "      <td>1435</td>\n",
       "      <td>1</td>\n",
       "      <td>8</td>\n",
       "      <td>6</td>\n",
       "      <td>6</td>\n",
       "    </tr>\n",
       "    <tr>\n",
       "      <th>2667</th>\n",
       "      <td>3</td>\n",
       "      <td>3</td>\n",
       "      <td>10</td>\n",
       "      <td>43.0</td>\n",
       "      <td>1420</td>\n",
       "      <td>1655</td>\n",
       "      <td>155</td>\n",
       "      <td>0</td>\n",
       "      <td>8</td>\n",
       "      <td>27</td>\n",
       "      <td>3</td>\n",
       "    </tr>\n",
       "    <tr>\n",
       "      <th>2668</th>\n",
       "      <td>4</td>\n",
       "      <td>2</td>\n",
       "      <td>11</td>\n",
       "      <td>76.0</td>\n",
       "      <td>2150</td>\n",
       "      <td>425</td>\n",
       "      <td>395</td>\n",
       "      <td>1</td>\n",
       "      <td>8</td>\n",
       "      <td>6</td>\n",
       "      <td>3</td>\n",
       "    </tr>\n",
       "    <tr>\n",
       "      <th>2669</th>\n",
       "      <td>1</td>\n",
       "      <td>2</td>\n",
       "      <td>11</td>\n",
       "      <td>76.0</td>\n",
       "      <td>400</td>\n",
       "      <td>1915</td>\n",
       "      <td>915</td>\n",
       "      <td>1</td>\n",
       "      <td>8</td>\n",
       "      <td>6</td>\n",
       "      <td>3</td>\n",
       "    </tr>\n",
       "    <tr>\n",
       "      <th>2670</th>\n",
       "      <td>6</td>\n",
       "      <td>2</td>\n",
       "      <td>11</td>\n",
       "      <td>76.0</td>\n",
       "      <td>455</td>\n",
       "      <td>1915</td>\n",
       "      <td>860</td>\n",
       "      <td>1</td>\n",
       "      <td>8</td>\n",
       "      <td>15</td>\n",
       "      <td>6</td>\n",
       "    </tr>\n",
       "  </tbody>\n",
       "</table>\n",
       "<p>2671 rows × 11 columns</p>\n",
       "</div>"
      ],
      "text/plain": [
       "      Airline  Source  Destination  Route  Dep_Time  Arrival_Time  Duration  \\\n",
       "0           4       2           11   76.0      1730           425       655   \n",
       "1           3       3           10   65.0       620          1020       240   \n",
       "2           4       2           11   76.0      1915          1900      1425   \n",
       "3           6       2           11   76.0       800          2100       780   \n",
       "4           0       0           12   16.0      2355           245       170   \n",
       "...       ...     ...          ...    ...       ...           ...       ...   \n",
       "2666        1       3           10   51.0      2030          2025      1435   \n",
       "2667        3       3           10   43.0      1420          1655       155   \n",
       "2668        4       2           11   76.0      2150           425       395   \n",
       "2669        1       2           11   76.0       400          1915       915   \n",
       "2670        6       2           11   76.0       455          1915       860   \n",
       "\n",
       "      Total_Stops  Additional_Info  Date  Month  \n",
       "0               1                8     6      6  \n",
       "1               1                8    12      5  \n",
       "2               1                5    21      5  \n",
       "3               1                8    21      5  \n",
       "4               0                8    24      6  \n",
       "...           ...              ...   ...    ...  \n",
       "2666            1                8     6      6  \n",
       "2667            0                8    27      3  \n",
       "2668            1                8     6      3  \n",
       "2669            1                8     6      3  \n",
       "2670            1                8    15      6  \n",
       "\n",
       "[2671 rows x 11 columns]"
      ]
     },
     "execution_count": 1549,
     "metadata": {},
     "output_type": "execute_result"
    }
   ],
   "source": [
    "data_test"
   ]
  },
  {
   "cell_type": "code",
   "execution_count": 1550,
   "id": "9476e5c9",
   "metadata": {},
   "outputs": [
    {
     "data": {
      "text/html": [
       "<div>\n",
       "<style scoped>\n",
       "    .dataframe tbody tr th:only-of-type {\n",
       "        vertical-align: middle;\n",
       "    }\n",
       "\n",
       "    .dataframe tbody tr th {\n",
       "        vertical-align: top;\n",
       "    }\n",
       "\n",
       "    .dataframe thead th {\n",
       "        text-align: right;\n",
       "    }\n",
       "</style>\n",
       "<table border=\"1\" class=\"dataframe\">\n",
       "  <thead>\n",
       "    <tr style=\"text-align: right;\">\n",
       "      <th></th>\n",
       "      <th>Airline</th>\n",
       "      <th>Source</th>\n",
       "      <th>Destination</th>\n",
       "      <th>Route</th>\n",
       "      <th>Dep_Time</th>\n",
       "      <th>Arrival_Time</th>\n",
       "      <th>Duration</th>\n",
       "      <th>Total_Stops</th>\n",
       "      <th>Additional_Info</th>\n",
       "      <th>Date</th>\n",
       "      <th>Month</th>\n",
       "    </tr>\n",
       "  </thead>\n",
       "  <tbody>\n",
       "    <tr>\n",
       "      <th>count</th>\n",
       "      <td>2671.000000</td>\n",
       "      <td>2671.000000</td>\n",
       "      <td>2671.000000</td>\n",
       "      <td>2671.000000</td>\n",
       "      <td>2671.000000</td>\n",
       "      <td>2671.000000</td>\n",
       "      <td>2671.00000</td>\n",
       "      <td>2671.000000</td>\n",
       "      <td>2671.000000</td>\n",
       "      <td>2671.000000</td>\n",
       "      <td>2671.000000</td>\n",
       "    </tr>\n",
       "    <tr>\n",
       "      <th>mean</th>\n",
       "      <td>4.021715</td>\n",
       "      <td>1.961438</td>\n",
       "      <td>11.165481</td>\n",
       "      <td>54.356421</td>\n",
       "      <td>1285.243355</td>\n",
       "      <td>1383.075627</td>\n",
       "      <td>639.74167</td>\n",
       "      <td>0.833396</td>\n",
       "      <td>7.466492</td>\n",
       "      <td>12.915762</td>\n",
       "      <td>4.718458</td>\n",
       "    </tr>\n",
       "    <tr>\n",
       "      <th>std</th>\n",
       "      <td>2.410708</td>\n",
       "      <td>1.184328</td>\n",
       "      <td>0.988863</td>\n",
       "      <td>27.128993</td>\n",
       "      <td>568.328564</td>\n",
       "      <td>701.951322</td>\n",
       "      <td>502.18693</td>\n",
       "      <td>0.672315</td>\n",
       "      <td>1.131230</td>\n",
       "      <td>8.260824</td>\n",
       "      <td>1.170851</td>\n",
       "    </tr>\n",
       "    <tr>\n",
       "      <th>min</th>\n",
       "      <td>0.000000</td>\n",
       "      <td>0.000000</td>\n",
       "      <td>10.000000</td>\n",
       "      <td>0.000000</td>\n",
       "      <td>25.000000</td>\n",
       "      <td>5.000000</td>\n",
       "      <td>5.00000</td>\n",
       "      <td>0.000000</td>\n",
       "      <td>0.000000</td>\n",
       "      <td>1.000000</td>\n",
       "      <td>3.000000</td>\n",
       "    </tr>\n",
       "    <tr>\n",
       "      <th>25%</th>\n",
       "      <td>3.000000</td>\n",
       "      <td>2.000000</td>\n",
       "      <td>10.000000</td>\n",
       "      <td>33.000000</td>\n",
       "      <td>800.000000</td>\n",
       "      <td>845.000000</td>\n",
       "      <td>175.00000</td>\n",
       "      <td>0.000000</td>\n",
       "      <td>8.000000</td>\n",
       "      <td>6.000000</td>\n",
       "      <td>3.000000</td>\n",
       "    </tr>\n",
       "    <tr>\n",
       "      <th>50%</th>\n",
       "      <td>4.000000</td>\n",
       "      <td>2.000000</td>\n",
       "      <td>11.000000</td>\n",
       "      <td>51.000000</td>\n",
       "      <td>1200.000000</td>\n",
       "      <td>1525.000000</td>\n",
       "      <td>520.00000</td>\n",
       "      <td>1.000000</td>\n",
       "      <td>8.000000</td>\n",
       "      <td>12.000000</td>\n",
       "      <td>5.000000</td>\n",
       "    </tr>\n",
       "    <tr>\n",
       "      <th>75%</th>\n",
       "      <td>6.000000</td>\n",
       "      <td>3.000000</td>\n",
       "      <td>12.000000</td>\n",
       "      <td>76.000000</td>\n",
       "      <td>1815.000000</td>\n",
       "      <td>1945.000000</td>\n",
       "      <td>915.00000</td>\n",
       "      <td>1.000000</td>\n",
       "      <td>8.000000</td>\n",
       "      <td>21.000000</td>\n",
       "      <td>6.000000</td>\n",
       "    </tr>\n",
       "    <tr>\n",
       "      <th>max</th>\n",
       "      <td>11.000000</td>\n",
       "      <td>4.000000</td>\n",
       "      <td>14.000000</td>\n",
       "      <td>99.000000</td>\n",
       "      <td>2355.000000</td>\n",
       "      <td>2355.000000</td>\n",
       "      <td>2440.00000</td>\n",
       "      <td>4.000000</td>\n",
       "      <td>8.000000</td>\n",
       "      <td>27.000000</td>\n",
       "      <td>6.000000</td>\n",
       "    </tr>\n",
       "  </tbody>\n",
       "</table>\n",
       "</div>"
      ],
      "text/plain": [
       "           Airline       Source  Destination        Route     Dep_Time  \\\n",
       "count  2671.000000  2671.000000  2671.000000  2671.000000  2671.000000   \n",
       "mean      4.021715     1.961438    11.165481    54.356421  1285.243355   \n",
       "std       2.410708     1.184328     0.988863    27.128993   568.328564   \n",
       "min       0.000000     0.000000    10.000000     0.000000    25.000000   \n",
       "25%       3.000000     2.000000    10.000000    33.000000   800.000000   \n",
       "50%       4.000000     2.000000    11.000000    51.000000  1200.000000   \n",
       "75%       6.000000     3.000000    12.000000    76.000000  1815.000000   \n",
       "max      11.000000     4.000000    14.000000    99.000000  2355.000000   \n",
       "\n",
       "       Arrival_Time    Duration  Total_Stops  Additional_Info         Date  \\\n",
       "count   2671.000000  2671.00000  2671.000000      2671.000000  2671.000000   \n",
       "mean    1383.075627   639.74167     0.833396         7.466492    12.915762   \n",
       "std      701.951322   502.18693     0.672315         1.131230     8.260824   \n",
       "min        5.000000     5.00000     0.000000         0.000000     1.000000   \n",
       "25%      845.000000   175.00000     0.000000         8.000000     6.000000   \n",
       "50%     1525.000000   520.00000     1.000000         8.000000    12.000000   \n",
       "75%     1945.000000   915.00000     1.000000         8.000000    21.000000   \n",
       "max     2355.000000  2440.00000     4.000000         8.000000    27.000000   \n",
       "\n",
       "             Month  \n",
       "count  2671.000000  \n",
       "mean      4.718458  \n",
       "std       1.170851  \n",
       "min       3.000000  \n",
       "25%       3.000000  \n",
       "50%       5.000000  \n",
       "75%       6.000000  \n",
       "max       6.000000  "
      ]
     },
     "execution_count": 1550,
     "metadata": {},
     "output_type": "execute_result"
    }
   ],
   "source": [
    "#Statistical Analysis\n",
    "data_test.describe()"
   ]
  },
  {
   "cell_type": "code",
   "execution_count": 1551,
   "id": "96429c70",
   "metadata": {},
   "outputs": [
    {
     "data": {
      "text/html": [
       "<div>\n",
       "<style scoped>\n",
       "    .dataframe tbody tr th:only-of-type {\n",
       "        vertical-align: middle;\n",
       "    }\n",
       "\n",
       "    .dataframe tbody tr th {\n",
       "        vertical-align: top;\n",
       "    }\n",
       "\n",
       "    .dataframe thead th {\n",
       "        text-align: right;\n",
       "    }\n",
       "</style>\n",
       "<table border=\"1\" class=\"dataframe\">\n",
       "  <thead>\n",
       "    <tr style=\"text-align: right;\">\n",
       "      <th></th>\n",
       "      <th>Airline</th>\n",
       "      <th>Source</th>\n",
       "      <th>Destination</th>\n",
       "      <th>Route</th>\n",
       "      <th>Dep_Time</th>\n",
       "      <th>Arrival_Time</th>\n",
       "      <th>Duration</th>\n",
       "      <th>Total_Stops</th>\n",
       "      <th>Additional_Info</th>\n",
       "      <th>Date</th>\n",
       "      <th>Month</th>\n",
       "    </tr>\n",
       "  </thead>\n",
       "  <tbody>\n",
       "    <tr>\n",
       "      <th>2660</th>\n",
       "      <td>1</td>\n",
       "      <td>4</td>\n",
       "      <td>13</td>\n",
       "      <td>32.0</td>\n",
       "      <td>1650</td>\n",
       "      <td>1655</td>\n",
       "      <td>5</td>\n",
       "      <td>2</td>\n",
       "      <td>8</td>\n",
       "      <td>12</td>\n",
       "      <td>3</td>\n",
       "    </tr>\n",
       "  </tbody>\n",
       "</table>\n",
       "</div>"
      ],
      "text/plain": [
       "      Airline  Source  Destination  Route  Dep_Time  Arrival_Time  Duration  \\\n",
       "2660        1       4           13   32.0      1650          1655         5   \n",
       "\n",
       "      Total_Stops  Additional_Info  Date  Month  \n",
       "2660            2                8    12      3  "
      ]
     },
     "execution_count": 1551,
     "metadata": {},
     "output_type": "execute_result"
    }
   ],
   "source": [
    "#As the duration of any flight is not usually 5 minutes, the data needs to be checked\n",
    "\n",
    "data_test.loc[data_test[\"Duration\"]==5]"
   ]
  },
  {
   "cell_type": "code",
   "execution_count": 1552,
   "id": "0f0a6e1a",
   "metadata": {},
   "outputs": [],
   "source": [
    "#The arrival time is probably for the next day\n",
    "\n",
    "data_test[\"Duration\"]=data_test[\"Duration\"].replace(5,1445)"
   ]
  },
  {
   "cell_type": "code",
   "execution_count": 1553,
   "id": "03012347",
   "metadata": {},
   "outputs": [
    {
     "data": {
      "text/html": [
       "<div>\n",
       "<style scoped>\n",
       "    .dataframe tbody tr th:only-of-type {\n",
       "        vertical-align: middle;\n",
       "    }\n",
       "\n",
       "    .dataframe tbody tr th {\n",
       "        vertical-align: top;\n",
       "    }\n",
       "\n",
       "    .dataframe thead th {\n",
       "        text-align: right;\n",
       "    }\n",
       "</style>\n",
       "<table border=\"1\" class=\"dataframe\">\n",
       "  <thead>\n",
       "    <tr style=\"text-align: right;\">\n",
       "      <th></th>\n",
       "      <th>Airline</th>\n",
       "      <th>Source</th>\n",
       "      <th>Destination</th>\n",
       "      <th>Route</th>\n",
       "      <th>Dep_Time</th>\n",
       "      <th>Arrival_Time</th>\n",
       "      <th>Duration</th>\n",
       "      <th>Total_Stops</th>\n",
       "      <th>Additional_Info</th>\n",
       "      <th>Date</th>\n",
       "      <th>Month</th>\n",
       "    </tr>\n",
       "  </thead>\n",
       "  <tbody>\n",
       "    <tr>\n",
       "      <th>count</th>\n",
       "      <td>2671.000000</td>\n",
       "      <td>2671.000000</td>\n",
       "      <td>2671.000000</td>\n",
       "      <td>2671.000000</td>\n",
       "      <td>2671.000000</td>\n",
       "      <td>2671.000000</td>\n",
       "      <td>2671.000000</td>\n",
       "      <td>2671.000000</td>\n",
       "      <td>2671.000000</td>\n",
       "      <td>2671.000000</td>\n",
       "      <td>2671.000000</td>\n",
       "    </tr>\n",
       "    <tr>\n",
       "      <th>mean</th>\n",
       "      <td>4.021715</td>\n",
       "      <td>1.961438</td>\n",
       "      <td>11.165481</td>\n",
       "      <td>54.356421</td>\n",
       "      <td>1285.243355</td>\n",
       "      <td>1383.075627</td>\n",
       "      <td>640.280794</td>\n",
       "      <td>0.833396</td>\n",
       "      <td>7.466492</td>\n",
       "      <td>12.915762</td>\n",
       "      <td>4.718458</td>\n",
       "    </tr>\n",
       "    <tr>\n",
       "      <th>std</th>\n",
       "      <td>2.410708</td>\n",
       "      <td>1.184328</td>\n",
       "      <td>0.988863</td>\n",
       "      <td>27.128993</td>\n",
       "      <td>568.328564</td>\n",
       "      <td>701.951322</td>\n",
       "      <td>502.278195</td>\n",
       "      <td>0.672315</td>\n",
       "      <td>1.131230</td>\n",
       "      <td>8.260824</td>\n",
       "      <td>1.170851</td>\n",
       "    </tr>\n",
       "    <tr>\n",
       "      <th>min</th>\n",
       "      <td>0.000000</td>\n",
       "      <td>0.000000</td>\n",
       "      <td>10.000000</td>\n",
       "      <td>0.000000</td>\n",
       "      <td>25.000000</td>\n",
       "      <td>5.000000</td>\n",
       "      <td>75.000000</td>\n",
       "      <td>0.000000</td>\n",
       "      <td>0.000000</td>\n",
       "      <td>1.000000</td>\n",
       "      <td>3.000000</td>\n",
       "    </tr>\n",
       "    <tr>\n",
       "      <th>25%</th>\n",
       "      <td>3.000000</td>\n",
       "      <td>2.000000</td>\n",
       "      <td>10.000000</td>\n",
       "      <td>33.000000</td>\n",
       "      <td>800.000000</td>\n",
       "      <td>845.000000</td>\n",
       "      <td>175.000000</td>\n",
       "      <td>0.000000</td>\n",
       "      <td>8.000000</td>\n",
       "      <td>6.000000</td>\n",
       "      <td>3.000000</td>\n",
       "    </tr>\n",
       "    <tr>\n",
       "      <th>50%</th>\n",
       "      <td>4.000000</td>\n",
       "      <td>2.000000</td>\n",
       "      <td>11.000000</td>\n",
       "      <td>51.000000</td>\n",
       "      <td>1200.000000</td>\n",
       "      <td>1525.000000</td>\n",
       "      <td>520.000000</td>\n",
       "      <td>1.000000</td>\n",
       "      <td>8.000000</td>\n",
       "      <td>12.000000</td>\n",
       "      <td>5.000000</td>\n",
       "    </tr>\n",
       "    <tr>\n",
       "      <th>75%</th>\n",
       "      <td>6.000000</td>\n",
       "      <td>3.000000</td>\n",
       "      <td>12.000000</td>\n",
       "      <td>76.000000</td>\n",
       "      <td>1815.000000</td>\n",
       "      <td>1945.000000</td>\n",
       "      <td>915.000000</td>\n",
       "      <td>1.000000</td>\n",
       "      <td>8.000000</td>\n",
       "      <td>21.000000</td>\n",
       "      <td>6.000000</td>\n",
       "    </tr>\n",
       "    <tr>\n",
       "      <th>max</th>\n",
       "      <td>11.000000</td>\n",
       "      <td>4.000000</td>\n",
       "      <td>14.000000</td>\n",
       "      <td>99.000000</td>\n",
       "      <td>2355.000000</td>\n",
       "      <td>2355.000000</td>\n",
       "      <td>2440.000000</td>\n",
       "      <td>4.000000</td>\n",
       "      <td>8.000000</td>\n",
       "      <td>27.000000</td>\n",
       "      <td>6.000000</td>\n",
       "    </tr>\n",
       "  </tbody>\n",
       "</table>\n",
       "</div>"
      ],
      "text/plain": [
       "           Airline       Source  Destination        Route     Dep_Time  \\\n",
       "count  2671.000000  2671.000000  2671.000000  2671.000000  2671.000000   \n",
       "mean      4.021715     1.961438    11.165481    54.356421  1285.243355   \n",
       "std       2.410708     1.184328     0.988863    27.128993   568.328564   \n",
       "min       0.000000     0.000000    10.000000     0.000000    25.000000   \n",
       "25%       3.000000     2.000000    10.000000    33.000000   800.000000   \n",
       "50%       4.000000     2.000000    11.000000    51.000000  1200.000000   \n",
       "75%       6.000000     3.000000    12.000000    76.000000  1815.000000   \n",
       "max      11.000000     4.000000    14.000000    99.000000  2355.000000   \n",
       "\n",
       "       Arrival_Time     Duration  Total_Stops  Additional_Info         Date  \\\n",
       "count   2671.000000  2671.000000  2671.000000      2671.000000  2671.000000   \n",
       "mean    1383.075627   640.280794     0.833396         7.466492    12.915762   \n",
       "std      701.951322   502.278195     0.672315         1.131230     8.260824   \n",
       "min        5.000000    75.000000     0.000000         0.000000     1.000000   \n",
       "25%      845.000000   175.000000     0.000000         8.000000     6.000000   \n",
       "50%     1525.000000   520.000000     1.000000         8.000000    12.000000   \n",
       "75%     1945.000000   915.000000     1.000000         8.000000    21.000000   \n",
       "max     2355.000000  2440.000000     4.000000         8.000000    27.000000   \n",
       "\n",
       "             Month  \n",
       "count  2671.000000  \n",
       "mean      4.718458  \n",
       "std       1.170851  \n",
       "min       3.000000  \n",
       "25%       3.000000  \n",
       "50%       5.000000  \n",
       "75%       6.000000  \n",
       "max       6.000000  "
      ]
     },
     "execution_count": 1553,
     "metadata": {},
     "output_type": "execute_result"
    }
   ],
   "source": [
    "#Statistical Analysis\n",
    "data_test.describe()"
   ]
  },
  {
   "cell_type": "code",
   "execution_count": 1554,
   "id": "7caca943",
   "metadata": {},
   "outputs": [],
   "source": [
    "#droping the column route as it produces large number of categories\n",
    "\n",
    "data_test=data_test.drop(columns=[\"Route\"])"
   ]
  },
  {
   "cell_type": "markdown",
   "id": "87901751",
   "metadata": {},
   "source": [
    "# Checking for outliers"
   ]
  },
  {
   "cell_type": "code",
   "execution_count": 1555,
   "id": "4c3373e5",
   "metadata": {},
   "outputs": [
    {
     "data": {
      "text/plain": [
       "(2671, 10)"
      ]
     },
     "execution_count": 1555,
     "metadata": {},
     "output_type": "execute_result"
    }
   ],
   "source": [
    "data_test.shape"
   ]
  },
  {
   "cell_type": "code",
   "execution_count": 1556,
   "id": "d3ab6dcb",
   "metadata": {},
   "outputs": [
    {
     "data": {
      "image/png": "[encoded data removed]",
      "text/plain": [
       "<Figure size 1440x1800 with 10 Axes>"
      ]
     },
     "metadata": {
      "needs_background": "light"
     },
     "output_type": "display_data"
    }
   ],
   "source": [
    "#visulaize the outliers using boxplot\n",
    "plt.figure(figsize=(20,25))\n",
    "graph=1\n",
    "\n",
    "for column in data_test:\n",
    "    if graph<=20:\n",
    "        ax=plt.subplot(5,4,graph)\n",
    "        sns.boxplot(data=data_test[column], orient='v')\n",
    "        plt.xlabel(column,fontsize=20)\n",
    "    graph=graph+1\n",
    "plt.show()"
   ]
  },
  {
   "cell_type": "markdown",
   "id": "4c08ae34",
   "metadata": {},
   "source": [
    "\n",
    "The features containing outliers-\n",
    "\n",
    "- Airline\n",
    "- Source\n",
    "- Duration\n",
    "- Total Stops\n",
    "- Additional Info\n",
    "\n",
    "However as all outliers are belonging to categorical data, we tend to ignore it"
   ]
  },
  {
   "cell_type": "markdown",
   "id": "e179c1bb",
   "metadata": {},
   "source": [
    "# Checking for skewness"
   ]
  },
  {
   "cell_type": "code",
   "execution_count": 1557,
   "id": "5b0ff382",
   "metadata": {},
   "outputs": [
    {
     "data": {
      "text/plain": [
       "Duration           0.894694\n",
       "Destination        0.794526\n",
       "Airline            0.680800\n",
       "Total_Stops        0.321364\n",
       "Date               0.199540\n",
       "Dep_Time           0.103583\n",
       "Month             -0.403700\n",
       "Source            -0.424997\n",
       "Arrival_Time      -0.443937\n",
       "Additional_Info   -1.784149\n",
       "dtype: float64"
      ]
     },
     "execution_count": 1557,
     "metadata": {},
     "output_type": "execute_result"
    }
   ],
   "source": [
    "data_test.skew().sort_values(ascending=False)"
   ]
  },
  {
   "cell_type": "markdown",
   "id": "c1999ee2",
   "metadata": {},
   "source": [
    "# \n",
    "Keeping +/-0.5 as the range of skewness, the columns not falling in this range are-\n",
    "\n",
    "- Duration\n",
    "- Destination\n",
    "- Airline\n",
    "- Additional_Info"
   ]
  },
  {
   "cell_type": "markdown",
   "id": "24bfdcd1",
   "metadata": {},
   "source": [
    "# Transforming Data to remove skewness"
   ]
  },
  {
   "cell_type": "code",
   "execution_count": 1558,
   "id": "9f2008c2",
   "metadata": {},
   "outputs": [],
   "source": [
    "from sklearn.preprocessing import power_transform\n",
    "x_t=power_transform(data_test)"
   ]
  },
  {
   "cell_type": "code",
   "execution_count": 1559,
   "id": "b327b365",
   "metadata": {},
   "outputs": [],
   "source": [
    "x_test=x_t"
   ]
  },
  {
   "cell_type": "markdown",
   "id": "a4a1769a",
   "metadata": {},
   "source": [
    "# Reading the Sample Submission (y_test)"
   ]
  },
  {
   "cell_type": "code",
   "execution_count": 1560,
   "id": "2f7d20de",
   "metadata": {},
   "outputs": [
    {
     "data": {
      "text/html": [
       "<div>\n",
       "<style scoped>\n",
       "    .dataframe tbody tr th:only-of-type {\n",
       "        vertical-align: middle;\n",
       "    }\n",
       "\n",
       "    .dataframe tbody tr th {\n",
       "        vertical-align: top;\n",
       "    }\n",
       "\n",
       "    .dataframe thead th {\n",
       "        text-align: right;\n",
       "    }\n",
       "</style>\n",
       "<table border=\"1\" class=\"dataframe\">\n",
       "  <thead>\n",
       "    <tr style=\"text-align: right;\">\n",
       "      <th></th>\n",
       "      <th>Price</th>\n",
       "    </tr>\n",
       "  </thead>\n",
       "  <tbody>\n",
       "    <tr>\n",
       "      <th>0</th>\n",
       "      <td>15998</td>\n",
       "    </tr>\n",
       "    <tr>\n",
       "      <th>1</th>\n",
       "      <td>16612</td>\n",
       "    </tr>\n",
       "    <tr>\n",
       "      <th>2</th>\n",
       "      <td>25572</td>\n",
       "    </tr>\n",
       "    <tr>\n",
       "      <th>3</th>\n",
       "      <td>25778</td>\n",
       "    </tr>\n",
       "    <tr>\n",
       "      <th>4</th>\n",
       "      <td>16934</td>\n",
       "    </tr>\n",
       "    <tr>\n",
       "      <th>...</th>\n",
       "      <td>...</td>\n",
       "    </tr>\n",
       "    <tr>\n",
       "      <th>2666</th>\n",
       "      <td>14046</td>\n",
       "    </tr>\n",
       "    <tr>\n",
       "      <th>2667</th>\n",
       "      <td>14086</td>\n",
       "    </tr>\n",
       "    <tr>\n",
       "      <th>2668</th>\n",
       "      <td>22720</td>\n",
       "    </tr>\n",
       "    <tr>\n",
       "      <th>2669</th>\n",
       "      <td>23544</td>\n",
       "    </tr>\n",
       "    <tr>\n",
       "      <th>2670</th>\n",
       "      <td>27489</td>\n",
       "    </tr>\n",
       "  </tbody>\n",
       "</table>\n",
       "<p>2671 rows × 1 columns</p>\n",
       "</div>"
      ],
      "text/plain": [
       "      Price\n",
       "0     15998\n",
       "1     16612\n",
       "2     25572\n",
       "3     25778\n",
       "4     16934\n",
       "...     ...\n",
       "2666  14046\n",
       "2667  14086\n",
       "2668  22720\n",
       "2669  23544\n",
       "2670  27489\n",
       "\n",
       "[2671 rows x 1 columns]"
      ]
     },
     "execution_count": 1560,
     "metadata": {},
     "output_type": "execute_result"
    }
   ],
   "source": [
    "#Read csv file and convert into Dataframe\n",
    "y_test=pd.read_excel(r'D:\\DataTrained\\Flight_Ticket_Participant_Datasets\\Sample_submission.xlsx')\n",
    "y_test"
   ]
  },
  {
   "cell_type": "code",
   "execution_count": 1561,
   "id": "511c6c71",
   "metadata": {},
   "outputs": [],
   "source": [
    "y_test=y_test[\"Price\"]"
   ]
  },
  {
   "cell_type": "markdown",
   "id": "18f7b489",
   "metadata": {},
   "source": [
    "# \n",
    "Checking for shape of train and test data"
   ]
  },
  {
   "cell_type": "code",
   "execution_count": 1562,
   "id": "d0d92518",
   "metadata": {},
   "outputs": [
    {
     "data": {
      "text/plain": [
       "(10682, 10)"
      ]
     },
     "execution_count": 1562,
     "metadata": {},
     "output_type": "execute_result"
    }
   ],
   "source": [
    "x_train.shape"
   ]
  },
  {
   "cell_type": "code",
   "execution_count": 1563,
   "id": "8603bf46",
   "metadata": {},
   "outputs": [
    {
     "data": {
      "text/plain": [
       "(10682,)"
      ]
     },
     "execution_count": 1563,
     "metadata": {},
     "output_type": "execute_result"
    }
   ],
   "source": [
    "y_train.shape"
   ]
  },
  {
   "cell_type": "code",
   "execution_count": 1564,
   "id": "0c374c3e",
   "metadata": {},
   "outputs": [
    {
     "data": {
      "text/plain": [
       "(2671, 10)"
      ]
     },
     "execution_count": 1564,
     "metadata": {},
     "output_type": "execute_result"
    }
   ],
   "source": [
    "x_test.shape"
   ]
  },
  {
   "cell_type": "code",
   "execution_count": 1565,
   "id": "22243017",
   "metadata": {},
   "outputs": [
    {
     "data": {
      "text/plain": [
       "(2671,)"
      ]
     },
     "execution_count": 1565,
     "metadata": {},
     "output_type": "execute_result"
    }
   ],
   "source": [
    "y_test.shape"
   ]
  },
  {
   "cell_type": "markdown",
   "id": "0f8266c9",
   "metadata": {},
   "source": [
    "# \n",
    "The shape of train and test data are fine, but the format of ytest needs to be modified"
   ]
  },
  {
   "cell_type": "markdown",
   "id": "0e9b2755",
   "metadata": {},
   "source": [
    "# Using Logistic Regression Model"
   ]
  },
  {
   "cell_type": "code",
   "execution_count": 1566,
   "id": "1cdfbe9f",
   "metadata": {},
   "outputs": [],
   "source": [
    "from sklearn.linear_model import LinearRegression\n",
    "from sklearn.metrics import r2_score\n",
    "\n",
    "lr=LinearRegression()"
   ]
  },
  {
   "cell_type": "code",
   "execution_count": 1567,
   "id": "14941b84",
   "metadata": {},
   "outputs": [
    {
     "name": "stdout",
     "output_type": "stream",
     "text": [
      "-5.253902912167506\n"
     ]
    }
   ],
   "source": [
    "lr.fit(x_train, y_train)\n",
    "pred_test=lr.predict(x_test)\n",
    "print(r2_score(y_test,pred_test))"
   ]
  },
  {
   "cell_type": "markdown",
   "id": "9cae7fac",
   "metadata": {},
   "source": [
    "# Cross Validation of the model"
   ]
  },
  {
   "cell_type": "code",
   "execution_count": 1568,
   "id": "f0d7f09e",
   "metadata": {},
   "outputs": [
    {
     "name": "stdout",
     "output_type": "stream",
     "text": [
      "At cross fold  2  the cv score is  0.4668938344990277  and accuracy score for the training is  0.46830283691853203  and the accuracy score for the testing is  -5.253902912167506\n",
      "\n",
      "\n",
      "At cross fold  3  the cv score is  0.4674680816467838  and accuracy score for the training is  0.46830283691853203  and the accuracy score for the testing is  -5.253902912167506\n",
      "\n",
      "\n",
      "At cross fold  4  the cv score is  0.4669796590556553  and accuracy score for the training is  0.46830283691853203  and the accuracy score for the testing is  -5.253902912167506\n",
      "\n",
      "\n",
      "At cross fold  5  the cv score is  0.4674437064423878  and accuracy score for the training is  0.46830283691853203  and the accuracy score for the testing is  -5.253902912167506\n",
      "\n",
      "\n",
      "At cross fold  6  the cv score is  0.4695295506571971  and accuracy score for the training is  0.46830283691853203  and the accuracy score for the testing is  -5.253902912167506\n",
      "\n",
      "\n",
      "At cross fold  7  the cv score is  0.4695464682399981  and accuracy score for the training is  0.46830283691853203  and the accuracy score for the testing is  -5.253902912167506\n",
      "\n",
      "\n",
      "At cross fold  8  the cv score is  0.4686093559904893  and accuracy score for the training is  0.46830283691853203  and the accuracy score for the testing is  -5.253902912167506\n",
      "\n",
      "\n",
      "At cross fold  9  the cv score is  0.47074369193345283  and accuracy score for the training is  0.46830283691853203  and the accuracy score for the testing is  -5.253902912167506\n",
      "\n",
      "\n"
     ]
    }
   ],
   "source": [
    "pred_train=lr.predict(x_train)\n",
    "Train_accuracy=r2_score(y_train,pred_train)\n",
    "Test_accuracy=r2_score(y_test,pred_test)\n",
    "\n",
    "from sklearn.model_selection import cross_val_score\n",
    "for j in range(2,10):\n",
    "    cv_score=cross_val_score(lr,x_train,y_train,cv=j)\n",
    "    cv_mean=cv_score.mean()\n",
    "    print(\"At cross fold \",j,\" the cv score is \", cv_mean,\" and accuracy score for the training is \",Train_accuracy,\" and the accuracy score for the testing is \",Test_accuracy)\n",
    "    print(\"\\n\")"
   ]
  },
  {
   "cell_type": "markdown",
   "id": "43fa16c8",
   "metadata": {},
   "source": [
    "# \n",
    "Since the number of folds don't have such impact on the accuracy and cv score. So cv=4 is selected\n",
    "\n",
    "Here we have handled the problem of the overfitting and the underfitting by checking the training and testing score"
   ]
  },
  {
   "cell_type": "code",
   "execution_count": 1569,
   "id": "0ed69d6f",
   "metadata": {},
   "outputs": [
    {
     "data": {
      "text/plain": [
       "<function matplotlib.pyplot.show(close=None, block=None)>"
      ]
     },
     "execution_count": 1569,
     "metadata": {},
     "output_type": "execute_result"
    },
    {
     "data": {
      "image/png": "[encoded data removed]",
      "text/plain": [
       "<Figure size 360x360 with 1 Axes>"
      ]
     },
     "metadata": {
      "needs_background": "light"
     },
     "output_type": "display_data"
    }
   ],
   "source": [
    "plt.figure(figsize=(5,5))\n",
    "plt.scatter(x=y_test, y=pred_test)\n",
    "plt.plot(y_test, y_test)\n",
    "plt.xlabel('Actual Price', fontsize=14)\n",
    "plt.ylabel('Predicted Price', fontsize=14)\n",
    "plt.title('Linear Regression', fontsize=18)\n",
    "plt.show"
   ]
  },
  {
   "cell_type": "markdown",
   "id": "8cfcb252",
   "metadata": {},
   "source": [
    "# Regularization"
   ]
  },
  {
   "cell_type": "code",
   "execution_count": 1570,
   "id": "d9c3e593",
   "metadata": {},
   "outputs": [
    {
     "name": "stdout",
     "output_type": "stream",
     "text": [
      "{'alpha': 0.1, 'random_state': 0}\n"
     ]
    }
   ],
   "source": [
    "from sklearn.model_selection import GridSearchCV\n",
    "from sklearn.model_selection import cross_val_score\n",
    "from sklearn.linear_model import Lasso\n",
    "parameters={'alpha':[.0001, .001, .01,.1, 1, 10], 'random_state':list(range(0,10))}\n",
    "ls=Lasso()\n",
    "clf=GridSearchCV(ls,parameters)\n",
    "clf.fit(x_train,y_train)\n",
    "print(clf.best_params_)"
   ]
  },
  {
   "cell_type": "code",
   "execution_count": 1571,
   "id": "2431223d",
   "metadata": {},
   "outputs": [
    {
     "data": {
      "text/plain": [
       "-5.253856166929343"
      ]
     },
     "execution_count": 1571,
     "metadata": {},
     "output_type": "execute_result"
    }
   ],
   "source": [
    "ls=Lasso(alpha=0.1, random_state=0)\n",
    "ls.fit(x_train,y_train)\n",
    "ls.score(x_train, y_train)\n",
    "pred_ls=ls.predict(x_test)\n",
    "\n",
    "lss=r2_score(y_test,pred_ls)\n",
    "lss"
   ]
  },
  {
   "cell_type": "code",
   "execution_count": 1572,
   "id": "23659ce2",
   "metadata": {},
   "outputs": [
    {
     "data": {
      "text/plain": [
       "0.46697988482998504"
      ]
     },
     "execution_count": 1572,
     "metadata": {},
     "output_type": "execute_result"
    }
   ],
   "source": [
    "cv_score=cross_val_score(ls,x_train,y_train,cv=4)\n",
    "cv_mean=cv_score.mean()\n",
    "cv_mean"
   ]
  },
  {
   "cell_type": "markdown",
   "id": "26f87f35",
   "metadata": {},
   "source": [
    "# Using Random Forest Regressor Model"
   ]
  },
  {
   "cell_type": "code",
   "execution_count": 1573,
   "id": "03cf523d",
   "metadata": {},
   "outputs": [
    {
     "name": "stdout",
     "output_type": "stream",
     "text": [
      "{'criterion': 'mse', 'max_features': 'sqrt'}\n"
     ]
    }
   ],
   "source": [
    "from sklearn.ensemble import RandomForestRegressor\n",
    "parameters={'criterion':['mse','mae'], 'max_features':[\"auto\", \"sqrt\", \"log2\"]}\n",
    "rf=RandomForestRegressor()\n",
    "clf=GridSearchCV(rf,parameters)\n",
    "clf.fit(x_train,y_train)\n",
    "\n",
    "print(clf.best_params_)"
   ]
  },
  {
   "cell_type": "code",
   "execution_count": 1574,
   "id": "e77cab1b",
   "metadata": {},
   "outputs": [
    {
     "name": "stdout",
     "output_type": "stream",
     "text": [
      "R2 Score:  -494.34307110643215\n",
      "Cross Val Score: 87.84462825896708\n"
     ]
    }
   ],
   "source": [
    "rf=RandomForestRegressor(criterion=\"mse\", max_features=\"sqrt\")\n",
    "rf.fit(x_train, y_train)\n",
    "rf.score(x_train, y_train)\n",
    "pred_decision=rf.predict(x_test)\n",
    "\n",
    "rfs=r2_score(y_test,pred_decision)\n",
    "print('R2 Score: ', rfs*100)\n",
    "\n",
    "rfscore=cross_val_score(rf,x_train,y_train,cv=4)\n",
    "rfc=rfscore.mean()\n",
    "print(\"Cross Val Score:\", rfc*100)"
   ]
  },
  {
   "cell_type": "markdown",
   "id": "ddac14e7",
   "metadata": {},
   "source": [
    "# Using Ada Boost Regressor Model"
   ]
  },
  {
   "cell_type": "code",
   "execution_count": 1575,
   "id": "a5a3da65",
   "metadata": {},
   "outputs": [
    {
     "name": "stdout",
     "output_type": "stream",
     "text": [
      "{'learning_rate': 0.01, 'n_estimators': 65}\n"
     ]
    }
   ],
   "source": [
    "from sklearn.ensemble import AdaBoostRegressor\n",
    "parameters={'n_estimators':np.arange(10,100), 'learning_rate':np.arange(0.01,0.1)}\n",
    "ad=AdaBoostRegressor()\n",
    "clf=GridSearchCV(ad,parameters)\n",
    "clf.fit(x_train,y_train)\n",
    "\n",
    "print(clf.best_params_)"
   ]
  },
  {
   "cell_type": "code",
   "execution_count": 1576,
   "id": "022d773a",
   "metadata": {},
   "outputs": [
    {
     "name": "stdout",
     "output_type": "stream",
     "text": [
      "R2 Score:  -640.5863304574456\n",
      "Cross Val Score: 50.70104267710926\n"
     ]
    }
   ],
   "source": [
    "ad=AdaBoostRegressor(n_estimators=65, learning_rate=0.01)\n",
    "ad.fit(x_train, y_train)\n",
    "ad.score(x_train, y_train)\n",
    "pred_decision=ad.predict(x_test)\n",
    "\n",
    "ads=r2_score(y_test,pred_decision)\n",
    "print('R2 Score: ', ads*100)\n",
    "\n",
    "adscore=cross_val_score(ad,x_train,y_train,cv=4)\n",
    "adc=adscore.mean()\n",
    "print(\"Cross Val Score:\", adc*100)"
   ]
  },
  {
   "cell_type": "markdown",
   "id": "a4216302",
   "metadata": {},
   "source": [
    "# Saving the Random Forest Regressor Model"
   ]
  },
  {
   "cell_type": "code",
   "execution_count": 1577,
   "id": "ad55fd28",
   "metadata": {},
   "outputs": [],
   "source": [
    "filename='Flight Price Prediction.pkl'\n",
    "pickle.dump(rf, open(filename,'wb'))"
   ]
  },
  {
   "cell_type": "code",
   "execution_count": null,
   "id": "3256a092",
   "metadata": {},
   "outputs": [],
   "source": []
  }
 ],
 "metadata": {
  "kernelspec": {
   "display_name": "Python 3 (ipykernel)",
   "language": "python",
   "name": "python3"
  },
  "language_info": {
   "codemirror_mode": {
    "name": "ipython",
    "version": 3
   },
   "file_extension": ".py",
   "mimetype": "text/x-python",
   "name": "python",
   "nbconvert_exporter": "python",
   "pygments_lexer": "ipython3",
   "version": "3.9.7"
  }
 },
 "nbformat": 4,
 "nbformat_minor": 5
}
